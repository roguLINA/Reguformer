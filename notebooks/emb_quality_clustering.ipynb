{
 "cells": [
  {
   "cell_type": "code",
   "execution_count": 1,
   "id": "5de631bc",
   "metadata": {},
   "outputs": [
    {
     "name": "stdout",
     "output_type": "stream",
     "text": [
      "/home/Reguformer/notebooks\n"
     ]
    }
   ],
   "source": [
    "%cd /home/Reguformer/notebooks"
   ]
  },
  {
   "cell_type": "code",
   "execution_count": 2,
   "id": "e919ce00",
   "metadata": {
    "pycharm": {
     "name": "#%%\n"
    },
    "scrolled": true
   },
   "outputs": [],
   "source": [
    "import json\n",
    "import os\n",
    "import warnings\n",
    "\n",
    "import numpy as np\n",
    "import pandas as pd\n",
    "import torch\n",
    "\n",
    "from copy import deepcopy\n",
    "\n",
    "\n",
    "warnings.filterwarnings(\"ignore\")\n",
    "\n",
    "from trans_oil_gas import utils_clustering, utils_fix_seeds, utils_model"
   ]
  },
  {
   "attachments": {},
   "cell_type": "markdown",
   "id": "cbd8dbcb",
   "metadata": {
    "pycharm": {
     "name": "#%% md\n"
    }
   },
   "source": [
    "Choose GPU device if it is available."
   ]
  },
  {
   "cell_type": "code",
   "execution_count": 3,
   "id": "15c6ff0a",
   "metadata": {
    "pycharm": {
     "name": "#%%\n"
    }
   },
   "outputs": [
    {
     "name": "stdout",
     "output_type": "stream",
     "text": [
      "cpu 0\n"
     ]
    }
   ],
   "source": [
    "device = torch.device('cuda:0' if torch.cuda.is_available() else 'cpu')\n",
    "gpu = [0] if 'cuda' in device.type else 0\n",
    "print(device, gpu)"
   ]
  },
  {
   "attachments": {},
   "cell_type": "markdown",
   "id": "d9e3a7af",
   "metadata": {
    "pycharm": {
     "name": "#%% md\n"
    }
   },
   "source": [
    "Fix all possible seeds for results reproducibility."
   ]
  },
  {
   "cell_type": "code",
   "execution_count": 4,
   "id": "0f094e64",
   "metadata": {
    "pycharm": {
     "name": "#%%\n"
    }
   },
   "outputs": [],
   "source": [
    "utils_fix_seeds.fix_seeds(device=device)"
   ]
  },
  {
   "attachments": {},
   "cell_type": "markdown",
   "id": "2fbc7971",
   "metadata": {
    "pycharm": {
     "name": "#%% md\n"
    }
   },
   "source": [
    "# Read data"
   ]
  },
  {
   "attachments": {},
   "cell_type": "markdown",
   "id": "0083306e",
   "metadata": {
    "pycharm": {
     "name": "#%% md\n"
    }
   },
   "source": [
    "Reading of already preprocessed data (here synthetic dataset with the same columns as in the original one is presented)."
   ]
  },
  {
   "cell_type": "code",
   "execution_count": 5,
   "id": "b622d8cd",
   "metadata": {
    "pycharm": {
     "name": "#%%\n"
    }
   },
   "outputs": [],
   "source": [
    "df = pd.read_csv('../data/synthetic_well_log_data.csv')"
   ]
  },
  {
   "attachments": {},
   "cell_type": "markdown",
   "id": "de00cb07",
   "metadata": {
    "pycharm": {
     "name": "#%% md\n"
    }
   },
   "source": [
    "# Load models"
   ]
  },
  {
   "cell_type": "code",
   "execution_count": 6,
   "id": "076fb406",
   "metadata": {
    "pycharm": {
     "name": "#%%\n"
    }
   },
   "outputs": [],
   "source": [
    "# results_len = 5000\n",
    "# slice_len = 100\n",
    "# input_size = 4\n",
    "# n_splits = 5\n",
    "# n_times = 5\n",
    "\n",
    "results_len = 500\n",
    "slice_len = 100\n",
    "input_size = 4\n",
    "n_splits = 2\n",
    "n_times = 2"
   ]
  },
  {
   "cell_type": "code",
   "execution_count": 7,
   "id": "97b5b222",
   "metadata": {},
   "outputs": [],
   "source": [
    "path_to_models = \"./saves_all_models/\""
   ]
  },
  {
   "cell_type": "code",
   "execution_count": 8,
   "id": "d1792b06",
   "metadata": {
    "pycharm": {
     "name": "#%%\n"
    }
   },
   "outputs": [],
   "source": [
    "shared_fixed_params = {\n",
    "    \"enc_in\": 4,\n",
    "    \"distil\": None,\n",
    "    \"device\": device,\n",
    "    \"output_attention\": False,\n",
    "    \"n_seq\": 100\n",
    "}\n",
    "fixed_params_tr = {\n",
    "    \"attn\": \"full\",\n",
    "    \"activation\": \"relu\",\n",
    "}\n",
    "fixed_params_reguformer = {\n",
    "    \"attn\": \"prob\",\n",
    "    \"activation\": \"gelu\",\n",
    "}"
   ]
  },
  {
   "cell_type": "code",
   "execution_count": 9,
   "id": "ba49a755",
   "metadata": {},
   "outputs": [],
   "source": [
    "path_to_save = './saves_emb_quality-clustering/'\n",
    "path_to_logs = './logs_emd_quality-clustering'\n",
    "\n",
    "if not os.path.exists(path_to_save):\n",
    "    os.mkdir(path_to_save)\n",
    "\n",
    "if not os.path.exists(path_to_logs):\n",
    "    os.mkdir(path_to_logs)"
   ]
  },
  {
   "attachments": {},
   "cell_type": "markdown",
   "id": "d73870cf",
   "metadata": {
    "pycharm": {
     "name": "#%% md\n"
    }
   },
   "source": [
    "# Obtain embeddings and cluster them"
   ]
  },
  {
   "cell_type": "code",
   "execution_count": 10,
   "id": "0f72b8f2",
   "metadata": {},
   "outputs": [
    {
     "name": "stdout",
     "output_type": "stream",
     "text": [
      "siamese None\n"
     ]
    },
    {
     "name": "stderr",
     "output_type": "stream",
     "text": [
      "500it [00:06, 79.31it/s] \n"
     ]
    },
    {
     "name": "stdout",
     "output_type": "stream",
     "text": [
      "ARI = 1.0 ± 0.0\n"
     ]
    },
    {
     "name": "stderr",
     "output_type": "stream",
     "text": [
      "500it [00:04, 103.43it/s]\n"
     ]
    },
    {
     "name": "stdout",
     "output_type": "stream",
     "text": [
      "ARI = 1.0 ± 0.0\n",
      "siamese topQ\n"
     ]
    },
    {
     "name": "stderr",
     "output_type": "stream",
     "text": [
      "500it [00:10, 47.32it/s]\n"
     ]
    },
    {
     "name": "stdout",
     "output_type": "stream",
     "text": [
      "ARI = 1.0 ± 0.0\n"
     ]
    },
    {
     "name": "stderr",
     "output_type": "stream",
     "text": [
      "500it [00:11, 44.75it/s]\n"
     ]
    },
    {
     "name": "stdout",
     "output_type": "stream",
     "text": [
      "ARI = 1.0 ± 0.0\n",
      "siamese randQ\n"
     ]
    },
    {
     "name": "stderr",
     "output_type": "stream",
     "text": [
      "500it [00:46, 10.87it/s]\n"
     ]
    },
    {
     "name": "stdout",
     "output_type": "stream",
     "text": [
      "ARI = 1.0 ± 0.0\n"
     ]
    },
    {
     "name": "stderr",
     "output_type": "stream",
     "text": [
      "500it [00:16, 29.95it/s]\n"
     ]
    },
    {
     "name": "stdout",
     "output_type": "stream",
     "text": [
      "ARI = 1.0 ± 0.0\n",
      "siamese topK\n"
     ]
    },
    {
     "name": "stderr",
     "output_type": "stream",
     "text": [
      "500it [00:07, 69.77it/s] \n"
     ]
    },
    {
     "name": "stdout",
     "output_type": "stream",
     "text": [
      "ARI = 1.0 ± 0.0\n"
     ]
    },
    {
     "name": "stderr",
     "output_type": "stream",
     "text": [
      "500it [00:05, 94.67it/s] \n"
     ]
    },
    {
     "name": "stdout",
     "output_type": "stream",
     "text": [
      "ARI = 1.0 ± 0.0\n",
      "siamese randK\n"
     ]
    },
    {
     "name": "stderr",
     "output_type": "stream",
     "text": [
      "500it [00:07, 62.79it/s]\n"
     ]
    },
    {
     "name": "stdout",
     "output_type": "stream",
     "text": [
      "ARI = 1.0 ± 0.0\n"
     ]
    },
    {
     "name": "stderr",
     "output_type": "stream",
     "text": [
      "500it [00:07, 64.02it/s]\n"
     ]
    },
    {
     "name": "stdout",
     "output_type": "stream",
     "text": [
      "ARI = 1.0 ± 0.0\n",
      "siamese topQ_topK\n"
     ]
    },
    {
     "name": "stderr",
     "output_type": "stream",
     "text": [
      "500it [00:10, 47.54it/s]\n"
     ]
    },
    {
     "name": "stdout",
     "output_type": "stream",
     "text": [
      "ARI = 1.0 ± 0.0\n"
     ]
    },
    {
     "name": "stderr",
     "output_type": "stream",
     "text": [
      "500it [00:10, 46.20it/s]\n"
     ]
    },
    {
     "name": "stdout",
     "output_type": "stream",
     "text": [
      "ARI = 1.0 ± 0.0\n",
      "siamese topQ_randK\n"
     ]
    },
    {
     "name": "stderr",
     "output_type": "stream",
     "text": [
      "500it [00:05, 88.61it/s]\n"
     ]
    },
    {
     "name": "stdout",
     "output_type": "stream",
     "text": [
      "ARI = 1.0 ± 0.0\n"
     ]
    },
    {
     "name": "stderr",
     "output_type": "stream",
     "text": [
      "500it [00:05, 88.64it/s] \n"
     ]
    },
    {
     "name": "stdout",
     "output_type": "stream",
     "text": [
      "ARI = 1.0 ± 0.0\n",
      "siamese randQ_topK\n"
     ]
    },
    {
     "name": "stderr",
     "output_type": "stream",
     "text": [
      "500it [00:08, 60.13it/s]\n"
     ]
    },
    {
     "name": "stdout",
     "output_type": "stream",
     "text": [
      "ARI = 1.0 ± 0.0\n"
     ]
    },
    {
     "name": "stderr",
     "output_type": "stream",
     "text": [
      "500it [00:08, 58.43it/s]\n"
     ]
    },
    {
     "name": "stdout",
     "output_type": "stream",
     "text": [
      "ARI = 1.0 ± 0.0\n",
      "siamese randQ_randK\n"
     ]
    },
    {
     "name": "stderr",
     "output_type": "stream",
     "text": [
      "500it [00:14, 35.65it/s]\n"
     ]
    },
    {
     "name": "stdout",
     "output_type": "stream",
     "text": [
      "ARI = 1.0 ± 0.0\n"
     ]
    },
    {
     "name": "stderr",
     "output_type": "stream",
     "text": [
      "500it [00:06, 73.00it/s] \n"
     ]
    },
    {
     "name": "stdout",
     "output_type": "stream",
     "text": [
      "ARI = 1.0 ± 0.0\n",
      "triplet None\n"
     ]
    },
    {
     "name": "stderr",
     "output_type": "stream",
     "text": [
      "500it [00:05, 90.15it/s] \n"
     ]
    },
    {
     "name": "stdout",
     "output_type": "stream",
     "text": [
      "ARI = 1.0 ± 0.0\n"
     ]
    },
    {
     "name": "stderr",
     "output_type": "stream",
     "text": [
      "500it [00:05, 92.79it/s] \n"
     ]
    },
    {
     "name": "stdout",
     "output_type": "stream",
     "text": [
      "ARI = 1.0 ± 0.0\n",
      "triplet topQ\n"
     ]
    },
    {
     "name": "stderr",
     "output_type": "stream",
     "text": [
      "500it [00:19, 26.23it/s]\n"
     ]
    },
    {
     "name": "stdout",
     "output_type": "stream",
     "text": [
      "ARI = 1.0 ± 0.0\n"
     ]
    },
    {
     "name": "stderr",
     "output_type": "stream",
     "text": [
      "500it [00:18, 27.38it/s]\n"
     ]
    },
    {
     "name": "stdout",
     "output_type": "stream",
     "text": [
      "ARI = 1.0 ± 0.0\n",
      "triplet randQ\n"
     ]
    },
    {
     "name": "stderr",
     "output_type": "stream",
     "text": [
      "500it [00:07, 65.90it/s]\n"
     ]
    },
    {
     "name": "stdout",
     "output_type": "stream",
     "text": [
      "ARI = 1.0 ± 0.0\n"
     ]
    },
    {
     "name": "stderr",
     "output_type": "stream",
     "text": [
      "500it [00:07, 68.48it/s]\n"
     ]
    },
    {
     "name": "stdout",
     "output_type": "stream",
     "text": [
      "ARI = 1.0 ± 0.0\n",
      "triplet topK\n"
     ]
    },
    {
     "name": "stderr",
     "output_type": "stream",
     "text": [
      "500it [00:12, 40.00it/s]\n"
     ]
    },
    {
     "name": "stdout",
     "output_type": "stream",
     "text": [
      "ARI = 1.0 ± 0.0\n"
     ]
    },
    {
     "name": "stderr",
     "output_type": "stream",
     "text": [
      "500it [00:12, 40.71it/s]\n"
     ]
    },
    {
     "name": "stdout",
     "output_type": "stream",
     "text": [
      "ARI = 1.0 ± 0.0\n",
      "triplet randK\n"
     ]
    },
    {
     "name": "stderr",
     "output_type": "stream",
     "text": [
      "500it [00:10, 45.79it/s]\n"
     ]
    },
    {
     "name": "stdout",
     "output_type": "stream",
     "text": [
      "ARI = 1.0 ± 0.0\n"
     ]
    },
    {
     "name": "stderr",
     "output_type": "stream",
     "text": [
      "500it [00:11, 45.41it/s]\n"
     ]
    },
    {
     "name": "stdout",
     "output_type": "stream",
     "text": [
      "ARI = 1.0 ± 0.0\n",
      "triplet topQ_topK\n"
     ]
    },
    {
     "name": "stderr",
     "output_type": "stream",
     "text": [
      "500it [00:11, 43.11it/s]\n"
     ]
    },
    {
     "name": "stdout",
     "output_type": "stream",
     "text": [
      "ARI = 1.0 ± 0.0\n"
     ]
    },
    {
     "name": "stderr",
     "output_type": "stream",
     "text": [
      "500it [00:12, 41.02it/s] \n"
     ]
    },
    {
     "name": "stdout",
     "output_type": "stream",
     "text": [
      "ARI = 1.0 ± 0.0\n",
      "triplet topQ_randK\n"
     ]
    },
    {
     "name": "stderr",
     "output_type": "stream",
     "text": [
      "500it [00:11, 43.85it/s]\n"
     ]
    },
    {
     "name": "stdout",
     "output_type": "stream",
     "text": [
      "ARI = 1.0 ± 0.0\n"
     ]
    },
    {
     "name": "stderr",
     "output_type": "stream",
     "text": [
      "500it [00:11, 42.00it/s]\n"
     ]
    },
    {
     "name": "stdout",
     "output_type": "stream",
     "text": [
      "ARI = 1.0 ± 0.0\n",
      "triplet randQ_topK\n"
     ]
    },
    {
     "name": "stderr",
     "output_type": "stream",
     "text": [
      "500it [00:06, 73.40it/s]\n"
     ]
    },
    {
     "name": "stdout",
     "output_type": "stream",
     "text": [
      "ARI = 1.0 ± 0.0\n"
     ]
    },
    {
     "name": "stderr",
     "output_type": "stream",
     "text": [
      "500it [00:06, 76.76it/s]\n"
     ]
    },
    {
     "name": "stdout",
     "output_type": "stream",
     "text": [
      "ARI = 1.0 ± 0.0\n",
      "triplet randQ_randK\n"
     ]
    },
    {
     "name": "stderr",
     "output_type": "stream",
     "text": [
      "500it [00:10, 48.48it/s]\n"
     ]
    },
    {
     "name": "stdout",
     "output_type": "stream",
     "text": [
      "ARI = 1.0 ± 0.0\n"
     ]
    },
    {
     "name": "stderr",
     "output_type": "stream",
     "text": [
      "500it [00:10, 47.97it/s]\n"
     ]
    },
    {
     "name": "stdout",
     "output_type": "stream",
     "text": [
      "ARI = 1.0 ± 0.0\n"
     ]
    }
   ],
   "source": [
    "ari = dict()\n",
    "for loss_type in [\"siamese\", \"triplet\"]:\n",
    "    for model_type in [\n",
    "        \"None\",\n",
    "        \"topQ\", \"randQ\", \n",
    "        \"topK\", \"randK\", \n",
    "        \"topQ_topK\", \"topQ_randK\", \n",
    "        \"randQ_topK\", \"randQ_randK\",\n",
    "    ]:\n",
    "        print(loss_type, model_type)\n",
    "        with open(os.path.join(path_to_models, \"best_params_{}_reguformer_{}.json\".format(loss_type, model_type)), \"r\") as f:\n",
    "            best_params = json.load(f)\n",
    "        \n",
    "        if \"None\" in model_type:\n",
    "            fixed_params = deepcopy(fixed_params_tr)\n",
    "            enc_type = \"transformer\"\n",
    "            reg_type = \"\"\n",
    "        else:\n",
    "            fixed_params = deepcopy(fixed_params_reguformer)\n",
    "            enc_type = \"reguformer\"\n",
    "            reg_type = \"_\" + model_type\n",
    "\n",
    "        if \"siamese\" in loss_type:\n",
    "            model = utils_model.SiameseArchitecture(\n",
    "                encoder_type=\"reguformer\", \n",
    "                fc_hidden_size=64, \n",
    "                **shared_fixed_params, \n",
    "                **fixed_params,\n",
    "                **best_params,\n",
    "            ).float()\n",
    "\n",
    "        elif \"triplet\" in loss_type:\n",
    "            model = utils_model.TripletArchitecture(\n",
    "                encoder_type=\"reguformer\", \n",
    "                **shared_fixed_params, \n",
    "                **fixed_params,\n",
    "                **best_params,\n",
    "            ).float()\n",
    "\n",
    "        model.load_state_dict(torch.load(os.path.join(path_to_models, \"res_{}_{}{}.pth\".format(loss_type, enc_type, reg_type)), map_location=device))\n",
    "\n",
    "        model.eval()\n",
    "        metrics = utils_clustering.emb_clustering_wells(\n",
    "            model,\n",
    "            df,\n",
    "            slice_len=slice_len,\n",
    "            n_splits=n_splits, \n",
    "            results_len_test=results_len,\n",
    "            n_times=n_times,\n",
    "            path_to_saves=path_to_save,\n",
    "        )\n",
    "        np.save(\n",
    "            os.path.join(path_to_save, \"ari_{}_{}.npy\".format(loss_type, model_type)),\n",
    "            metrics,\n",
    "        )\n",
    "        ari[model_type] = (metrics.mean(), metrics.std())\n",
    "\n",
    "    # the same for Performer"
   ]
  },
  {
   "cell_type": "code",
   "execution_count": 11,
   "id": "56dc8ac7",
   "metadata": {},
   "outputs": [],
   "source": [
    "ans_df = pd.DataFrame(ari, index=['mean', 'std']).T\n",
    "ans_df['mean ± std'] = [\n",
    "    str(round(ans_df.iloc[i]['mean'], 3)) + ' $\\pm$ ' + str(round(ans_df.iloc[i]['std'], 3)) for i in range(len(ans_df))\n",
    "]\n",
    "ans_df[['mean ± std']].to_csv(os.path.join(path_to_save, \"clustering.csv\"))"
   ]
  },
  {
   "cell_type": "code",
   "execution_count": null,
   "id": "0a8095d6",
   "metadata": {},
   "outputs": [],
   "source": []
  }
 ],
 "metadata": {
  "kernelspec": {
   "display_name": "Python 3 (ipykernel)",
   "language": "python",
   "name": "python3"
  },
  "language_info": {
   "codemirror_mode": {
    "name": "ipython",
    "version": 3
   },
   "file_extension": ".py",
   "mimetype": "text/x-python",
   "name": "python",
   "nbconvert_exporter": "python",
   "pygments_lexer": "ipython3",
   "version": "3.7.10"
  }
 },
 "nbformat": 4,
 "nbformat_minor": 5
}
