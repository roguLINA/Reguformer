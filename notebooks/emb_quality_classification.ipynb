{
 "cells": [
  {
   "cell_type": "code",
   "execution_count": 24,
   "id": "5de631bc",
   "metadata": {},
   "outputs": [
    {
     "name": "stdout",
     "output_type": "stream",
     "text": [
      "/home/Reguformer/notebooks\n"
     ]
    }
   ],
   "source": [
    "%cd /home/Reguformer/notebooks"
   ]
  },
  {
   "cell_type": "code",
   "execution_count": 25,
   "id": "e919ce00",
   "metadata": {
    "pycharm": {
     "name": "#%%\n"
    },
    "scrolled": true
   },
   "outputs": [],
   "source": [
    "import datetime\n",
    "import json\n",
    "import os\n",
    "import warnings\n",
    "\n",
    "import numpy as np\n",
    "import pandas as pd\n",
    "import pytorch_lightning as pl\n",
    "import torch\n",
    "import torch.nn as nn\n",
    "\n",
    "from copy import deepcopy\n",
    "from xgboost import XGBClassifier\n",
    "from torch.utils.data import TensorDataset\n",
    "\n",
    "\n",
    "warnings.filterwarnings(\"ignore\")\n",
    "from sklearn.preprocessing import LabelEncoder\n",
    "\n",
    "from trans_oil_gas import utils_emb, utils_fix_seeds, utils_model, utils_dataset"
   ]
  },
  {
   "attachments": {},
   "cell_type": "markdown",
   "id": "cbd8dbcb",
   "metadata": {
    "pycharm": {
     "name": "#%% md\n"
    }
   },
   "source": [
    "Choose GPU device if it is available."
   ]
  },
  {
   "cell_type": "code",
   "execution_count": 26,
   "id": "15c6ff0a",
   "metadata": {
    "pycharm": {
     "name": "#%%\n"
    }
   },
   "outputs": [
    {
     "name": "stdout",
     "output_type": "stream",
     "text": [
      "cpu 0\n"
     ]
    }
   ],
   "source": [
    "device = torch.device('cuda:0' if torch.cuda.is_available() else 'cpu')\n",
    "gpu = [0] if 'cuda' in device.type else 0\n",
    "print(device, gpu)"
   ]
  },
  {
   "attachments": {},
   "cell_type": "markdown",
   "id": "d9e3a7af",
   "metadata": {
    "pycharm": {
     "name": "#%% md\n"
    }
   },
   "source": [
    "Fix all possible seeds for results reproducibility."
   ]
  },
  {
   "cell_type": "code",
   "execution_count": 27,
   "id": "0f094e64",
   "metadata": {
    "pycharm": {
     "name": "#%%\n"
    }
   },
   "outputs": [],
   "source": [
    "utils_fix_seeds.fix_seeds(device=device)"
   ]
  },
  {
   "attachments": {},
   "cell_type": "markdown",
   "id": "2fbc7971",
   "metadata": {
    "pycharm": {
     "name": "#%% md\n"
    }
   },
   "source": [
    "# Read data"
   ]
  },
  {
   "attachments": {},
   "cell_type": "markdown",
   "id": "0083306e",
   "metadata": {
    "pycharm": {
     "name": "#%% md\n"
    }
   },
   "source": [
    "Reading of already preprocessed data (here synthetic dataset with the same columns as in the original one is presented)."
   ]
  },
  {
   "cell_type": "code",
   "execution_count": 28,
   "id": "b622d8cd",
   "metadata": {
    "pycharm": {
     "name": "#%%\n"
    }
   },
   "outputs": [],
   "source": [
    "df = pd.read_csv('../data/synthetic_well_log_data.csv')"
   ]
  },
  {
   "attachments": {},
   "cell_type": "markdown",
   "id": "de00cb07",
   "metadata": {
    "pycharm": {
     "name": "#%% md\n"
    }
   },
   "source": [
    "# Load models"
   ]
  },
  {
   "cell_type": "code",
   "execution_count": 29,
   "id": "076fb406",
   "metadata": {
    "pycharm": {
     "name": "#%%\n"
    }
   },
   "outputs": [],
   "source": [
    "# results_len = 5000\n",
    "results_len = 500\n",
    "slice_len = 100\n",
    "input_size = 4"
   ]
  },
  {
   "cell_type": "code",
   "execution_count": 30,
   "id": "97b5b222",
   "metadata": {},
   "outputs": [],
   "source": [
    "path_to_models = \"./saves_all_models/\""
   ]
  },
  {
   "cell_type": "code",
   "execution_count": 31,
   "id": "d1792b06",
   "metadata": {
    "pycharm": {
     "name": "#%%\n"
    }
   },
   "outputs": [],
   "source": [
    "shared_fixed_params = {\n",
    "    \"enc_in\": 4,\n",
    "    \"distil\": None,\n",
    "    \"device\": device,\n",
    "    \"output_attention\": False,\n",
    "    \"n_seq\": 100\n",
    "}\n",
    "fixed_params_tr = {\n",
    "    \"attn\": \"full\",\n",
    "    \"activation\": \"relu\",\n",
    "}\n",
    "fixed_params_reguformer = {\n",
    "    \"attn\": \"prob\",\n",
    "    \"activation\": \"gelu\",\n",
    "}"
   ]
  },
  {
   "cell_type": "code",
   "execution_count": 32,
   "id": "ba49a755",
   "metadata": {},
   "outputs": [],
   "source": [
    "path_to_save = './saves_emb_quality-classification/'\n",
    "path_to_logs = './logs_emd_quality-classification'\n",
    "\n",
    "if not os.path.exists(path_to_save):\n",
    "    os.mkdir(path_to_save)\n",
    "\n",
    "if not os.path.exists(path_to_logs):\n",
    "    os.mkdir(path_to_logs)"
   ]
  },
  {
   "cell_type": "code",
   "execution_count": 33,
   "id": "fa09db31",
   "metadata": {},
   "outputs": [],
   "source": [
    "batch_size = 64\n",
    "# epochs = 100\n",
    "epochs = 2"
   ]
  },
  {
   "attachments": {},
   "cell_type": "markdown",
   "id": "d73870cf",
   "metadata": {
    "pycharm": {
     "name": "#%% md\n"
    }
   },
   "source": [
    "# Generate dataset"
   ]
  },
  {
   "cell_type": "code",
   "execution_count": 34,
   "id": "74cf58ca",
   "metadata": {
    "pycharm": {
     "name": "#%%\n"
    }
   },
   "outputs": [],
   "source": [
    "_, slice_dataset = utils_dataset.generate_datasets(\n",
    "    df, df,\n",
    "    well_column=\"WELLNAME\",\n",
    "    slice_len=slice_len, \n",
    "    path_to_saves=path_to_save,\n",
    "    results_len_train=0,\n",
    "    results_len_test=results_len,\n",
    ")"
   ]
  },
  {
   "cell_type": "markdown",
   "id": "63f9a00d",
   "metadata": {},
   "source": [
    "# Obtain embeddings and classify them"
   ]
  },
  {
   "cell_type": "code",
   "execution_count": 35,
   "id": "878c287f",
   "metadata": {},
   "outputs": [
    {
     "name": "stderr",
     "output_type": "stream",
     "text": [
      "24it [00:00, 234.18it/s]"
     ]
    },
    {
     "name": "stdout",
     "output_type": "stream",
     "text": [
      "siamese None\n"
     ]
    },
    {
     "name": "stderr",
     "output_type": "stream",
     "text": [
      "500it [00:02, 233.75it/s]\n"
     ]
    },
    {
     "name": "stdout",
     "output_type": "stream",
     "text": [
      "XGB training ...\n",
      "[17:46:53] WARNING: ../src/learner.cc:1095: Starting in XGBoost 1.3.0, the default evaluation metric used with the objective 'multi:softprob' was changed from 'merror' to 'mlogloss'. Explicitly set eval_metric if you'd like to restore the old behavior.\n"
     ]
    },
    {
     "name": "stderr",
     "output_type": "stream",
     "text": [
      "GPU available: False, used: False\n",
      "TPU available: False, using: 0 TPU cores\n",
      "\n",
      "  | Name          | Type             | Params\n",
      "---------------------------------------------------\n",
      "0 | model         | Linear           | 68    \n",
      "1 | loss_function | CrossEntropyLoss | 0     \n",
      "---------------------------------------------------\n",
      "68        Trainable params\n",
      "0         Non-trainable params\n",
      "68        Total params\n",
      "0.000     Total estimated model params size (MB)\n"
     ]
    },
    {
     "name": "stdout",
     "output_type": "stream",
     "text": [
      "1 lin.layer training...\n"
     ]
    },
    {
     "data": {
      "application/json": {
       "ascii": false,
       "bar_format": null,
       "colour": null,
       "elapsed": 0.008524179458618164,
       "initial": 0,
       "n": 0,
       "ncols": 111,
       "nrows": 30,
       "postfix": null,
       "prefix": "Validation sanity check",
       "rate": null,
       "total": null,
       "unit": "it",
       "unit_divisor": 1000,
       "unit_scale": false
      },
      "application/vnd.jupyter.widget-view+json": {
       "model_id": "eec078811f2c414aac7a44cffe61fc93",
       "version_major": 2,
       "version_minor": 0
      },
      "text/plain": [
       "Validation sanity check: 0it [00:00, ?it/s]"
      ]
     },
     "metadata": {},
     "output_type": "display_data"
    },
    {
     "name": "stdout",
     "output_type": "stream",
     "text": [
      "mean_accuracy = 0.0\n",
      "mean_roc_auc = 0.6819502254595907\n",
      "mean_pr_auc = nan\n"
     ]
    },
    {
     "data": {
      "application/json": {
       "ascii": false,
       "bar_format": null,
       "colour": null,
       "elapsed": 0.010253667831420898,
       "initial": 0,
       "n": 0,
       "ncols": 111,
       "nrows": 30,
       "postfix": null,
       "prefix": "Training",
       "rate": null,
       "total": null,
       "unit": "it",
       "unit_divisor": 1000,
       "unit_scale": false
      },
      "application/vnd.jupyter.widget-view+json": {
       "model_id": "c2ad6a47a82144e096f3569813216f4c",
       "version_major": 2,
       "version_minor": 0
      },
      "text/plain": [
       "Training: 0it [00:00, ?it/s]"
      ]
     },
     "metadata": {},
     "output_type": "display_data"
    },
    {
     "data": {
      "application/json": {
       "ascii": false,
       "bar_format": null,
       "colour": null,
       "elapsed": 0.00975799560546875,
       "initial": 0,
       "n": 0,
       "ncols": 111,
       "nrows": 30,
       "postfix": null,
       "prefix": "Validating",
       "rate": null,
       "total": null,
       "unit": "it",
       "unit_divisor": 1000,
       "unit_scale": false
      },
      "application/vnd.jupyter.widget-view+json": {
       "model_id": "360e1d2d451c410caf822cd6d8d1672c",
       "version_major": 2,
       "version_minor": 0
      },
      "text/plain": [
       "Validating: 0it [00:00, ?it/s]"
      ]
     },
     "metadata": {},
     "output_type": "display_data"
    },
    {
     "name": "stdout",
     "output_type": "stream",
     "text": [
      "mean_accuracy = 0.05241935483870968\n",
      "mean_roc_auc = 0.5785423170308707\n",
      "mean_pr_auc = 0.5185266853360008\n"
     ]
    },
    {
     "data": {
      "application/json": {
       "ascii": false,
       "bar_format": null,
       "colour": null,
       "elapsed": 0.010075569152832031,
       "initial": 0,
       "n": 0,
       "ncols": 111,
       "nrows": 30,
       "postfix": null,
       "prefix": "Validating",
       "rate": null,
       "total": null,
       "unit": "it",
       "unit_divisor": 1000,
       "unit_scale": false
      },
      "application/vnd.jupyter.widget-view+json": {
       "model_id": "c25e788c66814c9e9085d0a344051b42",
       "version_major": 2,
       "version_minor": 0
      },
      "text/plain": [
       "Validating: 0it [00:00, ?it/s]"
      ]
     },
     "metadata": {},
     "output_type": "display_data"
    },
    {
     "name": "stderr",
     "output_type": "stream",
     "text": [
      "GPU available: False, used: False\n",
      "TPU available: False, using: 0 TPU cores\n",
      "\n",
      "  | Name          | Type             | Params\n",
      "---------------------------------------------------\n",
      "0 | model         | Sequential       | 9.9 K \n",
      "1 | loss_function | CrossEntropyLoss | 0     \n",
      "---------------------------------------------------\n",
      "9.9 K     Trainable params\n",
      "0         Non-trainable params\n",
      "9.9 K     Total params\n",
      "0.040     Total estimated model params size (MB)\n"
     ]
    },
    {
     "name": "stdout",
     "output_type": "stream",
     "text": [
      "mean_accuracy = 0.06451612903225806\n",
      "mean_roc_auc = 0.5805801248699272\n",
      "mean_pr_auc = 0.5350988796647936\n",
      "Accuracy: 0.0645, ROC AUC: 0.5806, PR AUC: 0.5351, Precision: 0.0286, Recall: 0.0645, F1: 0.0396\n",
      "FCNN training...\n"
     ]
    },
    {
     "data": {
      "application/json": {
       "ascii": false,
       "bar_format": null,
       "colour": null,
       "elapsed": 0.009327173233032227,
       "initial": 0,
       "n": 0,
       "ncols": 111,
       "nrows": 30,
       "postfix": null,
       "prefix": "Validation sanity check",
       "rate": null,
       "total": null,
       "unit": "it",
       "unit_divisor": 1000,
       "unit_scale": false
      },
      "application/vnd.jupyter.widget-view+json": {
       "model_id": "c402ea44f2474c56aac2e06f5a08c627",
       "version_major": 2,
       "version_minor": 0
      },
      "text/plain": [
       "Validation sanity check: 0it [00:00, ?it/s]"
      ]
     },
     "metadata": {},
     "output_type": "display_data"
    },
    {
     "name": "stdout",
     "output_type": "stream",
     "text": [
      "mean_accuracy = 0.0\n",
      "mean_roc_auc = 0.5226326742976067\n",
      "mean_pr_auc = nan\n"
     ]
    },
    {
     "data": {
      "application/json": {
       "ascii": false,
       "bar_format": null,
       "colour": null,
       "elapsed": 0.008719444274902344,
       "initial": 0,
       "n": 0,
       "ncols": 111,
       "nrows": 30,
       "postfix": null,
       "prefix": "Training",
       "rate": null,
       "total": null,
       "unit": "it",
       "unit_divisor": 1000,
       "unit_scale": false
      },
      "application/vnd.jupyter.widget-view+json": {
       "model_id": "7d3fda7a32fc4400b6e3dd27343aa086",
       "version_major": 2,
       "version_minor": 0
      },
      "text/plain": [
       "Training: 0it [00:00, ?it/s]"
      ]
     },
     "metadata": {},
     "output_type": "display_data"
    },
    {
     "data": {
      "application/json": {
       "ascii": false,
       "bar_format": null,
       "colour": null,
       "elapsed": 0.009873390197753906,
       "initial": 0,
       "n": 0,
       "ncols": 111,
       "nrows": 30,
       "postfix": null,
       "prefix": "Validating",
       "rate": null,
       "total": null,
       "unit": "it",
       "unit_divisor": 1000,
       "unit_scale": false
      },
      "application/vnd.jupyter.widget-view+json": {
       "model_id": "9d2206ad57414e14bddbed6350ee3a7f",
       "version_major": 2,
       "version_minor": 0
      },
      "text/plain": [
       "Validating: 0it [00:00, ?it/s]"
      ]
     },
     "metadata": {},
     "output_type": "display_data"
    },
    {
     "name": "stdout",
     "output_type": "stream",
     "text": [
      "mean_accuracy = 0.3629032258064516\n",
      "mean_roc_auc = 0.9966397849462365\n",
      "mean_pr_auc = 0.9886196829235687\n"
     ]
    },
    {
     "data": {
      "application/json": {
       "ascii": false,
       "bar_format": null,
       "colour": null,
       "elapsed": 0.01155543327331543,
       "initial": 0,
       "n": 0,
       "ncols": 111,
       "nrows": 30,
       "postfix": null,
       "prefix": "Validating",
       "rate": null,
       "total": null,
       "unit": "it",
       "unit_divisor": 1000,
       "unit_scale": false
      },
      "application/vnd.jupyter.widget-view+json": {
       "model_id": "2128a0980f014c07878ea2c9e2063eec",
       "version_major": 2,
       "version_minor": 0
      },
      "text/plain": [
       "Validating: 0it [00:00, ?it/s]"
      ]
     },
     "metadata": {},
     "output_type": "display_data"
    },
    {
     "name": "stderr",
     "output_type": "stream",
     "text": [
      "0it [00:00, ?it/s]"
     ]
    },
    {
     "name": "stdout",
     "output_type": "stream",
     "text": [
      "mean_accuracy = 0.7379032258064516\n",
      "mean_roc_auc = 0.9979188345473465\n",
      "mean_pr_auc = 0.9937890264471569\n",
      "Accuracy: 0.7379, ROC AUC: 0.9979, PR AUC: 0.9938, Precision: 0.5781, Recall: 0.7379, F1: 0.6483\n",
      "siamese topQ\n"
     ]
    },
    {
     "name": "stderr",
     "output_type": "stream",
     "text": [
      "500it [02:19,  3.58it/s]\n"
     ]
    },
    {
     "name": "stdout",
     "output_type": "stream",
     "text": [
      "XGB training ...\n",
      "[17:49:19] WARNING: ../src/learner.cc:1095: Starting in XGBoost 1.3.0, the default evaluation metric used with the objective 'multi:softprob' was changed from 'merror' to 'mlogloss'. Explicitly set eval_metric if you'd like to restore the old behavior.\n"
     ]
    },
    {
     "name": "stderr",
     "output_type": "stream",
     "text": [
      "GPU available: False, used: False\n",
      "TPU available: False, using: 0 TPU cores\n",
      "\n",
      "  | Name          | Type             | Params\n",
      "---------------------------------------------------\n",
      "0 | model         | Linear           | 132   \n",
      "1 | loss_function | CrossEntropyLoss | 0     \n",
      "---------------------------------------------------\n",
      "132       Trainable params\n",
      "0         Non-trainable params\n",
      "132       Total params\n",
      "0.001     Total estimated model params size (MB)\n"
     ]
    },
    {
     "name": "stdout",
     "output_type": "stream",
     "text": [
      "1 lin.layer training...\n"
     ]
    },
    {
     "data": {
      "application/json": {
       "ascii": false,
       "bar_format": null,
       "colour": null,
       "elapsed": 0.008736848831176758,
       "initial": 0,
       "n": 0,
       "ncols": 111,
       "nrows": 30,
       "postfix": null,
       "prefix": "Validation sanity check",
       "rate": null,
       "total": null,
       "unit": "it",
       "unit_divisor": 1000,
       "unit_scale": false
      },
      "application/vnd.jupyter.widget-view+json": {
       "model_id": "a569c0f3a220468a805a94aef13df0f0",
       "version_major": 2,
       "version_minor": 0
      },
      "text/plain": [
       "Validation sanity check: 0it [00:00, ?it/s]"
      ]
     },
     "metadata": {},
     "output_type": "display_data"
    },
    {
     "name": "stdout",
     "output_type": "stream",
     "text": [
      "mean_accuracy = 0.0\n",
      "mean_roc_auc = 0.30098855359001037\n",
      "mean_pr_auc = nan\n"
     ]
    },
    {
     "data": {
      "application/json": {
       "ascii": false,
       "bar_format": null,
       "colour": null,
       "elapsed": 0.010017156600952148,
       "initial": 0,
       "n": 0,
       "ncols": 111,
       "nrows": 30,
       "postfix": null,
       "prefix": "Training",
       "rate": null,
       "total": null,
       "unit": "it",
       "unit_divisor": 1000,
       "unit_scale": false
      },
      "application/vnd.jupyter.widget-view+json": {
       "model_id": "ef5c5a58e85f488ba11cde228d1e251d",
       "version_major": 2,
       "version_minor": 0
      },
      "text/plain": [
       "Training: 0it [00:00, ?it/s]"
      ]
     },
     "metadata": {},
     "output_type": "display_data"
    },
    {
     "data": {
      "application/json": {
       "ascii": false,
       "bar_format": null,
       "colour": null,
       "elapsed": 0.01023554801940918,
       "initial": 0,
       "n": 0,
       "ncols": 111,
       "nrows": 30,
       "postfix": null,
       "prefix": "Validating",
       "rate": null,
       "total": null,
       "unit": "it",
       "unit_divisor": 1000,
       "unit_scale": false
      },
      "application/vnd.jupyter.widget-view+json": {
       "model_id": "a41714c9fd2e419f8b6a03a90127d311",
       "version_major": 2,
       "version_minor": 0
      },
      "text/plain": [
       "Validating: 0it [00:00, ?it/s]"
      ]
     },
     "metadata": {},
     "output_type": "display_data"
    },
    {
     "name": "stdout",
     "output_type": "stream",
     "text": [
      "mean_accuracy = 0.0\n",
      "mean_roc_auc = 0.4350069372181755\n",
      "mean_pr_auc = 0.42067561462451714\n"
     ]
    },
    {
     "data": {
      "application/json": {
       "ascii": false,
       "bar_format": null,
       "colour": null,
       "elapsed": 0.009802103042602539,
       "initial": 0,
       "n": 0,
       "ncols": 111,
       "nrows": 30,
       "postfix": null,
       "prefix": "Validating",
       "rate": null,
       "total": null,
       "unit": "it",
       "unit_divisor": 1000,
       "unit_scale": false
      },
      "application/vnd.jupyter.widget-view+json": {
       "model_id": "8d173da7314a4b0ea7ae7ea091a1a53a",
       "version_major": 2,
       "version_minor": 0
      },
      "text/plain": [
       "Validating: 0it [00:00, ?it/s]"
      ]
     },
     "metadata": {},
     "output_type": "display_data"
    },
    {
     "name": "stderr",
     "output_type": "stream",
     "text": [
      "GPU available: False, used: False\n",
      "TPU available: False, using: 0 TPU cores\n",
      "\n",
      "  | Name          | Type             | Params\n",
      "---------------------------------------------------\n",
      "0 | model         | Sequential       | 10.9 K\n",
      "1 | loss_function | CrossEntropyLoss | 0     \n",
      "---------------------------------------------------\n",
      "10.9 K    Trainable params\n",
      "0         Non-trainable params\n",
      "10.9 K    Total params\n",
      "0.044     Total estimated model params size (MB)\n"
     ]
    },
    {
     "name": "stdout",
     "output_type": "stream",
     "text": [
      "mean_accuracy = 0.0\n",
      "mean_roc_auc = 0.4807925771765522\n",
      "mean_pr_auc = 0.5051531056420588\n",
      "Accuracy: 0.0, ROC AUC: 0.4808, PR AUC: 0.5052, Precision: 0.0, Recall: 0.0, F1: nan\n",
      "FCNN training...\n"
     ]
    },
    {
     "data": {
      "application/json": {
       "ascii": false,
       "bar_format": null,
       "colour": null,
       "elapsed": 0.014680147171020508,
       "initial": 0,
       "n": 0,
       "ncols": 111,
       "nrows": 30,
       "postfix": null,
       "prefix": "Validation sanity check",
       "rate": null,
       "total": null,
       "unit": "it",
       "unit_divisor": 1000,
       "unit_scale": false
      },
      "application/vnd.jupyter.widget-view+json": {
       "model_id": "89bd508ca9ca43eabf1e0b32dec445a8",
       "version_major": 2,
       "version_minor": 0
      },
      "text/plain": [
       "Validation sanity check: 0it [00:00, ?it/s]"
      ]
     },
     "metadata": {},
     "output_type": "display_data"
    },
    {
     "name": "stdout",
     "output_type": "stream",
     "text": [
      "mean_accuracy = 0.484375\n",
      "mean_roc_auc = 0.39444588969823097\n",
      "mean_pr_auc = nan\n"
     ]
    },
    {
     "data": {
      "application/json": {
       "ascii": false,
       "bar_format": null,
       "colour": null,
       "elapsed": 0.015798330307006836,
       "initial": 0,
       "n": 0,
       "ncols": 111,
       "nrows": 30,
       "postfix": null,
       "prefix": "Training",
       "rate": null,
       "total": null,
       "unit": "it",
       "unit_divisor": 1000,
       "unit_scale": false
      },
      "application/vnd.jupyter.widget-view+json": {
       "model_id": "f8b482d6a8954491abfbc847c11d4cbd",
       "version_major": 2,
       "version_minor": 0
      },
      "text/plain": [
       "Training: 0it [00:00, ?it/s]"
      ]
     },
     "metadata": {},
     "output_type": "display_data"
    },
    {
     "data": {
      "application/json": {
       "ascii": false,
       "bar_format": null,
       "colour": null,
       "elapsed": 0.01035451889038086,
       "initial": 0,
       "n": 0,
       "ncols": 111,
       "nrows": 30,
       "postfix": null,
       "prefix": "Validating",
       "rate": null,
       "total": null,
       "unit": "it",
       "unit_divisor": 1000,
       "unit_scale": false
      },
      "application/vnd.jupyter.widget-view+json": {
       "model_id": "ad89e82fbca44e9dad09797306dd23cd",
       "version_major": 2,
       "version_minor": 0
      },
      "text/plain": [
       "Validating: 0it [00:00, ?it/s]"
      ]
     },
     "metadata": {},
     "output_type": "display_data"
    },
    {
     "name": "stdout",
     "output_type": "stream",
     "text": [
      "mean_accuracy = 0.5\n",
      "mean_roc_auc = 0.9864073881373568\n",
      "mean_pr_auc = 0.9537110763004595\n"
     ]
    },
    {
     "data": {
      "application/json": {
       "ascii": false,
       "bar_format": null,
       "colour": null,
       "elapsed": 0.009617805480957031,
       "initial": 0,
       "n": 0,
       "ncols": 111,
       "nrows": 30,
       "postfix": null,
       "prefix": "Validating",
       "rate": null,
       "total": null,
       "unit": "it",
       "unit_divisor": 1000,
       "unit_scale": false
      },
      "application/vnd.jupyter.widget-view+json": {
       "model_id": "34cc182ebed04958a43678570938b879",
       "version_major": 2,
       "version_minor": 0
      },
      "text/plain": [
       "Validating: 0it [00:00, ?it/s]"
      ]
     },
     "metadata": {},
     "output_type": "display_data"
    },
    {
     "name": "stderr",
     "output_type": "stream",
     "text": [
      "0it [00:00, ?it/s]"
     ]
    },
    {
     "name": "stdout",
     "output_type": "stream",
     "text": [
      "mean_accuracy = 0.5\n",
      "mean_roc_auc = 0.9986559139784946\n",
      "mean_pr_auc = 0.9947033053085591\n",
      "Accuracy: 0.5, ROC AUC: 0.9987, PR AUC: 0.9947, Precision: 0.25, Recall: 0.5, F1: 0.3333\n",
      "siamese randQ\n"
     ]
    },
    {
     "name": "stderr",
     "output_type": "stream",
     "text": [
      "500it [02:09,  3.85it/s]\n"
     ]
    },
    {
     "name": "stdout",
     "output_type": "stream",
     "text": [
      "XGB training ...\n",
      "[17:51:43] WARNING: ../src/learner.cc:1095: Starting in XGBoost 1.3.0, the default evaluation metric used with the objective 'multi:softprob' was changed from 'merror' to 'mlogloss'. Explicitly set eval_metric if you'd like to restore the old behavior.\n"
     ]
    },
    {
     "name": "stderr",
     "output_type": "stream",
     "text": [
      "GPU available: False, used: False\n",
      "TPU available: False, using: 0 TPU cores\n",
      "\n",
      "  | Name          | Type             | Params\n",
      "---------------------------------------------------\n",
      "0 | model         | Linear           | 260   \n",
      "1 | loss_function | CrossEntropyLoss | 0     \n",
      "---------------------------------------------------\n",
      "260       Trainable params\n",
      "0         Non-trainable params\n",
      "260       Total params\n",
      "0.001     Total estimated model params size (MB)\n"
     ]
    },
    {
     "name": "stdout",
     "output_type": "stream",
     "text": [
      "1 lin.layer training...\n"
     ]
    },
    {
     "data": {
      "application/json": {
       "ascii": false,
       "bar_format": null,
       "colour": null,
       "elapsed": 0.013060331344604492,
       "initial": 0,
       "n": 0,
       "ncols": 111,
       "nrows": 30,
       "postfix": null,
       "prefix": "Validation sanity check",
       "rate": null,
       "total": null,
       "unit": "it",
       "unit_divisor": 1000,
       "unit_scale": false
      },
      "application/vnd.jupyter.widget-view+json": {
       "model_id": "1d6bdf5d23724db583930c3491a18b7e",
       "version_major": 2,
       "version_minor": 0
      },
      "text/plain": [
       "Validation sanity check: 0it [00:00, ?it/s]"
      ]
     },
     "metadata": {},
     "output_type": "display_data"
    },
    {
     "name": "stdout",
     "output_type": "stream",
     "text": [
      "mean_accuracy = 0.484375\n",
      "mean_roc_auc = 0.5\n",
      "mean_pr_auc = nan\n"
     ]
    },
    {
     "data": {
      "application/json": {
       "ascii": false,
       "bar_format": null,
       "colour": null,
       "elapsed": 0.013351917266845703,
       "initial": 0,
       "n": 0,
       "ncols": 111,
       "nrows": 30,
       "postfix": null,
       "prefix": "Training",
       "rate": null,
       "total": null,
       "unit": "it",
       "unit_divisor": 1000,
       "unit_scale": false
      },
      "application/vnd.jupyter.widget-view+json": {
       "model_id": "d9320e008b37405b9fee9d1b52ffd126",
       "version_major": 2,
       "version_minor": 0
      },
      "text/plain": [
       "Training: 0it [00:00, ?it/s]"
      ]
     },
     "metadata": {},
     "output_type": "display_data"
    },
    {
     "data": {
      "application/json": {
       "ascii": false,
       "bar_format": null,
       "colour": null,
       "elapsed": 0.018391132354736328,
       "initial": 0,
       "n": 0,
       "ncols": 111,
       "nrows": 30,
       "postfix": null,
       "prefix": "Validating",
       "rate": null,
       "total": null,
       "unit": "it",
       "unit_divisor": 1000,
       "unit_scale": false
      },
      "application/vnd.jupyter.widget-view+json": {
       "model_id": "a63bd51cc9c442e9b87af920ca454bc4",
       "version_major": 2,
       "version_minor": 0
      },
      "text/plain": [
       "Validating: 0it [00:00, ?it/s]"
      ]
     },
     "metadata": {},
     "output_type": "display_data"
    },
    {
     "name": "stdout",
     "output_type": "stream",
     "text": [
      "mean_accuracy = 0.5\n",
      "mean_roc_auc = 0.5807969129379119\n",
      "mean_pr_auc = 0.42394731898096116\n"
     ]
    },
    {
     "data": {
      "application/json": {
       "ascii": false,
       "bar_format": null,
       "colour": null,
       "elapsed": 0.013912677764892578,
       "initial": 0,
       "n": 0,
       "ncols": 111,
       "nrows": 30,
       "postfix": null,
       "prefix": "Validating",
       "rate": null,
       "total": null,
       "unit": "it",
       "unit_divisor": 1000,
       "unit_scale": false
      },
      "application/vnd.jupyter.widget-view+json": {
       "model_id": "adfaf510bb944bb7b6aa58bb61195b96",
       "version_major": 2,
       "version_minor": 0
      },
      "text/plain": [
       "Validating: 0it [00:00, ?it/s]"
      ]
     },
     "metadata": {},
     "output_type": "display_data"
    },
    {
     "name": "stderr",
     "output_type": "stream",
     "text": [
      "GPU available: False, used: False\n",
      "TPU available: False, using: 0 TPU cores\n",
      "\n",
      "  | Name          | Type             | Params\n",
      "---------------------------------------------------\n",
      "0 | model         | Sequential       | 13.0 K\n",
      "1 | loss_function | CrossEntropyLoss | 0     \n",
      "---------------------------------------------------\n",
      "13.0 K    Trainable params\n",
      "0         Non-trainable params\n",
      "13.0 K    Total params\n",
      "0.052     Total estimated model params size (MB)\n"
     ]
    },
    {
     "name": "stdout",
     "output_type": "stream",
     "text": [
      "mean_accuracy = 0.5\n",
      "mean_roc_auc = 0.8714880332986472\n",
      "mean_pr_auc = 0.7117232267275365\n",
      "Accuracy: 0.5, ROC AUC: 0.8715, PR AUC: 0.7117, Precision: 0.25, Recall: 0.5, F1: 0.3333\n",
      "FCNN training...\n"
     ]
    },
    {
     "data": {
      "application/json": {
       "ascii": false,
       "bar_format": null,
       "colour": null,
       "elapsed": 0.01560831069946289,
       "initial": 0,
       "n": 0,
       "ncols": 111,
       "nrows": 30,
       "postfix": null,
       "prefix": "Validation sanity check",
       "rate": null,
       "total": null,
       "unit": "it",
       "unit_divisor": 1000,
       "unit_scale": false
      },
      "application/vnd.jupyter.widget-view+json": {
       "model_id": "429d5d32741b4684a746844f0987c5ed",
       "version_major": 2,
       "version_minor": 0
      },
      "text/plain": [
       "Validation sanity check: 0it [00:00, ?it/s]"
      ]
     },
     "metadata": {},
     "output_type": "display_data"
    },
    {
     "name": "stdout",
     "output_type": "stream",
     "text": [
      "mean_accuracy = 0.5078125\n",
      "mean_roc_auc = 0.7196063128685397\n",
      "mean_pr_auc = nan\n"
     ]
    },
    {
     "data": {
      "application/json": {
       "ascii": false,
       "bar_format": null,
       "colour": null,
       "elapsed": 0.011092901229858398,
       "initial": 0,
       "n": 0,
       "ncols": 111,
       "nrows": 30,
       "postfix": null,
       "prefix": "Training",
       "rate": null,
       "total": null,
       "unit": "it",
       "unit_divisor": 1000,
       "unit_scale": false
      },
      "application/vnd.jupyter.widget-view+json": {
       "model_id": "5ab284330701432fa932ea08778d0534",
       "version_major": 2,
       "version_minor": 0
      },
      "text/plain": [
       "Training: 0it [00:00, ?it/s]"
      ]
     },
     "metadata": {},
     "output_type": "display_data"
    },
    {
     "data": {
      "application/json": {
       "ascii": false,
       "bar_format": null,
       "colour": null,
       "elapsed": 0.012413740158081055,
       "initial": 0,
       "n": 0,
       "ncols": 111,
       "nrows": 30,
       "postfix": null,
       "prefix": "Validating",
       "rate": null,
       "total": null,
       "unit": "it",
       "unit_divisor": 1000,
       "unit_scale": false
      },
      "application/vnd.jupyter.widget-view+json": {
       "model_id": "43b9dd48c39f46da84645d6c545caf30",
       "version_major": 2,
       "version_minor": 0
      },
      "text/plain": [
       "Validating: 0it [00:00, ?it/s]"
      ]
     },
     "metadata": {},
     "output_type": "display_data"
    },
    {
     "name": "stdout",
     "output_type": "stream",
     "text": [
      "mean_accuracy = 0.5\n",
      "mean_roc_auc = 0.9579647936177592\n",
      "mean_pr_auc = 0.90504653395106\n"
     ]
    },
    {
     "data": {
      "application/json": {
       "ascii": false,
       "bar_format": null,
       "colour": null,
       "elapsed": 0.013352394104003906,
       "initial": 0,
       "n": 0,
       "ncols": 111,
       "nrows": 30,
       "postfix": null,
       "prefix": "Validating",
       "rate": null,
       "total": null,
       "unit": "it",
       "unit_divisor": 1000,
       "unit_scale": false
      },
      "application/vnd.jupyter.widget-view+json": {
       "model_id": "c9719159ad754c56b37d50572f5ec291",
       "version_major": 2,
       "version_minor": 0
      },
      "text/plain": [
       "Validating: 0it [00:00, ?it/s]"
      ]
     },
     "metadata": {},
     "output_type": "display_data"
    },
    {
     "name": "stderr",
     "output_type": "stream",
     "text": [
      "0it [00:00, ?it/s]"
     ]
    },
    {
     "name": "stdout",
     "output_type": "stream",
     "text": [
      "mean_accuracy = 0.5\n",
      "mean_roc_auc = 0.9893773846687478\n",
      "mean_pr_auc = 0.9775996691898381\n",
      "Accuracy: 0.5, ROC AUC: 0.9894, PR AUC: 0.9776, Precision: 0.25, Recall: 0.5, F1: 0.3333\n",
      "siamese topK\n"
     ]
    },
    {
     "name": "stderr",
     "output_type": "stream",
     "text": [
      "500it [00:50,  9.99it/s]\n"
     ]
    },
    {
     "name": "stdout",
     "output_type": "stream",
     "text": [
      "XGB training ...\n",
      "[17:52:46] WARNING: ../src/learner.cc:1095: Starting in XGBoost 1.3.0, the default evaluation metric used with the objective 'multi:softprob' was changed from 'merror' to 'mlogloss'. Explicitly set eval_metric if you'd like to restore the old behavior.\n"
     ]
    },
    {
     "name": "stderr",
     "output_type": "stream",
     "text": [
      "GPU available: False, used: False\n",
      "TPU available: False, using: 0 TPU cores\n",
      "\n",
      "  | Name          | Type             | Params\n",
      "---------------------------------------------------\n",
      "0 | model         | Linear           | 260   \n",
      "1 | loss_function | CrossEntropyLoss | 0     \n",
      "---------------------------------------------------\n",
      "260       Trainable params\n",
      "0         Non-trainable params\n",
      "260       Total params\n",
      "0.001     Total estimated model params size (MB)\n"
     ]
    },
    {
     "name": "stdout",
     "output_type": "stream",
     "text": [
      "1 lin.layer training...\n"
     ]
    },
    {
     "data": {
      "application/json": {
       "ascii": false,
       "bar_format": null,
       "colour": null,
       "elapsed": 0.014701604843139648,
       "initial": 0,
       "n": 0,
       "ncols": 111,
       "nrows": 30,
       "postfix": null,
       "prefix": "Validation sanity check",
       "rate": null,
       "total": null,
       "unit": "it",
       "unit_divisor": 1000,
       "unit_scale": false
      },
      "application/vnd.jupyter.widget-view+json": {
       "model_id": "d66a7e7d40b64f14916b8d4ed1f30a86",
       "version_major": 2,
       "version_minor": 0
      },
      "text/plain": [
       "Validation sanity check: 0it [00:00, ?it/s]"
      ]
     },
     "metadata": {},
     "output_type": "display_data"
    },
    {
     "name": "stdout",
     "output_type": "stream",
     "text": [
      "mean_accuracy = 0.4296875\n",
      "mean_roc_auc = 0.7078347207769684\n",
      "mean_pr_auc = nan\n"
     ]
    },
    {
     "data": {
      "application/json": {
       "ascii": false,
       "bar_format": null,
       "colour": null,
       "elapsed": 0.011712789535522461,
       "initial": 0,
       "n": 0,
       "ncols": 111,
       "nrows": 30,
       "postfix": null,
       "prefix": "Training",
       "rate": null,
       "total": null,
       "unit": "it",
       "unit_divisor": 1000,
       "unit_scale": false
      },
      "application/vnd.jupyter.widget-view+json": {
       "model_id": "ab9aa4165d1d4094b09320bf29d01c72",
       "version_major": 2,
       "version_minor": 0
      },
      "text/plain": [
       "Training: 0it [00:00, ?it/s]"
      ]
     },
     "metadata": {},
     "output_type": "display_data"
    },
    {
     "data": {
      "application/json": {
       "ascii": false,
       "bar_format": null,
       "colour": null,
       "elapsed": 0.014155864715576172,
       "initial": 0,
       "n": 0,
       "ncols": 111,
       "nrows": 30,
       "postfix": null,
       "prefix": "Validating",
       "rate": null,
       "total": null,
       "unit": "it",
       "unit_divisor": 1000,
       "unit_scale": false
      },
      "application/vnd.jupyter.widget-view+json": {
       "model_id": "423aa45dee2d44259135a06d59776f1b",
       "version_major": 2,
       "version_minor": 0
      },
      "text/plain": [
       "Validating: 0it [00:00, ?it/s]"
      ]
     },
     "metadata": {},
     "output_type": "display_data"
    },
    {
     "name": "stdout",
     "output_type": "stream",
     "text": [
      "mean_accuracy = 0.47580645161290325\n",
      "mean_roc_auc = 0.7232483524106833\n",
      "mean_pr_auc = 0.35739036363315\n"
     ]
    },
    {
     "data": {
      "application/json": {
       "ascii": false,
       "bar_format": null,
       "colour": null,
       "elapsed": 0.014408111572265625,
       "initial": 0,
       "n": 0,
       "ncols": 111,
       "nrows": 30,
       "postfix": null,
       "prefix": "Validating",
       "rate": null,
       "total": null,
       "unit": "it",
       "unit_divisor": 1000,
       "unit_scale": false
      },
      "application/vnd.jupyter.widget-view+json": {
       "model_id": "c742315adebc42e2885598dd2f4d26d2",
       "version_major": 2,
       "version_minor": 0
      },
      "text/plain": [
       "Validating: 0it [00:00, ?it/s]"
      ]
     },
     "metadata": {},
     "output_type": "display_data"
    },
    {
     "name": "stderr",
     "output_type": "stream",
     "text": [
      "GPU available: False, used: False\n",
      "TPU available: False, using: 0 TPU cores\n",
      "\n",
      "  | Name          | Type             | Params\n",
      "---------------------------------------------------\n",
      "0 | model         | Sequential       | 13.0 K\n",
      "1 | loss_function | CrossEntropyLoss | 0     \n",
      "---------------------------------------------------\n",
      "13.0 K    Trainable params\n",
      "0         Non-trainable params\n",
      "13.0 K    Total params\n",
      "0.052     Total estimated model params size (MB)\n"
     ]
    },
    {
     "name": "stdout",
     "output_type": "stream",
     "text": [
      "mean_accuracy = 0.5\n",
      "mean_roc_auc = 0.7394857787027401\n",
      "mean_pr_auc = 0.38290231956355303\n",
      "Accuracy: 0.5, ROC AUC: 0.7395, PR AUC: 0.3829, Precision: 0.375, Recall: 0.5, F1: 0.4286\n",
      "FCNN training...\n"
     ]
    },
    {
     "data": {
      "application/json": {
       "ascii": false,
       "bar_format": null,
       "colour": null,
       "elapsed": 0.009882450103759766,
       "initial": 0,
       "n": 0,
       "ncols": 111,
       "nrows": 30,
       "postfix": null,
       "prefix": "Validation sanity check",
       "rate": null,
       "total": null,
       "unit": "it",
       "unit_divisor": 1000,
       "unit_scale": false
      },
      "application/vnd.jupyter.widget-view+json": {
       "model_id": "99324a96db27442988bae67248629ce3",
       "version_major": 2,
       "version_minor": 0
      },
      "text/plain": [
       "Validation sanity check: 0it [00:00, ?it/s]"
      ]
     },
     "metadata": {},
     "output_type": "display_data"
    },
    {
     "name": "stdout",
     "output_type": "stream",
     "text": [
      "mean_accuracy = 0.0\n",
      "mean_roc_auc = 0.36806278182448837\n",
      "mean_pr_auc = nan\n"
     ]
    },
    {
     "data": {
      "application/json": {
       "ascii": false,
       "bar_format": null,
       "colour": null,
       "elapsed": 0.019269466400146484,
       "initial": 0,
       "n": 0,
       "ncols": 111,
       "nrows": 30,
       "postfix": null,
       "prefix": "Training",
       "rate": null,
       "total": null,
       "unit": "it",
       "unit_divisor": 1000,
       "unit_scale": false
      },
      "application/vnd.jupyter.widget-view+json": {
       "model_id": "6bae1f2ac4894531ac61baf14c570932",
       "version_major": 2,
       "version_minor": 0
      },
      "text/plain": [
       "Training: 0it [00:00, ?it/s]"
      ]
     },
     "metadata": {},
     "output_type": "display_data"
    },
    {
     "data": {
      "application/json": {
       "ascii": false,
       "bar_format": null,
       "colour": null,
       "elapsed": 0.012543439865112305,
       "initial": 0,
       "n": 0,
       "ncols": 111,
       "nrows": 30,
       "postfix": null,
       "prefix": "Validating",
       "rate": null,
       "total": null,
       "unit": "it",
       "unit_divisor": 1000,
       "unit_scale": false
      },
      "application/vnd.jupyter.widget-view+json": {
       "model_id": "1602e61cc5184c819955c917f325d252",
       "version_major": 2,
       "version_minor": 0
      },
      "text/plain": [
       "Validating: 0it [00:00, ?it/s]"
      ]
     },
     "metadata": {},
     "output_type": "display_data"
    },
    {
     "name": "stdout",
     "output_type": "stream",
     "text": [
      "mean_accuracy = 0.7419354838709677\n",
      "mean_roc_auc = 0.977258931668401\n",
      "mean_pr_auc = 0.9546750681079061\n"
     ]
    },
    {
     "data": {
      "application/json": {
       "ascii": false,
       "bar_format": null,
       "colour": null,
       "elapsed": 0.016642332077026367,
       "initial": 0,
       "n": 0,
       "ncols": 111,
       "nrows": 30,
       "postfix": null,
       "prefix": "Validating",
       "rate": null,
       "total": null,
       "unit": "it",
       "unit_divisor": 1000,
       "unit_scale": false
      },
      "application/vnd.jupyter.widget-view+json": {
       "model_id": "22dbb5db1bc943e3abbbe8d50f24a476",
       "version_major": 2,
       "version_minor": 0
      },
      "text/plain": [
       "Validating: 0it [00:00, ?it/s]"
      ]
     },
     "metadata": {},
     "output_type": "display_data"
    },
    {
     "name": "stderr",
     "output_type": "stream",
     "text": [
      "0it [00:00, ?it/s]"
     ]
    },
    {
     "name": "stdout",
     "output_type": "stream",
     "text": [
      "mean_accuracy = 0.8790322580645161\n",
      "mean_roc_auc = 0.9924774540409297\n",
      "mean_pr_auc = 0.983464318673003\n",
      "Accuracy: 0.879, ROC AUC: 0.9925, PR AUC: 0.9835, Precision: 0.9037, Recall: 0.879, F1: 0.8912\n",
      "siamese randK\n"
     ]
    },
    {
     "name": "stderr",
     "output_type": "stream",
     "text": [
      "500it [01:59,  4.18it/s]\n"
     ]
    },
    {
     "name": "stdout",
     "output_type": "stream",
     "text": [
      "XGB training ...\n",
      "[17:54:59] WARNING: ../src/learner.cc:1095: Starting in XGBoost 1.3.0, the default evaluation metric used with the objective 'multi:softprob' was changed from 'merror' to 'mlogloss'. Explicitly set eval_metric if you'd like to restore the old behavior.\n"
     ]
    },
    {
     "name": "stderr",
     "output_type": "stream",
     "text": [
      "GPU available: False, used: False\n",
      "TPU available: False, using: 0 TPU cores\n",
      "\n",
      "  | Name          | Type             | Params\n",
      "---------------------------------------------------\n",
      "0 | model         | Linear           | 132   \n",
      "1 | loss_function | CrossEntropyLoss | 0     \n",
      "---------------------------------------------------\n",
      "132       Trainable params\n",
      "0         Non-trainable params\n",
      "132       Total params\n",
      "0.001     Total estimated model params size (MB)\n"
     ]
    },
    {
     "name": "stdout",
     "output_type": "stream",
     "text": [
      "1 lin.layer training...\n"
     ]
    },
    {
     "data": {
      "application/json": {
       "ascii": false,
       "bar_format": null,
       "colour": null,
       "elapsed": 0.008758544921875,
       "initial": 0,
       "n": 0,
       "ncols": 111,
       "nrows": 30,
       "postfix": null,
       "prefix": "Validation sanity check",
       "rate": null,
       "total": null,
       "unit": "it",
       "unit_divisor": 1000,
       "unit_scale": false
      },
      "application/vnd.jupyter.widget-view+json": {
       "model_id": "5abd9ed7cccc4f7ba8f1551166d16639",
       "version_major": 2,
       "version_minor": 0
      },
      "text/plain": [
       "Validation sanity check: 0it [00:00, ?it/s]"
      ]
     },
     "metadata": {},
     "output_type": "display_data"
    },
    {
     "name": "stdout",
     "output_type": "stream",
     "text": [
      "mean_accuracy = 0.0\n",
      "mean_roc_auc = 0.2539021852237253\n",
      "mean_pr_auc = nan\n"
     ]
    },
    {
     "data": {
      "application/json": {
       "ascii": false,
       "bar_format": null,
       "colour": null,
       "elapsed": 0.015940427780151367,
       "initial": 0,
       "n": 0,
       "ncols": 111,
       "nrows": 30,
       "postfix": null,
       "prefix": "Training",
       "rate": null,
       "total": null,
       "unit": "it",
       "unit_divisor": 1000,
       "unit_scale": false
      },
      "application/vnd.jupyter.widget-view+json": {
       "model_id": "8ff520b6c93a45bfadd226c3f2c2097c",
       "version_major": 2,
       "version_minor": 0
      },
      "text/plain": [
       "Training: 0it [00:00, ?it/s]"
      ]
     },
     "metadata": {},
     "output_type": "display_data"
    },
    {
     "data": {
      "application/json": {
       "ascii": false,
       "bar_format": null,
       "colour": null,
       "elapsed": 0.013740062713623047,
       "initial": 0,
       "n": 0,
       "ncols": 111,
       "nrows": 30,
       "postfix": null,
       "prefix": "Validating",
       "rate": null,
       "total": null,
       "unit": "it",
       "unit_divisor": 1000,
       "unit_scale": false
      },
      "application/vnd.jupyter.widget-view+json": {
       "model_id": "7359b1a8a26d4962a0c1caa710f63979",
       "version_major": 2,
       "version_minor": 0
      },
      "text/plain": [
       "Validating: 0it [00:00, ?it/s]"
      ]
     },
     "metadata": {},
     "output_type": "display_data"
    },
    {
     "name": "stdout",
     "output_type": "stream",
     "text": [
      "mean_accuracy = 0.0\n",
      "mean_roc_auc = 0.22695542837322236\n",
      "mean_pr_auc = 0.16883746597777954\n"
     ]
    },
    {
     "data": {
      "application/json": {
       "ascii": false,
       "bar_format": null,
       "colour": null,
       "elapsed": 0.011224031448364258,
       "initial": 0,
       "n": 0,
       "ncols": 111,
       "nrows": 30,
       "postfix": null,
       "prefix": "Validating",
       "rate": null,
       "total": null,
       "unit": "it",
       "unit_divisor": 1000,
       "unit_scale": false
      },
      "application/vnd.jupyter.widget-view+json": {
       "model_id": "88a308d7c91942819c30f5ffbc2e320b",
       "version_major": 2,
       "version_minor": 0
      },
      "text/plain": [
       "Validating: 0it [00:00, ?it/s]"
      ]
     },
     "metadata": {},
     "output_type": "display_data"
    },
    {
     "name": "stderr",
     "output_type": "stream",
     "text": [
      "GPU available: False, used: False\n",
      "TPU available: False, using: 0 TPU cores\n",
      "\n",
      "  | Name          | Type             | Params\n",
      "---------------------------------------------------\n",
      "0 | model         | Sequential       | 10.9 K\n",
      "1 | loss_function | CrossEntropyLoss | 0     \n",
      "---------------------------------------------------\n",
      "10.9 K    Trainable params\n",
      "0         Non-trainable params\n",
      "10.9 K    Total params\n",
      "0.044     Total estimated model params size (MB)\n"
     ]
    },
    {
     "name": "stdout",
     "output_type": "stream",
     "text": [
      "mean_accuracy = 0.0\n",
      "mean_roc_auc = 0.2719823100936524\n",
      "mean_pr_auc = 0.17676139155409892\n",
      "Accuracy: 0.0, ROC AUC: 0.272, PR AUC: 0.1768, Precision: 0.0, Recall: 0.0, F1: nan\n",
      "FCNN training...\n"
     ]
    },
    {
     "data": {
      "application/json": {
       "ascii": false,
       "bar_format": null,
       "colour": null,
       "elapsed": 0.010382890701293945,
       "initial": 0,
       "n": 0,
       "ncols": 111,
       "nrows": 30,
       "postfix": null,
       "prefix": "Validation sanity check",
       "rate": null,
       "total": null,
       "unit": "it",
       "unit_divisor": 1000,
       "unit_scale": false
      },
      "application/vnd.jupyter.widget-view+json": {
       "model_id": "ba277b9d95064117aac03fac6db0bd6d",
       "version_major": 2,
       "version_minor": 0
      },
      "text/plain": [
       "Validation sanity check: 0it [00:00, ?it/s]"
      ]
     },
     "metadata": {},
     "output_type": "display_data"
    },
    {
     "name": "stdout",
     "output_type": "stream",
     "text": [
      "mean_accuracy = 0.515625\n",
      "mean_roc_auc = 0.7860301768990635\n",
      "mean_pr_auc = nan\n"
     ]
    },
    {
     "data": {
      "application/json": {
       "ascii": false,
       "bar_format": null,
       "colour": null,
       "elapsed": 0.00897836685180664,
       "initial": 0,
       "n": 0,
       "ncols": 111,
       "nrows": 30,
       "postfix": null,
       "prefix": "Training",
       "rate": null,
       "total": null,
       "unit": "it",
       "unit_divisor": 1000,
       "unit_scale": false
      },
      "application/vnd.jupyter.widget-view+json": {
       "model_id": "66d043a1c9cc437a879633ec12105ead",
       "version_major": 2,
       "version_minor": 0
      },
      "text/plain": [
       "Training: 0it [00:00, ?it/s]"
      ]
     },
     "metadata": {},
     "output_type": "display_data"
    },
    {
     "data": {
      "application/json": {
       "ascii": false,
       "bar_format": null,
       "colour": null,
       "elapsed": 0.01041555404663086,
       "initial": 0,
       "n": 0,
       "ncols": 111,
       "nrows": 30,
       "postfix": null,
       "prefix": "Validating",
       "rate": null,
       "total": null,
       "unit": "it",
       "unit_divisor": 1000,
       "unit_scale": false
      },
      "application/vnd.jupyter.widget-view+json": {
       "model_id": "8e287b8618ac440a8f72f40b006ff71f",
       "version_major": 2,
       "version_minor": 0
      },
      "text/plain": [
       "Validating: 0it [00:00, ?it/s]"
      ]
     },
     "metadata": {},
     "output_type": "display_data"
    },
    {
     "name": "stdout",
     "output_type": "stream",
     "text": [
      "mean_accuracy = 0.5\n",
      "mean_roc_auc = 0.9740504682622267\n",
      "mean_pr_auc = 0.9319311493775064\n"
     ]
    },
    {
     "data": {
      "application/json": {
       "ascii": false,
       "bar_format": null,
       "colour": null,
       "elapsed": 0.011949300765991211,
       "initial": 0,
       "n": 0,
       "ncols": 111,
       "nrows": 30,
       "postfix": null,
       "prefix": "Validating",
       "rate": null,
       "total": null,
       "unit": "it",
       "unit_divisor": 1000,
       "unit_scale": false
      },
      "application/vnd.jupyter.widget-view+json": {
       "model_id": "edaaad896b9d4452bc6a5cc06bfed75a",
       "version_major": 2,
       "version_minor": 0
      },
      "text/plain": [
       "Validating: 0it [00:00, ?it/s]"
      ]
     },
     "metadata": {},
     "output_type": "display_data"
    },
    {
     "name": "stderr",
     "output_type": "stream",
     "text": [
      "0it [00:00, ?it/s]"
     ]
    },
    {
     "name": "stdout",
     "output_type": "stream",
     "text": [
      "mean_accuracy = 0.5\n",
      "mean_roc_auc = 0.9712322233784253\n",
      "mean_pr_auc = 0.9244312483982932\n",
      "Accuracy: 0.5, ROC AUC: 0.9712, PR AUC: 0.9244, Precision: 0.25, Recall: 0.5, F1: 0.3333\n",
      "siamese topQ_topK\n"
     ]
    },
    {
     "name": "stderr",
     "output_type": "stream",
     "text": [
      "500it [01:30,  5.51it/s]\n"
     ]
    },
    {
     "name": "stdout",
     "output_type": "stream",
     "text": [
      "XGB training ...\n",
      "[17:56:45] WARNING: ../src/learner.cc:1095: Starting in XGBoost 1.3.0, the default evaluation metric used with the objective 'multi:softprob' was changed from 'merror' to 'mlogloss'. Explicitly set eval_metric if you'd like to restore the old behavior.\n"
     ]
    },
    {
     "name": "stderr",
     "output_type": "stream",
     "text": [
      "GPU available: False, used: False\n",
      "TPU available: False, using: 0 TPU cores\n",
      "\n",
      "  | Name          | Type             | Params\n",
      "---------------------------------------------------\n",
      "0 | model         | Linear           | 260   \n",
      "1 | loss_function | CrossEntropyLoss | 0     \n",
      "---------------------------------------------------\n",
      "260       Trainable params\n",
      "0         Non-trainable params\n",
      "260       Total params\n",
      "0.001     Total estimated model params size (MB)\n"
     ]
    },
    {
     "name": "stdout",
     "output_type": "stream",
     "text": [
      "1 lin.layer training...\n"
     ]
    },
    {
     "data": {
      "application/json": {
       "ascii": false,
       "bar_format": null,
       "colour": null,
       "elapsed": 0.009885311126708984,
       "initial": 0,
       "n": 0,
       "ncols": 111,
       "nrows": 30,
       "postfix": null,
       "prefix": "Validation sanity check",
       "rate": null,
       "total": null,
       "unit": "it",
       "unit_divisor": 1000,
       "unit_scale": false
      },
      "application/vnd.jupyter.widget-view+json": {
       "model_id": "5751a37465484acc899e1d06b05fb737",
       "version_major": 2,
       "version_minor": 0
      },
      "text/plain": [
       "Validation sanity check: 0it [00:00, ?it/s]"
      ]
     },
     "metadata": {},
     "output_type": "display_data"
    },
    {
     "name": "stdout",
     "output_type": "stream",
     "text": [
      "mean_accuracy = 0.484375\n",
      "mean_roc_auc = 0.4289585501214013\n",
      "mean_pr_auc = nan\n"
     ]
    },
    {
     "data": {
      "application/json": {
       "ascii": false,
       "bar_format": null,
       "colour": null,
       "elapsed": 0.00966787338256836,
       "initial": 0,
       "n": 0,
       "ncols": 111,
       "nrows": 30,
       "postfix": null,
       "prefix": "Training",
       "rate": null,
       "total": null,
       "unit": "it",
       "unit_divisor": 1000,
       "unit_scale": false
      },
      "application/vnd.jupyter.widget-view+json": {
       "model_id": "889395dfd5b14b89beca9a69a2baed29",
       "version_major": 2,
       "version_minor": 0
      },
      "text/plain": [
       "Training: 0it [00:00, ?it/s]"
      ]
     },
     "metadata": {},
     "output_type": "display_data"
    },
    {
     "data": {
      "application/json": {
       "ascii": false,
       "bar_format": null,
       "colour": null,
       "elapsed": 0.011680841445922852,
       "initial": 0,
       "n": 0,
       "ncols": 111,
       "nrows": 30,
       "postfix": null,
       "prefix": "Validating",
       "rate": null,
       "total": null,
       "unit": "it",
       "unit_divisor": 1000,
       "unit_scale": false
      },
      "application/vnd.jupyter.widget-view+json": {
       "model_id": "2511bb2d10c94f4cbf6e77f7ffaab86a",
       "version_major": 2,
       "version_minor": 0
      },
      "text/plain": [
       "Validating: 0it [00:00, ?it/s]"
      ]
     },
     "metadata": {},
     "output_type": "display_data"
    },
    {
     "name": "stdout",
     "output_type": "stream",
     "text": [
      "mean_accuracy = 0.5\n",
      "mean_roc_auc = 0.7911030176899064\n",
      "mean_pr_auc = 0.5113865727052482\n"
     ]
    },
    {
     "data": {
      "application/json": {
       "ascii": false,
       "bar_format": null,
       "colour": null,
       "elapsed": 0.015007734298706055,
       "initial": 0,
       "n": 0,
       "ncols": 111,
       "nrows": 30,
       "postfix": null,
       "prefix": "Validating",
       "rate": null,
       "total": null,
       "unit": "it",
       "unit_divisor": 1000,
       "unit_scale": false
      },
      "application/vnd.jupyter.widget-view+json": {
       "model_id": "2eb8c9328fce4bc1bebd1fa238292818",
       "version_major": 2,
       "version_minor": 0
      },
      "text/plain": [
       "Validating: 0it [00:00, ?it/s]"
      ]
     },
     "metadata": {},
     "output_type": "display_data"
    },
    {
     "name": "stderr",
     "output_type": "stream",
     "text": [
      "GPU available: False, used: False\n",
      "TPU available: False, using: 0 TPU cores\n",
      "\n",
      "  | Name          | Type             | Params\n",
      "---------------------------------------------------\n",
      "0 | model         | Sequential       | 13.0 K\n",
      "1 | loss_function | CrossEntropyLoss | 0     \n",
      "---------------------------------------------------\n",
      "13.0 K    Trainable params\n",
      "0         Non-trainable params\n",
      "13.0 K    Total params\n",
      "0.052     Total estimated model params size (MB)\n"
     ]
    },
    {
     "name": "stdout",
     "output_type": "stream",
     "text": [
      "mean_accuracy = 0.5\n",
      "mean_roc_auc = 0.8830861949358307\n",
      "mean_pr_auc = 0.6785141519050196\n",
      "Accuracy: 0.5, ROC AUC: 0.8831, PR AUC: 0.6785, Precision: 0.25, Recall: 0.5, F1: 0.3333\n",
      "FCNN training...\n"
     ]
    },
    {
     "data": {
      "application/json": {
       "ascii": false,
       "bar_format": null,
       "colour": null,
       "elapsed": 0.011603832244873047,
       "initial": 0,
       "n": 0,
       "ncols": 111,
       "nrows": 30,
       "postfix": null,
       "prefix": "Validation sanity check",
       "rate": null,
       "total": null,
       "unit": "it",
       "unit_divisor": 1000,
       "unit_scale": false
      },
      "application/vnd.jupyter.widget-view+json": {
       "model_id": "f665048232f44ec697cc5e80eeb78c1f",
       "version_major": 2,
       "version_minor": 0
      },
      "text/plain": [
       "Validation sanity check: 0it [00:00, ?it/s]"
      ]
     },
     "metadata": {},
     "output_type": "display_data"
    },
    {
     "name": "stdout",
     "output_type": "stream",
     "text": [
      "mean_accuracy = 0.0\n",
      "mean_roc_auc = 0.5456122095039889\n",
      "mean_pr_auc = nan\n"
     ]
    },
    {
     "data": {
      "application/json": {
       "ascii": false,
       "bar_format": null,
       "colour": null,
       "elapsed": 0.008922576904296875,
       "initial": 0,
       "n": 0,
       "ncols": 111,
       "nrows": 30,
       "postfix": null,
       "prefix": "Training",
       "rate": null,
       "total": null,
       "unit": "it",
       "unit_divisor": 1000,
       "unit_scale": false
      },
      "application/vnd.jupyter.widget-view+json": {
       "model_id": "f88c074dd9cf4f6094274538fbb05bdb",
       "version_major": 2,
       "version_minor": 0
      },
      "text/plain": [
       "Training: 0it [00:00, ?it/s]"
      ]
     },
     "metadata": {},
     "output_type": "display_data"
    },
    {
     "data": {
      "application/json": {
       "ascii": false,
       "bar_format": null,
       "colour": null,
       "elapsed": 0.009987592697143555,
       "initial": 0,
       "n": 0,
       "ncols": 111,
       "nrows": 30,
       "postfix": null,
       "prefix": "Validating",
       "rate": null,
       "total": null,
       "unit": "it",
       "unit_divisor": 1000,
       "unit_scale": false
      },
      "application/vnd.jupyter.widget-view+json": {
       "model_id": "54ad1f94d2f84d66a73b45b97ac518d8",
       "version_major": 2,
       "version_minor": 0
      },
      "text/plain": [
       "Validating: 0it [00:00, ?it/s]"
      ]
     },
     "metadata": {},
     "output_type": "display_data"
    },
    {
     "name": "stdout",
     "output_type": "stream",
     "text": [
      "mean_accuracy = 0.5\n",
      "mean_roc_auc = 0.996661463753035\n",
      "mean_pr_auc = 0.9920793715878444\n"
     ]
    },
    {
     "data": {
      "application/json": {
       "ascii": false,
       "bar_format": null,
       "colour": null,
       "elapsed": 0.0102386474609375,
       "initial": 0,
       "n": 0,
       "ncols": 111,
       "nrows": 30,
       "postfix": null,
       "prefix": "Validating",
       "rate": null,
       "total": null,
       "unit": "it",
       "unit_divisor": 1000,
       "unit_scale": false
      },
      "application/vnd.jupyter.widget-view+json": {
       "model_id": "937eec3a2e834f6a9cb6ae7870289e35",
       "version_major": 2,
       "version_minor": 0
      },
      "text/plain": [
       "Validating: 0it [00:00, ?it/s]"
      ]
     },
     "metadata": {},
     "output_type": "display_data"
    },
    {
     "name": "stderr",
     "output_type": "stream",
     "text": [
      "2it [00:00, 14.31it/s]"
     ]
    },
    {
     "name": "stdout",
     "output_type": "stream",
     "text": [
      "mean_accuracy = 0.5564516129032258\n",
      "mean_roc_auc = 0.9995447450572321\n",
      "mean_pr_auc = 0.9989514860028933\n",
      "Accuracy: 0.5565, ROC AUC: 0.9995, PR AUC: 0.999, Precision: 0.5159, Recall: 0.5565, F1: 0.5354\n",
      "siamese topQ_randK\n"
     ]
    },
    {
     "name": "stderr",
     "output_type": "stream",
     "text": [
      "500it [00:33, 14.81it/s]\n"
     ]
    },
    {
     "name": "stdout",
     "output_type": "stream",
     "text": [
      "XGB training ...\n",
      "[17:57:29] WARNING: ../src/learner.cc:1095: Starting in XGBoost 1.3.0, the default evaluation metric used with the objective 'multi:softprob' was changed from 'merror' to 'mlogloss'. Explicitly set eval_metric if you'd like to restore the old behavior.\n"
     ]
    },
    {
     "name": "stderr",
     "output_type": "stream",
     "text": [
      "GPU available: False, used: False\n",
      "TPU available: False, using: 0 TPU cores\n",
      "\n",
      "  | Name          | Type             | Params\n",
      "---------------------------------------------------\n",
      "0 | model         | Linear           | 260   \n",
      "1 | loss_function | CrossEntropyLoss | 0     \n",
      "---------------------------------------------------\n",
      "260       Trainable params\n",
      "0         Non-trainable params\n",
      "260       Total params\n",
      "0.001     Total estimated model params size (MB)\n"
     ]
    },
    {
     "name": "stdout",
     "output_type": "stream",
     "text": [
      "1 lin.layer training...\n"
     ]
    },
    {
     "data": {
      "application/json": {
       "ascii": false,
       "bar_format": null,
       "colour": null,
       "elapsed": 0.009791374206542969,
       "initial": 0,
       "n": 0,
       "ncols": 111,
       "nrows": 30,
       "postfix": null,
       "prefix": "Validation sanity check",
       "rate": null,
       "total": null,
       "unit": "it",
       "unit_divisor": 1000,
       "unit_scale": false
      },
      "application/vnd.jupyter.widget-view+json": {
       "model_id": "4d33e0580fc041279a9d1e6209512dc9",
       "version_major": 2,
       "version_minor": 0
      },
      "text/plain": [
       "Validation sanity check: 0it [00:00, ?it/s]"
      ]
     },
     "metadata": {},
     "output_type": "display_data"
    },
    {
     "name": "stdout",
     "output_type": "stream",
     "text": [
      "mean_accuracy = 0.0\n",
      "mean_roc_auc = 0.2692941380506417\n",
      "mean_pr_auc = nan\n"
     ]
    },
    {
     "data": {
      "application/json": {
       "ascii": false,
       "bar_format": null,
       "colour": null,
       "elapsed": 0.009793996810913086,
       "initial": 0,
       "n": 0,
       "ncols": 111,
       "nrows": 30,
       "postfix": null,
       "prefix": "Training",
       "rate": null,
       "total": null,
       "unit": "it",
       "unit_divisor": 1000,
       "unit_scale": false
      },
      "application/vnd.jupyter.widget-view+json": {
       "model_id": "eefdb1f038cd4186ba0f9d9b4d756c73",
       "version_major": 2,
       "version_minor": 0
      },
      "text/plain": [
       "Training: 0it [00:00, ?it/s]"
      ]
     },
     "metadata": {},
     "output_type": "display_data"
    },
    {
     "data": {
      "application/json": {
       "ascii": false,
       "bar_format": null,
       "colour": null,
       "elapsed": 0.009980201721191406,
       "initial": 0,
       "n": 0,
       "ncols": 111,
       "nrows": 30,
       "postfix": null,
       "prefix": "Validating",
       "rate": null,
       "total": null,
       "unit": "it",
       "unit_divisor": 1000,
       "unit_scale": false
      },
      "application/vnd.jupyter.widget-view+json": {
       "model_id": "7ff3299822654638b1d3da082425b0f3",
       "version_major": 2,
       "version_minor": 0
      },
      "text/plain": [
       "Validating: 0it [00:00, ?it/s]"
      ]
     },
     "metadata": {},
     "output_type": "display_data"
    },
    {
     "name": "stdout",
     "output_type": "stream",
     "text": [
      "mean_accuracy = 0.0\n",
      "mean_roc_auc = 0.1904049601109955\n",
      "mean_pr_auc = 0.16461611699593356\n"
     ]
    },
    {
     "data": {
      "application/json": {
       "ascii": false,
       "bar_format": null,
       "colour": null,
       "elapsed": 0.009988069534301758,
       "initial": 0,
       "n": 0,
       "ncols": 111,
       "nrows": 30,
       "postfix": null,
       "prefix": "Validating",
       "rate": null,
       "total": null,
       "unit": "it",
       "unit_divisor": 1000,
       "unit_scale": false
      },
      "application/vnd.jupyter.widget-view+json": {
       "model_id": "3ea9dc84a9a24ea1b2f219224cdbbf77",
       "version_major": 2,
       "version_minor": 0
      },
      "text/plain": [
       "Validating: 0it [00:00, ?it/s]"
      ]
     },
     "metadata": {},
     "output_type": "display_data"
    },
    {
     "name": "stderr",
     "output_type": "stream",
     "text": [
      "GPU available: False, used: False\n",
      "TPU available: False, using: 0 TPU cores\n",
      "\n",
      "  | Name          | Type             | Params\n",
      "---------------------------------------------------\n",
      "0 | model         | Sequential       | 13.0 K\n",
      "1 | loss_function | CrossEntropyLoss | 0     \n",
      "---------------------------------------------------\n",
      "13.0 K    Trainable params\n",
      "0         Non-trainable params\n",
      "13.0 K    Total params\n",
      "0.052     Total estimated model params size (MB)\n"
     ]
    },
    {
     "name": "stdout",
     "output_type": "stream",
     "text": [
      "mean_accuracy = 0.04032258064516129\n",
      "mean_roc_auc = 0.24633628165105792\n",
      "mean_pr_auc = 0.17624232793137845\n",
      "Accuracy: 0.0403, ROC AUC: 0.2463, PR AUC: 0.1762, Precision: 0.0185, Recall: 0.0403, F1: 0.0254\n",
      "FCNN training...\n"
     ]
    },
    {
     "data": {
      "application/json": {
       "ascii": false,
       "bar_format": null,
       "colour": null,
       "elapsed": 0.008951187133789062,
       "initial": 0,
       "n": 0,
       "ncols": 111,
       "nrows": 30,
       "postfix": null,
       "prefix": "Validation sanity check",
       "rate": null,
       "total": null,
       "unit": "it",
       "unit_divisor": 1000,
       "unit_scale": false
      },
      "application/vnd.jupyter.widget-view+json": {
       "model_id": "725a777cb4be4574a42015a49eda9fa1",
       "version_major": 2,
       "version_minor": 0
      },
      "text/plain": [
       "Validation sanity check: 0it [00:00, ?it/s]"
      ]
     },
     "metadata": {},
     "output_type": "display_data"
    },
    {
     "name": "stdout",
     "output_type": "stream",
     "text": [
      "mean_accuracy = 0.328125\n",
      "mean_roc_auc = 0.5671826222684704\n",
      "mean_pr_auc = nan\n"
     ]
    },
    {
     "data": {
      "application/json": {
       "ascii": false,
       "bar_format": null,
       "colour": null,
       "elapsed": 0.009625911712646484,
       "initial": 0,
       "n": 0,
       "ncols": 111,
       "nrows": 30,
       "postfix": null,
       "prefix": "Training",
       "rate": null,
       "total": null,
       "unit": "it",
       "unit_divisor": 1000,
       "unit_scale": false
      },
      "application/vnd.jupyter.widget-view+json": {
       "model_id": "af2246e08d6242859eb6057e5ab11341",
       "version_major": 2,
       "version_minor": 0
      },
      "text/plain": [
       "Training: 0it [00:00, ?it/s]"
      ]
     },
     "metadata": {},
     "output_type": "display_data"
    },
    {
     "data": {
      "application/json": {
       "ascii": false,
       "bar_format": null,
       "colour": null,
       "elapsed": 0.009989500045776367,
       "initial": 0,
       "n": 0,
       "ncols": 111,
       "nrows": 30,
       "postfix": null,
       "prefix": "Validating",
       "rate": null,
       "total": null,
       "unit": "it",
       "unit_divisor": 1000,
       "unit_scale": false
      },
      "application/vnd.jupyter.widget-view+json": {
       "model_id": "a312ae366f114d8b9e966e952d80b29e",
       "version_major": 2,
       "version_minor": 0
      },
      "text/plain": [
       "Validating: 0it [00:00, ?it/s]"
      ]
     },
     "metadata": {},
     "output_type": "display_data"
    },
    {
     "name": "stdout",
     "output_type": "stream",
     "text": [
      "mean_accuracy = 0.5\n",
      "mean_roc_auc = 0.9887053416579951\n",
      "mean_pr_auc = 0.9714432757946748\n"
     ]
    },
    {
     "data": {
      "application/json": {
       "ascii": false,
       "bar_format": null,
       "colour": null,
       "elapsed": 0.010375261306762695,
       "initial": 0,
       "n": 0,
       "ncols": 111,
       "nrows": 30,
       "postfix": null,
       "prefix": "Validating",
       "rate": null,
       "total": null,
       "unit": "it",
       "unit_divisor": 1000,
       "unit_scale": false
      },
      "application/vnd.jupyter.widget-view+json": {
       "model_id": "890df29b9624400f97f8663d79396170",
       "version_major": 2,
       "version_minor": 0
      },
      "text/plain": [
       "Validating: 0it [00:00, ?it/s]"
      ]
     },
     "metadata": {},
     "output_type": "display_data"
    },
    {
     "name": "stderr",
     "output_type": "stream",
     "text": [
      "0it [00:00, ?it/s]"
     ]
    },
    {
     "name": "stdout",
     "output_type": "stream",
     "text": [
      "mean_accuracy = 0.8548387096774194\n",
      "mean_roc_auc = 1.0\n",
      "mean_pr_auc = 1.0\n",
      "Accuracy: 0.8548, ROC AUC: 1.0, PR AUC: 1.0, Precision: 0.8897, Recall: 0.8548, F1: 0.8719\n",
      "siamese randQ_topK\n"
     ]
    },
    {
     "name": "stderr",
     "output_type": "stream",
     "text": [
      "500it [01:07,  7.37it/s]\n"
     ]
    },
    {
     "name": "stdout",
     "output_type": "stream",
     "text": [
      "XGB training ...\n",
      "[17:58:48] WARNING: ../src/learner.cc:1095: Starting in XGBoost 1.3.0, the default evaluation metric used with the objective 'multi:softprob' was changed from 'merror' to 'mlogloss'. Explicitly set eval_metric if you'd like to restore the old behavior.\n"
     ]
    },
    {
     "name": "stderr",
     "output_type": "stream",
     "text": [
      "GPU available: False, used: False\n",
      "TPU available: False, using: 0 TPU cores\n",
      "\n",
      "  | Name          | Type             | Params\n",
      "---------------------------------------------------\n",
      "0 | model         | Linear           | 260   \n",
      "1 | loss_function | CrossEntropyLoss | 0     \n",
      "---------------------------------------------------\n",
      "260       Trainable params\n",
      "0         Non-trainable params\n",
      "260       Total params\n",
      "0.001     Total estimated model params size (MB)\n"
     ]
    },
    {
     "name": "stdout",
     "output_type": "stream",
     "text": [
      "1 lin.layer training...\n"
     ]
    },
    {
     "data": {
      "application/json": {
       "ascii": false,
       "bar_format": null,
       "colour": null,
       "elapsed": 0.013936519622802734,
       "initial": 0,
       "n": 0,
       "ncols": 111,
       "nrows": 30,
       "postfix": null,
       "prefix": "Validation sanity check",
       "rate": null,
       "total": null,
       "unit": "it",
       "unit_divisor": 1000,
       "unit_scale": false
      },
      "application/vnd.jupyter.widget-view+json": {
       "model_id": "62ec5b86a18d415983a7dd1ebc12345d",
       "version_major": 2,
       "version_minor": 0
      },
      "text/plain": [
       "Validation sanity check: 0it [00:00, ?it/s]"
      ]
     },
     "metadata": {},
     "output_type": "display_data"
    },
    {
     "name": "stdout",
     "output_type": "stream",
     "text": [
      "mean_accuracy = 0.109375\n",
      "mean_roc_auc = 0.48488987166146374\n",
      "mean_pr_auc = nan\n"
     ]
    },
    {
     "data": {
      "application/json": {
       "ascii": false,
       "bar_format": null,
       "colour": null,
       "elapsed": 0.008863687515258789,
       "initial": 0,
       "n": 0,
       "ncols": 111,
       "nrows": 30,
       "postfix": null,
       "prefix": "Training",
       "rate": null,
       "total": null,
       "unit": "it",
       "unit_divisor": 1000,
       "unit_scale": false
      },
      "application/vnd.jupyter.widget-view+json": {
       "model_id": "06dcdb15683a43b4af521a58c5a1d682",
       "version_major": 2,
       "version_minor": 0
      },
      "text/plain": [
       "Training: 0it [00:00, ?it/s]"
      ]
     },
     "metadata": {},
     "output_type": "display_data"
    },
    {
     "data": {
      "application/json": {
       "ascii": false,
       "bar_format": null,
       "colour": null,
       "elapsed": 0.01022481918334961,
       "initial": 0,
       "n": 0,
       "ncols": 111,
       "nrows": 30,
       "postfix": null,
       "prefix": "Validating",
       "rate": null,
       "total": null,
       "unit": "it",
       "unit_divisor": 1000,
       "unit_scale": false
      },
      "application/vnd.jupyter.widget-view+json": {
       "model_id": "fc7f245554b648ed8843d8bef04980cf",
       "version_major": 2,
       "version_minor": 0
      },
      "text/plain": [
       "Validating: 0it [00:00, ?it/s]"
      ]
     },
     "metadata": {},
     "output_type": "display_data"
    },
    {
     "name": "stdout",
     "output_type": "stream",
     "text": [
      "mean_accuracy = 0.5201612903225806\n",
      "mean_roc_auc = 0.7925338189386055\n",
      "mean_pr_auc = 0.5961859056393548\n"
     ]
    },
    {
     "data": {
      "application/json": {
       "ascii": false,
       "bar_format": null,
       "colour": null,
       "elapsed": 0.010252237319946289,
       "initial": 0,
       "n": 0,
       "ncols": 111,
       "nrows": 30,
       "postfix": null,
       "prefix": "Validating",
       "rate": null,
       "total": null,
       "unit": "it",
       "unit_divisor": 1000,
       "unit_scale": false
      },
      "application/vnd.jupyter.widget-view+json": {
       "model_id": "f8019e080cdf4bec8a0c0c06bbc1c14d",
       "version_major": 2,
       "version_minor": 0
      },
      "text/plain": [
       "Validating: 0it [00:00, ?it/s]"
      ]
     },
     "metadata": {},
     "output_type": "display_data"
    },
    {
     "name": "stderr",
     "output_type": "stream",
     "text": [
      "GPU available: False, used: False\n",
      "TPU available: False, using: 0 TPU cores\n",
      "\n",
      "  | Name          | Type             | Params\n",
      "---------------------------------------------------\n",
      "0 | model         | Sequential       | 13.0 K\n",
      "1 | loss_function | CrossEntropyLoss | 0     \n",
      "---------------------------------------------------\n",
      "13.0 K    Trainable params\n",
      "0         Non-trainable params\n",
      "13.0 K    Total params\n",
      "0.052     Total estimated model params size (MB)\n"
     ]
    },
    {
     "name": "stdout",
     "output_type": "stream",
     "text": [
      "mean_accuracy = 0.532258064516129\n",
      "mean_roc_auc = 0.8194805757891087\n",
      "mean_pr_auc = 0.6195378511249069\n",
      "Accuracy: 0.5323, ROC AUC: 0.8195, PR AUC: 0.6195, Precision: 0.5086, Recall: 0.5323, F1: 0.5202\n",
      "FCNN training...\n"
     ]
    },
    {
     "data": {
      "application/json": {
       "ascii": false,
       "bar_format": null,
       "colour": null,
       "elapsed": 0.014844179153442383,
       "initial": 0,
       "n": 0,
       "ncols": 111,
       "nrows": 30,
       "postfix": null,
       "prefix": "Validation sanity check",
       "rate": null,
       "total": null,
       "unit": "it",
       "unit_divisor": 1000,
       "unit_scale": false
      },
      "application/vnd.jupyter.widget-view+json": {
       "model_id": "0ba3386c7409447cb00f72acce5f649f",
       "version_major": 2,
       "version_minor": 0
      },
      "text/plain": [
       "Validation sanity check: 0it [00:00, ?it/s]"
      ]
     },
     "metadata": {},
     "output_type": "display_data"
    },
    {
     "name": "stdout",
     "output_type": "stream",
     "text": [
      "mean_accuracy = 0.46875\n",
      "mean_roc_auc = 0.690383281304197\n",
      "mean_pr_auc = nan\n"
     ]
    },
    {
     "data": {
      "application/json": {
       "ascii": false,
       "bar_format": null,
       "colour": null,
       "elapsed": 0.009800910949707031,
       "initial": 0,
       "n": 0,
       "ncols": 111,
       "nrows": 30,
       "postfix": null,
       "prefix": "Training",
       "rate": null,
       "total": null,
       "unit": "it",
       "unit_divisor": 1000,
       "unit_scale": false
      },
      "application/vnd.jupyter.widget-view+json": {
       "model_id": "4e8661e0f6824c40b57730aeb285cf52",
       "version_major": 2,
       "version_minor": 0
      },
      "text/plain": [
       "Training: 0it [00:00, ?it/s]"
      ]
     },
     "metadata": {},
     "output_type": "display_data"
    },
    {
     "data": {
      "application/json": {
       "ascii": false,
       "bar_format": null,
       "colour": null,
       "elapsed": 0.01500701904296875,
       "initial": 0,
       "n": 0,
       "ncols": 111,
       "nrows": 30,
       "postfix": null,
       "prefix": "Validating",
       "rate": null,
       "total": null,
       "unit": "it",
       "unit_divisor": 1000,
       "unit_scale": false
      },
      "application/vnd.jupyter.widget-view+json": {
       "model_id": "e02311f584f745d38261a3667f72b158",
       "version_major": 2,
       "version_minor": 0
      },
      "text/plain": [
       "Validating: 0it [00:00, ?it/s]"
      ]
     },
     "metadata": {},
     "output_type": "display_data"
    },
    {
     "name": "stdout",
     "output_type": "stream",
     "text": [
      "mean_accuracy = 0.5282258064516129\n",
      "mean_roc_auc = 0.9525884495317377\n",
      "mean_pr_auc = 0.8642943859905735\n"
     ]
    },
    {
     "data": {
      "application/json": {
       "ascii": false,
       "bar_format": null,
       "colour": null,
       "elapsed": 0.010928869247436523,
       "initial": 0,
       "n": 0,
       "ncols": 111,
       "nrows": 30,
       "postfix": null,
       "prefix": "Validating",
       "rate": null,
       "total": null,
       "unit": "it",
       "unit_divisor": 1000,
       "unit_scale": false
      },
      "application/vnd.jupyter.widget-view+json": {
       "model_id": "6d22672c540b4492be795ee518ad49c1",
       "version_major": 2,
       "version_minor": 0
      },
      "text/plain": [
       "Validating: 0it [00:00, ?it/s]"
      ]
     },
     "metadata": {},
     "output_type": "display_data"
    },
    {
     "name": "stderr",
     "output_type": "stream",
     "text": [
      "1it [00:00,  8.95it/s]"
     ]
    },
    {
     "name": "stdout",
     "output_type": "stream",
     "text": [
      "mean_accuracy = 0.6895161290322581\n",
      "mean_roc_auc = 0.9667013527575442\n",
      "mean_pr_auc = 0.9092862032941522\n",
      "Accuracy: 0.6895, ROC AUC: 0.9667, PR AUC: 0.9093, Precision: 0.8086, Recall: 0.6895, F1: 0.7443\n",
      "siamese randQ_randK\n"
     ]
    },
    {
     "name": "stderr",
     "output_type": "stream",
     "text": [
      "500it [00:57,  8.63it/s]\n"
     ]
    },
    {
     "name": "stdout",
     "output_type": "stream",
     "text": [
      "XGB training ...\n",
      "[17:59:58] WARNING: ../src/learner.cc:1095: Starting in XGBoost 1.3.0, the default evaluation metric used with the objective 'multi:softprob' was changed from 'merror' to 'mlogloss'. Explicitly set eval_metric if you'd like to restore the old behavior.\n"
     ]
    },
    {
     "name": "stderr",
     "output_type": "stream",
     "text": [
      "GPU available: False, used: False\n",
      "TPU available: False, using: 0 TPU cores\n",
      "\n",
      "  | Name          | Type             | Params\n",
      "---------------------------------------------------\n",
      "0 | model         | Linear           | 132   \n",
      "1 | loss_function | CrossEntropyLoss | 0     \n",
      "---------------------------------------------------\n",
      "132       Trainable params\n",
      "0         Non-trainable params\n",
      "132       Total params\n",
      "0.001     Total estimated model params size (MB)\n"
     ]
    },
    {
     "name": "stdout",
     "output_type": "stream",
     "text": [
      "1 lin.layer training...\n"
     ]
    },
    {
     "data": {
      "application/json": {
       "ascii": false,
       "bar_format": null,
       "colour": null,
       "elapsed": 0.014803886413574219,
       "initial": 0,
       "n": 0,
       "ncols": 111,
       "nrows": 30,
       "postfix": null,
       "prefix": "Validation sanity check",
       "rate": null,
       "total": null,
       "unit": "it",
       "unit_divisor": 1000,
       "unit_scale": false
      },
      "application/vnd.jupyter.widget-view+json": {
       "model_id": "b914689978674aab817cdfa90a60e427",
       "version_major": 2,
       "version_minor": 0
      },
      "text/plain": [
       "Validation sanity check: 0it [00:00, ?it/s]"
      ]
     },
     "metadata": {},
     "output_type": "display_data"
    },
    {
     "name": "stdout",
     "output_type": "stream",
     "text": [
      "mean_accuracy = 0.5\n",
      "mean_roc_auc = 0.8243583073187652\n",
      "mean_pr_auc = nan\n"
     ]
    },
    {
     "data": {
      "application/json": {
       "ascii": false,
       "bar_format": null,
       "colour": null,
       "elapsed": 0.01679229736328125,
       "initial": 0,
       "n": 0,
       "ncols": 111,
       "nrows": 30,
       "postfix": null,
       "prefix": "Training",
       "rate": null,
       "total": null,
       "unit": "it",
       "unit_divisor": 1000,
       "unit_scale": false
      },
      "application/vnd.jupyter.widget-view+json": {
       "model_id": "ab2beff5dc8d491e9d64766b0f71703d",
       "version_major": 2,
       "version_minor": 0
      },
      "text/plain": [
       "Training: 0it [00:00, ?it/s]"
      ]
     },
     "metadata": {},
     "output_type": "display_data"
    },
    {
     "data": {
      "application/json": {
       "ascii": false,
       "bar_format": null,
       "colour": null,
       "elapsed": 0.009491920471191406,
       "initial": 0,
       "n": 0,
       "ncols": 111,
       "nrows": 30,
       "postfix": null,
       "prefix": "Validating",
       "rate": null,
       "total": null,
       "unit": "it",
       "unit_divisor": 1000,
       "unit_scale": false
      },
      "application/vnd.jupyter.widget-view+json": {
       "model_id": "5fe7e8db183d4144a76193f6e8cdb3d0",
       "version_major": 2,
       "version_minor": 0
      },
      "text/plain": [
       "Validating: 0it [00:00, ?it/s]"
      ]
     },
     "metadata": {},
     "output_type": "display_data"
    },
    {
     "name": "stdout",
     "output_type": "stream",
     "text": [
      "mean_accuracy = 0.45564516129032256\n",
      "mean_roc_auc = 0.6199488380159556\n",
      "mean_pr_auc = 0.5422401410670865\n"
     ]
    },
    {
     "data": {
      "application/json": {
       "ascii": false,
       "bar_format": null,
       "colour": null,
       "elapsed": 0.017142295837402344,
       "initial": 0,
       "n": 0,
       "ncols": 111,
       "nrows": 30,
       "postfix": null,
       "prefix": "Validating",
       "rate": null,
       "total": null,
       "unit": "it",
       "unit_divisor": 1000,
       "unit_scale": false
      },
      "application/vnd.jupyter.widget-view+json": {
       "model_id": "71a2ab04a03d49cbac8e98be2707ba74",
       "version_major": 2,
       "version_minor": 0
      },
      "text/plain": [
       "Validating: 0it [00:00, ?it/s]"
      ]
     },
     "metadata": {},
     "output_type": "display_data"
    },
    {
     "name": "stderr",
     "output_type": "stream",
     "text": [
      "GPU available: False, used: False\n",
      "TPU available: False, using: 0 TPU cores\n",
      "\n",
      "  | Name          | Type             | Params\n",
      "---------------------------------------------------\n",
      "0 | model         | Sequential       | 10.9 K\n",
      "1 | loss_function | CrossEntropyLoss | 0     \n",
      "---------------------------------------------------\n",
      "10.9 K    Trainable params\n",
      "0         Non-trainable params\n",
      "10.9 K    Total params\n",
      "0.044     Total estimated model params size (MB)\n"
     ]
    },
    {
     "name": "stdout",
     "output_type": "stream",
     "text": [
      "mean_accuracy = 0.4879032258064516\n",
      "mean_roc_auc = 0.6249349635796045\n",
      "mean_pr_auc = 0.5541744438005675\n",
      "Accuracy: 0.4879, ROC AUC: 0.6249, PR AUC: 0.5542, Precision: 0.2469, Recall: 0.4879, F1: 0.3279\n",
      "FCNN training...\n"
     ]
    },
    {
     "data": {
      "application/json": {
       "ascii": false,
       "bar_format": null,
       "colour": null,
       "elapsed": 0.010287761688232422,
       "initial": 0,
       "n": 0,
       "ncols": 111,
       "nrows": 30,
       "postfix": null,
       "prefix": "Validation sanity check",
       "rate": null,
       "total": null,
       "unit": "it",
       "unit_divisor": 1000,
       "unit_scale": false
      },
      "application/vnd.jupyter.widget-view+json": {
       "model_id": "1f47226b78a347519ad8cfc9c983a2cf",
       "version_major": 2,
       "version_minor": 0
      },
      "text/plain": [
       "Validation sanity check: 0it [00:00, ?it/s]"
      ]
     },
     "metadata": {},
     "output_type": "display_data"
    },
    {
     "name": "stdout",
     "output_type": "stream",
     "text": [
      "mean_accuracy = 0.0\n",
      "mean_roc_auc = 0.4176422129725979\n",
      "mean_pr_auc = nan\n"
     ]
    },
    {
     "data": {
      "application/json": {
       "ascii": false,
       "bar_format": null,
       "colour": null,
       "elapsed": 0.014206647872924805,
       "initial": 0,
       "n": 0,
       "ncols": 111,
       "nrows": 30,
       "postfix": null,
       "prefix": "Training",
       "rate": null,
       "total": null,
       "unit": "it",
       "unit_divisor": 1000,
       "unit_scale": false
      },
      "application/vnd.jupyter.widget-view+json": {
       "model_id": "28b9b22d2e254867bbdd421653dabfe5",
       "version_major": 2,
       "version_minor": 0
      },
      "text/plain": [
       "Training: 0it [00:00, ?it/s]"
      ]
     },
     "metadata": {},
     "output_type": "display_data"
    },
    {
     "data": {
      "application/json": {
       "ascii": false,
       "bar_format": null,
       "colour": null,
       "elapsed": 0.009937286376953125,
       "initial": 0,
       "n": 0,
       "ncols": 111,
       "nrows": 30,
       "postfix": null,
       "prefix": "Validating",
       "rate": null,
       "total": null,
       "unit": "it",
       "unit_divisor": 1000,
       "unit_scale": false
      },
      "application/vnd.jupyter.widget-view+json": {
       "model_id": "3d094660022d44dd8b687fbe99ee600f",
       "version_major": 2,
       "version_minor": 0
      },
      "text/plain": [
       "Validating: 0it [00:00, ?it/s]"
      ]
     },
     "metadata": {},
     "output_type": "display_data"
    },
    {
     "name": "stdout",
     "output_type": "stream",
     "text": [
      "mean_accuracy = 0.7540322580645161\n",
      "mean_roc_auc = 0.999913284772806\n",
      "mean_pr_auc = 0.9997556207233627\n"
     ]
    },
    {
     "data": {
      "application/json": {
       "ascii": false,
       "bar_format": null,
       "colour": null,
       "elapsed": 0.009852409362792969,
       "initial": 0,
       "n": 0,
       "ncols": 111,
       "nrows": 30,
       "postfix": null,
       "prefix": "Validating",
       "rate": null,
       "total": null,
       "unit": "it",
       "unit_divisor": 1000,
       "unit_scale": false
      },
      "application/vnd.jupyter.widget-view+json": {
       "model_id": "c1ac1f3490c24797b8e8580907c7c018",
       "version_major": 2,
       "version_minor": 0
      },
      "text/plain": [
       "Validating: 0it [00:00, ?it/s]"
      ]
     },
     "metadata": {},
     "output_type": "display_data"
    },
    {
     "name": "stderr",
     "output_type": "stream",
     "text": [
      "0it [00:00, ?it/s]"
     ]
    },
    {
     "name": "stdout",
     "output_type": "stream",
     "text": [
      "mean_accuracy = 1.0\n",
      "mean_roc_auc = 0.9997615331252168\n",
      "mean_pr_auc = 0.9993577296844303\n",
      "Accuracy: 1.0, ROC AUC: 0.9998, PR AUC: 0.9994, Precision: 1.0, Recall: 1.0, F1: 1.0\n",
      "triplet None\n"
     ]
    },
    {
     "name": "stderr",
     "output_type": "stream",
     "text": [
      "500it [00:57,  8.72it/s]\n"
     ]
    },
    {
     "name": "stdout",
     "output_type": "stream",
     "text": [
      "XGB training ...\n",
      "[18:01:05] WARNING: ../src/learner.cc:1095: Starting in XGBoost 1.3.0, the default evaluation metric used with the objective 'multi:softprob' was changed from 'merror' to 'mlogloss'. Explicitly set eval_metric if you'd like to restore the old behavior.\n"
     ]
    },
    {
     "name": "stderr",
     "output_type": "stream",
     "text": [
      "GPU available: False, used: False\n",
      "TPU available: False, using: 0 TPU cores\n",
      "\n",
      "  | Name          | Type             | Params\n",
      "---------------------------------------------------\n",
      "0 | model         | Linear           | 260   \n",
      "1 | loss_function | CrossEntropyLoss | 0     \n",
      "---------------------------------------------------\n",
      "260       Trainable params\n",
      "0         Non-trainable params\n",
      "260       Total params\n",
      "0.001     Total estimated model params size (MB)\n"
     ]
    },
    {
     "name": "stdout",
     "output_type": "stream",
     "text": [
      "1 lin.layer training...\n"
     ]
    },
    {
     "data": {
      "application/json": {
       "ascii": false,
       "bar_format": null,
       "colour": null,
       "elapsed": 0.009499073028564453,
       "initial": 0,
       "n": 0,
       "ncols": 111,
       "nrows": 30,
       "postfix": null,
       "prefix": "Validation sanity check",
       "rate": null,
       "total": null,
       "unit": "it",
       "unit_divisor": 1000,
       "unit_scale": false
      },
      "application/vnd.jupyter.widget-view+json": {
       "model_id": "350f806f6f05416099da0ca502cbfc97",
       "version_major": 2,
       "version_minor": 0
      },
      "text/plain": [
       "Validation sanity check: 0it [00:00, ?it/s]"
      ]
     },
     "metadata": {},
     "output_type": "display_data"
    },
    {
     "name": "stdout",
     "output_type": "stream",
     "text": [
      "mean_accuracy = 0.09375\n",
      "mean_roc_auc = 0.022177419354838707\n",
      "mean_pr_auc = nan\n"
     ]
    },
    {
     "data": {
      "application/json": {
       "ascii": false,
       "bar_format": null,
       "colour": null,
       "elapsed": 0.009537696838378906,
       "initial": 0,
       "n": 0,
       "ncols": 111,
       "nrows": 30,
       "postfix": null,
       "prefix": "Training",
       "rate": null,
       "total": null,
       "unit": "it",
       "unit_divisor": 1000,
       "unit_scale": false
      },
      "application/vnd.jupyter.widget-view+json": {
       "model_id": "38befa18786d404aa47b8ca9737bef64",
       "version_major": 2,
       "version_minor": 0
      },
      "text/plain": [
       "Training: 0it [00:00, ?it/s]"
      ]
     },
     "metadata": {},
     "output_type": "display_data"
    },
    {
     "data": {
      "application/json": {
       "ascii": false,
       "bar_format": null,
       "colour": null,
       "elapsed": 0.012208223342895508,
       "initial": 0,
       "n": 0,
       "ncols": 111,
       "nrows": 30,
       "postfix": null,
       "prefix": "Validating",
       "rate": null,
       "total": null,
       "unit": "it",
       "unit_divisor": 1000,
       "unit_scale": false
      },
      "application/vnd.jupyter.widget-view+json": {
       "model_id": "9cc2470c57f844418daf4ca79baf164d",
       "version_major": 2,
       "version_minor": 0
      },
      "text/plain": [
       "Validating: 0it [00:00, ?it/s]"
      ]
     },
     "metadata": {},
     "output_type": "display_data"
    },
    {
     "name": "stdout",
     "output_type": "stream",
     "text": [
      "mean_accuracy = 0.012096774193548387\n",
      "mean_roc_auc = 0.347316163718349\n",
      "mean_pr_auc = 0.28456916152808176\n"
     ]
    },
    {
     "data": {
      "application/json": {
       "ascii": false,
       "bar_format": null,
       "colour": null,
       "elapsed": 0.010220527648925781,
       "initial": 0,
       "n": 0,
       "ncols": 111,
       "nrows": 30,
       "postfix": null,
       "prefix": "Validating",
       "rate": null,
       "total": null,
       "unit": "it",
       "unit_divisor": 1000,
       "unit_scale": false
      },
      "application/vnd.jupyter.widget-view+json": {
       "model_id": "233fb86a31b649aaa75fdeb3e700dc7f",
       "version_major": 2,
       "version_minor": 0
      },
      "text/plain": [
       "Validating: 0it [00:00, ?it/s]"
      ]
     },
     "metadata": {},
     "output_type": "display_data"
    },
    {
     "name": "stderr",
     "output_type": "stream",
     "text": [
      "GPU available: False, used: False\n",
      "TPU available: False, using: 0 TPU cores\n",
      "\n",
      "  | Name          | Type             | Params\n",
      "---------------------------------------------------\n",
      "0 | model         | Sequential       | 13.0 K\n",
      "1 | loss_function | CrossEntropyLoss | 0     \n",
      "---------------------------------------------------\n",
      "13.0 K    Trainable params\n",
      "0         Non-trainable params\n",
      "13.0 K    Total params\n",
      "0.052     Total estimated model params size (MB)\n"
     ]
    },
    {
     "name": "stdout",
     "output_type": "stream",
     "text": [
      "mean_accuracy = 0.0\n",
      "mean_roc_auc = 0.4657691640652099\n",
      "mean_pr_auc = 0.31883100441657397\n",
      "Accuracy: 0.0, ROC AUC: 0.4658, PR AUC: 0.3191, Precision: 0.0, Recall: 0.0, F1: nan\n",
      "FCNN training...\n"
     ]
    },
    {
     "data": {
      "application/json": {
       "ascii": false,
       "bar_format": null,
       "colour": null,
       "elapsed": 0.01056671142578125,
       "initial": 0,
       "n": 0,
       "ncols": 111,
       "nrows": 30,
       "postfix": null,
       "prefix": "Validation sanity check",
       "rate": null,
       "total": null,
       "unit": "it",
       "unit_divisor": 1000,
       "unit_scale": false
      },
      "application/vnd.jupyter.widget-view+json": {
       "model_id": "9694b5f785024d9083d48755b87943e4",
       "version_major": 2,
       "version_minor": 0
      },
      "text/plain": [
       "Validation sanity check: 0it [00:00, ?it/s]"
      ]
     },
     "metadata": {},
     "output_type": "display_data"
    },
    {
     "name": "stdout",
     "output_type": "stream",
     "text": [
      "mean_accuracy = 0.0\n",
      "mean_roc_auc = 0.4120924384321887\n",
      "mean_pr_auc = nan\n"
     ]
    },
    {
     "data": {
      "application/json": {
       "ascii": false,
       "bar_format": null,
       "colour": null,
       "elapsed": 0.009989500045776367,
       "initial": 0,
       "n": 0,
       "ncols": 111,
       "nrows": 30,
       "postfix": null,
       "prefix": "Training",
       "rate": null,
       "total": null,
       "unit": "it",
       "unit_divisor": 1000,
       "unit_scale": false
      },
      "application/vnd.jupyter.widget-view+json": {
       "model_id": "e6426c6eb2ca4f0f8ec82b741a7d43c3",
       "version_major": 2,
       "version_minor": 0
      },
      "text/plain": [
       "Training: 0it [00:00, ?it/s]"
      ]
     },
     "metadata": {},
     "output_type": "display_data"
    },
    {
     "data": {
      "application/json": {
       "ascii": false,
       "bar_format": null,
       "colour": null,
       "elapsed": 0.009907960891723633,
       "initial": 0,
       "n": 0,
       "ncols": 111,
       "nrows": 30,
       "postfix": null,
       "prefix": "Validating",
       "rate": null,
       "total": null,
       "unit": "it",
       "unit_divisor": 1000,
       "unit_scale": false
      },
      "application/vnd.jupyter.widget-view+json": {
       "model_id": "29a84d60a30c438999d2febeae9ade9b",
       "version_major": 2,
       "version_minor": 0
      },
      "text/plain": [
       "Validating: 0it [00:00, ?it/s]"
      ]
     },
     "metadata": {},
     "output_type": "display_data"
    },
    {
     "name": "stdout",
     "output_type": "stream",
     "text": [
      "mean_accuracy = 0.5282258064516129\n",
      "mean_roc_auc = 0.9144120707596253\n",
      "mean_pr_auc = 0.7867176965050171\n"
     ]
    },
    {
     "data": {
      "application/json": {
       "ascii": false,
       "bar_format": null,
       "colour": null,
       "elapsed": 0.010077238082885742,
       "initial": 0,
       "n": 0,
       "ncols": 111,
       "nrows": 30,
       "postfix": null,
       "prefix": "Validating",
       "rate": null,
       "total": null,
       "unit": "it",
       "unit_divisor": 1000,
       "unit_scale": false
      },
      "application/vnd.jupyter.widget-view+json": {
       "model_id": "3d498bac7c7140adb87fb145b988446a",
       "version_major": 2,
       "version_minor": 0
      },
      "text/plain": [
       "Validating: 0it [00:00, ?it/s]"
      ]
     },
     "metadata": {},
     "output_type": "display_data"
    },
    {
     "name": "stderr",
     "output_type": "stream",
     "text": [
      "0it [00:00, ?it/s]"
     ]
    },
    {
     "name": "stdout",
     "output_type": "stream",
     "text": [
      "mean_accuracy = 0.6532258064516129\n",
      "mean_roc_auc = 0.9587885882761013\n",
      "mean_pr_auc = 0.9134444456986202\n",
      "Accuracy: 0.6532, ROC AUC: 0.9588, PR AUC: 0.9134, Precision: 0.5552, Recall: 0.6532, F1: 0.6003\n",
      "triplet topQ\n"
     ]
    },
    {
     "name": "stderr",
     "output_type": "stream",
     "text": [
      "500it [01:55,  4.31it/s]\n"
     ]
    },
    {
     "name": "stdout",
     "output_type": "stream",
     "text": [
      "XGB training ...\n",
      "[18:03:12] WARNING: ../src/learner.cc:1095: Starting in XGBoost 1.3.0, the default evaluation metric used with the objective 'multi:softprob' was changed from 'merror' to 'mlogloss'. Explicitly set eval_metric if you'd like to restore the old behavior.\n"
     ]
    },
    {
     "name": "stderr",
     "output_type": "stream",
     "text": [
      "GPU available: False, used: False\n",
      "TPU available: False, using: 0 TPU cores\n",
      "\n",
      "  | Name          | Type             | Params\n",
      "---------------------------------------------------\n",
      "0 | model         | Linear           | 260   \n",
      "1 | loss_function | CrossEntropyLoss | 0     \n",
      "---------------------------------------------------\n",
      "260       Trainable params\n",
      "0         Non-trainable params\n",
      "260       Total params\n",
      "0.001     Total estimated model params size (MB)\n"
     ]
    },
    {
     "name": "stdout",
     "output_type": "stream",
     "text": [
      "1 lin.layer training...\n"
     ]
    },
    {
     "data": {
      "application/json": {
       "ascii": false,
       "bar_format": null,
       "colour": null,
       "elapsed": 0.01379704475402832,
       "initial": 0,
       "n": 0,
       "ncols": 111,
       "nrows": 30,
       "postfix": null,
       "prefix": "Validation sanity check",
       "rate": null,
       "total": null,
       "unit": "it",
       "unit_divisor": 1000,
       "unit_scale": false
      },
      "application/vnd.jupyter.widget-view+json": {
       "model_id": "e929969036974773a0aa139e75a00075",
       "version_major": 2,
       "version_minor": 0
      },
      "text/plain": [
       "Validation sanity check: 0it [00:00, ?it/s]"
      ]
     },
     "metadata": {},
     "output_type": "display_data"
    },
    {
     "name": "stdout",
     "output_type": "stream",
     "text": [
      "mean_accuracy = 0.5\n",
      "mean_roc_auc = 0.3827393340270551\n",
      "mean_pr_auc = nan\n"
     ]
    },
    {
     "data": {
      "application/json": {
       "ascii": false,
       "bar_format": null,
       "colour": null,
       "elapsed": 0.013818502426147461,
       "initial": 0,
       "n": 0,
       "ncols": 111,
       "nrows": 30,
       "postfix": null,
       "prefix": "Training",
       "rate": null,
       "total": null,
       "unit": "it",
       "unit_divisor": 1000,
       "unit_scale": false
      },
      "application/vnd.jupyter.widget-view+json": {
       "model_id": "eef0e53aa79a4d9e9ef5944511761d2e",
       "version_major": 2,
       "version_minor": 0
      },
      "text/plain": [
       "Training: 0it [00:00, ?it/s]"
      ]
     },
     "metadata": {},
     "output_type": "display_data"
    },
    {
     "data": {
      "application/json": {
       "ascii": false,
       "bar_format": null,
       "colour": null,
       "elapsed": 0.010468721389770508,
       "initial": 0,
       "n": 0,
       "ncols": 111,
       "nrows": 30,
       "postfix": null,
       "prefix": "Validating",
       "rate": null,
       "total": null,
       "unit": "it",
       "unit_divisor": 1000,
       "unit_scale": false
      },
      "application/vnd.jupyter.widget-view+json": {
       "model_id": "60de2cff274042829a2416c075882b45",
       "version_major": 2,
       "version_minor": 0
      },
      "text/plain": [
       "Validating: 0it [00:00, ?it/s]"
      ]
     },
     "metadata": {},
     "output_type": "display_data"
    },
    {
     "name": "stdout",
     "output_type": "stream",
     "text": [
      "mean_accuracy = 0.31048387096774194\n",
      "mean_roc_auc = 0.5398673257023933\n",
      "mean_pr_auc = 0.3857771504115667\n"
     ]
    },
    {
     "data": {
      "application/json": {
       "ascii": false,
       "bar_format": null,
       "colour": null,
       "elapsed": 0.010722875595092773,
       "initial": 0,
       "n": 0,
       "ncols": 111,
       "nrows": 30,
       "postfix": null,
       "prefix": "Validating",
       "rate": null,
       "total": null,
       "unit": "it",
       "unit_divisor": 1000,
       "unit_scale": false
      },
      "application/vnd.jupyter.widget-view+json": {
       "model_id": "83bdfb92ed424f6da7180ac594b1accd",
       "version_major": 2,
       "version_minor": 0
      },
      "text/plain": [
       "Validating: 0it [00:00, ?it/s]"
      ]
     },
     "metadata": {},
     "output_type": "display_data"
    },
    {
     "name": "stderr",
     "output_type": "stream",
     "text": [
      "GPU available: False, used: False\n",
      "TPU available: False, using: 0 TPU cores\n",
      "\n",
      "  | Name          | Type             | Params\n",
      "---------------------------------------------------\n",
      "0 | model         | Sequential       | 13.0 K\n",
      "1 | loss_function | CrossEntropyLoss | 0     \n",
      "---------------------------------------------------\n",
      "13.0 K    Trainable params\n",
      "0         Non-trainable params\n",
      "13.0 K    Total params\n",
      "0.052     Total estimated model params size (MB)\n"
     ]
    },
    {
     "name": "stdout",
     "output_type": "stream",
     "text": [
      "mean_accuracy = 0.3346774193548387\n",
      "mean_roc_auc = 0.639459764134582\n",
      "mean_pr_auc = 0.43290999312554523\n",
      "Accuracy: 0.3347, ROC AUC: 0.6395, PR AUC: 0.4329, Precision: 0.2051, Recall: 0.3347, F1: 0.2543\n",
      "FCNN training...\n"
     ]
    },
    {
     "data": {
      "application/json": {
       "ascii": false,
       "bar_format": null,
       "colour": null,
       "elapsed": 0.00879049301147461,
       "initial": 0,
       "n": 0,
       "ncols": 111,
       "nrows": 30,
       "postfix": null,
       "prefix": "Validation sanity check",
       "rate": null,
       "total": null,
       "unit": "it",
       "unit_divisor": 1000,
       "unit_scale": false
      },
      "application/vnd.jupyter.widget-view+json": {
       "model_id": "b372e641b6f84d3a8889b6d73e1c1d90",
       "version_major": 2,
       "version_minor": 0
      },
      "text/plain": [
       "Validation sanity check: 0it [00:00, ?it/s]"
      ]
     },
     "metadata": {},
     "output_type": "display_data"
    },
    {
     "name": "stdout",
     "output_type": "stream",
     "text": [
      "mean_accuracy = 0.03125\n",
      "mean_roc_auc = 0.7140131807145336\n",
      "mean_pr_auc = nan\n"
     ]
    },
    {
     "data": {
      "application/json": {
       "ascii": false,
       "bar_format": null,
       "colour": null,
       "elapsed": 0.009984970092773438,
       "initial": 0,
       "n": 0,
       "ncols": 111,
       "nrows": 30,
       "postfix": null,
       "prefix": "Training",
       "rate": null,
       "total": null,
       "unit": "it",
       "unit_divisor": 1000,
       "unit_scale": false
      },
      "application/vnd.jupyter.widget-view+json": {
       "model_id": "773c0f01cc854a859dc1a137cebb86d3",
       "version_major": 2,
       "version_minor": 0
      },
      "text/plain": [
       "Training: 0it [00:00, ?it/s]"
      ]
     },
     "metadata": {},
     "output_type": "display_data"
    },
    {
     "data": {
      "application/json": {
       "ascii": false,
       "bar_format": null,
       "colour": null,
       "elapsed": 0.01068878173828125,
       "initial": 0,
       "n": 0,
       "ncols": 111,
       "nrows": 30,
       "postfix": null,
       "prefix": "Validating",
       "rate": null,
       "total": null,
       "unit": "it",
       "unit_divisor": 1000,
       "unit_scale": false
      },
      "application/vnd.jupyter.widget-view+json": {
       "model_id": "4f619d6c80bf42859dd3be2098a162c5",
       "version_major": 2,
       "version_minor": 0
      },
      "text/plain": [
       "Validating: 0it [00:00, ?it/s]"
      ]
     },
     "metadata": {},
     "output_type": "display_data"
    },
    {
     "name": "stdout",
     "output_type": "stream",
     "text": [
      "mean_accuracy = 0.8145161290322581\n",
      "mean_roc_auc = 0.9988943808532779\n",
      "mean_pr_auc = 0.9966877289333665\n"
     ]
    },
    {
     "data": {
      "application/json": {
       "ascii": false,
       "bar_format": null,
       "colour": null,
       "elapsed": 0.009788990020751953,
       "initial": 0,
       "n": 0,
       "ncols": 111,
       "nrows": 30,
       "postfix": null,
       "prefix": "Validating",
       "rate": null,
       "total": null,
       "unit": "it",
       "unit_divisor": 1000,
       "unit_scale": false
      },
      "application/vnd.jupyter.widget-view+json": {
       "model_id": "f8742190083b4a778be4aafa87c67d0c",
       "version_major": 2,
       "version_minor": 0
      },
      "text/plain": [
       "Validating: 0it [00:00, ?it/s]"
      ]
     },
     "metadata": {},
     "output_type": "display_data"
    },
    {
     "name": "stderr",
     "output_type": "stream",
     "text": [
      "0it [00:00, ?it/s]"
     ]
    },
    {
     "name": "stdout",
     "output_type": "stream",
     "text": [
      "mean_accuracy = 0.9919354838709677\n",
      "mean_roc_auc = 1.0\n",
      "mean_pr_auc = 1.0\n",
      "Accuracy: 0.9919, ROC AUC: 1.0, PR AUC: 1.0, Precision: 0.9922, Recall: 0.9919, F1: 0.9921\n",
      "triplet randQ\n"
     ]
    },
    {
     "name": "stderr",
     "output_type": "stream",
     "text": [
      "500it [00:44, 11.36it/s]\n"
     ]
    },
    {
     "name": "stdout",
     "output_type": "stream",
     "text": [
      "XGB training ...\n",
      "[18:04:09] WARNING: ../src/learner.cc:1095: Starting in XGBoost 1.3.0, the default evaluation metric used with the objective 'multi:softprob' was changed from 'merror' to 'mlogloss'. Explicitly set eval_metric if you'd like to restore the old behavior.\n"
     ]
    },
    {
     "name": "stderr",
     "output_type": "stream",
     "text": [
      "GPU available: False, used: False\n",
      "TPU available: False, using: 0 TPU cores\n",
      "\n",
      "  | Name          | Type             | Params\n",
      "---------------------------------------------------\n",
      "0 | model         | Linear           | 260   \n",
      "1 | loss_function | CrossEntropyLoss | 0     \n",
      "---------------------------------------------------\n",
      "260       Trainable params\n",
      "0         Non-trainable params\n",
      "260       Total params\n",
      "0.001     Total estimated model params size (MB)\n"
     ]
    },
    {
     "name": "stdout",
     "output_type": "stream",
     "text": [
      "1 lin.layer training...\n"
     ]
    },
    {
     "data": {
      "application/json": {
       "ascii": false,
       "bar_format": null,
       "colour": null,
       "elapsed": 0.010499954223632812,
       "initial": 0,
       "n": 0,
       "ncols": 111,
       "nrows": 30,
       "postfix": null,
       "prefix": "Validation sanity check",
       "rate": null,
       "total": null,
       "unit": "it",
       "unit_divisor": 1000,
       "unit_scale": false
      },
      "application/vnd.jupyter.widget-view+json": {
       "model_id": "240748fbe07b4b56811c7510d5c536b5",
       "version_major": 2,
       "version_minor": 0
      },
      "text/plain": [
       "Validation sanity check: 0it [00:00, ?it/s]"
      ]
     },
     "metadata": {},
     "output_type": "display_data"
    },
    {
     "name": "stdout",
     "output_type": "stream",
     "text": [
      "mean_accuracy = 0.4609375\n",
      "mean_roc_auc = 0.396505376344086\n",
      "mean_pr_auc = nan\n"
     ]
    },
    {
     "data": {
      "application/json": {
       "ascii": false,
       "bar_format": null,
       "colour": null,
       "elapsed": 0.008987665176391602,
       "initial": 0,
       "n": 0,
       "ncols": 111,
       "nrows": 30,
       "postfix": null,
       "prefix": "Training",
       "rate": null,
       "total": null,
       "unit": "it",
       "unit_divisor": 1000,
       "unit_scale": false
      },
      "application/vnd.jupyter.widget-view+json": {
       "model_id": "d1ae6c8f192c496b98858616652528b7",
       "version_major": 2,
       "version_minor": 0
      },
      "text/plain": [
       "Training: 0it [00:00, ?it/s]"
      ]
     },
     "metadata": {},
     "output_type": "display_data"
    },
    {
     "data": {
      "application/json": {
       "ascii": false,
       "bar_format": null,
       "colour": null,
       "elapsed": 0.020810365676879883,
       "initial": 0,
       "n": 0,
       "ncols": 111,
       "nrows": 30,
       "postfix": null,
       "prefix": "Validating",
       "rate": null,
       "total": null,
       "unit": "it",
       "unit_divisor": 1000,
       "unit_scale": false
      },
      "application/vnd.jupyter.widget-view+json": {
       "model_id": "e23b22d5a4b1413e9286621df0150e95",
       "version_major": 2,
       "version_minor": 0
      },
      "text/plain": [
       "Validating: 0it [00:00, ?it/s]"
      ]
     },
     "metadata": {},
     "output_type": "display_data"
    },
    {
     "name": "stdout",
     "output_type": "stream",
     "text": [
      "mean_accuracy = 0.4112903225806452\n",
      "mean_roc_auc = 0.5293314255983351\n",
      "mean_pr_auc = 0.332159360451923\n"
     ]
    },
    {
     "data": {
      "application/json": {
       "ascii": false,
       "bar_format": null,
       "colour": null,
       "elapsed": 0.010776281356811523,
       "initial": 0,
       "n": 0,
       "ncols": 111,
       "nrows": 30,
       "postfix": null,
       "prefix": "Validating",
       "rate": null,
       "total": null,
       "unit": "it",
       "unit_divisor": 1000,
       "unit_scale": false
      },
      "application/vnd.jupyter.widget-view+json": {
       "model_id": "d771160a205b454d90fcd734f04f6475",
       "version_major": 2,
       "version_minor": 0
      },
      "text/plain": [
       "Validating: 0it [00:00, ?it/s]"
      ]
     },
     "metadata": {},
     "output_type": "display_data"
    },
    {
     "name": "stderr",
     "output_type": "stream",
     "text": [
      "GPU available: False, used: False\n",
      "TPU available: False, using: 0 TPU cores\n",
      "\n",
      "  | Name          | Type             | Params\n",
      "---------------------------------------------------\n",
      "0 | model         | Sequential       | 13.0 K\n",
      "1 | loss_function | CrossEntropyLoss | 0     \n",
      "---------------------------------------------------\n",
      "13.0 K    Trainable params\n",
      "0         Non-trainable params\n",
      "13.0 K    Total params\n",
      "0.052     Total estimated model params size (MB)\n"
     ]
    },
    {
     "name": "stdout",
     "output_type": "stream",
     "text": [
      "mean_accuracy = 0.45161290322580644\n",
      "mean_roc_auc = 0.5768080124869926\n",
      "mean_pr_auc = 0.3999140211467379\n",
      "Accuracy: 0.4516, ROC AUC: 0.5768, PR AUC: 0.3999, Precision: 0.2338, Recall: 0.4516, F1: 0.3081\n",
      "FCNN training...\n"
     ]
    },
    {
     "data": {
      "application/json": {
       "ascii": false,
       "bar_format": null,
       "colour": null,
       "elapsed": 0.01513528823852539,
       "initial": 0,
       "n": 0,
       "ncols": 111,
       "nrows": 30,
       "postfix": null,
       "prefix": "Validation sanity check",
       "rate": null,
       "total": null,
       "unit": "it",
       "unit_divisor": 1000,
       "unit_scale": false
      },
      "application/vnd.jupyter.widget-view+json": {
       "model_id": "c510f99963cb4ccd855bbcf0f8af4249",
       "version_major": 2,
       "version_minor": 0
      },
      "text/plain": [
       "Validation sanity check: 0it [00:00, ?it/s]"
      ]
     },
     "metadata": {},
     "output_type": "display_data"
    },
    {
     "name": "stdout",
     "output_type": "stream",
     "text": [
      "mean_accuracy = 0.484375\n",
      "mean_roc_auc = 0.8765391952826916\n",
      "mean_pr_auc = nan\n"
     ]
    },
    {
     "data": {
      "application/json": {
       "ascii": false,
       "bar_format": null,
       "colour": null,
       "elapsed": 0.010147571563720703,
       "initial": 0,
       "n": 0,
       "ncols": 111,
       "nrows": 30,
       "postfix": null,
       "prefix": "Training",
       "rate": null,
       "total": null,
       "unit": "it",
       "unit_divisor": 1000,
       "unit_scale": false
      },
      "application/vnd.jupyter.widget-view+json": {
       "model_id": "176f8497f5f54b6b83a4dd37653e8294",
       "version_major": 2,
       "version_minor": 0
      },
      "text/plain": [
       "Training: 0it [00:00, ?it/s]"
      ]
     },
     "metadata": {},
     "output_type": "display_data"
    },
    {
     "data": {
      "application/json": {
       "ascii": false,
       "bar_format": null,
       "colour": null,
       "elapsed": 0.010264158248901367,
       "initial": 0,
       "n": 0,
       "ncols": 111,
       "nrows": 30,
       "postfix": null,
       "prefix": "Validating",
       "rate": null,
       "total": null,
       "unit": "it",
       "unit_divisor": 1000,
       "unit_scale": false
      },
      "application/vnd.jupyter.widget-view+json": {
       "model_id": "2b96b26148fb4545897bce8edd419b3d",
       "version_major": 2,
       "version_minor": 0
      },
      "text/plain": [
       "Validating: 0it [00:00, ?it/s]"
      ]
     },
     "metadata": {},
     "output_type": "display_data"
    },
    {
     "name": "stdout",
     "output_type": "stream",
     "text": [
      "mean_accuracy = 0.7258064516129032\n",
      "mean_roc_auc = 0.9576612903225808\n",
      "mean_pr_auc = 0.8864110429928431\n"
     ]
    },
    {
     "data": {
      "application/json": {
       "ascii": false,
       "bar_format": null,
       "colour": null,
       "elapsed": 0.010039567947387695,
       "initial": 0,
       "n": 0,
       "ncols": 111,
       "nrows": 30,
       "postfix": null,
       "prefix": "Validating",
       "rate": null,
       "total": null,
       "unit": "it",
       "unit_divisor": 1000,
       "unit_scale": false
      },
      "application/vnd.jupyter.widget-view+json": {
       "model_id": "1a898c980f954ada8759717d1022ba66",
       "version_major": 2,
       "version_minor": 0
      },
      "text/plain": [
       "Validating: 0it [00:00, ?it/s]"
      ]
     },
     "metadata": {},
     "output_type": "display_data"
    },
    {
     "name": "stderr",
     "output_type": "stream",
     "text": [
      "0it [00:00, ?it/s]"
     ]
    },
    {
     "name": "stdout",
     "output_type": "stream",
     "text": [
      "mean_accuracy = 0.8266129032258065\n",
      "mean_roc_auc = 0.9999349635796045\n",
      "mean_pr_auc = 0.9998048568921208\n",
      "Accuracy: 0.8266, ROC AUC: 0.9999, PR AUC: 0.9998, Precision: 0.8976, Recall: 0.8266, F1: 0.8607\n",
      "triplet topK\n"
     ]
    },
    {
     "name": "stderr",
     "output_type": "stream",
     "text": [
      "500it [02:24,  3.47it/s]\n"
     ]
    },
    {
     "name": "stdout",
     "output_type": "stream",
     "text": [
      "XGB training ...\n",
      "[18:06:45] WARNING: ../src/learner.cc:1095: Starting in XGBoost 1.3.0, the default evaluation metric used with the objective 'multi:softprob' was changed from 'merror' to 'mlogloss'. Explicitly set eval_metric if you'd like to restore the old behavior.\n"
     ]
    },
    {
     "name": "stderr",
     "output_type": "stream",
     "text": [
      "GPU available: False, used: False\n",
      "TPU available: False, using: 0 TPU cores\n",
      "\n",
      "  | Name          | Type             | Params\n",
      "---------------------------------------------------\n",
      "0 | model         | Linear           | 260   \n",
      "1 | loss_function | CrossEntropyLoss | 0     \n",
      "---------------------------------------------------\n",
      "260       Trainable params\n",
      "0         Non-trainable params\n",
      "260       Total params\n",
      "0.001     Total estimated model params size (MB)\n"
     ]
    },
    {
     "name": "stdout",
     "output_type": "stream",
     "text": [
      "1 lin.layer training...\n"
     ]
    },
    {
     "data": {
      "application/json": {
       "ascii": false,
       "bar_format": null,
       "colour": null,
       "elapsed": 0.0086517333984375,
       "initial": 0,
       "n": 0,
       "ncols": 111,
       "nrows": 30,
       "postfix": null,
       "prefix": "Validation sanity check",
       "rate": null,
       "total": null,
       "unit": "it",
       "unit_divisor": 1000,
       "unit_scale": false
      },
      "application/vnd.jupyter.widget-view+json": {
       "model_id": "652e87d3a2e14f95b8f0d42abf58941b",
       "version_major": 2,
       "version_minor": 0
      },
      "text/plain": [
       "Validation sanity check: 0it [00:00, ?it/s]"
      ]
     },
     "metadata": {},
     "output_type": "display_data"
    },
    {
     "name": "stdout",
     "output_type": "stream",
     "text": [
      "mean_accuracy = 0.03125\n",
      "mean_roc_auc = 0.0493409642733264\n",
      "mean_pr_auc = nan\n"
     ]
    },
    {
     "data": {
      "application/json": {
       "ascii": false,
       "bar_format": null,
       "colour": null,
       "elapsed": 0.010728120803833008,
       "initial": 0,
       "n": 0,
       "ncols": 111,
       "nrows": 30,
       "postfix": null,
       "prefix": "Training",
       "rate": null,
       "total": null,
       "unit": "it",
       "unit_divisor": 1000,
       "unit_scale": false
      },
      "application/vnd.jupyter.widget-view+json": {
       "model_id": "4ab6f0557cc845c29e53f219c6b99035",
       "version_major": 2,
       "version_minor": 0
      },
      "text/plain": [
       "Training: 0it [00:00, ?it/s]"
      ]
     },
     "metadata": {},
     "output_type": "display_data"
    },
    {
     "data": {
      "application/json": {
       "ascii": false,
       "bar_format": null,
       "colour": null,
       "elapsed": 0.011082887649536133,
       "initial": 0,
       "n": 0,
       "ncols": 111,
       "nrows": 30,
       "postfix": null,
       "prefix": "Validating",
       "rate": null,
       "total": null,
       "unit": "it",
       "unit_divisor": 1000,
       "unit_scale": false
      },
      "application/vnd.jupyter.widget-view+json": {
       "model_id": "786c707dd70a4d4998f1057d44e9f738",
       "version_major": 2,
       "version_minor": 0
      },
      "text/plain": [
       "Validating: 0it [00:00, ?it/s]"
      ]
     },
     "metadata": {},
     "output_type": "display_data"
    },
    {
     "name": "stdout",
     "output_type": "stream",
     "text": [
      "mean_accuracy = 0.4274193548387097\n",
      "mean_roc_auc = 0.4951005896635448\n",
      "mean_pr_auc = 0.37027448272400115\n"
     ]
    },
    {
     "data": {
      "application/json": {
       "ascii": false,
       "bar_format": null,
       "colour": null,
       "elapsed": 0.014072895050048828,
       "initial": 0,
       "n": 0,
       "ncols": 111,
       "nrows": 30,
       "postfix": null,
       "prefix": "Validating",
       "rate": null,
       "total": null,
       "unit": "it",
       "unit_divisor": 1000,
       "unit_scale": false
      },
      "application/vnd.jupyter.widget-view+json": {
       "model_id": "249e0293e3f44fdc8e5a9ef0578f2560",
       "version_major": 2,
       "version_minor": 0
      },
      "text/plain": [
       "Validating: 0it [00:00, ?it/s]"
      ]
     },
     "metadata": {},
     "output_type": "display_data"
    },
    {
     "name": "stderr",
     "output_type": "stream",
     "text": [
      "GPU available: False, used: False\n",
      "TPU available: False, using: 0 TPU cores\n",
      "\n",
      "  | Name          | Type             | Params\n",
      "---------------------------------------------------\n",
      "0 | model         | Sequential       | 13.0 K\n",
      "1 | loss_function | CrossEntropyLoss | 0     \n",
      "---------------------------------------------------\n",
      "13.0 K    Trainable params\n",
      "0         Non-trainable params\n",
      "13.0 K    Total params\n",
      "0.052     Total estimated model params size (MB)\n"
     ]
    },
    {
     "name": "stdout",
     "output_type": "stream",
     "text": [
      "mean_accuracy = 0.3911290322580645\n",
      "mean_roc_auc = 0.5608524106833159\n",
      "mean_pr_auc = 0.3839416274789381\n",
      "Accuracy: 0.3911, ROC AUC: 0.5609, PR AUC: 0.3839, Precision: 0.2597, Recall: 0.3911, F1: 0.3121\n",
      "FCNN training...\n"
     ]
    },
    {
     "data": {
      "application/json": {
       "ascii": false,
       "bar_format": null,
       "colour": null,
       "elapsed": 0.010295391082763672,
       "initial": 0,
       "n": 0,
       "ncols": 111,
       "nrows": 30,
       "postfix": null,
       "prefix": "Validation sanity check",
       "rate": null,
       "total": null,
       "unit": "it",
       "unit_divisor": 1000,
       "unit_scale": false
      },
      "application/vnd.jupyter.widget-view+json": {
       "model_id": "070bf6ff37cd480bb84f5bc7d270de2d",
       "version_major": 2,
       "version_minor": 0
      },
      "text/plain": [
       "Validation sanity check: 0it [00:00, ?it/s]"
      ]
     },
     "metadata": {},
     "output_type": "display_data"
    },
    {
     "name": "stdout",
     "output_type": "stream",
     "text": [
      "mean_accuracy = 0.015625\n",
      "mean_roc_auc = 0.25327349982656955\n",
      "mean_pr_auc = nan\n"
     ]
    },
    {
     "data": {
      "application/json": {
       "ascii": false,
       "bar_format": null,
       "colour": null,
       "elapsed": 0.009879827499389648,
       "initial": 0,
       "n": 0,
       "ncols": 111,
       "nrows": 30,
       "postfix": null,
       "prefix": "Training",
       "rate": null,
       "total": null,
       "unit": "it",
       "unit_divisor": 1000,
       "unit_scale": false
      },
      "application/vnd.jupyter.widget-view+json": {
       "model_id": "97c4ebc6bab0417496a1d91924e4a418",
       "version_major": 2,
       "version_minor": 0
      },
      "text/plain": [
       "Training: 0it [00:00, ?it/s]"
      ]
     },
     "metadata": {},
     "output_type": "display_data"
    },
    {
     "data": {
      "application/json": {
       "ascii": false,
       "bar_format": null,
       "colour": null,
       "elapsed": 0.01024484634399414,
       "initial": 0,
       "n": 0,
       "ncols": 111,
       "nrows": 30,
       "postfix": null,
       "prefix": "Validating",
       "rate": null,
       "total": null,
       "unit": "it",
       "unit_divisor": 1000,
       "unit_scale": false
      },
      "application/vnd.jupyter.widget-view+json": {
       "model_id": "a090a0c537134207a6dc3e29e7cda3e8",
       "version_major": 2,
       "version_minor": 0
      },
      "text/plain": [
       "Validating: 0it [00:00, ?it/s]"
      ]
     },
     "metadata": {},
     "output_type": "display_data"
    },
    {
     "name": "stdout",
     "output_type": "stream",
     "text": [
      "mean_accuracy = 0.7096774193548387\n",
      "mean_roc_auc = 0.9798387096774194\n",
      "mean_pr_auc = 0.9340951279964023\n"
     ]
    },
    {
     "data": {
      "application/json": {
       "ascii": false,
       "bar_format": null,
       "colour": null,
       "elapsed": 0.009508132934570312,
       "initial": 0,
       "n": 0,
       "ncols": 111,
       "nrows": 30,
       "postfix": null,
       "prefix": "Validating",
       "rate": null,
       "total": null,
       "unit": "it",
       "unit_divisor": 1000,
       "unit_scale": false
      },
      "application/vnd.jupyter.widget-view+json": {
       "model_id": "812e9800a2fa416cba833bbc747e8273",
       "version_major": 2,
       "version_minor": 0
      },
      "text/plain": [
       "Validating: 0it [00:00, ?it/s]"
      ]
     },
     "metadata": {},
     "output_type": "display_data"
    },
    {
     "name": "stderr",
     "output_type": "stream",
     "text": [
      "0it [00:00, ?it/s]"
     ]
    },
    {
     "name": "stdout",
     "output_type": "stream",
     "text": [
      "mean_accuracy = 0.7419354838709677\n",
      "mean_roc_auc = 0.9877948317724593\n",
      "mean_pr_auc = 0.9663802770478994\n",
      "Accuracy: 0.7419, ROC AUC: 0.9878, PR AUC: 0.9664, Precision: 0.6172, Recall: 0.7419, F1: 0.6738\n",
      "triplet randK\n"
     ]
    },
    {
     "name": "stderr",
     "output_type": "stream",
     "text": [
      "500it [00:47, 10.50it/s]\n"
     ]
    },
    {
     "name": "stdout",
     "output_type": "stream",
     "text": [
      "XGB training ...\n",
      "[18:07:46] WARNING: ../src/learner.cc:1095: Starting in XGBoost 1.3.0, the default evaluation metric used with the objective 'multi:softprob' was changed from 'merror' to 'mlogloss'. Explicitly set eval_metric if you'd like to restore the old behavior.\n"
     ]
    },
    {
     "name": "stderr",
     "output_type": "stream",
     "text": [
      "GPU available: False, used: False\n",
      "TPU available: False, using: 0 TPU cores\n",
      "\n",
      "  | Name          | Type             | Params\n",
      "---------------------------------------------------\n",
      "0 | model         | Linear           | 260   \n",
      "1 | loss_function | CrossEntropyLoss | 0     \n",
      "---------------------------------------------------\n",
      "260       Trainable params\n",
      "0         Non-trainable params\n",
      "260       Total params\n",
      "0.001     Total estimated model params size (MB)\n"
     ]
    },
    {
     "name": "stdout",
     "output_type": "stream",
     "text": [
      "1 lin.layer training...\n"
     ]
    },
    {
     "data": {
      "application/json": {
       "ascii": false,
       "bar_format": null,
       "colour": null,
       "elapsed": 0.009625434875488281,
       "initial": 0,
       "n": 0,
       "ncols": 111,
       "nrows": 30,
       "postfix": null,
       "prefix": "Validation sanity check",
       "rate": null,
       "total": null,
       "unit": "it",
       "unit_divisor": 1000,
       "unit_scale": false
      },
      "application/vnd.jupyter.widget-view+json": {
       "model_id": "bb5243a6377b47dcb3f170c72313e729",
       "version_major": 2,
       "version_minor": 0
      },
      "text/plain": [
       "Validation sanity check: 0it [00:00, ?it/s]"
      ]
     },
     "metadata": {},
     "output_type": "display_data"
    },
    {
     "name": "stdout",
     "output_type": "stream",
     "text": [
      "mean_accuracy = 0.03125\n",
      "mean_roc_auc = 0.3333333333333333\n",
      "mean_pr_auc = nan\n"
     ]
    },
    {
     "data": {
      "application/json": {
       "ascii": false,
       "bar_format": null,
       "colour": null,
       "elapsed": 0.009675741195678711,
       "initial": 0,
       "n": 0,
       "ncols": 111,
       "nrows": 30,
       "postfix": null,
       "prefix": "Training",
       "rate": null,
       "total": null,
       "unit": "it",
       "unit_divisor": 1000,
       "unit_scale": false
      },
      "application/vnd.jupyter.widget-view+json": {
       "model_id": "7494eb12e578405b8054e8e42516203a",
       "version_major": 2,
       "version_minor": 0
      },
      "text/plain": [
       "Training: 0it [00:00, ?it/s]"
      ]
     },
     "metadata": {},
     "output_type": "display_data"
    },
    {
     "data": {
      "application/json": {
       "ascii": false,
       "bar_format": null,
       "colour": null,
       "elapsed": 0.010284185409545898,
       "initial": 0,
       "n": 0,
       "ncols": 111,
       "nrows": 30,
       "postfix": null,
       "prefix": "Validating",
       "rate": null,
       "total": null,
       "unit": "it",
       "unit_divisor": 1000,
       "unit_scale": false
      },
      "application/vnd.jupyter.widget-view+json": {
       "model_id": "26f5231d785a4c98a4caf5d3b9b445ef",
       "version_major": 2,
       "version_minor": 0
      },
      "text/plain": [
       "Validating: 0it [00:00, ?it/s]"
      ]
     },
     "metadata": {},
     "output_type": "display_data"
    },
    {
     "name": "stdout",
     "output_type": "stream",
     "text": [
      "mean_accuracy = 0.25806451612903225\n",
      "mean_roc_auc = 0.44762400277488723\n",
      "mean_pr_auc = 0.427085658016846\n"
     ]
    },
    {
     "data": {
      "application/json": {
       "ascii": false,
       "bar_format": null,
       "colour": null,
       "elapsed": 0.011418819427490234,
       "initial": 0,
       "n": 0,
       "ncols": 111,
       "nrows": 30,
       "postfix": null,
       "prefix": "Validating",
       "rate": null,
       "total": null,
       "unit": "it",
       "unit_divisor": 1000,
       "unit_scale": false
      },
      "application/vnd.jupyter.widget-view+json": {
       "model_id": "e6cb9de605be4fcbaa8a13d2422f8e81",
       "version_major": 2,
       "version_minor": 0
      },
      "text/plain": [
       "Validating: 0it [00:00, ?it/s]"
      ]
     },
     "metadata": {},
     "output_type": "display_data"
    },
    {
     "name": "stderr",
     "output_type": "stream",
     "text": [
      "GPU available: False, used: False\n",
      "TPU available: False, using: 0 TPU cores\n",
      "\n",
      "  | Name          | Type             | Params\n",
      "---------------------------------------------------\n",
      "0 | model         | Sequential       | 13.0 K\n",
      "1 | loss_function | CrossEntropyLoss | 0     \n",
      "---------------------------------------------------\n",
      "13.0 K    Trainable params\n",
      "0         Non-trainable params\n",
      "13.0 K    Total params\n",
      "0.052     Total estimated model params size (MB)\n"
     ]
    },
    {
     "name": "stdout",
     "output_type": "stream",
     "text": [
      "mean_accuracy = 0.39919354838709675\n",
      "mean_roc_auc = 0.4585718002081165\n",
      "mean_pr_auc = 0.43092571223004805\n",
      "Accuracy: 0.3992, ROC AUC: 0.4586, PR AUC: 0.4309, Precision: 0.3209, Recall: 0.3992, F1: 0.3558\n",
      "FCNN training...\n"
     ]
    },
    {
     "data": {
      "application/json": {
       "ascii": false,
       "bar_format": null,
       "colour": null,
       "elapsed": 0.00945901870727539,
       "initial": 0,
       "n": 0,
       "ncols": 111,
       "nrows": 30,
       "postfix": null,
       "prefix": "Validation sanity check",
       "rate": null,
       "total": null,
       "unit": "it",
       "unit_divisor": 1000,
       "unit_scale": false
      },
      "application/vnd.jupyter.widget-view+json": {
       "model_id": "859824f487da40719f1dfc06a1920b6d",
       "version_major": 2,
       "version_minor": 0
      },
      "text/plain": [
       "Validation sanity check: 0it [00:00, ?it/s]"
      ]
     },
     "metadata": {},
     "output_type": "display_data"
    },
    {
     "name": "stdout",
     "output_type": "stream",
     "text": [
      "mean_accuracy = 0.0\n",
      "mean_roc_auc = 0.8856226153312522\n",
      "mean_pr_auc = nan\n"
     ]
    },
    {
     "data": {
      "application/json": {
       "ascii": false,
       "bar_format": null,
       "colour": null,
       "elapsed": 0.009019613265991211,
       "initial": 0,
       "n": 0,
       "ncols": 111,
       "nrows": 30,
       "postfix": null,
       "prefix": "Training",
       "rate": null,
       "total": null,
       "unit": "it",
       "unit_divisor": 1000,
       "unit_scale": false
      },
      "application/vnd.jupyter.widget-view+json": {
       "model_id": "3e9c1e669fd540cfb0c77893c069be8f",
       "version_major": 2,
       "version_minor": 0
      },
      "text/plain": [
       "Training: 0it [00:00, ?it/s]"
      ]
     },
     "metadata": {},
     "output_type": "display_data"
    },
    {
     "data": {
      "application/json": {
       "ascii": false,
       "bar_format": null,
       "colour": null,
       "elapsed": 0.009625673294067383,
       "initial": 0,
       "n": 0,
       "ncols": 111,
       "nrows": 30,
       "postfix": null,
       "prefix": "Validating",
       "rate": null,
       "total": null,
       "unit": "it",
       "unit_divisor": 1000,
       "unit_scale": false
      },
      "application/vnd.jupyter.widget-view+json": {
       "model_id": "9124f592561d409ba6548413da3cdee2",
       "version_major": 2,
       "version_minor": 0
      },
      "text/plain": [
       "Validating: 0it [00:00, ?it/s]"
      ]
     },
     "metadata": {},
     "output_type": "display_data"
    },
    {
     "name": "stdout",
     "output_type": "stream",
     "text": [
      "mean_accuracy = 0.7016129032258065\n",
      "mean_roc_auc = 0.9998916059660076\n",
      "mean_pr_auc = 0.9996848552649801\n"
     ]
    },
    {
     "data": {
      "application/json": {
       "ascii": false,
       "bar_format": null,
       "colour": null,
       "elapsed": 0.010436534881591797,
       "initial": 0,
       "n": 0,
       "ncols": 111,
       "nrows": 30,
       "postfix": null,
       "prefix": "Validating",
       "rate": null,
       "total": null,
       "unit": "it",
       "unit_divisor": 1000,
       "unit_scale": false
      },
      "application/vnd.jupyter.widget-view+json": {
       "model_id": "8884736f43dc4443ac3c462ad227979c",
       "version_major": 2,
       "version_minor": 0
      },
      "text/plain": [
       "Validating: 0it [00:00, ?it/s]"
      ]
     },
     "metadata": {},
     "output_type": "display_data"
    },
    {
     "name": "stderr",
     "output_type": "stream",
     "text": [
      "1it [00:00,  8.82it/s]"
     ]
    },
    {
     "name": "stdout",
     "output_type": "stream",
     "text": [
      "mean_accuracy = 0.9354838709677419\n",
      "mean_roc_auc = 1.0\n",
      "mean_pr_auc = 1.0\n",
      "Accuracy: 0.9355, ROC AUC: 1.0, PR AUC: 1.0, Precision: 0.9487, Recall: 0.9355, F1: 0.9421\n",
      "triplet topQ_topK\n"
     ]
    },
    {
     "name": "stderr",
     "output_type": "stream",
     "text": [
      "500it [00:56,  8.90it/s]\n"
     ]
    },
    {
     "name": "stdout",
     "output_type": "stream",
     "text": [
      "XGB training ...\n",
      "[18:08:55] WARNING: ../src/learner.cc:1095: Starting in XGBoost 1.3.0, the default evaluation metric used with the objective 'multi:softprob' was changed from 'merror' to 'mlogloss'. Explicitly set eval_metric if you'd like to restore the old behavior.\n"
     ]
    },
    {
     "name": "stderr",
     "output_type": "stream",
     "text": [
      "GPU available: False, used: False\n",
      "TPU available: False, using: 0 TPU cores\n",
      "\n",
      "  | Name          | Type             | Params\n",
      "---------------------------------------------------\n",
      "0 | model         | Linear           | 260   \n",
      "1 | loss_function | CrossEntropyLoss | 0     \n",
      "---------------------------------------------------\n",
      "260       Trainable params\n",
      "0         Non-trainable params\n",
      "260       Total params\n",
      "0.001     Total estimated model params size (MB)\n"
     ]
    },
    {
     "name": "stdout",
     "output_type": "stream",
     "text": [
      "1 lin.layer training...\n"
     ]
    },
    {
     "data": {
      "application/json": {
       "ascii": false,
       "bar_format": null,
       "colour": null,
       "elapsed": 0.008971214294433594,
       "initial": 0,
       "n": 0,
       "ncols": 111,
       "nrows": 30,
       "postfix": null,
       "prefix": "Validation sanity check",
       "rate": null,
       "total": null,
       "unit": "it",
       "unit_divisor": 1000,
       "unit_scale": false
      },
      "application/vnd.jupyter.widget-view+json": {
       "model_id": "2ba8f2c83d82459394ea7ffc193559ce",
       "version_major": 2,
       "version_minor": 0
      },
      "text/plain": [
       "Validation sanity check: 0it [00:00, ?it/s]"
      ]
     },
     "metadata": {},
     "output_type": "display_data"
    },
    {
     "name": "stdout",
     "output_type": "stream",
     "text": [
      "mean_accuracy = 0.7734375\n",
      "mean_roc_auc = 0.7168314255983351\n",
      "mean_pr_auc = nan\n"
     ]
    },
    {
     "data": {
      "application/json": {
       "ascii": false,
       "bar_format": null,
       "colour": null,
       "elapsed": 0.009975194931030273,
       "initial": 0,
       "n": 0,
       "ncols": 111,
       "nrows": 30,
       "postfix": null,
       "prefix": "Training",
       "rate": null,
       "total": null,
       "unit": "it",
       "unit_divisor": 1000,
       "unit_scale": false
      },
      "application/vnd.jupyter.widget-view+json": {
       "model_id": "a47bb666ee9c464c955129d85b7269ac",
       "version_major": 2,
       "version_minor": 0
      },
      "text/plain": [
       "Training: 0it [00:00, ?it/s]"
      ]
     },
     "metadata": {},
     "output_type": "display_data"
    },
    {
     "data": {
      "application/json": {
       "ascii": false,
       "bar_format": null,
       "colour": null,
       "elapsed": 0.010795354843139648,
       "initial": 0,
       "n": 0,
       "ncols": 111,
       "nrows": 30,
       "postfix": null,
       "prefix": "Validating",
       "rate": null,
       "total": null,
       "unit": "it",
       "unit_divisor": 1000,
       "unit_scale": false
      },
      "application/vnd.jupyter.widget-view+json": {
       "model_id": "975d629c282e420fb00cf63cfeaaf764",
       "version_major": 2,
       "version_minor": 0
      },
      "text/plain": [
       "Validating: 0it [00:00, ?it/s]"
      ]
     },
     "metadata": {},
     "output_type": "display_data"
    },
    {
     "name": "stdout",
     "output_type": "stream",
     "text": [
      "mean_accuracy = 0.4637096774193548\n",
      "mean_roc_auc = 0.6225286160249739\n",
      "mean_pr_auc = 0.4501741564599353\n"
     ]
    },
    {
     "data": {
      "application/json": {
       "ascii": false,
       "bar_format": null,
       "colour": null,
       "elapsed": 0.010260581970214844,
       "initial": 0,
       "n": 0,
       "ncols": 111,
       "nrows": 30,
       "postfix": null,
       "prefix": "Validating",
       "rate": null,
       "total": null,
       "unit": "it",
       "unit_divisor": 1000,
       "unit_scale": false
      },
      "application/vnd.jupyter.widget-view+json": {
       "model_id": "68eaebd36445486e82c8feea854ec7fc",
       "version_major": 2,
       "version_minor": 0
      },
      "text/plain": [
       "Validating: 0it [00:00, ?it/s]"
      ]
     },
     "metadata": {},
     "output_type": "display_data"
    },
    {
     "name": "stderr",
     "output_type": "stream",
     "text": [
      "GPU available: False, used: False\n",
      "TPU available: False, using: 0 TPU cores\n",
      "\n",
      "  | Name          | Type             | Params\n",
      "---------------------------------------------------\n",
      "0 | model         | Sequential       | 13.0 K\n",
      "1 | loss_function | CrossEntropyLoss | 0     \n",
      "---------------------------------------------------\n",
      "13.0 K    Trainable params\n",
      "0         Non-trainable params\n",
      "13.0 K    Total params\n",
      "0.052     Total estimated model params size (MB)\n"
     ]
    },
    {
     "name": "stdout",
     "output_type": "stream",
     "text": [
      "mean_accuracy = 0.47580645161290325\n",
      "mean_roc_auc = 0.6744060006937218\n",
      "mean_pr_auc = 0.48543698293783666\n",
      "Accuracy: 0.4758, ROC AUC: 0.6744, PR AUC: 0.4854, Precision: 0.4294, Recall: 0.4758, F1: 0.4514\n",
      "FCNN training...\n"
     ]
    },
    {
     "data": {
      "application/json": {
       "ascii": false,
       "bar_format": null,
       "colour": null,
       "elapsed": 0.009838342666625977,
       "initial": 0,
       "n": 0,
       "ncols": 111,
       "nrows": 30,
       "postfix": null,
       "prefix": "Validation sanity check",
       "rate": null,
       "total": null,
       "unit": "it",
       "unit_divisor": 1000,
       "unit_scale": false
      },
      "application/vnd.jupyter.widget-view+json": {
       "model_id": "f27c53fc602744c6b747138680cb6702",
       "version_major": 2,
       "version_minor": 0
      },
      "text/plain": [
       "Validation sanity check: 0it [00:00, ?it/s]"
      ]
     },
     "metadata": {},
     "output_type": "display_data"
    },
    {
     "name": "stdout",
     "output_type": "stream",
     "text": [
      "mean_accuracy = 0.03125\n",
      "mean_roc_auc = 0.48016389177939645\n",
      "mean_pr_auc = nan\n"
     ]
    },
    {
     "data": {
      "application/json": {
       "ascii": false,
       "bar_format": null,
       "colour": null,
       "elapsed": 0.016449928283691406,
       "initial": 0,
       "n": 0,
       "ncols": 111,
       "nrows": 30,
       "postfix": null,
       "prefix": "Training",
       "rate": null,
       "total": null,
       "unit": "it",
       "unit_divisor": 1000,
       "unit_scale": false
      },
      "application/vnd.jupyter.widget-view+json": {
       "model_id": "cfa9f562551d482b8ea9357436b0b552",
       "version_major": 2,
       "version_minor": 0
      },
      "text/plain": [
       "Training: 0it [00:00, ?it/s]"
      ]
     },
     "metadata": {},
     "output_type": "display_data"
    },
    {
     "data": {
      "application/json": {
       "ascii": false,
       "bar_format": null,
       "colour": null,
       "elapsed": 0.00970149040222168,
       "initial": 0,
       "n": 0,
       "ncols": 111,
       "nrows": 30,
       "postfix": null,
       "prefix": "Validating",
       "rate": null,
       "total": null,
       "unit": "it",
       "unit_divisor": 1000,
       "unit_scale": false
      },
      "application/vnd.jupyter.widget-view+json": {
       "model_id": "903d3a4ebdc048be997a622cec9c7cc0",
       "version_major": 2,
       "version_minor": 0
      },
      "text/plain": [
       "Validating: 0it [00:00, ?it/s]"
      ]
     },
     "metadata": {},
     "output_type": "display_data"
    },
    {
     "name": "stdout",
     "output_type": "stream",
     "text": [
      "mean_accuracy = 0.6774193548387096\n",
      "mean_roc_auc = 0.9553416579951439\n",
      "mean_pr_auc = 0.8998623431746127\n"
     ]
    },
    {
     "data": {
      "application/json": {
       "ascii": false,
       "bar_format": null,
       "colour": null,
       "elapsed": 0.015221357345581055,
       "initial": 0,
       "n": 0,
       "ncols": 111,
       "nrows": 30,
       "postfix": null,
       "prefix": "Validating",
       "rate": null,
       "total": null,
       "unit": "it",
       "unit_divisor": 1000,
       "unit_scale": false
      },
      "application/vnd.jupyter.widget-view+json": {
       "model_id": "46129c5b6af548a69ffb6aa5d7b1ef41",
       "version_major": 2,
       "version_minor": 0
      },
      "text/plain": [
       "Validating: 0it [00:00, ?it/s]"
      ]
     },
     "metadata": {},
     "output_type": "display_data"
    },
    {
     "name": "stderr",
     "output_type": "stream",
     "text": [
      "1it [00:00,  9.60it/s]"
     ]
    },
    {
     "name": "stdout",
     "output_type": "stream",
     "text": [
      "mean_accuracy = 0.8790322580645161\n",
      "mean_roc_auc = 0.9721860908775581\n",
      "mean_pr_auc = 0.943696147905124\n",
      "Accuracy: 0.879, ROC AUC: 0.9722, PR AUC: 0.9437, Precision: 0.9015, Recall: 0.879, F1: 0.8901\n",
      "triplet topQ_randK\n"
     ]
    },
    {
     "name": "stderr",
     "output_type": "stream",
     "text": [
      "500it [00:50,  9.95it/s]\n"
     ]
    },
    {
     "name": "stdout",
     "output_type": "stream",
     "text": [
      "XGB training ...\n",
      "[18:09:58] WARNING: ../src/learner.cc:1095: Starting in XGBoost 1.3.0, the default evaluation metric used with the objective 'multi:softprob' was changed from 'merror' to 'mlogloss'. Explicitly set eval_metric if you'd like to restore the old behavior.\n"
     ]
    },
    {
     "name": "stderr",
     "output_type": "stream",
     "text": [
      "GPU available: False, used: False\n",
      "TPU available: False, using: 0 TPU cores\n",
      "\n",
      "  | Name          | Type             | Params\n",
      "---------------------------------------------------\n",
      "0 | model         | Linear           | 260   \n",
      "1 | loss_function | CrossEntropyLoss | 0     \n",
      "---------------------------------------------------\n",
      "260       Trainable params\n",
      "0         Non-trainable params\n",
      "260       Total params\n",
      "0.001     Total estimated model params size (MB)\n"
     ]
    },
    {
     "name": "stdout",
     "output_type": "stream",
     "text": [
      "1 lin.layer training...\n"
     ]
    },
    {
     "data": {
      "application/json": {
       "ascii": false,
       "bar_format": null,
       "colour": null,
       "elapsed": 0.008645057678222656,
       "initial": 0,
       "n": 0,
       "ncols": 111,
       "nrows": 30,
       "postfix": null,
       "prefix": "Validation sanity check",
       "rate": null,
       "total": null,
       "unit": "it",
       "unit_divisor": 1000,
       "unit_scale": false
      },
      "application/vnd.jupyter.widget-view+json": {
       "model_id": "c9753e652e2242dc851658794aea2167",
       "version_major": 2,
       "version_minor": 0
      },
      "text/plain": [
       "Validation sanity check: 0it [00:00, ?it/s]"
      ]
     },
     "metadata": {},
     "output_type": "display_data"
    },
    {
     "name": "stdout",
     "output_type": "stream",
     "text": [
      "mean_accuracy = 0.484375\n",
      "mean_roc_auc = 0.3519771071800208\n",
      "mean_pr_auc = nan\n"
     ]
    },
    {
     "data": {
      "application/json": {
       "ascii": false,
       "bar_format": null,
       "colour": null,
       "elapsed": 0.010447025299072266,
       "initial": 0,
       "n": 0,
       "ncols": 111,
       "nrows": 30,
       "postfix": null,
       "prefix": "Training",
       "rate": null,
       "total": null,
       "unit": "it",
       "unit_divisor": 1000,
       "unit_scale": false
      },
      "application/vnd.jupyter.widget-view+json": {
       "model_id": "6cb9e90dbb1b45339c091ae5a0acb661",
       "version_major": 2,
       "version_minor": 0
      },
      "text/plain": [
       "Training: 0it [00:00, ?it/s]"
      ]
     },
     "metadata": {},
     "output_type": "display_data"
    },
    {
     "data": {
      "application/json": {
       "ascii": false,
       "bar_format": null,
       "colour": null,
       "elapsed": 0.009673357009887695,
       "initial": 0,
       "n": 0,
       "ncols": 111,
       "nrows": 30,
       "postfix": null,
       "prefix": "Validating",
       "rate": null,
       "total": null,
       "unit": "it",
       "unit_divisor": 1000,
       "unit_scale": false
      },
      "application/vnd.jupyter.widget-view+json": {
       "model_id": "651c1a78843f4a65bb61f131d32aed07",
       "version_major": 2,
       "version_minor": 0
      },
      "text/plain": [
       "Validating: 0it [00:00, ?it/s]"
      ]
     },
     "metadata": {},
     "output_type": "display_data"
    },
    {
     "name": "stdout",
     "output_type": "stream",
     "text": [
      "mean_accuracy = 0.25\n",
      "mean_roc_auc = 0.30729708636836633\n",
      "mean_pr_auc = 0.3585029658059332\n"
     ]
    },
    {
     "data": {
      "application/json": {
       "ascii": false,
       "bar_format": null,
       "colour": null,
       "elapsed": 0.009284734725952148,
       "initial": 0,
       "n": 0,
       "ncols": 111,
       "nrows": 30,
       "postfix": null,
       "prefix": "Validating",
       "rate": null,
       "total": null,
       "unit": "it",
       "unit_divisor": 1000,
       "unit_scale": false
      },
      "application/vnd.jupyter.widget-view+json": {
       "model_id": "d83885bb372b4830b8e03deebcf93a53",
       "version_major": 2,
       "version_minor": 0
      },
      "text/plain": [
       "Validating: 0it [00:00, ?it/s]"
      ]
     },
     "metadata": {},
     "output_type": "display_data"
    },
    {
     "name": "stderr",
     "output_type": "stream",
     "text": [
      "GPU available: False, used: False\n",
      "TPU available: False, using: 0 TPU cores\n",
      "\n",
      "  | Name          | Type             | Params\n",
      "---------------------------------------------------\n",
      "0 | model         | Sequential       | 13.0 K\n",
      "1 | loss_function | CrossEntropyLoss | 0     \n",
      "---------------------------------------------------\n",
      "13.0 K    Trainable params\n",
      "0         Non-trainable params\n",
      "13.0 K    Total params\n",
      "0.052     Total estimated model params size (MB)\n"
     ]
    },
    {
     "name": "stdout",
     "output_type": "stream",
     "text": [
      "mean_accuracy = 0.25\n",
      "mean_roc_auc = 0.3733307318765175\n",
      "mean_pr_auc = 0.3665048609885614\n",
      "Accuracy: 0.25, ROC AUC: 0.3733, PR AUC: 0.3665, Precision: 0.1165, Recall: 0.25, F1: 0.159\n",
      "FCNN training...\n"
     ]
    },
    {
     "data": {
      "application/json": {
       "ascii": false,
       "bar_format": null,
       "colour": null,
       "elapsed": 0.008933067321777344,
       "initial": 0,
       "n": 0,
       "ncols": 111,
       "nrows": 30,
       "postfix": null,
       "prefix": "Validation sanity check",
       "rate": null,
       "total": null,
       "unit": "it",
       "unit_divisor": 1000,
       "unit_scale": false
      },
      "application/vnd.jupyter.widget-view+json": {
       "model_id": "93bd3633fff148e68cc4bd15e00727bc",
       "version_major": 2,
       "version_minor": 0
      },
      "text/plain": [
       "Validation sanity check: 0it [00:00, ?it/s]"
      ]
     },
     "metadata": {},
     "output_type": "display_data"
    },
    {
     "name": "stdout",
     "output_type": "stream",
     "text": [
      "mean_accuracy = 0.484375\n",
      "mean_roc_auc = 0.603863163371488\n",
      "mean_pr_auc = nan\n"
     ]
    },
    {
     "data": {
      "application/json": {
       "ascii": false,
       "bar_format": null,
       "colour": null,
       "elapsed": 0.00901937484741211,
       "initial": 0,
       "n": 0,
       "ncols": 111,
       "nrows": 30,
       "postfix": null,
       "prefix": "Training",
       "rate": null,
       "total": null,
       "unit": "it",
       "unit_divisor": 1000,
       "unit_scale": false
      },
      "application/vnd.jupyter.widget-view+json": {
       "model_id": "6874d4969ab844778aa887f3be04fc00",
       "version_major": 2,
       "version_minor": 0
      },
      "text/plain": [
       "Training: 0it [00:00, ?it/s]"
      ]
     },
     "metadata": {},
     "output_type": "display_data"
    },
    {
     "data": {
      "application/json": {
       "ascii": false,
       "bar_format": null,
       "colour": null,
       "elapsed": 0.010038614273071289,
       "initial": 0,
       "n": 0,
       "ncols": 111,
       "nrows": 30,
       "postfix": null,
       "prefix": "Validating",
       "rate": null,
       "total": null,
       "unit": "it",
       "unit_divisor": 1000,
       "unit_scale": false
      },
      "application/vnd.jupyter.widget-view+json": {
       "model_id": "9ba1df5a9e7d48fa80445241cca5a398",
       "version_major": 2,
       "version_minor": 0
      },
      "text/plain": [
       "Validating: 0it [00:00, ?it/s]"
      ]
     },
     "metadata": {},
     "output_type": "display_data"
    },
    {
     "name": "stdout",
     "output_type": "stream",
     "text": [
      "mean_accuracy = 0.33064516129032256\n",
      "mean_roc_auc = 0.992542490461325\n",
      "mean_pr_auc = 0.9788763653387524\n"
     ]
    },
    {
     "data": {
      "application/json": {
       "ascii": false,
       "bar_format": null,
       "colour": null,
       "elapsed": 0.01020669937133789,
       "initial": 0,
       "n": 0,
       "ncols": 111,
       "nrows": 30,
       "postfix": null,
       "prefix": "Validating",
       "rate": null,
       "total": null,
       "unit": "it",
       "unit_divisor": 1000,
       "unit_scale": false
      },
      "application/vnd.jupyter.widget-view+json": {
       "model_id": "01552324ddcc4a82b5e76144145fdef6",
       "version_major": 2,
       "version_minor": 0
      },
      "text/plain": [
       "Validating: 0it [00:00, ?it/s]"
      ]
     },
     "metadata": {},
     "output_type": "display_data"
    },
    {
     "name": "stderr",
     "output_type": "stream",
     "text": [
      "0it [00:00, ?it/s]"
     ]
    },
    {
     "name": "stdout",
     "output_type": "stream",
     "text": [
      "mean_accuracy = 0.5\n",
      "mean_roc_auc = 0.9997615331252168\n",
      "mean_pr_auc = 0.9992587520420304\n",
      "Accuracy: 0.5, ROC AUC: 0.9998, PR AUC: 0.9993, Precision: 0.273, Recall: 0.5, F1: 0.3532\n",
      "triplet randQ_topK\n"
     ]
    },
    {
     "name": "stderr",
     "output_type": "stream",
     "text": [
      "500it [00:42, 11.63it/s]\n"
     ]
    },
    {
     "name": "stdout",
     "output_type": "stream",
     "text": [
      "XGB training ...\n",
      "[18:10:54] WARNING: ../src/learner.cc:1095: Starting in XGBoost 1.3.0, the default evaluation metric used with the objective 'multi:softprob' was changed from 'merror' to 'mlogloss'. Explicitly set eval_metric if you'd like to restore the old behavior.\n"
     ]
    },
    {
     "name": "stderr",
     "output_type": "stream",
     "text": [
      "GPU available: False, used: False\n",
      "TPU available: False, using: 0 TPU cores\n",
      "\n",
      "  | Name          | Type             | Params\n",
      "---------------------------------------------------\n",
      "0 | model         | Linear           | 260   \n",
      "1 | loss_function | CrossEntropyLoss | 0     \n",
      "---------------------------------------------------\n",
      "260       Trainable params\n",
      "0         Non-trainable params\n",
      "260       Total params\n",
      "0.001     Total estimated model params size (MB)\n"
     ]
    },
    {
     "name": "stdout",
     "output_type": "stream",
     "text": [
      "1 lin.layer training...\n"
     ]
    },
    {
     "data": {
      "application/json": {
       "ascii": false,
       "bar_format": null,
       "colour": null,
       "elapsed": 0.010605335235595703,
       "initial": 0,
       "n": 0,
       "ncols": 111,
       "nrows": 30,
       "postfix": null,
       "prefix": "Validation sanity check",
       "rate": null,
       "total": null,
       "unit": "it",
       "unit_divisor": 1000,
       "unit_scale": false
      },
      "application/vnd.jupyter.widget-view+json": {
       "model_id": "ccc71430bf144a779a277e1da69085dc",
       "version_major": 2,
       "version_minor": 0
      },
      "text/plain": [
       "Validation sanity check: 0it [00:00, ?it/s]"
      ]
     },
     "metadata": {},
     "output_type": "display_data"
    },
    {
     "name": "stdout",
     "output_type": "stream",
     "text": [
      "mean_accuracy = 0.484375\n",
      "mean_roc_auc = 0.2892819979188345\n",
      "mean_pr_auc = nan\n"
     ]
    },
    {
     "data": {
      "application/json": {
       "ascii": false,
       "bar_format": null,
       "colour": null,
       "elapsed": 0.010853052139282227,
       "initial": 0,
       "n": 0,
       "ncols": 111,
       "nrows": 30,
       "postfix": null,
       "prefix": "Training",
       "rate": null,
       "total": null,
       "unit": "it",
       "unit_divisor": 1000,
       "unit_scale": false
      },
      "application/vnd.jupyter.widget-view+json": {
       "model_id": "6aafc79845234c66a1fef5af78484991",
       "version_major": 2,
       "version_minor": 0
      },
      "text/plain": [
       "Training: 0it [00:00, ?it/s]"
      ]
     },
     "metadata": {},
     "output_type": "display_data"
    },
    {
     "data": {
      "application/json": {
       "ascii": false,
       "bar_format": null,
       "colour": null,
       "elapsed": 0.016069650650024414,
       "initial": 0,
       "n": 0,
       "ncols": 111,
       "nrows": 30,
       "postfix": null,
       "prefix": "Validating",
       "rate": null,
       "total": null,
       "unit": "it",
       "unit_divisor": 1000,
       "unit_scale": false
      },
      "application/vnd.jupyter.widget-view+json": {
       "model_id": "1494c3ed34394dde831e2ceba8c6d29b",
       "version_major": 2,
       "version_minor": 0
      },
      "text/plain": [
       "Validating: 0it [00:00, ?it/s]"
      ]
     },
     "metadata": {},
     "output_type": "display_data"
    },
    {
     "name": "stdout",
     "output_type": "stream",
     "text": [
      "mean_accuracy = 0.2782258064516129\n",
      "mean_roc_auc = 0.6454864724245578\n",
      "mean_pr_auc = 0.3106860452859121\n"
     ]
    },
    {
     "data": {
      "application/json": {
       "ascii": false,
       "bar_format": null,
       "colour": null,
       "elapsed": 0.014836788177490234,
       "initial": 0,
       "n": 0,
       "ncols": 111,
       "nrows": 30,
       "postfix": null,
       "prefix": "Validating",
       "rate": null,
       "total": null,
       "unit": "it",
       "unit_divisor": 1000,
       "unit_scale": false
      },
      "application/vnd.jupyter.widget-view+json": {
       "model_id": "2bb6f95f66c14edc91cb1a4c2dc5da0b",
       "version_major": 2,
       "version_minor": 0
      },
      "text/plain": [
       "Validating: 0it [00:00, ?it/s]"
      ]
     },
     "metadata": {},
     "output_type": "display_data"
    },
    {
     "name": "stderr",
     "output_type": "stream",
     "text": [
      "GPU available: False, used: False\n",
      "TPU available: False, using: 0 TPU cores\n",
      "\n",
      "  | Name          | Type             | Params\n",
      "---------------------------------------------------\n",
      "0 | model         | Sequential       | 13.0 K\n",
      "1 | loss_function | CrossEntropyLoss | 0     \n",
      "---------------------------------------------------\n",
      "13.0 K    Trainable params\n",
      "0         Non-trainable params\n",
      "13.0 K    Total params\n",
      "0.052     Total estimated model params size (MB)\n"
     ]
    },
    {
     "name": "stdout",
     "output_type": "stream",
     "text": [
      "mean_accuracy = 0.3709677419354839\n",
      "mean_roc_auc = 0.7525580992022199\n",
      "mean_pr_auc = 0.42029745955918835\n",
      "Accuracy: 0.371, ROC AUC: 0.7526, PR AUC: 0.4203, Precision: 0.1905, Recall: 0.371, F1: 0.2517\n",
      "FCNN training...\n"
     ]
    },
    {
     "data": {
      "application/json": {
       "ascii": false,
       "bar_format": null,
       "colour": null,
       "elapsed": 0.009321451187133789,
       "initial": 0,
       "n": 0,
       "ncols": 111,
       "nrows": 30,
       "postfix": null,
       "prefix": "Validation sanity check",
       "rate": null,
       "total": null,
       "unit": "it",
       "unit_divisor": 1000,
       "unit_scale": false
      },
      "application/vnd.jupyter.widget-view+json": {
       "model_id": "8c68407b7a4b43fa8365a123bb5973ca",
       "version_major": 2,
       "version_minor": 0
      },
      "text/plain": [
       "Validation sanity check: 0it [00:00, ?it/s]"
      ]
     },
     "metadata": {},
     "output_type": "display_data"
    },
    {
     "name": "stdout",
     "output_type": "stream",
     "text": [
      "mean_accuracy = 0.03125\n",
      "mean_roc_auc = 0.1697667360388484\n",
      "mean_pr_auc = nan\n"
     ]
    },
    {
     "data": {
      "application/json": {
       "ascii": false,
       "bar_format": null,
       "colour": null,
       "elapsed": 0.008891105651855469,
       "initial": 0,
       "n": 0,
       "ncols": 111,
       "nrows": 30,
       "postfix": null,
       "prefix": "Training",
       "rate": null,
       "total": null,
       "unit": "it",
       "unit_divisor": 1000,
       "unit_scale": false
      },
      "application/vnd.jupyter.widget-view+json": {
       "model_id": "23e604702f294cc181cd52e533cb545f",
       "version_major": 2,
       "version_minor": 0
      },
      "text/plain": [
       "Training: 0it [00:00, ?it/s]"
      ]
     },
     "metadata": {},
     "output_type": "display_data"
    },
    {
     "data": {
      "application/json": {
       "ascii": false,
       "bar_format": null,
       "colour": null,
       "elapsed": 0.010226249694824219,
       "initial": 0,
       "n": 0,
       "ncols": 111,
       "nrows": 30,
       "postfix": null,
       "prefix": "Validating",
       "rate": null,
       "total": null,
       "unit": "it",
       "unit_divisor": 1000,
       "unit_scale": false
      },
      "application/vnd.jupyter.widget-view+json": {
       "model_id": "710ebfe26afa459cae734f9e3a6a8cbf",
       "version_major": 2,
       "version_minor": 0
      },
      "text/plain": [
       "Validating: 0it [00:00, ?it/s]"
      ]
     },
     "metadata": {},
     "output_type": "display_data"
    },
    {
     "name": "stdout",
     "output_type": "stream",
     "text": [
      "mean_accuracy = 0.7379032258064516\n",
      "mean_roc_auc = 0.9997398543184183\n",
      "mean_pr_auc = 0.999263997521611\n"
     ]
    },
    {
     "data": {
      "application/json": {
       "ascii": false,
       "bar_format": null,
       "colour": null,
       "elapsed": 0.010264158248901367,
       "initial": 0,
       "n": 0,
       "ncols": 111,
       "nrows": 30,
       "postfix": null,
       "prefix": "Validating",
       "rate": null,
       "total": null,
       "unit": "it",
       "unit_divisor": 1000,
       "unit_scale": false
      },
      "application/vnd.jupyter.widget-view+json": {
       "model_id": "43e8f1559c0345fcbe29afca5ba27e30",
       "version_major": 2,
       "version_minor": 0
      },
      "text/plain": [
       "Validating: 0it [00:00, ?it/s]"
      ]
     },
     "metadata": {},
     "output_type": "display_data"
    },
    {
     "name": "stderr",
     "output_type": "stream",
     "text": [
      "0it [00:00, ?it/s]"
     ]
    },
    {
     "name": "stdout",
     "output_type": "stream",
     "text": [
      "mean_accuracy = 0.7419354838709677\n",
      "mean_roc_auc = 0.9999566423864031\n",
      "mean_pr_auc = 0.9998709594833424\n",
      "Accuracy: 0.7419, ROC AUC: 1.0, PR AUC: 0.9999, Precision: 0.8384, Recall: 0.7419, F1: 0.7872\n",
      "triplet randQ_randK\n"
     ]
    },
    {
     "name": "stderr",
     "output_type": "stream",
     "text": [
      "500it [01:40,  5.00it/s]\n"
     ]
    },
    {
     "name": "stdout",
     "output_type": "stream",
     "text": [
      "XGB training ...\n",
      "[18:12:46] WARNING: ../src/learner.cc:1095: Starting in XGBoost 1.3.0, the default evaluation metric used with the objective 'multi:softprob' was changed from 'merror' to 'mlogloss'. Explicitly set eval_metric if you'd like to restore the old behavior.\n"
     ]
    },
    {
     "name": "stderr",
     "output_type": "stream",
     "text": [
      "GPU available: False, used: False\n",
      "TPU available: False, using: 0 TPU cores\n",
      "\n",
      "  | Name          | Type             | Params\n",
      "---------------------------------------------------\n",
      "0 | model         | Linear           | 260   \n",
      "1 | loss_function | CrossEntropyLoss | 0     \n",
      "---------------------------------------------------\n",
      "260       Trainable params\n",
      "0         Non-trainable params\n",
      "260       Total params\n",
      "0.001     Total estimated model params size (MB)\n"
     ]
    },
    {
     "name": "stdout",
     "output_type": "stream",
     "text": [
      "1 lin.layer training...\n"
     ]
    },
    {
     "data": {
      "application/json": {
       "ascii": false,
       "bar_format": null,
       "colour": null,
       "elapsed": 0.008678674697875977,
       "initial": 0,
       "n": 0,
       "ncols": 111,
       "nrows": 30,
       "postfix": null,
       "prefix": "Validation sanity check",
       "rate": null,
       "total": null,
       "unit": "it",
       "unit_divisor": 1000,
       "unit_scale": false
      },
      "application/vnd.jupyter.widget-view+json": {
       "model_id": "45293ec4a87149f3b7d083a17d0fd48a",
       "version_major": 2,
       "version_minor": 0
      },
      "text/plain": [
       "Validation sanity check: 0it [00:00, ?it/s]"
      ]
     },
     "metadata": {},
     "output_type": "display_data"
    },
    {
     "name": "stdout",
     "output_type": "stream",
     "text": [
      "mean_accuracy = 0.0\n",
      "mean_roc_auc = 0.16033645508151229\n",
      "mean_pr_auc = nan\n"
     ]
    },
    {
     "data": {
      "application/json": {
       "ascii": false,
       "bar_format": null,
       "colour": null,
       "elapsed": 0.016082763671875,
       "initial": 0,
       "n": 0,
       "ncols": 111,
       "nrows": 30,
       "postfix": null,
       "prefix": "Training",
       "rate": null,
       "total": null,
       "unit": "it",
       "unit_divisor": 1000,
       "unit_scale": false
      },
      "application/vnd.jupyter.widget-view+json": {
       "model_id": "174073276959497c98af4a62e3955b5a",
       "version_major": 2,
       "version_minor": 0
      },
      "text/plain": [
       "Training: 0it [00:00, ?it/s]"
      ]
     },
     "metadata": {},
     "output_type": "display_data"
    },
    {
     "data": {
      "application/json": {
       "ascii": false,
       "bar_format": null,
       "colour": null,
       "elapsed": 0.010533571243286133,
       "initial": 0,
       "n": 0,
       "ncols": 111,
       "nrows": 30,
       "postfix": null,
       "prefix": "Validating",
       "rate": null,
       "total": null,
       "unit": "it",
       "unit_divisor": 1000,
       "unit_scale": false
      },
      "application/vnd.jupyter.widget-view+json": {
       "model_id": "982302d134e9455dbc7609ebb5c079c9",
       "version_major": 2,
       "version_minor": 0
      },
      "text/plain": [
       "Validating: 0it [00:00, ?it/s]"
      ]
     },
     "metadata": {},
     "output_type": "display_data"
    },
    {
     "name": "stdout",
     "output_type": "stream",
     "text": [
      "mean_accuracy = 0.25\n",
      "mean_roc_auc = 0.6682492195629552\n",
      "mean_pr_auc = 0.5196960401071785\n"
     ]
    },
    {
     "data": {
      "application/json": {
       "ascii": false,
       "bar_format": null,
       "colour": null,
       "elapsed": 0.009787797927856445,
       "initial": 0,
       "n": 0,
       "ncols": 111,
       "nrows": 30,
       "postfix": null,
       "prefix": "Validating",
       "rate": null,
       "total": null,
       "unit": "it",
       "unit_divisor": 1000,
       "unit_scale": false
      },
      "application/vnd.jupyter.widget-view+json": {
       "model_id": "89fbe431679242a38049d7137212af34",
       "version_major": 2,
       "version_minor": 0
      },
      "text/plain": [
       "Validating: 0it [00:00, ?it/s]"
      ]
     },
     "metadata": {},
     "output_type": "display_data"
    },
    {
     "name": "stderr",
     "output_type": "stream",
     "text": [
      "GPU available: False, used: False\n",
      "TPU available: False, using: 0 TPU cores\n",
      "\n",
      "  | Name          | Type             | Params\n",
      "---------------------------------------------------\n",
      "0 | model         | Sequential       | 13.0 K\n",
      "1 | loss_function | CrossEntropyLoss | 0     \n",
      "---------------------------------------------------\n",
      "13.0 K    Trainable params\n",
      "0         Non-trainable params\n",
      "13.0 K    Total params\n",
      "0.052     Total estimated model params size (MB)\n"
     ]
    },
    {
     "name": "stdout",
     "output_type": "stream",
     "text": [
      "mean_accuracy = 0.25806451612903225\n",
      "mean_roc_auc = 0.8924514394727714\n",
      "mean_pr_auc = 0.7770925737484735\n",
      "Accuracy: 0.2581, ROC AUC: 0.8925, PR AUC: 0.7771, Precision: 0.313, Recall: 0.2581, F1: 0.2829\n",
      "FCNN training...\n"
     ]
    },
    {
     "data": {
      "application/json": {
       "ascii": false,
       "bar_format": null,
       "colour": null,
       "elapsed": 0.009427785873413086,
       "initial": 0,
       "n": 0,
       "ncols": 111,
       "nrows": 30,
       "postfix": null,
       "prefix": "Validation sanity check",
       "rate": null,
       "total": null,
       "unit": "it",
       "unit_divisor": 1000,
       "unit_scale": false
      },
      "application/vnd.jupyter.widget-view+json": {
       "model_id": "ae2b09f0dc2f4f6aa86e365239f3d22d",
       "version_major": 2,
       "version_minor": 0
      },
      "text/plain": [
       "Validation sanity check: 0it [00:00, ?it/s]"
      ]
     },
     "metadata": {},
     "output_type": "display_data"
    },
    {
     "name": "stdout",
     "output_type": "stream",
     "text": [
      "mean_accuracy = 0.015625\n",
      "mean_roc_auc = 0.7479405133541451\n",
      "mean_pr_auc = nan\n"
     ]
    },
    {
     "data": {
      "application/json": {
       "ascii": false,
       "bar_format": null,
       "colour": null,
       "elapsed": 0.009717702865600586,
       "initial": 0,
       "n": 0,
       "ncols": 111,
       "nrows": 30,
       "postfix": null,
       "prefix": "Training",
       "rate": null,
       "total": null,
       "unit": "it",
       "unit_divisor": 1000,
       "unit_scale": false
      },
      "application/vnd.jupyter.widget-view+json": {
       "model_id": "124476b94bd94c33b071fc37a3417d7c",
       "version_major": 2,
       "version_minor": 0
      },
      "text/plain": [
       "Training: 0it [00:00, ?it/s]"
      ]
     },
     "metadata": {},
     "output_type": "display_data"
    },
    {
     "data": {
      "application/json": {
       "ascii": false,
       "bar_format": null,
       "colour": null,
       "elapsed": 0.010606765747070312,
       "initial": 0,
       "n": 0,
       "ncols": 111,
       "nrows": 30,
       "postfix": null,
       "prefix": "Validating",
       "rate": null,
       "total": null,
       "unit": "it",
       "unit_divisor": 1000,
       "unit_scale": false
      },
      "application/vnd.jupyter.widget-view+json": {
       "model_id": "3061bd0a93f64d30800f43d6f7888c96",
       "version_major": 2,
       "version_minor": 0
      },
      "text/plain": [
       "Validating: 0it [00:00, ?it/s]"
      ]
     },
     "metadata": {},
     "output_type": "display_data"
    },
    {
     "name": "stdout",
     "output_type": "stream",
     "text": [
      "mean_accuracy = 0.5\n",
      "mean_roc_auc = 0.9518947277141866\n",
      "mean_pr_auc = 0.8555946528786217\n"
     ]
    },
    {
     "data": {
      "application/json": {
       "ascii": false,
       "bar_format": null,
       "colour": null,
       "elapsed": 0.010257959365844727,
       "initial": 0,
       "n": 0,
       "ncols": 111,
       "nrows": 30,
       "postfix": null,
       "prefix": "Validating",
       "rate": null,
       "total": null,
       "unit": "it",
       "unit_divisor": 1000,
       "unit_scale": false
      },
      "application/vnd.jupyter.widget-view+json": {
       "model_id": "63c0a86fa73f4d08953a8c6e0b0fad37",
       "version_major": 2,
       "version_minor": 0
      },
      "text/plain": [
       "Validating: 0it [00:00, ?it/s]"
      ]
     },
     "metadata": {},
     "output_type": "display_data"
    },
    {
     "name": "stdout",
     "output_type": "stream",
     "text": [
      "mean_accuracy = 0.75\n",
      "mean_roc_auc = 0.9977020464793617\n",
      "mean_pr_auc = 0.9931949132833896\n",
      "Accuracy: 0.75, ROC AUC: 0.9977, PR AUC: 0.9932, Precision: 0.625, Recall: 0.75, F1: 0.6818\n"
     ]
    }
   ],
   "source": [
    "for loss_type in [\"siamese\", \"triplet\"]:\n",
    "    for model_type in [\n",
    "        \"None\",\n",
    "        \"topQ\", \"randQ\", \n",
    "        \"topK\", \"randK\", \n",
    "        \"topQ_topK\", \"topQ_randK\", \n",
    "        \"randQ_topK\", \"randQ_randK\",\n",
    "    ]:\n",
    "        print(loss_type, model_type)\n",
    "        with open(os.path.join(path_to_models, \"best_params_{}_reguformer_{}.json\".format(loss_type, model_type)), \"r\") as f:\n",
    "            best_params = json.load(f)\n",
    "        \n",
    "        if \"None\" in model_type:\n",
    "            fixed_params = deepcopy(fixed_params_tr)\n",
    "            enc_type = \"transformer\"\n",
    "            reg_type = \"\"\n",
    "        else:\n",
    "            fixed_params = deepcopy(fixed_params_reguformer)\n",
    "            enc_type = \"reguformer\"\n",
    "            reg_type = \"_\" + model_type\n",
    "\n",
    "        if \"siamese\" in loss_type:\n",
    "            model = utils_model.SiameseArchitecture(\n",
    "                encoder_type=\"reguformer\", \n",
    "                fc_hidden_size=64, \n",
    "                **shared_fixed_params, \n",
    "                **fixed_params,\n",
    "                **best_params,\n",
    "            ).float()\n",
    "\n",
    "        elif \"triplet\" in loss_type:\n",
    "            model = utils_model.TripletArchitecture(\n",
    "                encoder_type=\"reguformer\", \n",
    "                **shared_fixed_params, \n",
    "                **fixed_params,\n",
    "                **best_params,\n",
    "            ).float()\n",
    "\n",
    "        model.load_state_dict(torch.load(os.path.join(path_to_models, \"res_{}_{}{}.pth\".format(loss_type, enc_type, reg_type)), map_location=device))\n",
    "\n",
    "        model.eval()\n",
    "        embeddings, wells = utils_emb.get_embeddings(\n",
    "            model,\n",
    "            model_type,\n",
    "            slice_dataset,\n",
    "            slice_len=slice_len,\n",
    "            input_size=df.shape[1]-1\n",
    "        )\n",
    "        embeddings = embeddings[:, None, :]\n",
    "        \n",
    "        le = LabelEncoder()\n",
    "        wells_tr = le.fit_transform(wells)\n",
    "        wells_tr = torch.tensor(wells_tr)\n",
    "\n",
    "        train_wells = []\n",
    "        test_wells = []\n",
    "        train, test = torch.tensor([]), torch.tensor([])\n",
    "        \n",
    "        for well in np.unique(wells_tr):\n",
    "            embs = embeddings[wells_tr == well]\n",
    "            \n",
    "            train = torch.cat(\n",
    "                [\n",
    "                    train, \n",
    "                    embs[:len(embs) // 2 + 1].detach()\n",
    "                ], dim=0\n",
    "            )\n",
    "            test = torch.cat(\n",
    "                [\n",
    "                    test, \n",
    "                    embs[len(embs) // 2 + 1:].detach()\n",
    "                ], dim=0\n",
    "            )\n",
    "            train_wells.extend([well for _ in range(0, len(embs) // 2 + 1)])\n",
    "            test_wells.extend([well for _ in range(0, len(embs) - len(embs) // 2 - 1)])\n",
    "        \n",
    "        input_size = embeddings.shape[-1]\n",
    "        output_size = len(torch.unique(wells_tr))\n",
    "\n",
    "        print(\"XGB training ...\")\n",
    "        results_xgb = []\n",
    "        model = XGBClassifier()\n",
    "\n",
    "        model.fit(\n",
    "            train.detach().cpu().numpy()[:, 0, :],\n",
    "            train_wells\n",
    "        )\n",
    "\n",
    "        y_preds = model.predict_proba(test.detach().cpu().numpy()[:, 0, :])\n",
    "\n",
    "        acc, roc_auc, pr_auc, precision, recall, f1 = utils_emb.calculate_metrics_for_final(\n",
    "            target=torch.tensor(test_wells),\n",
    "            y_pred=torch.tensor(y_preds)\n",
    "        )\n",
    "        results_xgb.append((model_type, acc, precision, recall, f1, roc_auc, pr_auc))\n",
    "        \n",
    "        results_xgb_df = pd.DataFrame(results_xgb, columns=[\"Model type\", \"Accuracy\", \"ROC AUC\", \"PR AUC\", \"Precision\", \"Recall\", \"F1\"])\n",
    "        results_xgb_df.to_csv(os.path.join(path_to_save, 'emb_quality_xgb_{}_{}.csv'.format(loss_type, model_type)))\n",
    "\n",
    "        print(\"1 lin.layer training...\")\n",
    "        results_1_layer = []\n",
    "        model = nn.Linear(input_size, output_size)\n",
    "\n",
    "        # model, logger, (acc, roc_auc, pr_auc, precision, recall, f1) = utils_emb.train_test_linear_classifier(\n",
    "        #     train,\n",
    "        #     test,\n",
    "        #     train_wells,\n",
    "        #     test_wells,\n",
    "        #     model,\n",
    "        #     model_type,\n",
    "        #     batch_size=batch_size,\n",
    "        #     epochs=epochs,\n",
    "        #     gpu=device.index,\n",
    "        #     log_dir=path_to_logs,\n",
    "        # )\n",
    "        train_dataset = TensorDataset(train, torch.tensor(train_wells))\n",
    "        test_dataset = TensorDataset(test, torch.tensor(test_wells))\n",
    "\n",
    "        clf = utils_emb.ClassificationModel(\n",
    "            model=model,\n",
    "            train_data=train_dataset,\n",
    "            test_data=test_dataset,\n",
    "            n_classes=len(np.unique(train_wells)),\n",
    "            batch_size=batch_size,\n",
    "        )\n",
    "\n",
    "        current_time = datetime.datetime.now().strftime(\"%m%d%Y_%H:%M:%S\")\n",
    "        add_name = \"_transformer_\" if \"None\" in model_type else \"_reguformer_\"\n",
    "        experiment_name = loss_type + add_name + model_type + \"_\" +  \"lin_layer\" + \"_\" + current_time\n",
    "\n",
    "        logger = pl.loggers.TensorBoardLogger(save_dir=path_to_logs, name=experiment_name)\n",
    "\n",
    "        checkpoint_callback = pl.callbacks.ModelCheckpoint(\n",
    "            monitor=\"val_loss\",\n",
    "            dirpath=f\"{path_to_logs}/{experiment_name}/\",\n",
    "            filename=\"{epoch:02d}-{val_loss:.3f}\",\n",
    "            mode=\"min\",\n",
    "        )\n",
    "\n",
    "        trainer = pl.Trainer(\n",
    "            max_epochs=epochs,\n",
    "            gpus=gpu,  # set 1 to use one GPU\n",
    "            benchmark=True,\n",
    "            check_val_every_n_epoch=1,\n",
    "            logger=logger,\n",
    "            callbacks=[\n",
    "                checkpoint_callback,\n",
    "                pl.callbacks.early_stopping.EarlyStopping(\n",
    "                    monitor=\"val_loss\", patience=40, mode=\"min\"\n",
    "                ),\n",
    "            ],\n",
    "        )\n",
    "        trainer.fit(clf)\n",
    "        y_pred = model(test)\n",
    "        output = (\n",
    "            y_pred.detach()\n",
    "            .numpy()\n",
    "            .reshape(y_pred.detach().numpy().shape[0], y_pred.detach().numpy().shape[-1])\n",
    "        )\n",
    "        acc, roc_auc, pr_auc, precision, recall, f1 = utils_emb.calculate_metrics_for_final(\n",
    "            target=torch.tensor(test_wells), y_pred=torch.tensor(output)\n",
    "        )\n",
    "        print(\n",
    "            \"Accuracy: {}, ROC AUC: {}, PR AUC: {}, Precision: {}, Recall: {}, F1: {}\".format(\n",
    "                np.round(acc, 4),\n",
    "                np.round(roc_auc, 4),\n",
    "                np.round(pr_auc, 4),\n",
    "                np.round(precision, 4),\n",
    "                np.round(recall, 4),\n",
    "                np.round(f1, 4),\n",
    "            )\n",
    "        )\n",
    "        results_1_layer.append((model_type, acc, precision, recall, f1, roc_auc, pr_auc))\n",
    "\n",
    "        results_1_layer_df = pd.DataFrame(results_1_layer, columns=[\"Model type\", \"Accuracy\", \"ROC AUC\", \"PR AUC\", \"Precision\", \"Recall\", \"F1\"])\n",
    "        results_1_layer_df.to_csv(os.path.join(path_to_save, 'emb_quality_1_lin_layer_{}_{}.csv'.format(loss_type, model_type)))\n",
    "\n",
    "        print(\"FCNN training...\")\n",
    "        results_multi_layer = []\n",
    "        hidden_sizes = [64, 128]\n",
    "\n",
    "        # Build a feed-forward network\n",
    "        model = nn.Sequential(\n",
    "            nn.Linear(input_size, hidden_sizes[0]),\n",
    "            nn.ReLU(),\n",
    "            nn.Linear(hidden_sizes[0], hidden_sizes[1]),\n",
    "            nn.ReLU(),\n",
    "            nn.Linear(hidden_sizes[1], output_size),\n",
    "        )\n",
    "        # model, logger, (acc, roc_auc, pr_auc, precision, recall, f1) = utils_emb.train_test_linear_classifier(\n",
    "        #     train,\n",
    "        #     test,\n",
    "        #     train_wells,\n",
    "        #     test_wells,\n",
    "        #     model,\n",
    "        #     model_type,\n",
    "        #     batch_size=batch_size,\n",
    "        #     epochs=epochs,\n",
    "        #     gpu=device.index,\n",
    "        #     log_dir=path_to_logs,\n",
    "        # )\n",
    "        # train_dataset = TensorDataset(train, torch.tensor(train_wells))\n",
    "        # test_dataset = TensorDataset(test, torch.tensor(test_wells))\n",
    "\n",
    "        clf = utils_emb.ClassificationModel(\n",
    "            model=model,\n",
    "            train_data=train_dataset,\n",
    "            test_data=test_dataset,\n",
    "            n_classes=len(np.unique(train_wells)),\n",
    "            batch_size=batch_size,\n",
    "        )\n",
    "\n",
    "        current_time = datetime.datetime.now().strftime(\"%m%d%Y_%H:%M:%S\")\n",
    "        experiment_name = loss_type + add_name + model_type + \"_\" +  \"fcnn\" + \"_\" + current_time\n",
    "\n",
    "        logger = pl.loggers.TensorBoardLogger(save_dir=path_to_logs, name=experiment_name)\n",
    "\n",
    "        checkpoint_callback = pl.callbacks.ModelCheckpoint(\n",
    "            monitor=\"val_loss\",\n",
    "            dirpath=f\"{path_to_logs}/{experiment_name}/\",\n",
    "            filename=\"{epoch:02d}-{val_loss:.3f}\",\n",
    "            mode=\"min\",\n",
    "        )\n",
    "\n",
    "        trainer = pl.Trainer(\n",
    "            max_epochs=epochs,\n",
    "            gpus=gpu,  # set 1 to use one GPU\n",
    "            benchmark=True,\n",
    "            check_val_every_n_epoch=1,\n",
    "            logger=logger,\n",
    "            callbacks=[\n",
    "                checkpoint_callback,\n",
    "                pl.callbacks.early_stopping.EarlyStopping(\n",
    "                    monitor=\"val_loss\", patience=40, mode=\"min\"\n",
    "                ),\n",
    "            ],\n",
    "        )\n",
    "        trainer.fit(clf)\n",
    "        y_pred = model(test)\n",
    "        output = (\n",
    "            y_pred.detach()\n",
    "            .numpy()\n",
    "            .reshape(y_pred.detach().numpy().shape[0], y_pred.detach().numpy().shape[-1])\n",
    "        )\n",
    "        acc, roc_auc, pr_auc, precision, recall, f1 = utils_emb.calculate_metrics_for_final(\n",
    "            target=torch.tensor(test_wells), y_pred=torch.tensor(output)\n",
    "        )\n",
    "        print(\n",
    "            \"Accuracy: {}, ROC AUC: {}, PR AUC: {}, Precision: {}, Recall: {}, F1: {}\".format(\n",
    "                np.round(acc, 4),\n",
    "                np.round(roc_auc, 4),\n",
    "                np.round(pr_auc, 4),\n",
    "                np.round(precision, 4),\n",
    "                np.round(recall, 4),\n",
    "                np.round(f1, 4),\n",
    "            )\n",
    "        )\n",
    "        results_multi_layer.append((model_type, acc, precision, recall, f1, roc_auc, pr_auc))\n",
    "\n",
    "        results_multi_layer_df = pd.DataFrame(results_multi_layer, columns=[\"Model type\", \"Accuracy\", \"ROC AUC\", \"PR AUC\", \"Precision\", \"Recall\", \"F1\"])\n",
    "        results_multi_layer_df.to_csv(os.path.join(path_to_save, 'emb_quality_fc_nn_{}_{}.csv'.format(loss_type, model_type)))"
   ]
  },
  {
   "cell_type": "code",
   "execution_count": 36,
   "id": "5c730472",
   "metadata": {},
   "outputs": [],
   "source": [
    "# the same for Performer"
   ]
  }
 ],
 "metadata": {
  "kernelspec": {
   "display_name": "Python 3 (ipykernel)",
   "language": "python",
   "name": "python3"
  },
  "language_info": {
   "codemirror_mode": {
    "name": "ipython",
    "version": 3
   },
   "file_extension": ".py",
   "mimetype": "text/x-python",
   "name": "python",
   "nbconvert_exporter": "python",
   "pygments_lexer": "ipython3",
   "version": "3.7.10"
  }
 },
 "nbformat": 4,
 "nbformat_minor": 5
}
