{
 "cells": [
  {
   "cell_type": "code",
   "execution_count": 1,
   "metadata": {},
   "outputs": [
    {
     "name": "stdout",
     "output_type": "stream",
     "text": [
      "/home/Reguformer/notebooks\n"
     ]
    }
   ],
   "source": [
    "%cd /home/Reguformer/notebooks"
   ]
  },
  {
   "cell_type": "code",
   "execution_count": 2,
   "metadata": {},
   "outputs": [],
   "source": [
    "import os\n",
    "import warnings\n",
    "\n",
    "import seaborn as sns\n",
    "import matplotlib.pyplot as plt\n",
    "import pandas as pd\n",
    "import numpy as np\n",
    "import torch\n",
    "\n",
    "warnings.filterwarnings(\"ignore\")\n",
    "\n",
    "from copy import deepcopy\n",
    "from trans_oil_gas import utils_fix_seeds, utils_cv"
   ]
  },
  {
   "cell_type": "code",
   "execution_count": 3,
   "metadata": {},
   "outputs": [],
   "source": [
    "plt.rc('font', size=16)          # controls default text sizes\n",
    "plt.rc('axes', titlesize=20)     # fontsize of the axes title\n",
    "plt.rc('axes', labelsize=20)     # fontsize of the x and y labels\n",
    "plt.rc('xtick', labelsize=20)    # fontsize of the tick labels\n",
    "plt.rc('ytick', labelsize=20)    # fontsize of the tick labels\n",
    "plt.rc('legend', fontsize=18)    # legend fontsize\n",
    "plt.rc('figure', titlesize=16)   # fontsize of the figure title"
   ]
  },
  {
   "cell_type": "code",
   "execution_count": 4,
   "metadata": {},
   "outputs": [
    {
     "name": "stdout",
     "output_type": "stream",
     "text": [
      "cpu 0\n"
     ]
    }
   ],
   "source": [
    "device = torch.device('cuda:0' if torch.cuda.is_available() else 'cpu')\n",
    "gpu = [0] if 'cuda' in device.type else 0\n",
    "print(device, gpu)"
   ]
  },
  {
   "cell_type": "code",
   "execution_count": 5,
   "metadata": {},
   "outputs": [],
   "source": [
    "utils_fix_seeds.fix_seeds(device=device)"
   ]
  },
  {
   "cell_type": "code",
   "execution_count": 6,
   "metadata": {},
   "outputs": [
    {
     "name": "stdout",
     "output_type": "stream",
     "text": [
      "(735, 5) 4\n"
     ]
    }
   ],
   "source": [
    "df = pd.read_csv('../data/synthetic_well_log_data.csv')\n",
    "print(df.shape, df['WELLNAME'].nunique())"
   ]
  },
  {
   "cell_type": "code",
   "execution_count": 7,
   "metadata": {},
   "outputs": [],
   "source": [
    "# n_trials = 30\n",
    "# n_splits_res = 5\n",
    "# n_splits_hpo = 2 \n",
    "# epochs = 20\n",
    "n_trials = 2\n",
    "n_splits_res = 2\n",
    "n_splits_hpo = 2 \n",
    "epochs = 2\n",
    "\n",
    "slice_len = 100\n",
    "well_column = \"WELLNAME\""
   ]
  },
  {
   "cell_type": "code",
   "execution_count": 8,
   "metadata": {},
   "outputs": [],
   "source": [
    "# results_len_train = 25000\n",
    "# results_len_test = 5000\n",
    "\n",
    "results_len_train = 50\n",
    "results_len_test = 50"
   ]
  },
  {
   "cell_type": "code",
   "execution_count": 9,
   "metadata": {},
   "outputs": [],
   "source": [
    "save_dir = \"./saves_all_models/\"\n",
    "log_dir = \"./logs_all_models/\"\n",
    "\n",
    "if not os.path.exists(save_dir):\n",
    "    os.mkdir(save_dir)\n",
    "\n",
    "if not os.path.exists(log_dir):\n",
    "    os.mkdir(log_dir)"
   ]
  },
  {
   "cell_type": "code",
   "execution_count": 10,
   "metadata": {},
   "outputs": [],
   "source": [
    "def calc_f1_score(precision_nparray, recall_nparray):\n",
    "    f1_nparray = 2 * (precision_nparray * recall_nparray) / (precision_nparray + recall_nparray)\n",
    "    f1_str = '{} ± {}'.format(\n",
    "        round(f1_nparray.mean(), 3), \n",
    "        round(f1_nparray.std(), 3)\n",
    "    )\n",
    "    return f1_str"
   ]
  },
  {
   "cell_type": "code",
   "execution_count": 11,
   "metadata": {},
   "outputs": [],
   "source": [
    "def get_dict(res_dict, model_name):\n",
    "    metrics = dict()\n",
    "\n",
    "    for d in res_dict:\n",
    "        f1_flag = False\n",
    "        for k, v in d.items():\n",
    "            v = np.array(v)\n",
    "            v[v == -1000000.0] = np.nan\n",
    "            if not f1_flag and \"Precision\" in k:\n",
    "                precision = deepcopy(v)\n",
    "                predicate = \"\" if \"_\" not in k else k.split(\"_\")[0] + \"_\"\n",
    "            if not f1_flag and 'Recall' in k:\n",
    "                recall = deepcopy(v)\n",
    "                metrics[\"{}F1\".format(predicate)] = [calc_f1_score(precision, recall)]\n",
    "                f1_flag = True\n",
    "\n",
    "            metrics[k] = ['{} ± {}'.format(\n",
    "                round(v.mean(), 3), \n",
    "                round(v.std(), 3)\n",
    "            )]\n",
    "    return pd.DataFrame(metrics, index=[model_name]) "
   ]
  },
  {
   "cell_type": "code",
   "execution_count": 12,
   "metadata": {},
   "outputs": [],
   "source": [
    "data_kwargs = {\n",
    "    \"df\": df,\n",
    "    \"n_splits_hpo\": n_splits_hpo,\n",
    "    \"n_splits_res\": n_splits_res,\n",
    "    \"epochs\": epochs,\n",
    "    \"slice_len\": slice_len,\n",
    "    \"results_len_train\": results_len_train,\n",
    "    \"results_len_test\": results_len_test,\n",
    "    \"well_column\": well_column,\n",
    "    \"save_dir\": save_dir,\n",
    "    \"log_dir\": log_dir,\n",
    "}"
   ]
  },
  {
   "cell_type": "code",
   "execution_count": 13,
   "metadata": {},
   "outputs": [],
   "source": [
    "shared_fixed_params = {\n",
    "    \"enc_in\": 4,\n",
    "    \"distil\": None,\n",
    "    \"device\": device,\n",
    "    \"attn\": \"prob\",\n",
    "    \"activation\": \"gelu\",\n",
    "    \"output_attention\": False,\n",
    "    \"n_seq\": 100,\n",
    "}\n",
    "fixed_params_reguformer = {\n",
    "    \"attn\": \"prob\",\n",
    "    \"activation\": \"gelu\",\n",
    "}\n",
    "fixed_params_tr = {\n",
    "    \"attn\": \"full\",\n",
    "    \"activation\": \"relu\",\n",
    "}\n",
    "\n",
    "default_params_reguformer = {\n",
    "    \"d_model\": 64,\n",
    "} \n",
    "specific_params_reguformer = {\n",
    "    \"d_model\": (\"cat\", [16, 32, 64]),\n",
    "    \"factor\": (\"int\", [3, 11, 2]),\n",
    "    \"n_heads\": (\"cat\", [2, 4, 6, 8]),\n",
    "    \"dropout\": (\"float\", [0.1, 0.5]),\n",
    "    \"d_ff\" : (\"cat\", [128, 512, 1024]),\n",
    "    \"e_layers\": (\"int\", [2, 6, 1]),\n",
    "}"
   ]
  },
  {
   "cell_type": "markdown",
   "metadata": {},
   "source": [
    "# Reguformers"
   ]
  },
  {
   "cell_type": "code",
   "execution_count": 14,
   "metadata": {},
   "outputs": [
    {
     "name": "stderr",
     "output_type": "stream",
     "text": [
      "\u001b[32m[I 2023-11-02 17:30:19,147]\u001b[0m A new study created in memory with name: no-name-d0747c46-baad-4e85-9272-2dc22e1d670a\u001b[0m\n",
      "GPU available: False, used: False\n",
      "TPU available: False, using: 0 TPU cores\n",
      "\n",
      "  | Name          | Type                | Params\n",
      "------------------------------------------------------\n",
      "0 | model         | SiameseArchitecture | 84.5 K\n",
      "1 | loss_function | BCELoss             | 0     \n",
      "------------------------------------------------------\n",
      "84.5 K    Trainable params\n",
      "0         Non-trainable params\n",
      "84.5 K    Total params\n",
      "0.338     Total estimated model params size (MB)\n"
     ]
    },
    {
     "name": "stdout",
     "output_type": "stream",
     "text": [
      "model_type: siamese_reguformer_topQ\n"
     ]
    },
    {
     "data": {
      "application/json": {
       "ascii": false,
       "bar_format": null,
       "colour": null,
       "elapsed": 0.012773990631103516,
       "initial": 0,
       "n": 0,
       "ncols": 111,
       "nrows": 30,
       "postfix": null,
       "prefix": "Validation sanity check",
       "rate": null,
       "total": null,
       "unit": "it",
       "unit_divisor": 1000,
       "unit_scale": false
      },
      "application/vnd.jupyter.widget-view+json": {
       "model_id": "4c1b18782c9b49f9aaecc7f1ab470f7a",
       "version_major": 2,
       "version_minor": 0
      },
      "text/plain": [
       "Validation sanity check: 0it [00:00, ?it/s]"
      ]
     },
     "metadata": {},
     "output_type": "display_data"
    },
    {
     "data": {
      "application/json": {
       "ascii": false,
       "bar_format": null,
       "colour": null,
       "elapsed": 0.011679887771606445,
       "initial": 0,
       "n": 0,
       "ncols": 111,
       "nrows": 30,
       "postfix": null,
       "prefix": "Training",
       "rate": null,
       "total": null,
       "unit": "it",
       "unit_divisor": 1000,
       "unit_scale": false
      },
      "application/vnd.jupyter.widget-view+json": {
       "model_id": "a8e87de143bc4587b32a7a1cd09cc80a",
       "version_major": 2,
       "version_minor": 0
      },
      "text/plain": [
       "Training: 0it [00:00, ?it/s]"
      ]
     },
     "metadata": {},
     "output_type": "display_data"
    },
    {
     "data": {
      "application/json": {
       "ascii": false,
       "bar_format": null,
       "colour": null,
       "elapsed": 0.010352373123168945,
       "initial": 0,
       "n": 0,
       "ncols": 111,
       "nrows": 30,
       "postfix": null,
       "prefix": "Validating",
       "rate": null,
       "total": null,
       "unit": "it",
       "unit_divisor": 1000,
       "unit_scale": false
      },
      "application/vnd.jupyter.widget-view+json": {
       "model_id": "9c9e08dc0c2a4aca94ee1d5d3507f7f0",
       "version_major": 2,
       "version_minor": 0
      },
      "text/plain": [
       "Validating: 0it [00:00, ?it/s]"
      ]
     },
     "metadata": {},
     "output_type": "display_data"
    },
    {
     "data": {
      "application/json": {
       "ascii": false,
       "bar_format": null,
       "colour": null,
       "elapsed": 0.009504079818725586,
       "initial": 0,
       "n": 0,
       "ncols": 111,
       "nrows": 30,
       "postfix": null,
       "prefix": "Validating",
       "rate": null,
       "total": null,
       "unit": "it",
       "unit_divisor": 1000,
       "unit_scale": false
      },
      "application/vnd.jupyter.widget-view+json": {
       "model_id": "a1a537e96d834343b742fa7b753008a7",
       "version_major": 2,
       "version_minor": 0
      },
      "text/plain": [
       "Validating: 0it [00:00, ?it/s]"
      ]
     },
     "metadata": {},
     "output_type": "display_data"
    },
    {
     "name": "stderr",
     "output_type": "stream",
     "text": [
      "GPU available: False, used: False\n",
      "TPU available: False, using: 0 TPU cores\n",
      "\n",
      "  | Name          | Type                | Params\n",
      "------------------------------------------------------\n",
      "0 | model         | SiameseArchitecture | 84.5 K\n",
      "1 | loss_function | BCELoss             | 0     \n",
      "------------------------------------------------------\n",
      "84.5 K    Trainable params\n",
      "0         Non-trainable params\n",
      "84.5 K    Total params\n",
      "0.338     Total estimated model params size (MB)\n"
     ]
    },
    {
     "name": "stdout",
     "output_type": "stream",
     "text": [
      "Accuracy:0.6, ROC_AUC:0.592, PR_AUC:0.566\n"
     ]
    },
    {
     "data": {
      "application/json": {
       "ascii": false,
       "bar_format": null,
       "colour": null,
       "elapsed": 0.009723901748657227,
       "initial": 0,
       "n": 0,
       "ncols": 111,
       "nrows": 30,
       "postfix": null,
       "prefix": "Validation sanity check",
       "rate": null,
       "total": null,
       "unit": "it",
       "unit_divisor": 1000,
       "unit_scale": false
      },
      "application/vnd.jupyter.widget-view+json": {
       "model_id": "a1fbe1877c2b4559b307ab442d733353",
       "version_major": 2,
       "version_minor": 0
      },
      "text/plain": [
       "Validation sanity check: 0it [00:00, ?it/s]"
      ]
     },
     "metadata": {},
     "output_type": "display_data"
    },
    {
     "data": {
      "application/json": {
       "ascii": false,
       "bar_format": null,
       "colour": null,
       "elapsed": 0.01217961311340332,
       "initial": 0,
       "n": 0,
       "ncols": 111,
       "nrows": 30,
       "postfix": null,
       "prefix": "Training",
       "rate": null,
       "total": null,
       "unit": "it",
       "unit_divisor": 1000,
       "unit_scale": false
      },
      "application/vnd.jupyter.widget-view+json": {
       "model_id": "22cfcf979743467892595eb53a78a33b",
       "version_major": 2,
       "version_minor": 0
      },
      "text/plain": [
       "Training: 0it [00:00, ?it/s]"
      ]
     },
     "metadata": {},
     "output_type": "display_data"
    },
    {
     "data": {
      "application/json": {
       "ascii": false,
       "bar_format": null,
       "colour": null,
       "elapsed": 0.009370088577270508,
       "initial": 0,
       "n": 0,
       "ncols": 111,
       "nrows": 30,
       "postfix": null,
       "prefix": "Validating",
       "rate": null,
       "total": null,
       "unit": "it",
       "unit_divisor": 1000,
       "unit_scale": false
      },
      "application/vnd.jupyter.widget-view+json": {
       "model_id": "dcac5258290d4fafbe2f2217968d2392",
       "version_major": 2,
       "version_minor": 0
      },
      "text/plain": [
       "Validating: 0it [00:00, ?it/s]"
      ]
     },
     "metadata": {},
     "output_type": "display_data"
    },
    {
     "data": {
      "application/json": {
       "ascii": false,
       "bar_format": null,
       "colour": null,
       "elapsed": 0.009280204772949219,
       "initial": 0,
       "n": 0,
       "ncols": 111,
       "nrows": 30,
       "postfix": null,
       "prefix": "Validating",
       "rate": null,
       "total": null,
       "unit": "it",
       "unit_divisor": 1000,
       "unit_scale": false
      },
      "application/vnd.jupyter.widget-view+json": {
       "model_id": "c59d2ece59b0462293629a62bdf860a2",
       "version_major": 2,
       "version_minor": 0
      },
      "text/plain": [
       "Validating: 0it [00:00, ?it/s]"
      ]
     },
     "metadata": {},
     "output_type": "display_data"
    },
    {
     "name": "stderr",
     "output_type": "stream",
     "text": [
      "\u001b[32m[I 2023-11-02 17:30:25,058]\u001b[0m Trial 0 finished with value: 0.7494000000000001 and parameters: {'d_model': 64, 'factor': 11, 'n_heads': 2, 'dropout': 0.18613236209295395, 'd_ff': 128, 'e_layers': 2, 'sparsification_type': 'topQ'}. Best is trial 0 with value: 0.7494000000000001.\u001b[0m\n",
      "GPU available: False, used: False\n",
      "TPU available: False, using: 0 TPU cores\n",
      "\n",
      "  | Name          | Type                | Params\n",
      "------------------------------------------------------\n",
      "0 | model         | SiameseArchitecture | 86.1 K\n",
      "1 | loss_function | BCELoss             | 0     \n",
      "------------------------------------------------------\n",
      "86.1 K    Trainable params\n",
      "0         Non-trainable params\n",
      "86.1 K    Total params\n",
      "0.345     Total estimated model params size (MB)\n"
     ]
    },
    {
     "name": "stdout",
     "output_type": "stream",
     "text": [
      "Accuracy:0.81, ROC_AUC:0.907, PR_AUC:0.907\n"
     ]
    },
    {
     "data": {
      "application/json": {
       "ascii": false,
       "bar_format": null,
       "colour": null,
       "elapsed": 0.00902104377746582,
       "initial": 0,
       "n": 0,
       "ncols": 111,
       "nrows": 30,
       "postfix": null,
       "prefix": "Validation sanity check",
       "rate": null,
       "total": null,
       "unit": "it",
       "unit_divisor": 1000,
       "unit_scale": false
      },
      "application/vnd.jupyter.widget-view+json": {
       "model_id": "f411670e2ffe4147be59917b064858d6",
       "version_major": 2,
       "version_minor": 0
      },
      "text/plain": [
       "Validation sanity check: 0it [00:00, ?it/s]"
      ]
     },
     "metadata": {},
     "output_type": "display_data"
    },
    {
     "data": {
      "application/json": {
       "ascii": false,
       "bar_format": null,
       "colour": null,
       "elapsed": 0.015583992004394531,
       "initial": 0,
       "n": 0,
       "ncols": 111,
       "nrows": 30,
       "postfix": null,
       "prefix": "Training",
       "rate": null,
       "total": null,
       "unit": "it",
       "unit_divisor": 1000,
       "unit_scale": false
      },
      "application/vnd.jupyter.widget-view+json": {
       "model_id": "40fd48e6aec345478e6fe7870effd214",
       "version_major": 2,
       "version_minor": 0
      },
      "text/plain": [
       "Training: 0it [00:00, ?it/s]"
      ]
     },
     "metadata": {},
     "output_type": "display_data"
    },
    {
     "data": {
      "application/json": {
       "ascii": false,
       "bar_format": null,
       "colour": null,
       "elapsed": 0.016108274459838867,
       "initial": 0,
       "n": 0,
       "ncols": 111,
       "nrows": 30,
       "postfix": null,
       "prefix": "Validating",
       "rate": null,
       "total": null,
       "unit": "it",
       "unit_divisor": 1000,
       "unit_scale": false
      },
      "application/vnd.jupyter.widget-view+json": {
       "model_id": "34626a982b5b4918b5a12d78aabfbc79",
       "version_major": 2,
       "version_minor": 0
      },
      "text/plain": [
       "Validating: 0it [00:00, ?it/s]"
      ]
     },
     "metadata": {},
     "output_type": "display_data"
    },
    {
     "data": {
      "application/json": {
       "ascii": false,
       "bar_format": null,
       "colour": null,
       "elapsed": 0.012127876281738281,
       "initial": 0,
       "n": 0,
       "ncols": 111,
       "nrows": 30,
       "postfix": null,
       "prefix": "Validating",
       "rate": null,
       "total": null,
       "unit": "it",
       "unit_divisor": 1000,
       "unit_scale": false
      },
      "application/vnd.jupyter.widget-view+json": {
       "model_id": "8250cc11f6b24941a85835291dda84e7",
       "version_major": 2,
       "version_minor": 0
      },
      "text/plain": [
       "Validating: 0it [00:00, ?it/s]"
      ]
     },
     "metadata": {},
     "output_type": "display_data"
    },
    {
     "name": "stderr",
     "output_type": "stream",
     "text": [
      "GPU available: False, used: False\n",
      "TPU available: False, using: 0 TPU cores\n",
      "\n",
      "  | Name          | Type                | Params\n",
      "------------------------------------------------------\n",
      "0 | model         | SiameseArchitecture | 86.1 K\n",
      "1 | loss_function | BCELoss             | 0     \n",
      "------------------------------------------------------\n",
      "86.1 K    Trainable params\n",
      "0         Non-trainable params\n",
      "86.1 K    Total params\n",
      "0.345     Total estimated model params size (MB)\n"
     ]
    },
    {
     "name": "stdout",
     "output_type": "stream",
     "text": [
      "Accuracy:0.6, ROC_AUC:0.652, PR_AUC:0.636\n"
     ]
    },
    {
     "data": {
      "application/json": {
       "ascii": false,
       "bar_format": null,
       "colour": null,
       "elapsed": 0.008821964263916016,
       "initial": 0,
       "n": 0,
       "ncols": 111,
       "nrows": 30,
       "postfix": null,
       "prefix": "Validation sanity check",
       "rate": null,
       "total": null,
       "unit": "it",
       "unit_divisor": 1000,
       "unit_scale": false
      },
      "application/vnd.jupyter.widget-view+json": {
       "model_id": "b822da85dfdd4b478c9149e73c4e7de0",
       "version_major": 2,
       "version_minor": 0
      },
      "text/plain": [
       "Validation sanity check: 0it [00:00, ?it/s]"
      ]
     },
     "metadata": {},
     "output_type": "display_data"
    },
    {
     "data": {
      "application/json": {
       "ascii": false,
       "bar_format": null,
       "colour": null,
       "elapsed": 0.009969472885131836,
       "initial": 0,
       "n": 0,
       "ncols": 111,
       "nrows": 30,
       "postfix": null,
       "prefix": "Training",
       "rate": null,
       "total": null,
       "unit": "it",
       "unit_divisor": 1000,
       "unit_scale": false
      },
      "application/vnd.jupyter.widget-view+json": {
       "model_id": "cc716d0fca714150ba488c6f5a8a5068",
       "version_major": 2,
       "version_minor": 0
      },
      "text/plain": [
       "Training: 0it [00:00, ?it/s]"
      ]
     },
     "metadata": {},
     "output_type": "display_data"
    },
    {
     "data": {
      "application/json": {
       "ascii": false,
       "bar_format": null,
       "colour": null,
       "elapsed": 0.009491205215454102,
       "initial": 0,
       "n": 0,
       "ncols": 111,
       "nrows": 30,
       "postfix": null,
       "prefix": "Validating",
       "rate": null,
       "total": null,
       "unit": "it",
       "unit_divisor": 1000,
       "unit_scale": false
      },
      "application/vnd.jupyter.widget-view+json": {
       "model_id": "175f9cb90bec4a67bd2ca81120e0e336",
       "version_major": 2,
       "version_minor": 0
      },
      "text/plain": [
       "Validating: 0it [00:00, ?it/s]"
      ]
     },
     "metadata": {},
     "output_type": "display_data"
    },
    {
     "data": {
      "application/json": {
       "ascii": false,
       "bar_format": null,
       "colour": null,
       "elapsed": 0.009128570556640625,
       "initial": 0,
       "n": 0,
       "ncols": 111,
       "nrows": 30,
       "postfix": null,
       "prefix": "Validating",
       "rate": null,
       "total": null,
       "unit": "it",
       "unit_divisor": 1000,
       "unit_scale": false
      },
      "application/vnd.jupyter.widget-view+json": {
       "model_id": "f3c8d673d5464537a2b597542430e598",
       "version_major": 2,
       "version_minor": 0
      },
      "text/plain": [
       "Validating: 0it [00:00, ?it/s]"
      ]
     },
     "metadata": {},
     "output_type": "display_data"
    },
    {
     "name": "stderr",
     "output_type": "stream",
     "text": [
      "\u001b[32m[I 2023-11-02 17:30:34,315]\u001b[0m Trial 1 finished with value: 0.7664 and parameters: {'d_model': 32, 'factor': 5, 'n_heads': 8, 'dropout': 0.23609687153834816, 'd_ff': 128, 'e_layers': 6, 'sparsification_type': 'topQ'}. Best is trial 1 with value: 0.7664.\u001b[0m\n",
      "GPU available: False, used: False\n",
      "TPU available: False, using: 0 TPU cores\n",
      "\n",
      "  | Name          | Type                | Params\n",
      "------------------------------------------------------\n",
      "0 | model         | SiameseArchitecture | 86.1 K\n",
      "1 | loss_function | BCELoss             | 0     \n",
      "------------------------------------------------------\n",
      "86.1 K    Trainable params\n",
      "0         Non-trainable params\n",
      "86.1 K    Total params\n",
      "0.345     Total estimated model params size (MB)\n"
     ]
    },
    {
     "name": "stdout",
     "output_type": "stream",
     "text": [
      "Accuracy:0.8, ROC_AUC:0.88, PR_AUC:0.875\n",
      "best_params: {'d_model': 32, 'factor': 5, 'n_heads': 8, 'dropout': 0.23609687153834816, 'd_ff': 128, 'e_layers': 6, 'sparsification_type': 'topQ'}\n"
     ]
    },
    {
     "data": {
      "application/json": {
       "ascii": false,
       "bar_format": null,
       "colour": null,
       "elapsed": 0.008901596069335938,
       "initial": 0,
       "n": 0,
       "ncols": 111,
       "nrows": 30,
       "postfix": null,
       "prefix": "Validation sanity check",
       "rate": null,
       "total": null,
       "unit": "it",
       "unit_divisor": 1000,
       "unit_scale": false
      },
      "application/vnd.jupyter.widget-view+json": {
       "model_id": "5b80fa1e201d44a98ad791ce7af4f64c",
       "version_major": 2,
       "version_minor": 0
      },
      "text/plain": [
       "Validation sanity check: 0it [00:00, ?it/s]"
      ]
     },
     "metadata": {},
     "output_type": "display_data"
    },
    {
     "data": {
      "application/json": {
       "ascii": false,
       "bar_format": null,
       "colour": null,
       "elapsed": 0.0145111083984375,
       "initial": 0,
       "n": 0,
       "ncols": 111,
       "nrows": 30,
       "postfix": null,
       "prefix": "Training",
       "rate": null,
       "total": null,
       "unit": "it",
       "unit_divisor": 1000,
       "unit_scale": false
      },
      "application/vnd.jupyter.widget-view+json": {
       "model_id": "2ee1bcd714ea4e4e90590b5c615ee5f8",
       "version_major": 2,
       "version_minor": 0
      },
      "text/plain": [
       "Training: 0it [00:00, ?it/s]"
      ]
     },
     "metadata": {},
     "output_type": "display_data"
    },
    {
     "data": {
      "application/json": {
       "ascii": false,
       "bar_format": null,
       "colour": null,
       "elapsed": 0.009490966796875,
       "initial": 0,
       "n": 0,
       "ncols": 111,
       "nrows": 30,
       "postfix": null,
       "prefix": "Validating",
       "rate": null,
       "total": null,
       "unit": "it",
       "unit_divisor": 1000,
       "unit_scale": false
      },
      "application/vnd.jupyter.widget-view+json": {
       "model_id": "35d57a8ace5a443685020dd0c88c4c6b",
       "version_major": 2,
       "version_minor": 0
      },
      "text/plain": [
       "Validating: 0it [00:00, ?it/s]"
      ]
     },
     "metadata": {},
     "output_type": "display_data"
    },
    {
     "data": {
      "application/json": {
       "ascii": false,
       "bar_format": null,
       "colour": null,
       "elapsed": 0.010146617889404297,
       "initial": 0,
       "n": 0,
       "ncols": 111,
       "nrows": 30,
       "postfix": null,
       "prefix": "Validating",
       "rate": null,
       "total": null,
       "unit": "it",
       "unit_divisor": 1000,
       "unit_scale": false
      },
      "application/vnd.jupyter.widget-view+json": {
       "model_id": "e900a1792e1e4908ab464ddcada3862b",
       "version_major": 2,
       "version_minor": 0
      },
      "text/plain": [
       "Validating: 0it [00:00, ?it/s]"
      ]
     },
     "metadata": {},
     "output_type": "display_data"
    },
    {
     "name": "stderr",
     "output_type": "stream",
     "text": [
      "GPU available: False, used: False\n",
      "TPU available: False, using: 0 TPU cores\n",
      "\n",
      "  | Name          | Type                | Params\n",
      "------------------------------------------------------\n",
      "0 | model         | SiameseArchitecture | 86.1 K\n",
      "1 | loss_function | BCELoss             | 0     \n",
      "------------------------------------------------------\n",
      "86.1 K    Trainable params\n",
      "0         Non-trainable params\n",
      "86.1 K    Total params\n",
      "0.345     Total estimated model params size (MB)\n"
     ]
    },
    {
     "name": "stdout",
     "output_type": "stream",
     "text": [
      "Accuracy:0.5, ROC_AUC:0.782, PR_AUC:0.845\n",
      "TN: 0, FP: 25, FN: 0, TP: 25\n",
      "precision = tp / (tp + fp); recall = tp / (tp + fn)\n"
     ]
    },
    {
     "data": {
      "application/json": {
       "ascii": false,
       "bar_format": null,
       "colour": null,
       "elapsed": 0.008914947509765625,
       "initial": 0,
       "n": 0,
       "ncols": 111,
       "nrows": 30,
       "postfix": null,
       "prefix": "Validation sanity check",
       "rate": null,
       "total": null,
       "unit": "it",
       "unit_divisor": 1000,
       "unit_scale": false
      },
      "application/vnd.jupyter.widget-view+json": {
       "model_id": "56cbf1174515428eaa0d294e52466fcf",
       "version_major": 2,
       "version_minor": 0
      },
      "text/plain": [
       "Validation sanity check: 0it [00:00, ?it/s]"
      ]
     },
     "metadata": {},
     "output_type": "display_data"
    },
    {
     "data": {
      "application/json": {
       "ascii": false,
       "bar_format": null,
       "colour": null,
       "elapsed": 0.009550809860229492,
       "initial": 0,
       "n": 0,
       "ncols": 111,
       "nrows": 30,
       "postfix": null,
       "prefix": "Training",
       "rate": null,
       "total": null,
       "unit": "it",
       "unit_divisor": 1000,
       "unit_scale": false
      },
      "application/vnd.jupyter.widget-view+json": {
       "model_id": "60a6442de14a4c649f2491151818a98d",
       "version_major": 2,
       "version_minor": 0
      },
      "text/plain": [
       "Training: 0it [00:00, ?it/s]"
      ]
     },
     "metadata": {},
     "output_type": "display_data"
    },
    {
     "data": {
      "application/json": {
       "ascii": false,
       "bar_format": null,
       "colour": null,
       "elapsed": 0.009418010711669922,
       "initial": 0,
       "n": 0,
       "ncols": 111,
       "nrows": 30,
       "postfix": null,
       "prefix": "Validating",
       "rate": null,
       "total": null,
       "unit": "it",
       "unit_divisor": 1000,
       "unit_scale": false
      },
      "application/vnd.jupyter.widget-view+json": {
       "model_id": "4a8141e581bd4b74838e61d7a3845e8f",
       "version_major": 2,
       "version_minor": 0
      },
      "text/plain": [
       "Validating: 0it [00:00, ?it/s]"
      ]
     },
     "metadata": {},
     "output_type": "display_data"
    },
    {
     "data": {
      "application/json": {
       "ascii": false,
       "bar_format": null,
       "colour": null,
       "elapsed": 0.009436368942260742,
       "initial": 0,
       "n": 0,
       "ncols": 111,
       "nrows": 30,
       "postfix": null,
       "prefix": "Validating",
       "rate": null,
       "total": null,
       "unit": "it",
       "unit_divisor": 1000,
       "unit_scale": false
      },
      "application/vnd.jupyter.widget-view+json": {
       "model_id": "b700e783e3be4aacb85ca2d9d8162cfc",
       "version_major": 2,
       "version_minor": 0
      },
      "text/plain": [
       "Validating: 0it [00:00, ?it/s]"
      ]
     },
     "metadata": {},
     "output_type": "display_data"
    },
    {
     "name": "stderr",
     "output_type": "stream",
     "text": [
      "\u001b[32m[I 2023-11-02 17:30:41,738]\u001b[0m A new study created in memory with name: no-name-774a2fc9-aa52-42f3-968c-0b12a83645d4\u001b[0m\n",
      "GPU available: False, used: False\n",
      "TPU available: False, using: 0 TPU cores\n",
      "\n",
      "  | Name          | Type                | Params\n",
      "------------------------------------------------------\n",
      "0 | model         | SiameseArchitecture | 349 K \n",
      "1 | loss_function | BCELoss             | 0     \n",
      "------------------------------------------------------\n",
      "349 K     Trainable params\n",
      "0         Non-trainable params\n",
      "349 K     Total params\n",
      "1.399     Total estimated model params size (MB)\n"
     ]
    },
    {
     "name": "stdout",
     "output_type": "stream",
     "text": [
      "Accuracy:0.58, ROC_AUC:0.968, PR_AUC:0.964\n",
      "TN: 4, FP: 21, FN: 0, TP: 25\n",
      "precision = tp / (tp + fp); recall = tp / (tp + fn)\n",
      "Accuracy: 0.540 ± 0.040\n",
      "Precision: 0.522 ± 0.022\n",
      "Recall: 1.000 ± 0.000\n",
      "ROC AUC: 0.875 ± 0.093\n",
      "PR AUC: 0.905 ± 0.059\n",
      "--------------------------------------------------\n",
      "Eucl_Accuracy: 1.000 ± 0.000\n",
      "Eucl_Precision: 1.000 ± 0.000\n",
      "Eucl_Recall: 0.300 ± 0.100\n",
      "Eucl_ROC AUC: 0.650 ± 0.050\n",
      "Eucl_PR AUC: 1.000 ± 0.000\n",
      "--------------------------------------------------\n",
      "Cos_Accuracy: 1.000 ± 0.000\n",
      "Cos_Precision: 0.686 ± 0.176\n",
      "Cos_Recall: 1.000 ± 0.000\n",
      "Cos_ROC AUC: 0.720 ± 0.200\n",
      "Cos_PR AUC: 1.000 ± 0.000\n",
      "--------------------------------------------------\n",
      "\n",
      "all_results: ({'Accuracy': [0.5, 0.58], 'Precision': [0.5, 0.5434782608695652], 'Recall': [1.0, 1.0], 'ROC AUC': [0.7824, 0.968], 'PR AUC': [0.8453019087828266, 0.9642844197082588]}, {'Eucl_Accuracy': [1.0, 1.0], 'Eucl_Precision': [1.0, 1.0], 'Eucl_Recall': [0.2, 0.4], 'Eucl_ROC AUC': [0.6, 0.7], 'Eucl_PR AUC': [1.0, 1.0]}, {'Cos_Accuracy': [1.0, 1.0], 'Cos_Precision': [0.5102040816326531, 0.8620689655172413], 'Cos_Recall': [1.0, 1.0], 'Cos_ROC AUC': [0.52, 0.92], 'Cos_PR AUC': [1.0, 1.0]})\n",
      "****************************************************************************************************\n",
      "model_type: siamese_reguformer_randQ\n"
     ]
    },
    {
     "data": {
      "application/json": {
       "ascii": false,
       "bar_format": null,
       "colour": null,
       "elapsed": 0.009124994277954102,
       "initial": 0,
       "n": 0,
       "ncols": 111,
       "nrows": 30,
       "postfix": null,
       "prefix": "Validation sanity check",
       "rate": null,
       "total": null,
       "unit": "it",
       "unit_divisor": 1000,
       "unit_scale": false
      },
      "application/vnd.jupyter.widget-view+json": {
       "model_id": "da76e1527eac45f48857b9b47a8ac5f0",
       "version_major": 2,
       "version_minor": 0
      },
      "text/plain": [
       "Validation sanity check: 0it [00:00, ?it/s]"
      ]
     },
     "metadata": {},
     "output_type": "display_data"
    },
    {
     "data": {
      "application/json": {
       "ascii": false,
       "bar_format": null,
       "colour": null,
       "elapsed": 0.009108781814575195,
       "initial": 0,
       "n": 0,
       "ncols": 111,
       "nrows": 30,
       "postfix": null,
       "prefix": "Training",
       "rate": null,
       "total": null,
       "unit": "it",
       "unit_divisor": 1000,
       "unit_scale": false
      },
      "application/vnd.jupyter.widget-view+json": {
       "model_id": "73316abdae4142dfb22717d89a359dd8",
       "version_major": 2,
       "version_minor": 0
      },
      "text/plain": [
       "Training: 0it [00:00, ?it/s]"
      ]
     },
     "metadata": {},
     "output_type": "display_data"
    },
    {
     "data": {
      "application/json": {
       "ascii": false,
       "bar_format": null,
       "colour": null,
       "elapsed": 0.009191513061523438,
       "initial": 0,
       "n": 0,
       "ncols": 111,
       "nrows": 30,
       "postfix": null,
       "prefix": "Validating",
       "rate": null,
       "total": null,
       "unit": "it",
       "unit_divisor": 1000,
       "unit_scale": false
      },
      "application/vnd.jupyter.widget-view+json": {
       "model_id": "851b1f2db55f474fac16bb75070edb28",
       "version_major": 2,
       "version_minor": 0
      },
      "text/plain": [
       "Validating: 0it [00:00, ?it/s]"
      ]
     },
     "metadata": {},
     "output_type": "display_data"
    },
    {
     "data": {
      "application/json": {
       "ascii": false,
       "bar_format": null,
       "colour": null,
       "elapsed": 0.009443044662475586,
       "initial": 0,
       "n": 0,
       "ncols": 111,
       "nrows": 30,
       "postfix": null,
       "prefix": "Validating",
       "rate": null,
       "total": null,
       "unit": "it",
       "unit_divisor": 1000,
       "unit_scale": false
      },
      "application/vnd.jupyter.widget-view+json": {
       "model_id": "8e166ae021dd4125877f7f8a9b48e847",
       "version_major": 2,
       "version_minor": 0
      },
      "text/plain": [
       "Validating: 0it [00:00, ?it/s]"
      ]
     },
     "metadata": {},
     "output_type": "display_data"
    },
    {
     "name": "stderr",
     "output_type": "stream",
     "text": [
      "GPU available: False, used: False\n",
      "TPU available: False, using: 0 TPU cores\n",
      "\n",
      "  | Name          | Type                | Params\n",
      "------------------------------------------------------\n",
      "0 | model         | SiameseArchitecture | 349 K \n",
      "1 | loss_function | BCELoss             | 0     \n",
      "------------------------------------------------------\n",
      "349 K     Trainable params\n",
      "0         Non-trainable params\n",
      "349 K     Total params\n",
      "1.399     Total estimated model params size (MB)\n"
     ]
    },
    {
     "name": "stdout",
     "output_type": "stream",
     "text": [
      "Accuracy:0.65, ROC_AUC:0.733, PR_AUC:0.729\n"
     ]
    },
    {
     "data": {
      "application/json": {
       "ascii": false,
       "bar_format": null,
       "colour": null,
       "elapsed": 0.012090682983398438,
       "initial": 0,
       "n": 0,
       "ncols": 111,
       "nrows": 30,
       "postfix": null,
       "prefix": "Validation sanity check",
       "rate": null,
       "total": null,
       "unit": "it",
       "unit_divisor": 1000,
       "unit_scale": false
      },
      "application/vnd.jupyter.widget-view+json": {
       "model_id": "c68d1b69e3794f1497c6bdadbaf77270",
       "version_major": 2,
       "version_minor": 0
      },
      "text/plain": [
       "Validation sanity check: 0it [00:00, ?it/s]"
      ]
     },
     "metadata": {},
     "output_type": "display_data"
    },
    {
     "data": {
      "application/json": {
       "ascii": false,
       "bar_format": null,
       "colour": null,
       "elapsed": 0.01234889030456543,
       "initial": 0,
       "n": 0,
       "ncols": 111,
       "nrows": 30,
       "postfix": null,
       "prefix": "Training",
       "rate": null,
       "total": null,
       "unit": "it",
       "unit_divisor": 1000,
       "unit_scale": false
      },
      "application/vnd.jupyter.widget-view+json": {
       "model_id": "19cd3f85524941659b12b68616f9ddad",
       "version_major": 2,
       "version_minor": 0
      },
      "text/plain": [
       "Training: 0it [00:00, ?it/s]"
      ]
     },
     "metadata": {},
     "output_type": "display_data"
    },
    {
     "data": {
      "application/json": {
       "ascii": false,
       "bar_format": null,
       "colour": null,
       "elapsed": 0.010972976684570312,
       "initial": 0,
       "n": 0,
       "ncols": 111,
       "nrows": 30,
       "postfix": null,
       "prefix": "Validating",
       "rate": null,
       "total": null,
       "unit": "it",
       "unit_divisor": 1000,
       "unit_scale": false
      },
      "application/vnd.jupyter.widget-view+json": {
       "model_id": "27d1d070fcc042d38053da9a78e79dbe",
       "version_major": 2,
       "version_minor": 0
      },
      "text/plain": [
       "Validating: 0it [00:00, ?it/s]"
      ]
     },
     "metadata": {},
     "output_type": "display_data"
    },
    {
     "data": {
      "application/json": {
       "ascii": false,
       "bar_format": null,
       "colour": null,
       "elapsed": 0.014558553695678711,
       "initial": 0,
       "n": 0,
       "ncols": 111,
       "nrows": 30,
       "postfix": null,
       "prefix": "Validating",
       "rate": null,
       "total": null,
       "unit": "it",
       "unit_divisor": 1000,
       "unit_scale": false
      },
      "application/vnd.jupyter.widget-view+json": {
       "model_id": "e10b0ff3fa034bbb97e39055c9d8fe5c",
       "version_major": 2,
       "version_minor": 0
      },
      "text/plain": [
       "Validating: 0it [00:00, ?it/s]"
      ]
     },
     "metadata": {},
     "output_type": "display_data"
    },
    {
     "name": "stderr",
     "output_type": "stream",
     "text": [
      "\u001b[32m[I 2023-11-02 17:30:49,988]\u001b[0m Trial 0 finished with value: 0.8360000000000001 and parameters: {'d_model': 64, 'factor': 11, 'n_heads': 4, 'dropout': 0.27731081981221994, 'd_ff': 512, 'e_layers': 4, 'sparsification_type': 'randQ'}. Best is trial 0 with value: 0.8360000000000001.\u001b[0m\n",
      "GPU available: False, used: False\n",
      "TPU available: False, using: 0 TPU cores\n",
      "\n",
      "  | Name          | Type                | Params\n",
      "------------------------------------------------------\n",
      "0 | model         | SiameseArchitecture | 432 K \n",
      "1 | loss_function | BCELoss             | 0     \n",
      "------------------------------------------------------\n",
      "432 K     Trainable params\n",
      "0         Non-trainable params\n",
      "432 K     Total params\n",
      "1.731     Total estimated model params size (MB)\n"
     ]
    },
    {
     "name": "stdout",
     "output_type": "stream",
     "text": [
      "Accuracy:0.81, ROC_AUC:0.939, PR_AUC:0.94\n"
     ]
    },
    {
     "data": {
      "application/json": {
       "ascii": false,
       "bar_format": null,
       "colour": null,
       "elapsed": 0.009119987487792969,
       "initial": 0,
       "n": 0,
       "ncols": 111,
       "nrows": 30,
       "postfix": null,
       "prefix": "Validation sanity check",
       "rate": null,
       "total": null,
       "unit": "it",
       "unit_divisor": 1000,
       "unit_scale": false
      },
      "application/vnd.jupyter.widget-view+json": {
       "model_id": "6b755800254143d5844b55f291266eef",
       "version_major": 2,
       "version_minor": 0
      },
      "text/plain": [
       "Validation sanity check: 0it [00:00, ?it/s]"
      ]
     },
     "metadata": {},
     "output_type": "display_data"
    },
    {
     "data": {
      "application/json": {
       "ascii": false,
       "bar_format": null,
       "colour": null,
       "elapsed": 0.014887809753417969,
       "initial": 0,
       "n": 0,
       "ncols": 111,
       "nrows": 30,
       "postfix": null,
       "prefix": "Training",
       "rate": null,
       "total": null,
       "unit": "it",
       "unit_divisor": 1000,
       "unit_scale": false
      },
      "application/vnd.jupyter.widget-view+json": {
       "model_id": "f575a05552ca4622a528bdd450791a37",
       "version_major": 2,
       "version_minor": 0
      },
      "text/plain": [
       "Training: 0it [00:00, ?it/s]"
      ]
     },
     "metadata": {},
     "output_type": "display_data"
    },
    {
     "data": {
      "application/json": {
       "ascii": false,
       "bar_format": null,
       "colour": null,
       "elapsed": 0.009588241577148438,
       "initial": 0,
       "n": 0,
       "ncols": 111,
       "nrows": 30,
       "postfix": null,
       "prefix": "Validating",
       "rate": null,
       "total": null,
       "unit": "it",
       "unit_divisor": 1000,
       "unit_scale": false
      },
      "application/vnd.jupyter.widget-view+json": {
       "model_id": "21452d5609d147cb9e626f3776823098",
       "version_major": 2,
       "version_minor": 0
      },
      "text/plain": [
       "Validating: 0it [00:00, ?it/s]"
      ]
     },
     "metadata": {},
     "output_type": "display_data"
    },
    {
     "data": {
      "application/json": {
       "ascii": false,
       "bar_format": null,
       "colour": null,
       "elapsed": 0.009241819381713867,
       "initial": 0,
       "n": 0,
       "ncols": 111,
       "nrows": 30,
       "postfix": null,
       "prefix": "Validating",
       "rate": null,
       "total": null,
       "unit": "it",
       "unit_divisor": 1000,
       "unit_scale": false
      },
      "application/vnd.jupyter.widget-view+json": {
       "model_id": "4765ae8b1e1e4722a9724d5db4899d40",
       "version_major": 2,
       "version_minor": 0
      },
      "text/plain": [
       "Validating: 0it [00:00, ?it/s]"
      ]
     },
     "metadata": {},
     "output_type": "display_data"
    },
    {
     "name": "stderr",
     "output_type": "stream",
     "text": [
      "GPU available: False, used: False\n",
      "TPU available: False, using: 0 TPU cores\n",
      "\n",
      "  | Name          | Type                | Params\n",
      "------------------------------------------------------\n",
      "0 | model         | SiameseArchitecture | 432 K \n",
      "1 | loss_function | BCELoss             | 0     \n",
      "------------------------------------------------------\n",
      "432 K     Trainable params\n",
      "0         Non-trainable params\n",
      "432 K     Total params\n",
      "1.731     Total estimated model params size (MB)\n"
     ]
    },
    {
     "name": "stdout",
     "output_type": "stream",
     "text": [
      "Accuracy:0.56, ROC_AUC:0.578, PR_AUC:0.567\n"
     ]
    },
    {
     "data": {
      "application/json": {
       "ascii": false,
       "bar_format": null,
       "colour": null,
       "elapsed": 0.009187698364257812,
       "initial": 0,
       "n": 0,
       "ncols": 111,
       "nrows": 30,
       "postfix": null,
       "prefix": "Validation sanity check",
       "rate": null,
       "total": null,
       "unit": "it",
       "unit_divisor": 1000,
       "unit_scale": false
      },
      "application/vnd.jupyter.widget-view+json": {
       "model_id": "09b539ab3de54bd7b67bb4b88b7ae8e6",
       "version_major": 2,
       "version_minor": 0
      },
      "text/plain": [
       "Validation sanity check: 0it [00:00, ?it/s]"
      ]
     },
     "metadata": {},
     "output_type": "display_data"
    },
    {
     "data": {
      "application/json": {
       "ascii": false,
       "bar_format": null,
       "colour": null,
       "elapsed": 0.009498834609985352,
       "initial": 0,
       "n": 0,
       "ncols": 111,
       "nrows": 30,
       "postfix": null,
       "prefix": "Training",
       "rate": null,
       "total": null,
       "unit": "it",
       "unit_divisor": 1000,
       "unit_scale": false
      },
      "application/vnd.jupyter.widget-view+json": {
       "model_id": "0a13311060924e958362dfefcb017a52",
       "version_major": 2,
       "version_minor": 0
      },
      "text/plain": [
       "Training: 0it [00:00, ?it/s]"
      ]
     },
     "metadata": {},
     "output_type": "display_data"
    },
    {
     "data": {
      "application/json": {
       "ascii": false,
       "bar_format": null,
       "colour": null,
       "elapsed": 0.009613513946533203,
       "initial": 0,
       "n": 0,
       "ncols": 111,
       "nrows": 30,
       "postfix": null,
       "prefix": "Validating",
       "rate": null,
       "total": null,
       "unit": "it",
       "unit_divisor": 1000,
       "unit_scale": false
      },
      "application/vnd.jupyter.widget-view+json": {
       "model_id": "06b7eede9cd7442cb0a95684e89a8556",
       "version_major": 2,
       "version_minor": 0
      },
      "text/plain": [
       "Validating: 0it [00:00, ?it/s]"
      ]
     },
     "metadata": {},
     "output_type": "display_data"
    },
    {
     "data": {
      "application/json": {
       "ascii": false,
       "bar_format": null,
       "colour": null,
       "elapsed": 0.010115861892700195,
       "initial": 0,
       "n": 0,
       "ncols": 111,
       "nrows": 30,
       "postfix": null,
       "prefix": "Validating",
       "rate": null,
       "total": null,
       "unit": "it",
       "unit_divisor": 1000,
       "unit_scale": false
      },
      "application/vnd.jupyter.widget-view+json": {
       "model_id": "e45d0648a8044868bffb277653e59ea2",
       "version_major": 2,
       "version_minor": 0
      },
      "text/plain": [
       "Validating: 0it [00:00, ?it/s]"
      ]
     },
     "metadata": {},
     "output_type": "display_data"
    },
    {
     "name": "stderr",
     "output_type": "stream",
     "text": [
      "\u001b[32m[I 2023-11-02 17:30:59,100]\u001b[0m Trial 1 finished with value: 0.6125999999999999 and parameters: {'d_model': 64, 'factor': 3, 'n_heads': 4, 'dropout': 0.4451870914699986, 'd_ff': 512, 'e_layers': 5, 'sparsification_type': 'randQ'}. Best is trial 0 with value: 0.8360000000000001.\u001b[0m\n",
      "GPU available: False, used: False\n",
      "TPU available: False, using: 0 TPU cores\n",
      "\n",
      "  | Name          | Type                | Params\n",
      "------------------------------------------------------\n",
      "0 | model         | SiameseArchitecture | 349 K \n",
      "1 | loss_function | BCELoss             | 0     \n",
      "------------------------------------------------------\n",
      "349 K     Trainable params\n",
      "0         Non-trainable params\n",
      "349 K     Total params\n",
      "1.399     Total estimated model params size (MB)\n"
     ]
    },
    {
     "name": "stdout",
     "output_type": "stream",
     "text": [
      "Accuracy:0.6, ROC_AUC:0.647, PR_AUC:0.615\n",
      "best_params: {'d_model': 64, 'factor': 11, 'n_heads': 4, 'dropout': 0.27731081981221994, 'd_ff': 512, 'e_layers': 4, 'sparsification_type': 'randQ'}\n"
     ]
    },
    {
     "data": {
      "application/json": {
       "ascii": false,
       "bar_format": null,
       "colour": null,
       "elapsed": 0.009659528732299805,
       "initial": 0,
       "n": 0,
       "ncols": 111,
       "nrows": 30,
       "postfix": null,
       "prefix": "Validation sanity check",
       "rate": null,
       "total": null,
       "unit": "it",
       "unit_divisor": 1000,
       "unit_scale": false
      },
      "application/vnd.jupyter.widget-view+json": {
       "model_id": "760391eed0714b1cb62735941702dbe2",
       "version_major": 2,
       "version_minor": 0
      },
      "text/plain": [
       "Validation sanity check: 0it [00:00, ?it/s]"
      ]
     },
     "metadata": {},
     "output_type": "display_data"
    },
    {
     "data": {
      "application/json": {
       "ascii": false,
       "bar_format": null,
       "colour": null,
       "elapsed": 0.010074853897094727,
       "initial": 0,
       "n": 0,
       "ncols": 111,
       "nrows": 30,
       "postfix": null,
       "prefix": "Training",
       "rate": null,
       "total": null,
       "unit": "it",
       "unit_divisor": 1000,
       "unit_scale": false
      },
      "application/vnd.jupyter.widget-view+json": {
       "model_id": "b318d470c646497dbc1cfcc4c54aef0c",
       "version_major": 2,
       "version_minor": 0
      },
      "text/plain": [
       "Training: 0it [00:00, ?it/s]"
      ]
     },
     "metadata": {},
     "output_type": "display_data"
    },
    {
     "data": {
      "application/json": {
       "ascii": false,
       "bar_format": null,
       "colour": null,
       "elapsed": 0.009324073791503906,
       "initial": 0,
       "n": 0,
       "ncols": 111,
       "nrows": 30,
       "postfix": null,
       "prefix": "Validating",
       "rate": null,
       "total": null,
       "unit": "it",
       "unit_divisor": 1000,
       "unit_scale": false
      },
      "application/vnd.jupyter.widget-view+json": {
       "model_id": "715dae24ee3f48c7ab6ac96960f56c0b",
       "version_major": 2,
       "version_minor": 0
      },
      "text/plain": [
       "Validating: 0it [00:00, ?it/s]"
      ]
     },
     "metadata": {},
     "output_type": "display_data"
    },
    {
     "data": {
      "application/json": {
       "ascii": false,
       "bar_format": null,
       "colour": null,
       "elapsed": 0.01416158676147461,
       "initial": 0,
       "n": 0,
       "ncols": 111,
       "nrows": 30,
       "postfix": null,
       "prefix": "Validating",
       "rate": null,
       "total": null,
       "unit": "it",
       "unit_divisor": 1000,
       "unit_scale": false
      },
      "application/vnd.jupyter.widget-view+json": {
       "model_id": "8ad696a9869042f5aef47d193acade7b",
       "version_major": 2,
       "version_minor": 0
      },
      "text/plain": [
       "Validating: 0it [00:00, ?it/s]"
      ]
     },
     "metadata": {},
     "output_type": "display_data"
    },
    {
     "name": "stderr",
     "output_type": "stream",
     "text": [
      "GPU available: False, used: False\n",
      "TPU available: False, using: 0 TPU cores\n",
      "\n",
      "  | Name          | Type                | Params\n",
      "------------------------------------------------------\n",
      "0 | model         | SiameseArchitecture | 349 K \n",
      "1 | loss_function | BCELoss             | 0     \n",
      "------------------------------------------------------\n",
      "349 K     Trainable params\n",
      "0         Non-trainable params\n",
      "349 K     Total params\n",
      "1.399     Total estimated model params size (MB)\n"
     ]
    },
    {
     "name": "stdout",
     "output_type": "stream",
     "text": [
      "Accuracy:0.5, ROC_AUC:0.59, PR_AUC:0.566\n",
      "TN: 20, FP: 5, FN: 20, TP: 5\n",
      "precision = tp / (tp + fp); recall = tp / (tp + fn)\n"
     ]
    },
    {
     "data": {
      "application/json": {
       "ascii": false,
       "bar_format": null,
       "colour": null,
       "elapsed": 0.009726524353027344,
       "initial": 0,
       "n": 0,
       "ncols": 111,
       "nrows": 30,
       "postfix": null,
       "prefix": "Validation sanity check",
       "rate": null,
       "total": null,
       "unit": "it",
       "unit_divisor": 1000,
       "unit_scale": false
      },
      "application/vnd.jupyter.widget-view+json": {
       "model_id": "994997a17fd24880823fcea9ace41cb4",
       "version_major": 2,
       "version_minor": 0
      },
      "text/plain": [
       "Validation sanity check: 0it [00:00, ?it/s]"
      ]
     },
     "metadata": {},
     "output_type": "display_data"
    },
    {
     "data": {
      "application/json": {
       "ascii": false,
       "bar_format": null,
       "colour": null,
       "elapsed": 0.009706974029541016,
       "initial": 0,
       "n": 0,
       "ncols": 111,
       "nrows": 30,
       "postfix": null,
       "prefix": "Training",
       "rate": null,
       "total": null,
       "unit": "it",
       "unit_divisor": 1000,
       "unit_scale": false
      },
      "application/vnd.jupyter.widget-view+json": {
       "model_id": "edc03b0ea6f942ce93468534d23b5bdf",
       "version_major": 2,
       "version_minor": 0
      },
      "text/plain": [
       "Training: 0it [00:00, ?it/s]"
      ]
     },
     "metadata": {},
     "output_type": "display_data"
    },
    {
     "data": {
      "application/json": {
       "ascii": false,
       "bar_format": null,
       "colour": null,
       "elapsed": 0.010254621505737305,
       "initial": 0,
       "n": 0,
       "ncols": 111,
       "nrows": 30,
       "postfix": null,
       "prefix": "Validating",
       "rate": null,
       "total": null,
       "unit": "it",
       "unit_divisor": 1000,
       "unit_scale": false
      },
      "application/vnd.jupyter.widget-view+json": {
       "model_id": "60e8243727e04c4b9077f254df0fb24b",
       "version_major": 2,
       "version_minor": 0
      },
      "text/plain": [
       "Validating: 0it [00:00, ?it/s]"
      ]
     },
     "metadata": {},
     "output_type": "display_data"
    },
    {
     "data": {
      "application/json": {
       "ascii": false,
       "bar_format": null,
       "colour": null,
       "elapsed": 0.009731054306030273,
       "initial": 0,
       "n": 0,
       "ncols": 111,
       "nrows": 30,
       "postfix": null,
       "prefix": "Validating",
       "rate": null,
       "total": null,
       "unit": "it",
       "unit_divisor": 1000,
       "unit_scale": false
      },
      "application/vnd.jupyter.widget-view+json": {
       "model_id": "704e76d3a88e44de94a1d358817c3b8f",
       "version_major": 2,
       "version_minor": 0
      },
      "text/plain": [
       "Validating: 0it [00:00, ?it/s]"
      ]
     },
     "metadata": {},
     "output_type": "display_data"
    },
    {
     "name": "stderr",
     "output_type": "stream",
     "text": [
      "\u001b[32m[I 2023-11-02 17:31:05,958]\u001b[0m A new study created in memory with name: no-name-53a9d9fd-29ea-4fbf-821c-4b7b29bbbfbf\u001b[0m\n",
      "GPU available: False, used: False\n",
      "TPU available: False, using: 0 TPU cores\n",
      "\n",
      "  | Name          | Type                | Params\n",
      "------------------------------------------------------\n",
      "0 | model         | SiameseArchitecture | 84.5 K\n",
      "1 | loss_function | BCELoss             | 0     \n",
      "------------------------------------------------------\n",
      "84.5 K    Trainable params\n",
      "0         Non-trainable params\n",
      "84.5 K    Total params\n",
      "0.338     Total estimated model params size (MB)\n"
     ]
    },
    {
     "name": "stdout",
     "output_type": "stream",
     "text": [
      "Accuracy:0.7, ROC_AUC:0.773, PR_AUC:0.759\n",
      "TN: 23, FP: 2, FN: 13, TP: 12\n",
      "precision = tp / (tp + fp); recall = tp / (tp + fn)\n",
      "Accuracy: 0.600 ± 0.100\n",
      "Precision: 0.679 ± 0.179\n",
      "Recall: 0.340 ± 0.140\n",
      "ROC AUC: 0.682 ± 0.091\n",
      "PR AUC: 0.662 ± 0.097\n",
      "--------------------------------------------------\n",
      "Eucl_Accuracy: 1.000 ± 0.000\n",
      "Eucl_Precision: nan ± nan\n",
      "Eucl_Recall: 0.000 ± 0.000\n",
      "Eucl_ROC AUC: 0.500 ± 0.000\n",
      "Eucl_PR AUC: 1.000 ± 0.000\n",
      "--------------------------------------------------\n",
      "Cos_Accuracy: 1.000 ± 0.000\n",
      "Cos_Precision: 0.750 ± 0.250\n",
      "Cos_Recall: 1.000 ± 0.000\n",
      "Cos_ROC AUC: 0.750 ± 0.250\n",
      "Cos_PR AUC: 1.000 ± 0.000\n",
      "--------------------------------------------------\n",
      "\n",
      "all_results: ({'Accuracy': [0.5, 0.7], 'Precision': [0.5, 0.8571428571428571], 'Recall': [0.2, 0.48], 'ROC AUC': [0.5904, 0.7728], 'PR AUC': [0.565504227110098, 0.7590330489814333]}, {'Eucl_Accuracy': [1.0, 1.0], 'Eucl_Precision': [nan, nan], 'Eucl_Recall': [0.0, 0.0], 'Eucl_ROC AUC': [0.5, 0.5], 'Eucl_PR AUC': [1.0, 1.0]}, {'Cos_Accuracy': [1.0, 1.0], 'Cos_Precision': [0.5, 1.0], 'Cos_Recall': [1.0, 1.0], 'Cos_ROC AUC': [0.5, 1.0], 'Cos_PR AUC': [1.0, 1.0]})\n",
      "****************************************************************************************************\n",
      "model_type: siamese_reguformer_topK\n"
     ]
    },
    {
     "data": {
      "application/json": {
       "ascii": false,
       "bar_format": null,
       "colour": null,
       "elapsed": 0.008507490158081055,
       "initial": 0,
       "n": 0,
       "ncols": 111,
       "nrows": 30,
       "postfix": null,
       "prefix": "Validation sanity check",
       "rate": null,
       "total": null,
       "unit": "it",
       "unit_divisor": 1000,
       "unit_scale": false
      },
      "application/vnd.jupyter.widget-view+json": {
       "model_id": "1e09859bc7814b4d892947261244e910",
       "version_major": 2,
       "version_minor": 0
      },
      "text/plain": [
       "Validation sanity check: 0it [00:00, ?it/s]"
      ]
     },
     "metadata": {},
     "output_type": "display_data"
    },
    {
     "data": {
      "application/json": {
       "ascii": false,
       "bar_format": null,
       "colour": null,
       "elapsed": 0.009883642196655273,
       "initial": 0,
       "n": 0,
       "ncols": 111,
       "nrows": 30,
       "postfix": null,
       "prefix": "Training",
       "rate": null,
       "total": null,
       "unit": "it",
       "unit_divisor": 1000,
       "unit_scale": false
      },
      "application/vnd.jupyter.widget-view+json": {
       "model_id": "1c8e354f9d49442a8425a1602d87057e",
       "version_major": 2,
       "version_minor": 0
      },
      "text/plain": [
       "Training: 0it [00:00, ?it/s]"
      ]
     },
     "metadata": {},
     "output_type": "display_data"
    },
    {
     "data": {
      "application/json": {
       "ascii": false,
       "bar_format": null,
       "colour": null,
       "elapsed": 0.010439634323120117,
       "initial": 0,
       "n": 0,
       "ncols": 111,
       "nrows": 30,
       "postfix": null,
       "prefix": "Validating",
       "rate": null,
       "total": null,
       "unit": "it",
       "unit_divisor": 1000,
       "unit_scale": false
      },
      "application/vnd.jupyter.widget-view+json": {
       "model_id": "0ce29ee2b8134e04aa9b85b033be49ab",
       "version_major": 2,
       "version_minor": 0
      },
      "text/plain": [
       "Validating: 0it [00:00, ?it/s]"
      ]
     },
     "metadata": {},
     "output_type": "display_data"
    },
    {
     "data": {
      "application/json": {
       "ascii": false,
       "bar_format": null,
       "colour": null,
       "elapsed": 0.010075092315673828,
       "initial": 0,
       "n": 0,
       "ncols": 111,
       "nrows": 30,
       "postfix": null,
       "prefix": "Validating",
       "rate": null,
       "total": null,
       "unit": "it",
       "unit_divisor": 1000,
       "unit_scale": false
      },
      "application/vnd.jupyter.widget-view+json": {
       "model_id": "8c13a6af1a2c4ae39b3815c4e30210cd",
       "version_major": 2,
       "version_minor": 0
      },
      "text/plain": [
       "Validating: 0it [00:00, ?it/s]"
      ]
     },
     "metadata": {},
     "output_type": "display_data"
    },
    {
     "name": "stderr",
     "output_type": "stream",
     "text": [
      "GPU available: False, used: False\n",
      "TPU available: False, using: 0 TPU cores\n",
      "\n",
      "  | Name          | Type                | Params\n",
      "------------------------------------------------------\n",
      "0 | model         | SiameseArchitecture | 84.5 K\n",
      "1 | loss_function | BCELoss             | 0     \n",
      "------------------------------------------------------\n",
      "84.5 K    Trainable params\n",
      "0         Non-trainable params\n",
      "84.5 K    Total params\n",
      "0.338     Total estimated model params size (MB)\n"
     ]
    },
    {
     "name": "stdout",
     "output_type": "stream",
     "text": [
      "Accuracy:0.74, ROC_AUC:0.82, PR_AUC:0.827\n"
     ]
    },
    {
     "data": {
      "application/json": {
       "ascii": false,
       "bar_format": null,
       "colour": null,
       "elapsed": 0.009673357009887695,
       "initial": 0,
       "n": 0,
       "ncols": 111,
       "nrows": 30,
       "postfix": null,
       "prefix": "Validation sanity check",
       "rate": null,
       "total": null,
       "unit": "it",
       "unit_divisor": 1000,
       "unit_scale": false
      },
      "application/vnd.jupyter.widget-view+json": {
       "model_id": "5828844e155544a3a2d64a83134418c8",
       "version_major": 2,
       "version_minor": 0
      },
      "text/plain": [
       "Validation sanity check: 0it [00:00, ?it/s]"
      ]
     },
     "metadata": {},
     "output_type": "display_data"
    },
    {
     "data": {
      "application/json": {
       "ascii": false,
       "bar_format": null,
       "colour": null,
       "elapsed": 0.017390727996826172,
       "initial": 0,
       "n": 0,
       "ncols": 111,
       "nrows": 30,
       "postfix": null,
       "prefix": "Training",
       "rate": null,
       "total": null,
       "unit": "it",
       "unit_divisor": 1000,
       "unit_scale": false
      },
      "application/vnd.jupyter.widget-view+json": {
       "model_id": "2c429517964345a68204ee24de8c6e11",
       "version_major": 2,
       "version_minor": 0
      },
      "text/plain": [
       "Training: 0it [00:00, ?it/s]"
      ]
     },
     "metadata": {},
     "output_type": "display_data"
    },
    {
     "data": {
      "application/json": {
       "ascii": false,
       "bar_format": null,
       "colour": null,
       "elapsed": 0.00955057144165039,
       "initial": 0,
       "n": 0,
       "ncols": 111,
       "nrows": 30,
       "postfix": null,
       "prefix": "Validating",
       "rate": null,
       "total": null,
       "unit": "it",
       "unit_divisor": 1000,
       "unit_scale": false
      },
      "application/vnd.jupyter.widget-view+json": {
       "model_id": "4e2fbb48abd9456b88ba5556d5babaf8",
       "version_major": 2,
       "version_minor": 0
      },
      "text/plain": [
       "Validating: 0it [00:00, ?it/s]"
      ]
     },
     "metadata": {},
     "output_type": "display_data"
    },
    {
     "data": {
      "application/json": {
       "ascii": false,
       "bar_format": null,
       "colour": null,
       "elapsed": 0.009783267974853516,
       "initial": 0,
       "n": 0,
       "ncols": 111,
       "nrows": 30,
       "postfix": null,
       "prefix": "Validating",
       "rate": null,
       "total": null,
       "unit": "it",
       "unit_divisor": 1000,
       "unit_scale": false
      },
      "application/vnd.jupyter.widget-view+json": {
       "model_id": "9b247240b3b643b7900537013b79a9e3",
       "version_major": 2,
       "version_minor": 0
      },
      "text/plain": [
       "Validating: 0it [00:00, ?it/s]"
      ]
     },
     "metadata": {},
     "output_type": "display_data"
    },
    {
     "name": "stderr",
     "output_type": "stream",
     "text": [
      "\u001b[32m[I 2023-11-02 17:31:11,616]\u001b[0m Trial 0 finished with value: 0.8557999999999999 and parameters: {'d_model': 64, 'factor': 9, 'n_heads': 2, 'dropout': 0.3108427263872945, 'd_ff': 128, 'e_layers': 2, 'sparsification_type': 'topK'}. Best is trial 0 with value: 0.8557999999999999.\u001b[0m\n",
      "GPU available: False, used: False\n",
      "TPU available: False, using: 0 TPU cores\n",
      "\n",
      "  | Name          | Type                | Params\n",
      "------------------------------------------------------\n",
      "0 | model         | SiameseArchitecture | 435 K \n",
      "1 | loss_function | BCELoss             | 0     \n",
      "------------------------------------------------------\n",
      "435 K     Trainable params\n",
      "0         Non-trainable params\n",
      "435 K     Total params\n",
      "1.742     Total estimated model params size (MB)\n"
     ]
    },
    {
     "name": "stdout",
     "output_type": "stream",
     "text": [
      "Accuracy:0.8, ROC_AUC:0.892, PR_AUC:0.9\n"
     ]
    },
    {
     "data": {
      "application/json": {
       "ascii": false,
       "bar_format": null,
       "colour": null,
       "elapsed": 0.008947610855102539,
       "initial": 0,
       "n": 0,
       "ncols": 111,
       "nrows": 30,
       "postfix": null,
       "prefix": "Validation sanity check",
       "rate": null,
       "total": null,
       "unit": "it",
       "unit_divisor": 1000,
       "unit_scale": false
      },
      "application/vnd.jupyter.widget-view+json": {
       "model_id": "a11aa35237fc43489a6f88ab5687697e",
       "version_major": 2,
       "version_minor": 0
      },
      "text/plain": [
       "Validation sanity check: 0it [00:00, ?it/s]"
      ]
     },
     "metadata": {},
     "output_type": "display_data"
    },
    {
     "data": {
      "application/json": {
       "ascii": false,
       "bar_format": null,
       "colour": null,
       "elapsed": 0.014785289764404297,
       "initial": 0,
       "n": 0,
       "ncols": 111,
       "nrows": 30,
       "postfix": null,
       "prefix": "Training",
       "rate": null,
       "total": null,
       "unit": "it",
       "unit_divisor": 1000,
       "unit_scale": false
      },
      "application/vnd.jupyter.widget-view+json": {
       "model_id": "0eb3770682fc4b2692c6f724d1664478",
       "version_major": 2,
       "version_minor": 0
      },
      "text/plain": [
       "Training: 0it [00:00, ?it/s]"
      ]
     },
     "metadata": {},
     "output_type": "display_data"
    },
    {
     "data": {
      "application/json": {
       "ascii": false,
       "bar_format": null,
       "colour": null,
       "elapsed": 0.01613903045654297,
       "initial": 0,
       "n": 0,
       "ncols": 111,
       "nrows": 30,
       "postfix": null,
       "prefix": "Validating",
       "rate": null,
       "total": null,
       "unit": "it",
       "unit_divisor": 1000,
       "unit_scale": false
      },
      "application/vnd.jupyter.widget-view+json": {
       "model_id": "f22496afc51042cfaaa5034303e172d8",
       "version_major": 2,
       "version_minor": 0
      },
      "text/plain": [
       "Validating: 0it [00:00, ?it/s]"
      ]
     },
     "metadata": {},
     "output_type": "display_data"
    },
    {
     "data": {
      "application/json": {
       "ascii": false,
       "bar_format": null,
       "colour": null,
       "elapsed": 0.00903773307800293,
       "initial": 0,
       "n": 0,
       "ncols": 111,
       "nrows": 30,
       "postfix": null,
       "prefix": "Validating",
       "rate": null,
       "total": null,
       "unit": "it",
       "unit_divisor": 1000,
       "unit_scale": false
      },
      "application/vnd.jupyter.widget-view+json": {
       "model_id": "fa6e0c89026542d9b51857c1e59a688a",
       "version_major": 2,
       "version_minor": 0
      },
      "text/plain": [
       "Validating: 0it [00:00, ?it/s]"
      ]
     },
     "metadata": {},
     "output_type": "display_data"
    },
    {
     "name": "stderr",
     "output_type": "stream",
     "text": [
      "GPU available: False, used: False\n",
      "TPU available: False, using: 0 TPU cores\n",
      "\n",
      "  | Name          | Type                | Params\n",
      "------------------------------------------------------\n",
      "0 | model         | SiameseArchitecture | 435 K \n",
      "1 | loss_function | BCELoss             | 0     \n",
      "------------------------------------------------------\n",
      "435 K     Trainable params\n",
      "0         Non-trainable params\n",
      "435 K     Total params\n",
      "1.742     Total estimated model params size (MB)\n"
     ]
    },
    {
     "name": "stdout",
     "output_type": "stream",
     "text": [
      "Accuracy:0.73, ROC_AUC:0.755, PR_AUC:0.699\n"
     ]
    },
    {
     "data": {
      "application/json": {
       "ascii": false,
       "bar_format": null,
       "colour": null,
       "elapsed": 0.010479927062988281,
       "initial": 0,
       "n": 0,
       "ncols": 111,
       "nrows": 30,
       "postfix": null,
       "prefix": "Validation sanity check",
       "rate": null,
       "total": null,
       "unit": "it",
       "unit_divisor": 1000,
       "unit_scale": false
      },
      "application/vnd.jupyter.widget-view+json": {
       "model_id": "7cb94804b3ef4c8c8c716500d8d34ac5",
       "version_major": 2,
       "version_minor": 0
      },
      "text/plain": [
       "Validation sanity check: 0it [00:00, ?it/s]"
      ]
     },
     "metadata": {},
     "output_type": "display_data"
    },
    {
     "data": {
      "application/json": {
       "ascii": false,
       "bar_format": null,
       "colour": null,
       "elapsed": 0.009020090103149414,
       "initial": 0,
       "n": 0,
       "ncols": 111,
       "nrows": 30,
       "postfix": null,
       "prefix": "Training",
       "rate": null,
       "total": null,
       "unit": "it",
       "unit_divisor": 1000,
       "unit_scale": false
      },
      "application/vnd.jupyter.widget-view+json": {
       "model_id": "11b1b117f7a34c6981f7a68b3af15017",
       "version_major": 2,
       "version_minor": 0
      },
      "text/plain": [
       "Training: 0it [00:00, ?it/s]"
      ]
     },
     "metadata": {},
     "output_type": "display_data"
    },
    {
     "data": {
      "application/json": {
       "ascii": false,
       "bar_format": null,
       "colour": null,
       "elapsed": 0.010057926177978516,
       "initial": 0,
       "n": 0,
       "ncols": 111,
       "nrows": 30,
       "postfix": null,
       "prefix": "Validating",
       "rate": null,
       "total": null,
       "unit": "it",
       "unit_divisor": 1000,
       "unit_scale": false
      },
      "application/vnd.jupyter.widget-view+json": {
       "model_id": "d3b557161311437fa4abddd40b90075e",
       "version_major": 2,
       "version_minor": 0
      },
      "text/plain": [
       "Validating: 0it [00:00, ?it/s]"
      ]
     },
     "metadata": {},
     "output_type": "display_data"
    },
    {
     "data": {
      "application/json": {
       "ascii": false,
       "bar_format": null,
       "colour": null,
       "elapsed": 0.015579462051391602,
       "initial": 0,
       "n": 0,
       "ncols": 111,
       "nrows": 30,
       "postfix": null,
       "prefix": "Validating",
       "rate": null,
       "total": null,
       "unit": "it",
       "unit_divisor": 1000,
       "unit_scale": false
      },
      "application/vnd.jupyter.widget-view+json": {
       "model_id": "027d760f9e654b9cb419dff8001decef",
       "version_major": 2,
       "version_minor": 0
      },
      "text/plain": [
       "Validating: 0it [00:00, ?it/s]"
      ]
     },
     "metadata": {},
     "output_type": "display_data"
    },
    {
     "name": "stderr",
     "output_type": "stream",
     "text": [
      "\u001b[32m[I 2023-11-02 17:31:27,338]\u001b[0m Trial 1 finished with value: 0.8216 and parameters: {'d_model': 32, 'factor': 5, 'n_heads': 4, 'dropout': 0.25801430785280083, 'd_ff': 1024, 'e_layers': 6, 'sparsification_type': 'topK'}. Best is trial 0 with value: 0.8557999999999999.\u001b[0m\n",
      "GPU available: False, used: False\n",
      "TPU available: False, using: 0 TPU cores\n",
      "\n",
      "  | Name          | Type                | Params\n",
      "------------------------------------------------------\n",
      "0 | model         | SiameseArchitecture | 84.5 K\n",
      "1 | loss_function | BCELoss             | 0     \n",
      "------------------------------------------------------\n",
      "84.5 K    Trainable params\n",
      "0         Non-trainable params\n",
      "84.5 K    Total params\n",
      "0.338     Total estimated model params size (MB)\n"
     ]
    },
    {
     "name": "stdout",
     "output_type": "stream",
     "text": [
      "Accuracy:0.79, ROC_AUC:0.888, PR_AUC:0.883\n",
      "best_params: {'d_model': 64, 'factor': 9, 'n_heads': 2, 'dropout': 0.3108427263872945, 'd_ff': 128, 'e_layers': 2, 'sparsification_type': 'topK'}\n"
     ]
    },
    {
     "data": {
      "application/json": {
       "ascii": false,
       "bar_format": null,
       "colour": null,
       "elapsed": 0.014153003692626953,
       "initial": 0,
       "n": 0,
       "ncols": 111,
       "nrows": 30,
       "postfix": null,
       "prefix": "Validation sanity check",
       "rate": null,
       "total": null,
       "unit": "it",
       "unit_divisor": 1000,
       "unit_scale": false
      },
      "application/vnd.jupyter.widget-view+json": {
       "model_id": "0c4da4c080594c81a9670131e5f07282",
       "version_major": 2,
       "version_minor": 0
      },
      "text/plain": [
       "Validation sanity check: 0it [00:00, ?it/s]"
      ]
     },
     "metadata": {},
     "output_type": "display_data"
    },
    {
     "data": {
      "application/json": {
       "ascii": false,
       "bar_format": null,
       "colour": null,
       "elapsed": 0.013332128524780273,
       "initial": 0,
       "n": 0,
       "ncols": 111,
       "nrows": 30,
       "postfix": null,
       "prefix": "Training",
       "rate": null,
       "total": null,
       "unit": "it",
       "unit_divisor": 1000,
       "unit_scale": false
      },
      "application/vnd.jupyter.widget-view+json": {
       "model_id": "57f82fc13e3345619cf20d680e058bd9",
       "version_major": 2,
       "version_minor": 0
      },
      "text/plain": [
       "Training: 0it [00:00, ?it/s]"
      ]
     },
     "metadata": {},
     "output_type": "display_data"
    },
    {
     "data": {
      "application/json": {
       "ascii": false,
       "bar_format": null,
       "colour": null,
       "elapsed": 0.00963449478149414,
       "initial": 0,
       "n": 0,
       "ncols": 111,
       "nrows": 30,
       "postfix": null,
       "prefix": "Validating",
       "rate": null,
       "total": null,
       "unit": "it",
       "unit_divisor": 1000,
       "unit_scale": false
      },
      "application/vnd.jupyter.widget-view+json": {
       "model_id": "5308b646c9c1434e846c197bba0589f9",
       "version_major": 2,
       "version_minor": 0
      },
      "text/plain": [
       "Validating: 0it [00:00, ?it/s]"
      ]
     },
     "metadata": {},
     "output_type": "display_data"
    },
    {
     "data": {
      "application/json": {
       "ascii": false,
       "bar_format": null,
       "colour": null,
       "elapsed": 0.009829521179199219,
       "initial": 0,
       "n": 0,
       "ncols": 111,
       "nrows": 30,
       "postfix": null,
       "prefix": "Validating",
       "rate": null,
       "total": null,
       "unit": "it",
       "unit_divisor": 1000,
       "unit_scale": false
      },
      "application/vnd.jupyter.widget-view+json": {
       "model_id": "a1d3832f351c49679e7546d08537c3a9",
       "version_major": 2,
       "version_minor": 0
      },
      "text/plain": [
       "Validating: 0it [00:00, ?it/s]"
      ]
     },
     "metadata": {},
     "output_type": "display_data"
    },
    {
     "name": "stderr",
     "output_type": "stream",
     "text": [
      "GPU available: False, used: False\n",
      "TPU available: False, using: 0 TPU cores\n",
      "\n",
      "  | Name          | Type                | Params\n",
      "------------------------------------------------------\n",
      "0 | model         | SiameseArchitecture | 84.5 K\n",
      "1 | loss_function | BCELoss             | 0     \n",
      "------------------------------------------------------\n",
      "84.5 K    Trainable params\n",
      "0         Non-trainable params\n",
      "84.5 K    Total params\n",
      "0.338     Total estimated model params size (MB)\n"
     ]
    },
    {
     "name": "stdout",
     "output_type": "stream",
     "text": [
      "Accuracy:0.5, ROC_AUC:0.52, PR_AUC:0.5\n",
      "TN: 0, FP: 25, FN: 0, TP: 25\n",
      "precision = tp / (tp + fp); recall = tp / (tp + fn)\n"
     ]
    },
    {
     "data": {
      "application/json": {
       "ascii": false,
       "bar_format": null,
       "colour": null,
       "elapsed": 0.009412527084350586,
       "initial": 0,
       "n": 0,
       "ncols": 111,
       "nrows": 30,
       "postfix": null,
       "prefix": "Validation sanity check",
       "rate": null,
       "total": null,
       "unit": "it",
       "unit_divisor": 1000,
       "unit_scale": false
      },
      "application/vnd.jupyter.widget-view+json": {
       "model_id": "2cedb286b9404e599a403dcb41b707bb",
       "version_major": 2,
       "version_minor": 0
      },
      "text/plain": [
       "Validation sanity check: 0it [00:00, ?it/s]"
      ]
     },
     "metadata": {},
     "output_type": "display_data"
    },
    {
     "data": {
      "application/json": {
       "ascii": false,
       "bar_format": null,
       "colour": null,
       "elapsed": 0.00878143310546875,
       "initial": 0,
       "n": 0,
       "ncols": 111,
       "nrows": 30,
       "postfix": null,
       "prefix": "Training",
       "rate": null,
       "total": null,
       "unit": "it",
       "unit_divisor": 1000,
       "unit_scale": false
      },
      "application/vnd.jupyter.widget-view+json": {
       "model_id": "e84919bef1304c9890c6a1e4925fb316",
       "version_major": 2,
       "version_minor": 0
      },
      "text/plain": [
       "Training: 0it [00:00, ?it/s]"
      ]
     },
     "metadata": {},
     "output_type": "display_data"
    },
    {
     "data": {
      "application/json": {
       "ascii": false,
       "bar_format": null,
       "colour": null,
       "elapsed": 0.013940811157226562,
       "initial": 0,
       "n": 0,
       "ncols": 111,
       "nrows": 30,
       "postfix": null,
       "prefix": "Validating",
       "rate": null,
       "total": null,
       "unit": "it",
       "unit_divisor": 1000,
       "unit_scale": false
      },
      "application/vnd.jupyter.widget-view+json": {
       "model_id": "de12e2cfdb18422e9b49ffa6f6d14851",
       "version_major": 2,
       "version_minor": 0
      },
      "text/plain": [
       "Validating: 0it [00:00, ?it/s]"
      ]
     },
     "metadata": {},
     "output_type": "display_data"
    },
    {
     "data": {
      "application/json": {
       "ascii": false,
       "bar_format": null,
       "colour": null,
       "elapsed": 0.009938240051269531,
       "initial": 0,
       "n": 0,
       "ncols": 111,
       "nrows": 30,
       "postfix": null,
       "prefix": "Validating",
       "rate": null,
       "total": null,
       "unit": "it",
       "unit_divisor": 1000,
       "unit_scale": false
      },
      "application/vnd.jupyter.widget-view+json": {
       "model_id": "f1fded8ced834d728516aa22026ef1cb",
       "version_major": 2,
       "version_minor": 0
      },
      "text/plain": [
       "Validating: 0it [00:00, ?it/s]"
      ]
     },
     "metadata": {},
     "output_type": "display_data"
    },
    {
     "name": "stderr",
     "output_type": "stream",
     "text": [
      "\u001b[32m[I 2023-11-02 17:31:34,127]\u001b[0m A new study created in memory with name: no-name-4870187f-eb7d-47cf-977a-0f160d643005\u001b[0m\n",
      "GPU available: False, used: False\n",
      "TPU available: False, using: 0 TPU cores\n",
      "\n",
      "  | Name          | Type                | Params\n",
      "------------------------------------------------------\n",
      "0 | model         | SiameseArchitecture | 762 K \n",
      "1 | loss_function | BCELoss             | 0     \n",
      "------------------------------------------------------\n",
      "762 K     Trainable params\n",
      "0         Non-trainable params\n",
      "762 K     Total params\n",
      "3.052     Total estimated model params size (MB)\n"
     ]
    },
    {
     "name": "stdout",
     "output_type": "stream",
     "text": [
      "Accuracy:0.54, ROC_AUC:0.77, PR_AUC:0.761\n",
      "TN: 2, FP: 23, FN: 0, TP: 25\n",
      "precision = tp / (tp + fp); recall = tp / (tp + fn)\n",
      "Accuracy: 0.520 ± 0.020\n",
      "Precision: 0.510 ± 0.010\n",
      "Recall: 1.000 ± 0.000\n",
      "ROC AUC: 0.645 ± 0.125\n",
      "PR AUC: 0.630 ± 0.131\n",
      "--------------------------------------------------\n",
      "Eucl_Accuracy: 1.000 ± 0.000\n",
      "Eucl_Precision: nan ± nan\n",
      "Eucl_Recall: 0.000 ± 0.000\n",
      "Eucl_ROC AUC: 0.500 ± 0.000\n",
      "Eucl_PR AUC: 1.000 ± 0.000\n",
      "--------------------------------------------------\n",
      "Cos_Accuracy: 1.000 ± 0.000\n",
      "Cos_Precision: 0.500 ± 0.000\n",
      "Cos_Recall: 1.000 ± 0.000\n",
      "Cos_ROC AUC: 0.500 ± 0.000\n",
      "Cos_PR AUC: 1.000 ± 0.000\n",
      "--------------------------------------------------\n",
      "\n",
      "all_results: ({'Accuracy': [0.5, 0.54], 'Precision': [0.5, 0.5208333333333334], 'Recall': [1.0, 1.0], 'ROC AUC': [0.52, 0.7696], 'PR AUC': [0.49953753289651687, 0.7614289035228164]}, {'Eucl_Accuracy': [1.0, 1.0], 'Eucl_Precision': [nan, nan], 'Eucl_Recall': [0.0, 0.0], 'Eucl_ROC AUC': [0.5, 0.5], 'Eucl_PR AUC': [1.0, 1.0]}, {'Cos_Accuracy': [1.0, 1.0], 'Cos_Precision': [0.5, 0.5], 'Cos_Recall': [1.0, 1.0], 'Cos_ROC AUC': [0.5, 0.5], 'Cos_PR AUC': [1.0, 1.0]})\n",
      "****************************************************************************************************\n",
      "model_type: siamese_reguformer_randK\n"
     ]
    },
    {
     "data": {
      "application/json": {
       "ascii": false,
       "bar_format": null,
       "colour": null,
       "elapsed": 0.009018182754516602,
       "initial": 0,
       "n": 0,
       "ncols": 111,
       "nrows": 30,
       "postfix": null,
       "prefix": "Validation sanity check",
       "rate": null,
       "total": null,
       "unit": "it",
       "unit_divisor": 1000,
       "unit_scale": false
      },
      "application/vnd.jupyter.widget-view+json": {
       "model_id": "3b904a3581cb42eea296a48063d16a95",
       "version_major": 2,
       "version_minor": 0
      },
      "text/plain": [
       "Validation sanity check: 0it [00:00, ?it/s]"
      ]
     },
     "metadata": {},
     "output_type": "display_data"
    },
    {
     "data": {
      "application/json": {
       "ascii": false,
       "bar_format": null,
       "colour": null,
       "elapsed": 0.00972604751586914,
       "initial": 0,
       "n": 0,
       "ncols": 111,
       "nrows": 30,
       "postfix": null,
       "prefix": "Training",
       "rate": null,
       "total": null,
       "unit": "it",
       "unit_divisor": 1000,
       "unit_scale": false
      },
      "application/vnd.jupyter.widget-view+json": {
       "model_id": "1315ea764c41480abba808888b6db99b",
       "version_major": 2,
       "version_minor": 0
      },
      "text/plain": [
       "Training: 0it [00:00, ?it/s]"
      ]
     },
     "metadata": {},
     "output_type": "display_data"
    },
    {
     "data": {
      "application/json": {
       "ascii": false,
       "bar_format": null,
       "colour": null,
       "elapsed": 0.011217355728149414,
       "initial": 0,
       "n": 0,
       "ncols": 111,
       "nrows": 30,
       "postfix": null,
       "prefix": "Validating",
       "rate": null,
       "total": null,
       "unit": "it",
       "unit_divisor": 1000,
       "unit_scale": false
      },
      "application/vnd.jupyter.widget-view+json": {
       "model_id": "98ce74e382ba4b9d829715bfa124a5fc",
       "version_major": 2,
       "version_minor": 0
      },
      "text/plain": [
       "Validating: 0it [00:00, ?it/s]"
      ]
     },
     "metadata": {},
     "output_type": "display_data"
    },
    {
     "data": {
      "application/json": {
       "ascii": false,
       "bar_format": null,
       "colour": null,
       "elapsed": 0.011093378067016602,
       "initial": 0,
       "n": 0,
       "ncols": 111,
       "nrows": 30,
       "postfix": null,
       "prefix": "Validating",
       "rate": null,
       "total": null,
       "unit": "it",
       "unit_divisor": 1000,
       "unit_scale": false
      },
      "application/vnd.jupyter.widget-view+json": {
       "model_id": "4f8dae1031a64d2584e3a0a349823ce9",
       "version_major": 2,
       "version_minor": 0
      },
      "text/plain": [
       "Validating: 0it [00:00, ?it/s]"
      ]
     },
     "metadata": {},
     "output_type": "display_data"
    },
    {
     "name": "stderr",
     "output_type": "stream",
     "text": [
      "GPU available: False, used: False\n",
      "TPU available: False, using: 0 TPU cores\n",
      "\n",
      "  | Name          | Type                | Params\n",
      "------------------------------------------------------\n",
      "0 | model         | SiameseArchitecture | 762 K \n",
      "1 | loss_function | BCELoss             | 0     \n",
      "------------------------------------------------------\n",
      "762 K     Trainable params\n",
      "0         Non-trainable params\n",
      "762 K     Total params\n",
      "3.052     Total estimated model params size (MB)\n"
     ]
    },
    {
     "name": "stdout",
     "output_type": "stream",
     "text": [
      "Accuracy:0.54, ROC_AUC:0.583, PR_AUC:0.627\n"
     ]
    },
    {
     "data": {
      "application/json": {
       "ascii": false,
       "bar_format": null,
       "colour": null,
       "elapsed": 0.010147809982299805,
       "initial": 0,
       "n": 0,
       "ncols": 111,
       "nrows": 30,
       "postfix": null,
       "prefix": "Validation sanity check",
       "rate": null,
       "total": null,
       "unit": "it",
       "unit_divisor": 1000,
       "unit_scale": false
      },
      "application/vnd.jupyter.widget-view+json": {
       "model_id": "66fe5e3cf5ee45abb7be730a4d2ef4b0",
       "version_major": 2,
       "version_minor": 0
      },
      "text/plain": [
       "Validation sanity check: 0it [00:00, ?it/s]"
      ]
     },
     "metadata": {},
     "output_type": "display_data"
    },
    {
     "data": {
      "application/json": {
       "ascii": false,
       "bar_format": null,
       "colour": null,
       "elapsed": 0.01659536361694336,
       "initial": 0,
       "n": 0,
       "ncols": 111,
       "nrows": 30,
       "postfix": null,
       "prefix": "Training",
       "rate": null,
       "total": null,
       "unit": "it",
       "unit_divisor": 1000,
       "unit_scale": false
      },
      "application/vnd.jupyter.widget-view+json": {
       "model_id": "2a238398002140f9b9ae8e6c8ababed8",
       "version_major": 2,
       "version_minor": 0
      },
      "text/plain": [
       "Training: 0it [00:00, ?it/s]"
      ]
     },
     "metadata": {},
     "output_type": "display_data"
    },
    {
     "data": {
      "application/json": {
       "ascii": false,
       "bar_format": null,
       "colour": null,
       "elapsed": 0.00907444953918457,
       "initial": 0,
       "n": 0,
       "ncols": 111,
       "nrows": 30,
       "postfix": null,
       "prefix": "Validating",
       "rate": null,
       "total": null,
       "unit": "it",
       "unit_divisor": 1000,
       "unit_scale": false
      },
      "application/vnd.jupyter.widget-view+json": {
       "model_id": "9be0e3531719459f8a1db55f88039197",
       "version_major": 2,
       "version_minor": 0
      },
      "text/plain": [
       "Validating: 0it [00:00, ?it/s]"
      ]
     },
     "metadata": {},
     "output_type": "display_data"
    },
    {
     "data": {
      "application/json": {
       "ascii": false,
       "bar_format": null,
       "colour": null,
       "elapsed": 0.013960123062133789,
       "initial": 0,
       "n": 0,
       "ncols": 111,
       "nrows": 30,
       "postfix": null,
       "prefix": "Validating",
       "rate": null,
       "total": null,
       "unit": "it",
       "unit_divisor": 1000,
       "unit_scale": false
      },
      "application/vnd.jupyter.widget-view+json": {
       "model_id": "2b9d6078a0744669902342ad0b0b951a",
       "version_major": 2,
       "version_minor": 0
      },
      "text/plain": [
       "Validating: 0it [00:00, ?it/s]"
      ]
     },
     "metadata": {},
     "output_type": "display_data"
    },
    {
     "name": "stderr",
     "output_type": "stream",
     "text": [
      "\u001b[32m[I 2023-11-02 17:31:49,062]\u001b[0m Trial 0 finished with value: 0.772 and parameters: {'d_model': 64, 'factor': 11, 'n_heads': 8, 'dropout': 0.28331541612900235, 'd_ff': 1024, 'e_layers': 5, 'sparsification_type': 'randK'}. Best is trial 0 with value: 0.772.\u001b[0m\n",
      "GPU available: False, used: False\n",
      "TPU available: False, using: 0 TPU cores\n",
      "\n",
      "  | Name          | Type                | Params\n",
      "------------------------------------------------------\n",
      "0 | model         | SiameseArchitecture | 363 K \n",
      "1 | loss_function | BCELoss             | 0     \n",
      "------------------------------------------------------\n",
      "363 K     Trainable params\n",
      "0         Non-trainable params\n",
      "363 K     Total params\n",
      "1.453     Total estimated model params size (MB)\n"
     ]
    },
    {
     "name": "stdout",
     "output_type": "stream",
     "text": [
      "Accuracy:0.86, ROC_AUC:0.961, PR_AUC:0.964\n"
     ]
    },
    {
     "data": {
      "application/json": {
       "ascii": false,
       "bar_format": null,
       "colour": null,
       "elapsed": 0.008703947067260742,
       "initial": 0,
       "n": 0,
       "ncols": 111,
       "nrows": 30,
       "postfix": null,
       "prefix": "Validation sanity check",
       "rate": null,
       "total": null,
       "unit": "it",
       "unit_divisor": 1000,
       "unit_scale": false
      },
      "application/vnd.jupyter.widget-view+json": {
       "model_id": "e75fa1bada704ba68420c28415bb8ba4",
       "version_major": 2,
       "version_minor": 0
      },
      "text/plain": [
       "Validation sanity check: 0it [00:00, ?it/s]"
      ]
     },
     "metadata": {},
     "output_type": "display_data"
    },
    {
     "data": {
      "application/json": {
       "ascii": false,
       "bar_format": null,
       "colour": null,
       "elapsed": 0.009347200393676758,
       "initial": 0,
       "n": 0,
       "ncols": 111,
       "nrows": 30,
       "postfix": null,
       "prefix": "Training",
       "rate": null,
       "total": null,
       "unit": "it",
       "unit_divisor": 1000,
       "unit_scale": false
      },
      "application/vnd.jupyter.widget-view+json": {
       "model_id": "fef21a0cd8cb4f9cac1164f45fe1f7bd",
       "version_major": 2,
       "version_minor": 0
      },
      "text/plain": [
       "Training: 0it [00:00, ?it/s]"
      ]
     },
     "metadata": {},
     "output_type": "display_data"
    },
    {
     "data": {
      "application/json": {
       "ascii": false,
       "bar_format": null,
       "colour": null,
       "elapsed": 0.009748458862304688,
       "initial": 0,
       "n": 0,
       "ncols": 111,
       "nrows": 30,
       "postfix": null,
       "prefix": "Validating",
       "rate": null,
       "total": null,
       "unit": "it",
       "unit_divisor": 1000,
       "unit_scale": false
      },
      "application/vnd.jupyter.widget-view+json": {
       "model_id": "b56bf8f4933b4723a706146b80cfa1eb",
       "version_major": 2,
       "version_minor": 0
      },
      "text/plain": [
       "Validating: 0it [00:00, ?it/s]"
      ]
     },
     "metadata": {},
     "output_type": "display_data"
    },
    {
     "data": {
      "application/json": {
       "ascii": false,
       "bar_format": null,
       "colour": null,
       "elapsed": 0.00892949104309082,
       "initial": 0,
       "n": 0,
       "ncols": 111,
       "nrows": 30,
       "postfix": null,
       "prefix": "Validating",
       "rate": null,
       "total": null,
       "unit": "it",
       "unit_divisor": 1000,
       "unit_scale": false
      },
      "application/vnd.jupyter.widget-view+json": {
       "model_id": "9bbe1a20e6c24ca6b8ebfcb3d4573fb3",
       "version_major": 2,
       "version_minor": 0
      },
      "text/plain": [
       "Validating: 0it [00:00, ?it/s]"
      ]
     },
     "metadata": {},
     "output_type": "display_data"
    },
    {
     "name": "stderr",
     "output_type": "stream",
     "text": [
      "GPU available: False, used: False\n",
      "TPU available: False, using: 0 TPU cores\n",
      "\n",
      "  | Name          | Type                | Params\n",
      "------------------------------------------------------\n",
      "0 | model         | SiameseArchitecture | 363 K \n",
      "1 | loss_function | BCELoss             | 0     \n",
      "------------------------------------------------------\n",
      "363 K     Trainable params\n",
      "0         Non-trainable params\n",
      "363 K     Total params\n",
      "1.453     Total estimated model params size (MB)\n"
     ]
    },
    {
     "name": "stdout",
     "output_type": "stream",
     "text": [
      "Accuracy:0.73, ROC_AUC:0.859, PR_AUC:0.851\n"
     ]
    },
    {
     "data": {
      "application/json": {
       "ascii": false,
       "bar_format": null,
       "colour": null,
       "elapsed": 0.008651971817016602,
       "initial": 0,
       "n": 0,
       "ncols": 111,
       "nrows": 30,
       "postfix": null,
       "prefix": "Validation sanity check",
       "rate": null,
       "total": null,
       "unit": "it",
       "unit_divisor": 1000,
       "unit_scale": false
      },
      "application/vnd.jupyter.widget-view+json": {
       "model_id": "7a29871ee7674cb0924523f2572d41ac",
       "version_major": 2,
       "version_minor": 0
      },
      "text/plain": [
       "Validation sanity check: 0it [00:00, ?it/s]"
      ]
     },
     "metadata": {},
     "output_type": "display_data"
    },
    {
     "data": {
      "application/json": {
       "ascii": false,
       "bar_format": null,
       "colour": null,
       "elapsed": 0.008847236633300781,
       "initial": 0,
       "n": 0,
       "ncols": 111,
       "nrows": 30,
       "postfix": null,
       "prefix": "Training",
       "rate": null,
       "total": null,
       "unit": "it",
       "unit_divisor": 1000,
       "unit_scale": false
      },
      "application/vnd.jupyter.widget-view+json": {
       "model_id": "2dfccc861ef247e39c091c0c5ca881a2",
       "version_major": 2,
       "version_minor": 0
      },
      "text/plain": [
       "Training: 0it [00:00, ?it/s]"
      ]
     },
     "metadata": {},
     "output_type": "display_data"
    },
    {
     "data": {
      "application/json": {
       "ascii": false,
       "bar_format": null,
       "colour": null,
       "elapsed": 0.009517669677734375,
       "initial": 0,
       "n": 0,
       "ncols": 111,
       "nrows": 30,
       "postfix": null,
       "prefix": "Validating",
       "rate": null,
       "total": null,
       "unit": "it",
       "unit_divisor": 1000,
       "unit_scale": false
      },
      "application/vnd.jupyter.widget-view+json": {
       "model_id": "6e13e7fc90db4142bca93da6cb950ed2",
       "version_major": 2,
       "version_minor": 0
      },
      "text/plain": [
       "Validating: 0it [00:00, ?it/s]"
      ]
     },
     "metadata": {},
     "output_type": "display_data"
    },
    {
     "data": {
      "application/json": {
       "ascii": false,
       "bar_format": null,
       "colour": null,
       "elapsed": 0.009347677230834961,
       "initial": 0,
       "n": 0,
       "ncols": 111,
       "nrows": 30,
       "postfix": null,
       "prefix": "Validating",
       "rate": null,
       "total": null,
       "unit": "it",
       "unit_divisor": 1000,
       "unit_scale": false
      },
      "application/vnd.jupyter.widget-view+json": {
       "model_id": "c9414104457e4cb0ba840c97a6dd1058",
       "version_major": 2,
       "version_minor": 0
      },
      "text/plain": [
       "Validating: 0it [00:00, ?it/s]"
      ]
     },
     "metadata": {},
     "output_type": "display_data"
    },
    {
     "name": "stderr",
     "output_type": "stream",
     "text": [
      "\u001b[32m[I 2023-11-02 17:32:01,546]\u001b[0m Trial 1 finished with value: 0.9254 and parameters: {'d_model': 32, 'factor': 5, 'n_heads': 6, 'dropout': 0.16698321146777664, 'd_ff': 1024, 'e_layers': 5, 'sparsification_type': 'randK'}. Best is trial 1 with value: 0.9254.\u001b[0m\n",
      "GPU available: False, used: False\n",
      "TPU available: False, using: 0 TPU cores\n",
      "\n",
      "  | Name          | Type                | Params\n",
      "------------------------------------------------------\n",
      "0 | model         | SiameseArchitecture | 363 K \n",
      "1 | loss_function | BCELoss             | 0     \n",
      "------------------------------------------------------\n",
      "363 K     Trainable params\n",
      "0         Non-trainable params\n",
      "363 K     Total params\n",
      "1.453     Total estimated model params size (MB)\n"
     ]
    },
    {
     "name": "stdout",
     "output_type": "stream",
     "text": [
      "Accuracy:0.91, ROC_AUC:0.992, PR_AUC:0.992\n",
      "best_params: {'d_model': 32, 'factor': 5, 'n_heads': 6, 'dropout': 0.16698321146777664, 'd_ff': 1024, 'e_layers': 5, 'sparsification_type': 'randK'}\n"
     ]
    },
    {
     "data": {
      "application/json": {
       "ascii": false,
       "bar_format": null,
       "colour": null,
       "elapsed": 0.008980512619018555,
       "initial": 0,
       "n": 0,
       "ncols": 111,
       "nrows": 30,
       "postfix": null,
       "prefix": "Validation sanity check",
       "rate": null,
       "total": null,
       "unit": "it",
       "unit_divisor": 1000,
       "unit_scale": false
      },
      "application/vnd.jupyter.widget-view+json": {
       "model_id": "3d825b4dfbe44850b8f7c74569b3c4bd",
       "version_major": 2,
       "version_minor": 0
      },
      "text/plain": [
       "Validation sanity check: 0it [00:00, ?it/s]"
      ]
     },
     "metadata": {},
     "output_type": "display_data"
    },
    {
     "data": {
      "application/json": {
       "ascii": false,
       "bar_format": null,
       "colour": null,
       "elapsed": 0.010033607482910156,
       "initial": 0,
       "n": 0,
       "ncols": 111,
       "nrows": 30,
       "postfix": null,
       "prefix": "Training",
       "rate": null,
       "total": null,
       "unit": "it",
       "unit_divisor": 1000,
       "unit_scale": false
      },
      "application/vnd.jupyter.widget-view+json": {
       "model_id": "9fd41a89ab904a779b6f7384ee2a5591",
       "version_major": 2,
       "version_minor": 0
      },
      "text/plain": [
       "Training: 0it [00:00, ?it/s]"
      ]
     },
     "metadata": {},
     "output_type": "display_data"
    },
    {
     "data": {
      "application/json": {
       "ascii": false,
       "bar_format": null,
       "colour": null,
       "elapsed": 0.01398015022277832,
       "initial": 0,
       "n": 0,
       "ncols": 111,
       "nrows": 30,
       "postfix": null,
       "prefix": "Validating",
       "rate": null,
       "total": null,
       "unit": "it",
       "unit_divisor": 1000,
       "unit_scale": false
      },
      "application/vnd.jupyter.widget-view+json": {
       "model_id": "bd56d6a4a038458ba6971374d293720f",
       "version_major": 2,
       "version_minor": 0
      },
      "text/plain": [
       "Validating: 0it [00:00, ?it/s]"
      ]
     },
     "metadata": {},
     "output_type": "display_data"
    },
    {
     "data": {
      "application/json": {
       "ascii": false,
       "bar_format": null,
       "colour": null,
       "elapsed": 0.009643793106079102,
       "initial": 0,
       "n": 0,
       "ncols": 111,
       "nrows": 30,
       "postfix": null,
       "prefix": "Validating",
       "rate": null,
       "total": null,
       "unit": "it",
       "unit_divisor": 1000,
       "unit_scale": false
      },
      "application/vnd.jupyter.widget-view+json": {
       "model_id": "ad815c1797d14c4aa2acdb52080516eb",
       "version_major": 2,
       "version_minor": 0
      },
      "text/plain": [
       "Validating: 0it [00:00, ?it/s]"
      ]
     },
     "metadata": {},
     "output_type": "display_data"
    },
    {
     "name": "stderr",
     "output_type": "stream",
     "text": [
      "GPU available: False, used: False\n",
      "TPU available: False, using: 0 TPU cores\n",
      "\n",
      "  | Name          | Type                | Params\n",
      "------------------------------------------------------\n",
      "0 | model         | SiameseArchitecture | 363 K \n",
      "1 | loss_function | BCELoss             | 0     \n",
      "------------------------------------------------------\n",
      "363 K     Trainable params\n",
      "0         Non-trainable params\n",
      "363 K     Total params\n",
      "1.453     Total estimated model params size (MB)\n"
     ]
    },
    {
     "name": "stdout",
     "output_type": "stream",
     "text": [
      "Accuracy:0.66, ROC_AUC:0.965, PR_AUC:0.97\n",
      "TN: 8, FP: 17, FN: 0, TP: 25\n",
      "precision = tp / (tp + fp); recall = tp / (tp + fn)\n"
     ]
    },
    {
     "data": {
      "application/json": {
       "ascii": false,
       "bar_format": null,
       "colour": null,
       "elapsed": 0.009854555130004883,
       "initial": 0,
       "n": 0,
       "ncols": 111,
       "nrows": 30,
       "postfix": null,
       "prefix": "Validation sanity check",
       "rate": null,
       "total": null,
       "unit": "it",
       "unit_divisor": 1000,
       "unit_scale": false
      },
      "application/vnd.jupyter.widget-view+json": {
       "model_id": "575fba1f9a644de5879204657f7ba4cb",
       "version_major": 2,
       "version_minor": 0
      },
      "text/plain": [
       "Validation sanity check: 0it [00:00, ?it/s]"
      ]
     },
     "metadata": {},
     "output_type": "display_data"
    },
    {
     "data": {
      "application/json": {
       "ascii": false,
       "bar_format": null,
       "colour": null,
       "elapsed": 0.009769916534423828,
       "initial": 0,
       "n": 0,
       "ncols": 111,
       "nrows": 30,
       "postfix": null,
       "prefix": "Training",
       "rate": null,
       "total": null,
       "unit": "it",
       "unit_divisor": 1000,
       "unit_scale": false
      },
      "application/vnd.jupyter.widget-view+json": {
       "model_id": "29ca4321ccb140769e84930b251fd969",
       "version_major": 2,
       "version_minor": 0
      },
      "text/plain": [
       "Training: 0it [00:00, ?it/s]"
      ]
     },
     "metadata": {},
     "output_type": "display_data"
    },
    {
     "data": {
      "application/json": {
       "ascii": false,
       "bar_format": null,
       "colour": null,
       "elapsed": 0.010061502456665039,
       "initial": 0,
       "n": 0,
       "ncols": 111,
       "nrows": 30,
       "postfix": null,
       "prefix": "Validating",
       "rate": null,
       "total": null,
       "unit": "it",
       "unit_divisor": 1000,
       "unit_scale": false
      },
      "application/vnd.jupyter.widget-view+json": {
       "model_id": "3b039d47172a40c2bcaceae2b90cbe93",
       "version_major": 2,
       "version_minor": 0
      },
      "text/plain": [
       "Validating: 0it [00:00, ?it/s]"
      ]
     },
     "metadata": {},
     "output_type": "display_data"
    },
    {
     "data": {
      "application/json": {
       "ascii": false,
       "bar_format": null,
       "colour": null,
       "elapsed": 0.009513616561889648,
       "initial": 0,
       "n": 0,
       "ncols": 111,
       "nrows": 30,
       "postfix": null,
       "prefix": "Validating",
       "rate": null,
       "total": null,
       "unit": "it",
       "unit_divisor": 1000,
       "unit_scale": false
      },
      "application/vnd.jupyter.widget-view+json": {
       "model_id": "ca2c5d2b10754ef186f74ca5895dc5e4",
       "version_major": 2,
       "version_minor": 0
      },
      "text/plain": [
       "Validating: 0it [00:00, ?it/s]"
      ]
     },
     "metadata": {},
     "output_type": "display_data"
    },
    {
     "name": "stderr",
     "output_type": "stream",
     "text": [
      "\u001b[32m[I 2023-11-02 17:32:11,927]\u001b[0m A new study created in memory with name: no-name-7be5be9a-2b99-444c-a971-9dae7066c6ba\u001b[0m\n",
      "GPU available: False, used: False\n",
      "TPU available: False, using: 0 TPU cores\n",
      "\n",
      "  | Name          | Type                | Params\n",
      "------------------------------------------------------\n",
      "0 | model         | SiameseArchitecture | 181 K \n",
      "1 | loss_function | BCELoss             | 0     \n",
      "------------------------------------------------------\n",
      "181 K     Trainable params\n",
      "0         Non-trainable params\n",
      "181 K     Total params\n",
      "0.726     Total estimated model params size (MB)\n"
     ]
    },
    {
     "name": "stdout",
     "output_type": "stream",
     "text": [
      "Accuracy:0.76, ROC_AUC:1.0, PR_AUC:1.0\n",
      "TN: 13, FP: 12, FN: 0, TP: 25\n",
      "precision = tp / (tp + fp); recall = tp / (tp + fn)\n",
      "Accuracy: 0.710 ± 0.050\n",
      "Precision: 0.635 ± 0.040\n",
      "Recall: 1.000 ± 0.000\n",
      "ROC AUC: 0.982 ± 0.018\n",
      "PR AUC: 0.985 ± 0.015\n",
      "--------------------------------------------------\n",
      "Eucl_Accuracy: 1.000 ± 0.000\n",
      "Eucl_Precision: 1.000 ± 0.000\n",
      "Eucl_Recall: 0.360 ± 0.120\n",
      "Eucl_ROC AUC: 0.680 ± 0.060\n",
      "Eucl_PR AUC: 1.000 ± 0.000\n",
      "--------------------------------------------------\n",
      "Cos_Accuracy: 1.000 ± 0.000\n",
      "Cos_Precision: 1.000 ± 0.000\n",
      "Cos_Recall: 1.000 ± 0.000\n",
      "Cos_ROC AUC: 1.000 ± 0.000\n",
      "Cos_PR AUC: 1.000 ± 0.000\n",
      "--------------------------------------------------\n",
      "\n",
      "all_results: ({'Accuracy': [0.66, 0.76], 'Precision': [0.5952380952380952, 0.6756756756756757], 'Recall': [1.0, 1.0], 'ROC AUC': [0.9648, 1.0], 'PR AUC': [0.96971743248364, 1.0]}, {'Eucl_Accuracy': [1.0, 1.0], 'Eucl_Precision': [1.0, 1.0], 'Eucl_Recall': [0.24, 0.48], 'Eucl_ROC AUC': [0.62, 0.74], 'Eucl_PR AUC': [1.0, 1.0]}, {'Cos_Accuracy': [1.0, 1.0], 'Cos_Precision': [1.0, 1.0], 'Cos_Recall': [1.0, 1.0], 'Cos_ROC AUC': [1.0, 1.0], 'Cos_PR AUC': [1.0, 1.0]})\n",
      "****************************************************************************************************\n",
      "model_type: siamese_reguformer_topQ_topK\n"
     ]
    },
    {
     "data": {
      "application/json": {
       "ascii": false,
       "bar_format": null,
       "colour": null,
       "elapsed": 0.008921384811401367,
       "initial": 0,
       "n": 0,
       "ncols": 111,
       "nrows": 30,
       "postfix": null,
       "prefix": "Validation sanity check",
       "rate": null,
       "total": null,
       "unit": "it",
       "unit_divisor": 1000,
       "unit_scale": false
      },
      "application/vnd.jupyter.widget-view+json": {
       "model_id": "199ff65c0837460086b37bddf7de15f6",
       "version_major": 2,
       "version_minor": 0
      },
      "text/plain": [
       "Validation sanity check: 0it [00:00, ?it/s]"
      ]
     },
     "metadata": {},
     "output_type": "display_data"
    },
    {
     "data": {
      "application/json": {
       "ascii": false,
       "bar_format": null,
       "colour": null,
       "elapsed": 0.01006460189819336,
       "initial": 0,
       "n": 0,
       "ncols": 111,
       "nrows": 30,
       "postfix": null,
       "prefix": "Training",
       "rate": null,
       "total": null,
       "unit": "it",
       "unit_divisor": 1000,
       "unit_scale": false
      },
      "application/vnd.jupyter.widget-view+json": {
       "model_id": "f83f1f5143d843ca8d73f2d33b23eb7c",
       "version_major": 2,
       "version_minor": 0
      },
      "text/plain": [
       "Training: 0it [00:00, ?it/s]"
      ]
     },
     "metadata": {},
     "output_type": "display_data"
    },
    {
     "data": {
      "application/json": {
       "ascii": false,
       "bar_format": null,
       "colour": null,
       "elapsed": 0.009433507919311523,
       "initial": 0,
       "n": 0,
       "ncols": 111,
       "nrows": 30,
       "postfix": null,
       "prefix": "Validating",
       "rate": null,
       "total": null,
       "unit": "it",
       "unit_divisor": 1000,
       "unit_scale": false
      },
      "application/vnd.jupyter.widget-view+json": {
       "model_id": "fd1ebc84ccf4498aac1a36586630f2cc",
       "version_major": 2,
       "version_minor": 0
      },
      "text/plain": [
       "Validating: 0it [00:00, ?it/s]"
      ]
     },
     "metadata": {},
     "output_type": "display_data"
    },
    {
     "data": {
      "application/json": {
       "ascii": false,
       "bar_format": null,
       "colour": null,
       "elapsed": 0.010754108428955078,
       "initial": 0,
       "n": 0,
       "ncols": 111,
       "nrows": 30,
       "postfix": null,
       "prefix": "Validating",
       "rate": null,
       "total": null,
       "unit": "it",
       "unit_divisor": 1000,
       "unit_scale": false
      },
      "application/vnd.jupyter.widget-view+json": {
       "model_id": "fcb1d027a3764d58b0a4640c45e1897a",
       "version_major": 2,
       "version_minor": 0
      },
      "text/plain": [
       "Validating: 0it [00:00, ?it/s]"
      ]
     },
     "metadata": {},
     "output_type": "display_data"
    },
    {
     "name": "stderr",
     "output_type": "stream",
     "text": [
      "GPU available: False, used: False\n",
      "TPU available: False, using: 0 TPU cores\n",
      "\n",
      "  | Name          | Type                | Params\n",
      "------------------------------------------------------\n",
      "0 | model         | SiameseArchitecture | 181 K \n",
      "1 | loss_function | BCELoss             | 0     \n",
      "------------------------------------------------------\n",
      "181 K     Trainable params\n",
      "0         Non-trainable params\n",
      "181 K     Total params\n",
      "0.726     Total estimated model params size (MB)\n"
     ]
    },
    {
     "name": "stdout",
     "output_type": "stream",
     "text": [
      "Accuracy:0.67, ROC_AUC:0.728, PR_AUC:0.743\n"
     ]
    },
    {
     "data": {
      "application/json": {
       "ascii": false,
       "bar_format": null,
       "colour": null,
       "elapsed": 0.009394407272338867,
       "initial": 0,
       "n": 0,
       "ncols": 111,
       "nrows": 30,
       "postfix": null,
       "prefix": "Validation sanity check",
       "rate": null,
       "total": null,
       "unit": "it",
       "unit_divisor": 1000,
       "unit_scale": false
      },
      "application/vnd.jupyter.widget-view+json": {
       "model_id": "d4b6f7d366644c23897ede6074f28f19",
       "version_major": 2,
       "version_minor": 0
      },
      "text/plain": [
       "Validation sanity check: 0it [00:00, ?it/s]"
      ]
     },
     "metadata": {},
     "output_type": "display_data"
    },
    {
     "data": {
      "application/json": {
       "ascii": false,
       "bar_format": null,
       "colour": null,
       "elapsed": 0.010538578033447266,
       "initial": 0,
       "n": 0,
       "ncols": 111,
       "nrows": 30,
       "postfix": null,
       "prefix": "Training",
       "rate": null,
       "total": null,
       "unit": "it",
       "unit_divisor": 1000,
       "unit_scale": false
      },
      "application/vnd.jupyter.widget-view+json": {
       "model_id": "75b5925ef201490fa167517919b60b62",
       "version_major": 2,
       "version_minor": 0
      },
      "text/plain": [
       "Training: 0it [00:00, ?it/s]"
      ]
     },
     "metadata": {},
     "output_type": "display_data"
    },
    {
     "data": {
      "application/json": {
       "ascii": false,
       "bar_format": null,
       "colour": null,
       "elapsed": 0.010051250457763672,
       "initial": 0,
       "n": 0,
       "ncols": 111,
       "nrows": 30,
       "postfix": null,
       "prefix": "Validating",
       "rate": null,
       "total": null,
       "unit": "it",
       "unit_divisor": 1000,
       "unit_scale": false
      },
      "application/vnd.jupyter.widget-view+json": {
       "model_id": "79d42dd71e694f54b8c30d9dd001b000",
       "version_major": 2,
       "version_minor": 0
      },
      "text/plain": [
       "Validating: 0it [00:00, ?it/s]"
      ]
     },
     "metadata": {},
     "output_type": "display_data"
    },
    {
     "data": {
      "application/json": {
       "ascii": false,
       "bar_format": null,
       "colour": null,
       "elapsed": 0.009758472442626953,
       "initial": 0,
       "n": 0,
       "ncols": 111,
       "nrows": 30,
       "postfix": null,
       "prefix": "Validating",
       "rate": null,
       "total": null,
       "unit": "it",
       "unit_divisor": 1000,
       "unit_scale": false
      },
      "application/vnd.jupyter.widget-view+json": {
       "model_id": "d76e1145ba52425ba38d8b8cddb45250",
       "version_major": 2,
       "version_minor": 0
      },
      "text/plain": [
       "Validating: 0it [00:00, ?it/s]"
      ]
     },
     "metadata": {},
     "output_type": "display_data"
    },
    {
     "name": "stderr",
     "output_type": "stream",
     "text": [
      "\u001b[32m[I 2023-11-02 17:32:20,384]\u001b[0m Trial 0 finished with value: 0.7544 and parameters: {'d_model': 64, 'factor': 5, 'n_heads': 6, 'dropout': 0.27539061998425535, 'd_ff': 512, 'e_layers': 2, 'sparsification_type': 'topQ_topK'}. Best is trial 0 with value: 0.7544.\u001b[0m\n",
      "GPU available: False, used: False\n",
      "TPU available: False, using: 0 TPU cores\n",
      "\n",
      "  | Name          | Type                | Params\n",
      "------------------------------------------------------\n",
      "0 | model         | SiameseArchitecture | 364 K \n",
      "1 | loss_function | BCELoss             | 0     \n",
      "------------------------------------------------------\n",
      "364 K     Trainable params\n",
      "0         Non-trainable params\n",
      "364 K     Total params\n",
      "1.459     Total estimated model params size (MB)\n"
     ]
    },
    {
     "name": "stdout",
     "output_type": "stream",
     "text": [
      "Accuracy:0.69, ROC_AUC:0.78, PR_AUC:0.726\n"
     ]
    },
    {
     "data": {
      "application/json": {
       "ascii": false,
       "bar_format": null,
       "colour": null,
       "elapsed": 0.009430408477783203,
       "initial": 0,
       "n": 0,
       "ncols": 111,
       "nrows": 30,
       "postfix": null,
       "prefix": "Validation sanity check",
       "rate": null,
       "total": null,
       "unit": "it",
       "unit_divisor": 1000,
       "unit_scale": false
      },
      "application/vnd.jupyter.widget-view+json": {
       "model_id": "20991d035db544ce85cdf0a8ba84a968",
       "version_major": 2,
       "version_minor": 0
      },
      "text/plain": [
       "Validation sanity check: 0it [00:00, ?it/s]"
      ]
     },
     "metadata": {},
     "output_type": "display_data"
    },
    {
     "data": {
      "application/json": {
       "ascii": false,
       "bar_format": null,
       "colour": null,
       "elapsed": 0.01589512825012207,
       "initial": 0,
       "n": 0,
       "ncols": 111,
       "nrows": 30,
       "postfix": null,
       "prefix": "Training",
       "rate": null,
       "total": null,
       "unit": "it",
       "unit_divisor": 1000,
       "unit_scale": false
      },
      "application/vnd.jupyter.widget-view+json": {
       "model_id": "852b369c1ce24f3b80a86ef026839db8",
       "version_major": 2,
       "version_minor": 0
      },
      "text/plain": [
       "Training: 0it [00:00, ?it/s]"
      ]
     },
     "metadata": {},
     "output_type": "display_data"
    },
    {
     "data": {
      "application/json": {
       "ascii": false,
       "bar_format": null,
       "colour": null,
       "elapsed": 0.010060548782348633,
       "initial": 0,
       "n": 0,
       "ncols": 111,
       "nrows": 30,
       "postfix": null,
       "prefix": "Validating",
       "rate": null,
       "total": null,
       "unit": "it",
       "unit_divisor": 1000,
       "unit_scale": false
      },
      "application/vnd.jupyter.widget-view+json": {
       "model_id": "eed2cb388c9449bd9a6b4f4e30a4937a",
       "version_major": 2,
       "version_minor": 0
      },
      "text/plain": [
       "Validating: 0it [00:00, ?it/s]"
      ]
     },
     "metadata": {},
     "output_type": "display_data"
    },
    {
     "data": {
      "application/json": {
       "ascii": false,
       "bar_format": null,
       "colour": null,
       "elapsed": 0.010216236114501953,
       "initial": 0,
       "n": 0,
       "ncols": 111,
       "nrows": 30,
       "postfix": null,
       "prefix": "Validating",
       "rate": null,
       "total": null,
       "unit": "it",
       "unit_divisor": 1000,
       "unit_scale": false
      },
      "application/vnd.jupyter.widget-view+json": {
       "model_id": "4c96ee715505424f8e736ec5746752fd",
       "version_major": 2,
       "version_minor": 0
      },
      "text/plain": [
       "Validating: 0it [00:00, ?it/s]"
      ]
     },
     "metadata": {},
     "output_type": "display_data"
    },
    {
     "name": "stderr",
     "output_type": "stream",
     "text": [
      "GPU available: False, used: False\n",
      "TPU available: False, using: 0 TPU cores\n",
      "\n",
      "  | Name          | Type                | Params\n",
      "------------------------------------------------------\n",
      "0 | model         | SiameseArchitecture | 364 K \n",
      "1 | loss_function | BCELoss             | 0     \n",
      "------------------------------------------------------\n",
      "364 K     Trainable params\n",
      "0         Non-trainable params\n",
      "364 K     Total params\n",
      "1.459     Total estimated model params size (MB)\n"
     ]
    },
    {
     "name": "stdout",
     "output_type": "stream",
     "text": [
      "Accuracy:0.42, ROC_AUC:0.415, PR_AUC:0.516\n"
     ]
    },
    {
     "data": {
      "application/json": {
       "ascii": false,
       "bar_format": null,
       "colour": null,
       "elapsed": 0.009043455123901367,
       "initial": 0,
       "n": 0,
       "ncols": 111,
       "nrows": 30,
       "postfix": null,
       "prefix": "Validation sanity check",
       "rate": null,
       "total": null,
       "unit": "it",
       "unit_divisor": 1000,
       "unit_scale": false
      },
      "application/vnd.jupyter.widget-view+json": {
       "model_id": "bc6ca2e76e5f49e3865f6a5c424e40e5",
       "version_major": 2,
       "version_minor": 0
      },
      "text/plain": [
       "Validation sanity check: 0it [00:00, ?it/s]"
      ]
     },
     "metadata": {},
     "output_type": "display_data"
    },
    {
     "data": {
      "application/json": {
       "ascii": false,
       "bar_format": null,
       "colour": null,
       "elapsed": 0.010412454605102539,
       "initial": 0,
       "n": 0,
       "ncols": 111,
       "nrows": 30,
       "postfix": null,
       "prefix": "Training",
       "rate": null,
       "total": null,
       "unit": "it",
       "unit_divisor": 1000,
       "unit_scale": false
      },
      "application/vnd.jupyter.widget-view+json": {
       "model_id": "aff6823046b84b9ebfc793f4906d94e7",
       "version_major": 2,
       "version_minor": 0
      },
      "text/plain": [
       "Training: 0it [00:00, ?it/s]"
      ]
     },
     "metadata": {},
     "output_type": "display_data"
    },
    {
     "data": {
      "application/json": {
       "ascii": false,
       "bar_format": null,
       "colour": null,
       "elapsed": 0.013426065444946289,
       "initial": 0,
       "n": 0,
       "ncols": 111,
       "nrows": 30,
       "postfix": null,
       "prefix": "Validating",
       "rate": null,
       "total": null,
       "unit": "it",
       "unit_divisor": 1000,
       "unit_scale": false
      },
      "application/vnd.jupyter.widget-view+json": {
       "model_id": "222a51127ac04722b6dbad6926d864bc",
       "version_major": 2,
       "version_minor": 0
      },
      "text/plain": [
       "Validating: 0it [00:00, ?it/s]"
      ]
     },
     "metadata": {},
     "output_type": "display_data"
    },
    {
     "data": {
      "application/json": {
       "ascii": false,
       "bar_format": null,
       "colour": null,
       "elapsed": 0.009187936782836914,
       "initial": 0,
       "n": 0,
       "ncols": 111,
       "nrows": 30,
       "postfix": null,
       "prefix": "Validating",
       "rate": null,
       "total": null,
       "unit": "it",
       "unit_divisor": 1000,
       "unit_scale": false
      },
      "application/vnd.jupyter.widget-view+json": {
       "model_id": "e677e03ab61d4102a2e09f15740b85a8",
       "version_major": 2,
       "version_minor": 0
      },
      "text/plain": [
       "Validating: 0it [00:00, ?it/s]"
      ]
     },
     "metadata": {},
     "output_type": "display_data"
    },
    {
     "name": "stderr",
     "output_type": "stream",
     "text": [
      "\u001b[32m[I 2023-11-02 17:32:34,629]\u001b[0m Trial 1 finished with value: 0.5 and parameters: {'d_model': 32, 'factor': 9, 'n_heads': 2, 'dropout': 0.45269574891036146, 'd_ff': 1024, 'e_layers': 5, 'sparsification_type': 'topQ_topK'}. Best is trial 0 with value: 0.7544.\u001b[0m\n",
      "GPU available: False, used: False\n",
      "TPU available: False, using: 0 TPU cores\n",
      "\n",
      "  | Name          | Type                | Params\n",
      "------------------------------------------------------\n",
      "0 | model         | SiameseArchitecture | 181 K \n",
      "1 | loss_function | BCELoss             | 0     \n",
      "------------------------------------------------------\n",
      "181 K     Trainable params\n",
      "0         Non-trainable params\n",
      "181 K     Total params\n",
      "0.726     Total estimated model params size (MB)\n"
     ]
    },
    {
     "name": "stdout",
     "output_type": "stream",
     "text": [
      "Accuracy:0.58, ROC_AUC:0.585, PR_AUC:0.578\n",
      "best_params: {'d_model': 64, 'factor': 5, 'n_heads': 6, 'dropout': 0.27539061998425535, 'd_ff': 512, 'e_layers': 2, 'sparsification_type': 'topQ_topK'}\n"
     ]
    },
    {
     "data": {
      "application/json": {
       "ascii": false,
       "bar_format": null,
       "colour": null,
       "elapsed": 0.009243965148925781,
       "initial": 0,
       "n": 0,
       "ncols": 111,
       "nrows": 30,
       "postfix": null,
       "prefix": "Validation sanity check",
       "rate": null,
       "total": null,
       "unit": "it",
       "unit_divisor": 1000,
       "unit_scale": false
      },
      "application/vnd.jupyter.widget-view+json": {
       "model_id": "4228b94ddb69449ab0f968f43e8c2382",
       "version_major": 2,
       "version_minor": 0
      },
      "text/plain": [
       "Validation sanity check: 0it [00:00, ?it/s]"
      ]
     },
     "metadata": {},
     "output_type": "display_data"
    },
    {
     "data": {
      "application/json": {
       "ascii": false,
       "bar_format": null,
       "colour": null,
       "elapsed": 0.010187387466430664,
       "initial": 0,
       "n": 0,
       "ncols": 111,
       "nrows": 30,
       "postfix": null,
       "prefix": "Training",
       "rate": null,
       "total": null,
       "unit": "it",
       "unit_divisor": 1000,
       "unit_scale": false
      },
      "application/vnd.jupyter.widget-view+json": {
       "model_id": "7ce737eb4de84092bec9b713f698304f",
       "version_major": 2,
       "version_minor": 0
      },
      "text/plain": [
       "Training: 0it [00:00, ?it/s]"
      ]
     },
     "metadata": {},
     "output_type": "display_data"
    },
    {
     "data": {
      "application/json": {
       "ascii": false,
       "bar_format": null,
       "colour": null,
       "elapsed": 0.009863615036010742,
       "initial": 0,
       "n": 0,
       "ncols": 111,
       "nrows": 30,
       "postfix": null,
       "prefix": "Validating",
       "rate": null,
       "total": null,
       "unit": "it",
       "unit_divisor": 1000,
       "unit_scale": false
      },
      "application/vnd.jupyter.widget-view+json": {
       "model_id": "42a3d490abd3445181296523362a1f85",
       "version_major": 2,
       "version_minor": 0
      },
      "text/plain": [
       "Validating: 0it [00:00, ?it/s]"
      ]
     },
     "metadata": {},
     "output_type": "display_data"
    },
    {
     "data": {
      "application/json": {
       "ascii": false,
       "bar_format": null,
       "colour": null,
       "elapsed": 0.010250091552734375,
       "initial": 0,
       "n": 0,
       "ncols": 111,
       "nrows": 30,
       "postfix": null,
       "prefix": "Validating",
       "rate": null,
       "total": null,
       "unit": "it",
       "unit_divisor": 1000,
       "unit_scale": false
      },
      "application/vnd.jupyter.widget-view+json": {
       "model_id": "6f41ea28cf1141c59475100ecb025158",
       "version_major": 2,
       "version_minor": 0
      },
      "text/plain": [
       "Validating: 0it [00:00, ?it/s]"
      ]
     },
     "metadata": {},
     "output_type": "display_data"
    },
    {
     "name": "stderr",
     "output_type": "stream",
     "text": [
      "GPU available: False, used: False\n",
      "TPU available: False, using: 0 TPU cores\n",
      "\n",
      "  | Name          | Type                | Params\n",
      "------------------------------------------------------\n",
      "0 | model         | SiameseArchitecture | 181 K \n",
      "1 | loss_function | BCELoss             | 0     \n",
      "------------------------------------------------------\n",
      "181 K     Trainable params\n",
      "0         Non-trainable params\n",
      "181 K     Total params\n",
      "0.726     Total estimated model params size (MB)\n"
     ]
    },
    {
     "name": "stdout",
     "output_type": "stream",
     "text": [
      "Accuracy:0.64, ROC_AUC:0.662, PR_AUC:0.623\n",
      "TN: 12, FP: 13, FN: 5, TP: 20\n",
      "precision = tp / (tp + fp); recall = tp / (tp + fn)\n"
     ]
    },
    {
     "data": {
      "application/json": {
       "ascii": false,
       "bar_format": null,
       "colour": null,
       "elapsed": 0.008759260177612305,
       "initial": 0,
       "n": 0,
       "ncols": 111,
       "nrows": 30,
       "postfix": null,
       "prefix": "Validation sanity check",
       "rate": null,
       "total": null,
       "unit": "it",
       "unit_divisor": 1000,
       "unit_scale": false
      },
      "application/vnd.jupyter.widget-view+json": {
       "model_id": "a735bb763a474c3b902501ebe6b3b4b1",
       "version_major": 2,
       "version_minor": 0
      },
      "text/plain": [
       "Validation sanity check: 0it [00:00, ?it/s]"
      ]
     },
     "metadata": {},
     "output_type": "display_data"
    },
    {
     "data": {
      "application/json": {
       "ascii": false,
       "bar_format": null,
       "colour": null,
       "elapsed": 0.008545637130737305,
       "initial": 0,
       "n": 0,
       "ncols": 111,
       "nrows": 30,
       "postfix": null,
       "prefix": "Training",
       "rate": null,
       "total": null,
       "unit": "it",
       "unit_divisor": 1000,
       "unit_scale": false
      },
      "application/vnd.jupyter.widget-view+json": {
       "model_id": "81bf82923e4e4e2f8b897d6311861904",
       "version_major": 2,
       "version_minor": 0
      },
      "text/plain": [
       "Training: 0it [00:00, ?it/s]"
      ]
     },
     "metadata": {},
     "output_type": "display_data"
    },
    {
     "data": {
      "application/json": {
       "ascii": false,
       "bar_format": null,
       "colour": null,
       "elapsed": 0.010996341705322266,
       "initial": 0,
       "n": 0,
       "ncols": 111,
       "nrows": 30,
       "postfix": null,
       "prefix": "Validating",
       "rate": null,
       "total": null,
       "unit": "it",
       "unit_divisor": 1000,
       "unit_scale": false
      },
      "application/vnd.jupyter.widget-view+json": {
       "model_id": "37164c07a9644fa8a22fee8d41073413",
       "version_major": 2,
       "version_minor": 0
      },
      "text/plain": [
       "Validating: 0it [00:00, ?it/s]"
      ]
     },
     "metadata": {},
     "output_type": "display_data"
    },
    {
     "data": {
      "application/json": {
       "ascii": false,
       "bar_format": null,
       "colour": null,
       "elapsed": 0.009366512298583984,
       "initial": 0,
       "n": 0,
       "ncols": 111,
       "nrows": 30,
       "postfix": null,
       "prefix": "Validating",
       "rate": null,
       "total": null,
       "unit": "it",
       "unit_divisor": 1000,
       "unit_scale": false
      },
      "application/vnd.jupyter.widget-view+json": {
       "model_id": "5cb6a1af1282401fbb7555c6caeb2f98",
       "version_major": 2,
       "version_minor": 0
      },
      "text/plain": [
       "Validating: 0it [00:00, ?it/s]"
      ]
     },
     "metadata": {},
     "output_type": "display_data"
    },
    {
     "name": "stderr",
     "output_type": "stream",
     "text": [
      "\u001b[32m[I 2023-11-02 17:32:42,464]\u001b[0m A new study created in memory with name: no-name-7ce51a40-bfe9-4174-aec2-570d2c7e4420\u001b[0m\n",
      "GPU available: False, used: False\n",
      "TPU available: False, using: 0 TPU cores\n",
      "\n",
      "  | Name          | Type                | Params\n",
      "------------------------------------------------------\n",
      "0 | model         | SiameseArchitecture | 84.5 K\n",
      "1 | loss_function | BCELoss             | 0     \n",
      "------------------------------------------------------\n",
      "84.5 K    Trainable params\n",
      "0         Non-trainable params\n",
      "84.5 K    Total params\n",
      "0.338     Total estimated model params size (MB)\n"
     ]
    },
    {
     "name": "stdout",
     "output_type": "stream",
     "text": [
      "Accuracy:0.64, ROC_AUC:0.742, PR_AUC:0.776\n",
      "TN: 11, FP: 14, FN: 4, TP: 21\n",
      "precision = tp / (tp + fp); recall = tp / (tp + fn)\n",
      "Accuracy: 0.640 ± 0.000\n",
      "Precision: 0.603 ± 0.003\n",
      "Recall: 0.820 ± 0.020\n",
      "ROC AUC: 0.702 ± 0.040\n",
      "PR AUC: 0.699 ± 0.076\n",
      "--------------------------------------------------\n",
      "Eucl_Accuracy: 1.000 ± 0.000\n",
      "Eucl_Precision: nan ± nan\n",
      "Eucl_Recall: 0.000 ± 0.000\n",
      "Eucl_ROC AUC: 0.500 ± 0.000\n",
      "Eucl_PR AUC: 1.000 ± 0.000\n",
      "--------------------------------------------------\n",
      "Cos_Accuracy: 1.000 ± 0.000\n",
      "Cos_Precision: 0.735 ± 0.191\n",
      "Cos_Recall: 1.000 ± 0.000\n",
      "Cos_ROC AUC: 0.770 ± 0.190\n",
      "Cos_PR AUC: 1.000 ± 0.000\n",
      "--------------------------------------------------\n",
      "\n",
      "all_results: ({'Accuracy': [0.64, 0.64], 'Precision': [0.6060606060606061, 0.6], 'Recall': [0.8, 0.84], 'ROC AUC': [0.6624, 0.7424], 'PR AUC': [0.6229570259045817, 0.7758408970789588]}, {'Eucl_Accuracy': [1.0, 1.0], 'Eucl_Precision': [nan, nan], 'Eucl_Recall': [0.0, 0.0], 'Eucl_ROC AUC': [0.5, 0.5], 'Eucl_PR AUC': [1.0, 1.0]}, {'Cos_Accuracy': [1.0, 1.0], 'Cos_Precision': [0.5434782608695652, 0.9259259259259259], 'Cos_Recall': [1.0, 1.0], 'Cos_ROC AUC': [0.58, 0.96], 'Cos_PR AUC': [1.0, 1.0]})\n",
      "****************************************************************************************************\n",
      "model_type: siamese_reguformer_topQ_randK\n"
     ]
    },
    {
     "data": {
      "application/json": {
       "ascii": false,
       "bar_format": null,
       "colour": null,
       "elapsed": 0.010364294052124023,
       "initial": 0,
       "n": 0,
       "ncols": 111,
       "nrows": 30,
       "postfix": null,
       "prefix": "Validation sanity check",
       "rate": null,
       "total": null,
       "unit": "it",
       "unit_divisor": 1000,
       "unit_scale": false
      },
      "application/vnd.jupyter.widget-view+json": {
       "model_id": "8fda6e676f8740eda4e3a57329340ab9",
       "version_major": 2,
       "version_minor": 0
      },
      "text/plain": [
       "Validation sanity check: 0it [00:00, ?it/s]"
      ]
     },
     "metadata": {},
     "output_type": "display_data"
    },
    {
     "data": {
      "application/json": {
       "ascii": false,
       "bar_format": null,
       "colour": null,
       "elapsed": 0.010924816131591797,
       "initial": 0,
       "n": 0,
       "ncols": 111,
       "nrows": 30,
       "postfix": null,
       "prefix": "Training",
       "rate": null,
       "total": null,
       "unit": "it",
       "unit_divisor": 1000,
       "unit_scale": false
      },
      "application/vnd.jupyter.widget-view+json": {
       "model_id": "1d5071a0732e45a1bf2e80df600f4f5c",
       "version_major": 2,
       "version_minor": 0
      },
      "text/plain": [
       "Training: 0it [00:00, ?it/s]"
      ]
     },
     "metadata": {},
     "output_type": "display_data"
    },
    {
     "data": {
      "application/json": {
       "ascii": false,
       "bar_format": null,
       "colour": null,
       "elapsed": 0.009996891021728516,
       "initial": 0,
       "n": 0,
       "ncols": 111,
       "nrows": 30,
       "postfix": null,
       "prefix": "Validating",
       "rate": null,
       "total": null,
       "unit": "it",
       "unit_divisor": 1000,
       "unit_scale": false
      },
      "application/vnd.jupyter.widget-view+json": {
       "model_id": "3d81eaa9805144988d113b4d8cd72a52",
       "version_major": 2,
       "version_minor": 0
      },
      "text/plain": [
       "Validating: 0it [00:00, ?it/s]"
      ]
     },
     "metadata": {},
     "output_type": "display_data"
    },
    {
     "data": {
      "application/json": {
       "ascii": false,
       "bar_format": null,
       "colour": null,
       "elapsed": 0.010345697402954102,
       "initial": 0,
       "n": 0,
       "ncols": 111,
       "nrows": 30,
       "postfix": null,
       "prefix": "Validating",
       "rate": null,
       "total": null,
       "unit": "it",
       "unit_divisor": 1000,
       "unit_scale": false
      },
      "application/vnd.jupyter.widget-view+json": {
       "model_id": "3f46ceae0a9d4e1091de2593227bc10a",
       "version_major": 2,
       "version_minor": 0
      },
      "text/plain": [
       "Validating: 0it [00:00, ?it/s]"
      ]
     },
     "metadata": {},
     "output_type": "display_data"
    },
    {
     "name": "stderr",
     "output_type": "stream",
     "text": [
      "GPU available: False, used: False\n",
      "TPU available: False, using: 0 TPU cores\n",
      "\n",
      "  | Name          | Type                | Params\n",
      "------------------------------------------------------\n",
      "0 | model         | SiameseArchitecture | 84.5 K\n",
      "1 | loss_function | BCELoss             | 0     \n",
      "------------------------------------------------------\n",
      "84.5 K    Trainable params\n",
      "0         Non-trainable params\n",
      "84.5 K    Total params\n",
      "0.338     Total estimated model params size (MB)\n"
     ]
    },
    {
     "name": "stdout",
     "output_type": "stream",
     "text": [
      "Accuracy:0.52, ROC_AUC:0.589, PR_AUC:0.595\n"
     ]
    },
    {
     "data": {
      "application/json": {
       "ascii": false,
       "bar_format": null,
       "colour": null,
       "elapsed": 0.009188413619995117,
       "initial": 0,
       "n": 0,
       "ncols": 111,
       "nrows": 30,
       "postfix": null,
       "prefix": "Validation sanity check",
       "rate": null,
       "total": null,
       "unit": "it",
       "unit_divisor": 1000,
       "unit_scale": false
      },
      "application/vnd.jupyter.widget-view+json": {
       "model_id": "022b72806e584ab1a4075c21392ef44c",
       "version_major": 2,
       "version_minor": 0
      },
      "text/plain": [
       "Validation sanity check: 0it [00:00, ?it/s]"
      ]
     },
     "metadata": {},
     "output_type": "display_data"
    },
    {
     "data": {
      "application/json": {
       "ascii": false,
       "bar_format": null,
       "colour": null,
       "elapsed": 0.009366750717163086,
       "initial": 0,
       "n": 0,
       "ncols": 111,
       "nrows": 30,
       "postfix": null,
       "prefix": "Training",
       "rate": null,
       "total": null,
       "unit": "it",
       "unit_divisor": 1000,
       "unit_scale": false
      },
      "application/vnd.jupyter.widget-view+json": {
       "model_id": "b6ee36effc8e49beb83d26b4eca513f0",
       "version_major": 2,
       "version_minor": 0
      },
      "text/plain": [
       "Training: 0it [00:00, ?it/s]"
      ]
     },
     "metadata": {},
     "output_type": "display_data"
    },
    {
     "data": {
      "application/json": {
       "ascii": false,
       "bar_format": null,
       "colour": null,
       "elapsed": 0.010185480117797852,
       "initial": 0,
       "n": 0,
       "ncols": 111,
       "nrows": 30,
       "postfix": null,
       "prefix": "Validating",
       "rate": null,
       "total": null,
       "unit": "it",
       "unit_divisor": 1000,
       "unit_scale": false
      },
      "application/vnd.jupyter.widget-view+json": {
       "model_id": "eab6206aa91b4a58b692c41d6f1efd92",
       "version_major": 2,
       "version_minor": 0
      },
      "text/plain": [
       "Validating: 0it [00:00, ?it/s]"
      ]
     },
     "metadata": {},
     "output_type": "display_data"
    },
    {
     "data": {
      "application/json": {
       "ascii": false,
       "bar_format": null,
       "colour": null,
       "elapsed": 0.010289669036865234,
       "initial": 0,
       "n": 0,
       "ncols": 111,
       "nrows": 30,
       "postfix": null,
       "prefix": "Validating",
       "rate": null,
       "total": null,
       "unit": "it",
       "unit_divisor": 1000,
       "unit_scale": false
      },
      "application/vnd.jupyter.widget-view+json": {
       "model_id": "65efc2cf946d4bd28d5b503b39e78d57",
       "version_major": 2,
       "version_minor": 0
      },
      "text/plain": [
       "Validating: 0it [00:00, ?it/s]"
      ]
     },
     "metadata": {},
     "output_type": "display_data"
    },
    {
     "name": "stderr",
     "output_type": "stream",
     "text": [
      "\u001b[32m[I 2023-11-02 17:32:49,365]\u001b[0m Trial 0 finished with value: 0.6892 and parameters: {'d_model': 64, 'factor': 9, 'n_heads': 2, 'dropout': 0.4054086760248309, 'd_ff': 128, 'e_layers': 2, 'sparsification_type': 'topQ_randK'}. Best is trial 0 with value: 0.6892.\u001b[0m\n",
      "GPU available: False, used: False\n",
      "TPU available: False, using: 0 TPU cores\n",
      "\n",
      "  | Name          | Type                | Params\n",
      "------------------------------------------------------\n",
      "0 | model         | SiameseArchitecture | 151 K \n",
      "1 | loss_function | BCELoss             | 0     \n",
      "------------------------------------------------------\n",
      "151 K     Trainable params\n",
      "0         Non-trainable params\n",
      "151 K     Total params\n",
      "0.607     Total estimated model params size (MB)\n"
     ]
    },
    {
     "name": "stdout",
     "output_type": "stream",
     "text": [
      "Accuracy:0.71, ROC_AUC:0.79, PR_AUC:0.797\n"
     ]
    },
    {
     "data": {
      "application/json": {
       "ascii": false,
       "bar_format": null,
       "colour": null,
       "elapsed": 0.00922393798828125,
       "initial": 0,
       "n": 0,
       "ncols": 111,
       "nrows": 30,
       "postfix": null,
       "prefix": "Validation sanity check",
       "rate": null,
       "total": null,
       "unit": "it",
       "unit_divisor": 1000,
       "unit_scale": false
      },
      "application/vnd.jupyter.widget-view+json": {
       "model_id": "4ecdc52779114518bcfbe1a44e693210",
       "version_major": 2,
       "version_minor": 0
      },
      "text/plain": [
       "Validation sanity check: 0it [00:00, ?it/s]"
      ]
     },
     "metadata": {},
     "output_type": "display_data"
    },
    {
     "data": {
      "application/json": {
       "ascii": false,
       "bar_format": null,
       "colour": null,
       "elapsed": 0.011157512664794922,
       "initial": 0,
       "n": 0,
       "ncols": 111,
       "nrows": 30,
       "postfix": null,
       "prefix": "Training",
       "rate": null,
       "total": null,
       "unit": "it",
       "unit_divisor": 1000,
       "unit_scale": false
      },
      "application/vnd.jupyter.widget-view+json": {
       "model_id": "920d1d2b08974a3abf29985fcf3b517f",
       "version_major": 2,
       "version_minor": 0
      },
      "text/plain": [
       "Training: 0it [00:00, ?it/s]"
      ]
     },
     "metadata": {},
     "output_type": "display_data"
    },
    {
     "data": {
      "application/json": {
       "ascii": false,
       "bar_format": null,
       "colour": null,
       "elapsed": 0.009844303131103516,
       "initial": 0,
       "n": 0,
       "ncols": 111,
       "nrows": 30,
       "postfix": null,
       "prefix": "Validating",
       "rate": null,
       "total": null,
       "unit": "it",
       "unit_divisor": 1000,
       "unit_scale": false
      },
      "application/vnd.jupyter.widget-view+json": {
       "model_id": "49fc62db1f8a435099fe352f7c4c42d4",
       "version_major": 2,
       "version_minor": 0
      },
      "text/plain": [
       "Validating: 0it [00:00, ?it/s]"
      ]
     },
     "metadata": {},
     "output_type": "display_data"
    },
    {
     "data": {
      "application/json": {
       "ascii": false,
       "bar_format": null,
       "colour": null,
       "elapsed": 0.009742021560668945,
       "initial": 0,
       "n": 0,
       "ncols": 111,
       "nrows": 30,
       "postfix": null,
       "prefix": "Validating",
       "rate": null,
       "total": null,
       "unit": "it",
       "unit_divisor": 1000,
       "unit_scale": false
      },
      "application/vnd.jupyter.widget-view+json": {
       "model_id": "8326d2a6b1cb4e72a53d09c915d8f0b7",
       "version_major": 2,
       "version_minor": 0
      },
      "text/plain": [
       "Validating: 0it [00:00, ?it/s]"
      ]
     },
     "metadata": {},
     "output_type": "display_data"
    },
    {
     "name": "stderr",
     "output_type": "stream",
     "text": [
      "GPU available: False, used: False\n",
      "TPU available: False, using: 0 TPU cores\n",
      "\n",
      "  | Name          | Type                | Params\n",
      "------------------------------------------------------\n",
      "0 | model         | SiameseArchitecture | 151 K \n",
      "1 | loss_function | BCELoss             | 0     \n",
      "------------------------------------------------------\n",
      "151 K     Trainable params\n",
      "0         Non-trainable params\n",
      "151 K     Total params\n",
      "0.607     Total estimated model params size (MB)\n"
     ]
    },
    {
     "name": "stdout",
     "output_type": "stream",
     "text": [
      "Accuracy:0.55, ROC_AUC:0.533, PR_AUC:0.485\n"
     ]
    },
    {
     "data": {
      "application/json": {
       "ascii": false,
       "bar_format": null,
       "colour": null,
       "elapsed": 0.008935689926147461,
       "initial": 0,
       "n": 0,
       "ncols": 111,
       "nrows": 30,
       "postfix": null,
       "prefix": "Validation sanity check",
       "rate": null,
       "total": null,
       "unit": "it",
       "unit_divisor": 1000,
       "unit_scale": false
      },
      "application/vnd.jupyter.widget-view+json": {
       "model_id": "08c168ebd4604bf983313cdea4ed357b",
       "version_major": 2,
       "version_minor": 0
      },
      "text/plain": [
       "Validation sanity check: 0it [00:00, ?it/s]"
      ]
     },
     "metadata": {},
     "output_type": "display_data"
    },
    {
     "data": {
      "application/json": {
       "ascii": false,
       "bar_format": null,
       "colour": null,
       "elapsed": 0.012110710144042969,
       "initial": 0,
       "n": 0,
       "ncols": 111,
       "nrows": 30,
       "postfix": null,
       "prefix": "Training",
       "rate": null,
       "total": null,
       "unit": "it",
       "unit_divisor": 1000,
       "unit_scale": false
      },
      "application/vnd.jupyter.widget-view+json": {
       "model_id": "b99af9b7c37f46b0b8fe39f4d6c017bd",
       "version_major": 2,
       "version_minor": 0
      },
      "text/plain": [
       "Training: 0it [00:00, ?it/s]"
      ]
     },
     "metadata": {},
     "output_type": "display_data"
    },
    {
     "data": {
      "application/json": {
       "ascii": false,
       "bar_format": null,
       "colour": null,
       "elapsed": 0.0119171142578125,
       "initial": 0,
       "n": 0,
       "ncols": 111,
       "nrows": 30,
       "postfix": null,
       "prefix": "Validating",
       "rate": null,
       "total": null,
       "unit": "it",
       "unit_divisor": 1000,
       "unit_scale": false
      },
      "application/vnd.jupyter.widget-view+json": {
       "model_id": "c1ea7f28ae3f4057b733b7995cef75a2",
       "version_major": 2,
       "version_minor": 0
      },
      "text/plain": [
       "Validating: 0it [00:00, ?it/s]"
      ]
     },
     "metadata": {},
     "output_type": "display_data"
    },
    {
     "data": {
      "application/json": {
       "ascii": false,
       "bar_format": null,
       "colour": null,
       "elapsed": 0.016684293746948242,
       "initial": 0,
       "n": 0,
       "ncols": 111,
       "nrows": 30,
       "postfix": null,
       "prefix": "Validating",
       "rate": null,
       "total": null,
       "unit": "it",
       "unit_divisor": 1000,
       "unit_scale": false
      },
      "application/vnd.jupyter.widget-view+json": {
       "model_id": "1a95cb44256b4be3bf1e00d23296135f",
       "version_major": 2,
       "version_minor": 0
      },
      "text/plain": [
       "Validating: 0it [00:00, ?it/s]"
      ]
     },
     "metadata": {},
     "output_type": "display_data"
    },
    {
     "name": "stderr",
     "output_type": "stream",
     "text": [
      "\u001b[32m[I 2023-11-02 17:32:58,078]\u001b[0m Trial 1 finished with value: 0.5926 and parameters: {'d_model': 32, 'factor': 5, 'n_heads': 8, 'dropout': 0.1535313221618483, 'd_ff': 1024, 'e_layers': 2, 'sparsification_type': 'topQ_randK'}. Best is trial 0 with value: 0.6892.\u001b[0m\n",
      "GPU available: False, used: False\n",
      "TPU available: False, using: 0 TPU cores\n",
      "\n",
      "  | Name          | Type                | Params\n",
      "------------------------------------------------------\n",
      "0 | model         | SiameseArchitecture | 84.5 K\n",
      "1 | loss_function | BCELoss             | 0     \n",
      "------------------------------------------------------\n",
      "84.5 K    Trainable params\n",
      "0         Non-trainable params\n",
      "84.5 K    Total params\n",
      "0.338     Total estimated model params size (MB)\n"
     ]
    },
    {
     "name": "stdout",
     "output_type": "stream",
     "text": [
      "Accuracy:0.64, ROC_AUC:0.652, PR_AUC:0.559\n",
      "best_params: {'d_model': 64, 'factor': 9, 'n_heads': 2, 'dropout': 0.4054086760248309, 'd_ff': 128, 'e_layers': 2, 'sparsification_type': 'topQ_randK'}\n"
     ]
    },
    {
     "data": {
      "application/json": {
       "ascii": false,
       "bar_format": null,
       "colour": null,
       "elapsed": 0.009576559066772461,
       "initial": 0,
       "n": 0,
       "ncols": 111,
       "nrows": 30,
       "postfix": null,
       "prefix": "Validation sanity check",
       "rate": null,
       "total": null,
       "unit": "it",
       "unit_divisor": 1000,
       "unit_scale": false
      },
      "application/vnd.jupyter.widget-view+json": {
       "model_id": "938a68821bf845caa1bc2d27e2364164",
       "version_major": 2,
       "version_minor": 0
      },
      "text/plain": [
       "Validation sanity check: 0it [00:00, ?it/s]"
      ]
     },
     "metadata": {},
     "output_type": "display_data"
    },
    {
     "data": {
      "application/json": {
       "ascii": false,
       "bar_format": null,
       "colour": null,
       "elapsed": 0.00957632064819336,
       "initial": 0,
       "n": 0,
       "ncols": 111,
       "nrows": 30,
       "postfix": null,
       "prefix": "Training",
       "rate": null,
       "total": null,
       "unit": "it",
       "unit_divisor": 1000,
       "unit_scale": false
      },
      "application/vnd.jupyter.widget-view+json": {
       "model_id": "10b127d1c627486b8441039a003874f6",
       "version_major": 2,
       "version_minor": 0
      },
      "text/plain": [
       "Training: 0it [00:00, ?it/s]"
      ]
     },
     "metadata": {},
     "output_type": "display_data"
    },
    {
     "data": {
      "application/json": {
       "ascii": false,
       "bar_format": null,
       "colour": null,
       "elapsed": 0.012750864028930664,
       "initial": 0,
       "n": 0,
       "ncols": 111,
       "nrows": 30,
       "postfix": null,
       "prefix": "Validating",
       "rate": null,
       "total": null,
       "unit": "it",
       "unit_divisor": 1000,
       "unit_scale": false
      },
      "application/vnd.jupyter.widget-view+json": {
       "model_id": "a6f4a6c1ec334f2d845fcfc8bca54818",
       "version_major": 2,
       "version_minor": 0
      },
      "text/plain": [
       "Validating: 0it [00:00, ?it/s]"
      ]
     },
     "metadata": {},
     "output_type": "display_data"
    },
    {
     "data": {
      "application/json": {
       "ascii": false,
       "bar_format": null,
       "colour": null,
       "elapsed": 0.010260581970214844,
       "initial": 0,
       "n": 0,
       "ncols": 111,
       "nrows": 30,
       "postfix": null,
       "prefix": "Validating",
       "rate": null,
       "total": null,
       "unit": "it",
       "unit_divisor": 1000,
       "unit_scale": false
      },
      "application/vnd.jupyter.widget-view+json": {
       "model_id": "a36f83c693524e078bd82948b50e8380",
       "version_major": 2,
       "version_minor": 0
      },
      "text/plain": [
       "Validating: 0it [00:00, ?it/s]"
      ]
     },
     "metadata": {},
     "output_type": "display_data"
    },
    {
     "name": "stderr",
     "output_type": "stream",
     "text": [
      "GPU available: False, used: False\n",
      "TPU available: False, using: 0 TPU cores\n",
      "\n",
      "  | Name          | Type                | Params\n",
      "------------------------------------------------------\n",
      "0 | model         | SiameseArchitecture | 84.5 K\n",
      "1 | loss_function | BCELoss             | 0     \n",
      "------------------------------------------------------\n",
      "84.5 K    Trainable params\n",
      "0         Non-trainable params\n",
      "84.5 K    Total params\n",
      "0.338     Total estimated model params size (MB)\n"
     ]
    },
    {
     "name": "stdout",
     "output_type": "stream",
     "text": [
      "Accuracy:0.56, ROC_AUC:0.538, PR_AUC:0.54\n",
      "TN: 14, FP: 11, FN: 11, TP: 14\n",
      "precision = tp / (tp + fp); recall = tp / (tp + fn)\n"
     ]
    },
    {
     "data": {
      "application/json": {
       "ascii": false,
       "bar_format": null,
       "colour": null,
       "elapsed": 0.009824752807617188,
       "initial": 0,
       "n": 0,
       "ncols": 111,
       "nrows": 30,
       "postfix": null,
       "prefix": "Validation sanity check",
       "rate": null,
       "total": null,
       "unit": "it",
       "unit_divisor": 1000,
       "unit_scale": false
      },
      "application/vnd.jupyter.widget-view+json": {
       "model_id": "0d1ba12fb53a414d8ce7ea26fde902d8",
       "version_major": 2,
       "version_minor": 0
      },
      "text/plain": [
       "Validation sanity check: 0it [00:00, ?it/s]"
      ]
     },
     "metadata": {},
     "output_type": "display_data"
    },
    {
     "data": {
      "application/json": {
       "ascii": false,
       "bar_format": null,
       "colour": null,
       "elapsed": 0.014263391494750977,
       "initial": 0,
       "n": 0,
       "ncols": 111,
       "nrows": 30,
       "postfix": null,
       "prefix": "Training",
       "rate": null,
       "total": null,
       "unit": "it",
       "unit_divisor": 1000,
       "unit_scale": false
      },
      "application/vnd.jupyter.widget-view+json": {
       "model_id": "674a1aee83f74cc79aeacc4be3933f63",
       "version_major": 2,
       "version_minor": 0
      },
      "text/plain": [
       "Training: 0it [00:00, ?it/s]"
      ]
     },
     "metadata": {},
     "output_type": "display_data"
    },
    {
     "data": {
      "application/json": {
       "ascii": false,
       "bar_format": null,
       "colour": null,
       "elapsed": 0.012972593307495117,
       "initial": 0,
       "n": 0,
       "ncols": 111,
       "nrows": 30,
       "postfix": null,
       "prefix": "Validating",
       "rate": null,
       "total": null,
       "unit": "it",
       "unit_divisor": 1000,
       "unit_scale": false
      },
      "application/vnd.jupyter.widget-view+json": {
       "model_id": "0b84a9f5ed1b44279796d27968fad31f",
       "version_major": 2,
       "version_minor": 0
      },
      "text/plain": [
       "Validating: 0it [00:00, ?it/s]"
      ]
     },
     "metadata": {},
     "output_type": "display_data"
    },
    {
     "data": {
      "application/json": {
       "ascii": false,
       "bar_format": null,
       "colour": null,
       "elapsed": 0.010190248489379883,
       "initial": 0,
       "n": 0,
       "ncols": 111,
       "nrows": 30,
       "postfix": null,
       "prefix": "Validating",
       "rate": null,
       "total": null,
       "unit": "it",
       "unit_divisor": 1000,
       "unit_scale": false
      },
      "application/vnd.jupyter.widget-view+json": {
       "model_id": "1399b37566764cba966a243f4a5e18bd",
       "version_major": 2,
       "version_minor": 0
      },
      "text/plain": [
       "Validating: 0it [00:00, ?it/s]"
      ]
     },
     "metadata": {},
     "output_type": "display_data"
    },
    {
     "name": "stderr",
     "output_type": "stream",
     "text": [
      "\u001b[32m[I 2023-11-02 17:33:04,943]\u001b[0m A new study created in memory with name: no-name-efb52fd3-bf4a-4d7e-b1d4-be03e0bf8f81\u001b[0m\n"
     ]
    },
    {
     "name": "stdout",
     "output_type": "stream",
     "text": [
      "Accuracy:0.62, ROC_AUC:0.65, PR_AUC:0.652\n",
      "TN: 13, FP: 12, FN: 7, TP: 18\n",
      "precision = tp / (tp + fp); recall = tp / (tp + fn)\n",
      "Accuracy: 0.590 ± 0.030\n",
      "Precision: 0.580 ± 0.020\n",
      "Recall: 0.640 ± 0.080\n",
      "ROC AUC: 0.594 ± 0.056\n",
      "PR AUC: 0.596 ± 0.056\n",
      "--------------------------------------------------\n",
      "Eucl_Accuracy: 1.000 ± 0.000\n",
      "Eucl_Precision: nan ± nan\n",
      "Eucl_Recall: 0.000 ± 0.000\n",
      "Eucl_ROC AUC: 0.500 ± 0.000\n",
      "Eucl_PR AUC: 1.000 ± 0.000\n",
      "--------------------------------------------------\n",
      "Cos_Accuracy: 1.000 ± 0.000\n",
      "Cos_Precision: 0.500 ± 0.000\n",
      "Cos_Recall: 1.000 ± 0.000\n",
      "Cos_ROC AUC: 0.500 ± 0.000\n",
      "Cos_PR AUC: 1.000 ± 0.000\n",
      "--------------------------------------------------\n",
      "\n",
      "all_results: ({'Accuracy': [0.56, 0.62], 'Precision': [0.56, 0.6], 'Recall': [0.56, 0.72], 'ROC AUC': [0.5376, 0.6496], 'PR AUC': [0.5403824993887562, 0.6520437289569365]}, {'Eucl_Accuracy': [1.0, 1.0], 'Eucl_Precision': [nan, nan], 'Eucl_Recall': [0.0, 0.0], 'Eucl_ROC AUC': [0.5, 0.5], 'Eucl_PR AUC': [1.0, 1.0]}, {'Cos_Accuracy': [1.0, 1.0], 'Cos_Precision': [0.5, 0.5], 'Cos_Recall': [1.0, 1.0], 'Cos_ROC AUC': [0.5, 0.5], 'Cos_PR AUC': [1.0, 1.0]})\n",
      "****************************************************************************************************\n",
      "model_type: siamese_reguformer_randQ_topK\n"
     ]
    },
    {
     "name": "stderr",
     "output_type": "stream",
     "text": [
      "GPU available: False, used: False\n",
      "TPU available: False, using: 0 TPU cores\n",
      "\n",
      "  | Name          | Type                | Params\n",
      "------------------------------------------------------\n",
      "0 | model         | SiameseArchitecture | 212 K \n",
      "1 | loss_function | BCELoss             | 0     \n",
      "------------------------------------------------------\n",
      "212 K     Trainable params\n",
      "0         Non-trainable params\n",
      "212 K     Total params\n",
      "0.849     Total estimated model params size (MB)\n"
     ]
    },
    {
     "data": {
      "application/json": {
       "ascii": false,
       "bar_format": null,
       "colour": null,
       "elapsed": 0.008739948272705078,
       "initial": 0,
       "n": 0,
       "ncols": 111,
       "nrows": 30,
       "postfix": null,
       "prefix": "Validation sanity check",
       "rate": null,
       "total": null,
       "unit": "it",
       "unit_divisor": 1000,
       "unit_scale": false
      },
      "application/vnd.jupyter.widget-view+json": {
       "model_id": "d5cfe4bd6aac4a449f05b4cafcf6ec6e",
       "version_major": 2,
       "version_minor": 0
      },
      "text/plain": [
       "Validation sanity check: 0it [00:00, ?it/s]"
      ]
     },
     "metadata": {},
     "output_type": "display_data"
    },
    {
     "data": {
      "application/json": {
       "ascii": false,
       "bar_format": null,
       "colour": null,
       "elapsed": 0.010213613510131836,
       "initial": 0,
       "n": 0,
       "ncols": 111,
       "nrows": 30,
       "postfix": null,
       "prefix": "Training",
       "rate": null,
       "total": null,
       "unit": "it",
       "unit_divisor": 1000,
       "unit_scale": false
      },
      "application/vnd.jupyter.widget-view+json": {
       "model_id": "042e53fe4d164fa08cffb32858d620b6",
       "version_major": 2,
       "version_minor": 0
      },
      "text/plain": [
       "Training: 0it [00:00, ?it/s]"
      ]
     },
     "metadata": {},
     "output_type": "display_data"
    },
    {
     "data": {
      "application/json": {
       "ascii": false,
       "bar_format": null,
       "colour": null,
       "elapsed": 0.009500265121459961,
       "initial": 0,
       "n": 0,
       "ncols": 111,
       "nrows": 30,
       "postfix": null,
       "prefix": "Validating",
       "rate": null,
       "total": null,
       "unit": "it",
       "unit_divisor": 1000,
       "unit_scale": false
      },
      "application/vnd.jupyter.widget-view+json": {
       "model_id": "f599acff8b86496cbd0c766ff6441b1b",
       "version_major": 2,
       "version_minor": 0
      },
      "text/plain": [
       "Validating: 0it [00:00, ?it/s]"
      ]
     },
     "metadata": {},
     "output_type": "display_data"
    },
    {
     "data": {
      "application/json": {
       "ascii": false,
       "bar_format": null,
       "colour": null,
       "elapsed": 0.010427474975585938,
       "initial": 0,
       "n": 0,
       "ncols": 111,
       "nrows": 30,
       "postfix": null,
       "prefix": "Validating",
       "rate": null,
       "total": null,
       "unit": "it",
       "unit_divisor": 1000,
       "unit_scale": false
      },
      "application/vnd.jupyter.widget-view+json": {
       "model_id": "eefe9d4a9abf45d891a457d94aa1424d",
       "version_major": 2,
       "version_minor": 0
      },
      "text/plain": [
       "Validating: 0it [00:00, ?it/s]"
      ]
     },
     "metadata": {},
     "output_type": "display_data"
    },
    {
     "name": "stderr",
     "output_type": "stream",
     "text": [
      "GPU available: False, used: False\n",
      "TPU available: False, using: 0 TPU cores\n",
      "\n",
      "  | Name          | Type                | Params\n",
      "------------------------------------------------------\n",
      "0 | model         | SiameseArchitecture | 212 K \n",
      "1 | loss_function | BCELoss             | 0     \n",
      "------------------------------------------------------\n",
      "212 K     Trainable params\n",
      "0         Non-trainable params\n",
      "212 K     Total params\n",
      "0.849     Total estimated model params size (MB)\n"
     ]
    },
    {
     "name": "stdout",
     "output_type": "stream",
     "text": [
      "Accuracy:0.56, ROC_AUC:0.562, PR_AUC:0.532\n"
     ]
    },
    {
     "data": {
      "application/json": {
       "ascii": false,
       "bar_format": null,
       "colour": null,
       "elapsed": 0.01006174087524414,
       "initial": 0,
       "n": 0,
       "ncols": 111,
       "nrows": 30,
       "postfix": null,
       "prefix": "Validation sanity check",
       "rate": null,
       "total": null,
       "unit": "it",
       "unit_divisor": 1000,
       "unit_scale": false
      },
      "application/vnd.jupyter.widget-view+json": {
       "model_id": "89b1e1ae547940f29f0127baab6fae18",
       "version_major": 2,
       "version_minor": 0
      },
      "text/plain": [
       "Validation sanity check: 0it [00:00, ?it/s]"
      ]
     },
     "metadata": {},
     "output_type": "display_data"
    },
    {
     "data": {
      "application/json": {
       "ascii": false,
       "bar_format": null,
       "colour": null,
       "elapsed": 0.012243032455444336,
       "initial": 0,
       "n": 0,
       "ncols": 111,
       "nrows": 30,
       "postfix": null,
       "prefix": "Training",
       "rate": null,
       "total": null,
       "unit": "it",
       "unit_divisor": 1000,
       "unit_scale": false
      },
      "application/vnd.jupyter.widget-view+json": {
       "model_id": "3663cafac94f4749b9f449fcf4b37a93",
       "version_major": 2,
       "version_minor": 0
      },
      "text/plain": [
       "Training: 0it [00:00, ?it/s]"
      ]
     },
     "metadata": {},
     "output_type": "display_data"
    },
    {
     "data": {
      "application/json": {
       "ascii": false,
       "bar_format": null,
       "colour": null,
       "elapsed": 0.009680032730102539,
       "initial": 0,
       "n": 0,
       "ncols": 111,
       "nrows": 30,
       "postfix": null,
       "prefix": "Validating",
       "rate": null,
       "total": null,
       "unit": "it",
       "unit_divisor": 1000,
       "unit_scale": false
      },
      "application/vnd.jupyter.widget-view+json": {
       "model_id": "e03bfe1d57bc4812be2e4e1b37f09edb",
       "version_major": 2,
       "version_minor": 0
      },
      "text/plain": [
       "Validating: 0it [00:00, ?it/s]"
      ]
     },
     "metadata": {},
     "output_type": "display_data"
    },
    {
     "data": {
      "application/json": {
       "ascii": false,
       "bar_format": null,
       "colour": null,
       "elapsed": 0.012032270431518555,
       "initial": 0,
       "n": 0,
       "ncols": 111,
       "nrows": 30,
       "postfix": null,
       "prefix": "Validating",
       "rate": null,
       "total": null,
       "unit": "it",
       "unit_divisor": 1000,
       "unit_scale": false
      },
      "application/vnd.jupyter.widget-view+json": {
       "model_id": "c8339ba3d1e84743a64c276d2fd61022",
       "version_major": 2,
       "version_minor": 0
      },
      "text/plain": [
       "Validating: 0it [00:00, ?it/s]"
      ]
     },
     "metadata": {},
     "output_type": "display_data"
    },
    {
     "name": "stderr",
     "output_type": "stream",
     "text": [
      "\u001b[32m[I 2023-11-02 17:33:14,301]\u001b[0m Trial 0 finished with value: 0.551 and parameters: {'d_model': 64, 'factor': 3, 'n_heads': 6, 'dropout': 0.4770000487824789, 'd_ff': 128, 'e_layers': 6, 'sparsification_type': 'randQ_topK'}. Best is trial 0 with value: 0.551.\u001b[0m\n",
      "GPU available: False, used: False\n",
      "TPU available: False, using: 0 TPU cores\n",
      "\n",
      "  | Name          | Type                | Params\n",
      "------------------------------------------------------\n",
      "0 | model         | SiameseArchitecture | 184 K \n",
      "1 | loss_function | BCELoss             | 0     \n",
      "------------------------------------------------------\n",
      "184 K     Trainable params\n",
      "0         Non-trainable params\n",
      "184 K     Total params\n",
      "0.740     Total estimated model params size (MB)\n"
     ]
    },
    {
     "name": "stdout",
     "output_type": "stream",
     "text": [
      "Accuracy:0.54, ROC_AUC:0.54, PR_AUC:0.54\n"
     ]
    },
    {
     "data": {
      "application/json": {
       "ascii": false,
       "bar_format": null,
       "colour": null,
       "elapsed": 0.010471820831298828,
       "initial": 0,
       "n": 0,
       "ncols": 111,
       "nrows": 30,
       "postfix": null,
       "prefix": "Validation sanity check",
       "rate": null,
       "total": null,
       "unit": "it",
       "unit_divisor": 1000,
       "unit_scale": false
      },
      "application/vnd.jupyter.widget-view+json": {
       "model_id": "3ba738e46d25431fb443874de23208ca",
       "version_major": 2,
       "version_minor": 0
      },
      "text/plain": [
       "Validation sanity check: 0it [00:00, ?it/s]"
      ]
     },
     "metadata": {},
     "output_type": "display_data"
    },
    {
     "data": {
      "application/json": {
       "ascii": false,
       "bar_format": null,
       "colour": null,
       "elapsed": 0.009560108184814453,
       "initial": 0,
       "n": 0,
       "ncols": 111,
       "nrows": 30,
       "postfix": null,
       "prefix": "Training",
       "rate": null,
       "total": null,
       "unit": "it",
       "unit_divisor": 1000,
       "unit_scale": false
      },
      "application/vnd.jupyter.widget-view+json": {
       "model_id": "57d89b5c7d6d41c3a64394eb552c1d95",
       "version_major": 2,
       "version_minor": 0
      },
      "text/plain": [
       "Training: 0it [00:00, ?it/s]"
      ]
     },
     "metadata": {},
     "output_type": "display_data"
    },
    {
     "data": {
      "application/json": {
       "ascii": false,
       "bar_format": null,
       "colour": null,
       "elapsed": 0.009485483169555664,
       "initial": 0,
       "n": 0,
       "ncols": 111,
       "nrows": 30,
       "postfix": null,
       "prefix": "Validating",
       "rate": null,
       "total": null,
       "unit": "it",
       "unit_divisor": 1000,
       "unit_scale": false
      },
      "application/vnd.jupyter.widget-view+json": {
       "model_id": "404fd480f3f7455cbaf900487426a229",
       "version_major": 2,
       "version_minor": 0
      },
      "text/plain": [
       "Validating: 0it [00:00, ?it/s]"
      ]
     },
     "metadata": {},
     "output_type": "display_data"
    },
    {
     "data": {
      "application/json": {
       "ascii": false,
       "bar_format": null,
       "colour": null,
       "elapsed": 0.010237455368041992,
       "initial": 0,
       "n": 0,
       "ncols": 111,
       "nrows": 30,
       "postfix": null,
       "prefix": "Validating",
       "rate": null,
       "total": null,
       "unit": "it",
       "unit_divisor": 1000,
       "unit_scale": false
      },
      "application/vnd.jupyter.widget-view+json": {
       "model_id": "67d8c62608024a9dbf40395ee56c6c6b",
       "version_major": 2,
       "version_minor": 0
      },
      "text/plain": [
       "Validating: 0it [00:00, ?it/s]"
      ]
     },
     "metadata": {},
     "output_type": "display_data"
    },
    {
     "name": "stderr",
     "output_type": "stream",
     "text": [
      "GPU available: False, used: False\n",
      "TPU available: False, using: 0 TPU cores\n",
      "\n",
      "  | Name          | Type                | Params\n",
      "------------------------------------------------------\n",
      "0 | model         | SiameseArchitecture | 184 K \n",
      "1 | loss_function | BCELoss             | 0     \n",
      "------------------------------------------------------\n",
      "184 K     Trainable params\n",
      "0         Non-trainable params\n",
      "184 K     Total params\n",
      "0.740     Total estimated model params size (MB)\n"
     ]
    },
    {
     "name": "stdout",
     "output_type": "stream",
     "text": [
      "Accuracy:0.51, ROC_AUC:0.534, PR_AUC:0.595\n"
     ]
    },
    {
     "data": {
      "application/json": {
       "ascii": false,
       "bar_format": null,
       "colour": null,
       "elapsed": 0.009998083114624023,
       "initial": 0,
       "n": 0,
       "ncols": 111,
       "nrows": 30,
       "postfix": null,
       "prefix": "Validation sanity check",
       "rate": null,
       "total": null,
       "unit": "it",
       "unit_divisor": 1000,
       "unit_scale": false
      },
      "application/vnd.jupyter.widget-view+json": {
       "model_id": "996f2cf3e08b442682e0308a09320e61",
       "version_major": 2,
       "version_minor": 0
      },
      "text/plain": [
       "Validation sanity check: 0it [00:00, ?it/s]"
      ]
     },
     "metadata": {},
     "output_type": "display_data"
    },
    {
     "data": {
      "application/json": {
       "ascii": false,
       "bar_format": null,
       "colour": null,
       "elapsed": 0.009573221206665039,
       "initial": 0,
       "n": 0,
       "ncols": 111,
       "nrows": 30,
       "postfix": null,
       "prefix": "Training",
       "rate": null,
       "total": null,
       "unit": "it",
       "unit_divisor": 1000,
       "unit_scale": false
      },
      "application/vnd.jupyter.widget-view+json": {
       "model_id": "87db8de5633e449e8d3236dfbc9c1850",
       "version_major": 2,
       "version_minor": 0
      },
      "text/plain": [
       "Training: 0it [00:00, ?it/s]"
      ]
     },
     "metadata": {},
     "output_type": "display_data"
    },
    {
     "data": {
      "application/json": {
       "ascii": false,
       "bar_format": null,
       "colour": null,
       "elapsed": 0.009805679321289062,
       "initial": 0,
       "n": 0,
       "ncols": 111,
       "nrows": 30,
       "postfix": null,
       "prefix": "Validating",
       "rate": null,
       "total": null,
       "unit": "it",
       "unit_divisor": 1000,
       "unit_scale": false
      },
      "application/vnd.jupyter.widget-view+json": {
       "model_id": "6d1012acd01f49e2bee14d19914a18d6",
       "version_major": 2,
       "version_minor": 0
      },
      "text/plain": [
       "Validating: 0it [00:00, ?it/s]"
      ]
     },
     "metadata": {},
     "output_type": "display_data"
    },
    {
     "data": {
      "application/json": {
       "ascii": false,
       "bar_format": null,
       "colour": null,
       "elapsed": 0.009028434753417969,
       "initial": 0,
       "n": 0,
       "ncols": 111,
       "nrows": 30,
       "postfix": null,
       "prefix": "Validating",
       "rate": null,
       "total": null,
       "unit": "it",
       "unit_divisor": 1000,
       "unit_scale": false
      },
      "application/vnd.jupyter.widget-view+json": {
       "model_id": "52fd42d5f168428dbdb850b6ba2b7c7d",
       "version_major": 2,
       "version_minor": 0
      },
      "text/plain": [
       "Validating: 0it [00:00, ?it/s]"
      ]
     },
     "metadata": {},
     "output_type": "display_data"
    },
    {
     "name": "stderr",
     "output_type": "stream",
     "text": [
      "\u001b[32m[I 2023-11-02 17:33:23,076]\u001b[0m Trial 1 finished with value: 0.6910000000000001 and parameters: {'d_model': 64, 'factor': 3, 'n_heads': 8, 'dropout': 0.2110314809096664, 'd_ff': 128, 'e_layers': 5, 'sparsification_type': 'randQ_topK'}. Best is trial 1 with value: 0.6910000000000001.\u001b[0m\n",
      "GPU available: False, used: False\n",
      "TPU available: False, using: 0 TPU cores\n",
      "\n",
      "  | Name          | Type                | Params\n",
      "------------------------------------------------------\n",
      "0 | model         | SiameseArchitecture | 184 K \n",
      "1 | loss_function | BCELoss             | 0     \n",
      "------------------------------------------------------\n",
      "184 K     Trainable params\n",
      "0         Non-trainable params\n",
      "184 K     Total params\n",
      "0.740     Total estimated model params size (MB)\n"
     ]
    },
    {
     "name": "stdout",
     "output_type": "stream",
     "text": [
      "Accuracy:0.77, ROC_AUC:0.848, PR_AUC:0.88\n",
      "best_params: {'d_model': 64, 'factor': 3, 'n_heads': 8, 'dropout': 0.2110314809096664, 'd_ff': 128, 'e_layers': 5, 'sparsification_type': 'randQ_topK'}\n"
     ]
    },
    {
     "data": {
      "application/json": {
       "ascii": false,
       "bar_format": null,
       "colour": null,
       "elapsed": 0.011859655380249023,
       "initial": 0,
       "n": 0,
       "ncols": 111,
       "nrows": 30,
       "postfix": null,
       "prefix": "Validation sanity check",
       "rate": null,
       "total": null,
       "unit": "it",
       "unit_divisor": 1000,
       "unit_scale": false
      },
      "application/vnd.jupyter.widget-view+json": {
       "model_id": "9782dea146fb48e0975bd599c137daa0",
       "version_major": 2,
       "version_minor": 0
      },
      "text/plain": [
       "Validation sanity check: 0it [00:00, ?it/s]"
      ]
     },
     "metadata": {},
     "output_type": "display_data"
    },
    {
     "data": {
      "application/json": {
       "ascii": false,
       "bar_format": null,
       "colour": null,
       "elapsed": 0.00990915298461914,
       "initial": 0,
       "n": 0,
       "ncols": 111,
       "nrows": 30,
       "postfix": null,
       "prefix": "Training",
       "rate": null,
       "total": null,
       "unit": "it",
       "unit_divisor": 1000,
       "unit_scale": false
      },
      "application/vnd.jupyter.widget-view+json": {
       "model_id": "c49ec1e1e3da424c8601957891f14202",
       "version_major": 2,
       "version_minor": 0
      },
      "text/plain": [
       "Training: 0it [00:00, ?it/s]"
      ]
     },
     "metadata": {},
     "output_type": "display_data"
    },
    {
     "data": {
      "application/json": {
       "ascii": false,
       "bar_format": null,
       "colour": null,
       "elapsed": 0.008995294570922852,
       "initial": 0,
       "n": 0,
       "ncols": 111,
       "nrows": 30,
       "postfix": null,
       "prefix": "Validating",
       "rate": null,
       "total": null,
       "unit": "it",
       "unit_divisor": 1000,
       "unit_scale": false
      },
      "application/vnd.jupyter.widget-view+json": {
       "model_id": "24ab47bb6d46432087bbbb2f7ab65668",
       "version_major": 2,
       "version_minor": 0
      },
      "text/plain": [
       "Validating: 0it [00:00, ?it/s]"
      ]
     },
     "metadata": {},
     "output_type": "display_data"
    },
    {
     "data": {
      "application/json": {
       "ascii": false,
       "bar_format": null,
       "colour": null,
       "elapsed": 0.01075291633605957,
       "initial": 0,
       "n": 0,
       "ncols": 111,
       "nrows": 30,
       "postfix": null,
       "prefix": "Validating",
       "rate": null,
       "total": null,
       "unit": "it",
       "unit_divisor": 1000,
       "unit_scale": false
      },
      "application/vnd.jupyter.widget-view+json": {
       "model_id": "87686e1e64794d59a689bb67e69ec7f2",
       "version_major": 2,
       "version_minor": 0
      },
      "text/plain": [
       "Validating: 0it [00:00, ?it/s]"
      ]
     },
     "metadata": {},
     "output_type": "display_data"
    },
    {
     "name": "stderr",
     "output_type": "stream",
     "text": [
      "GPU available: False, used: False\n",
      "TPU available: False, using: 0 TPU cores\n",
      "\n",
      "  | Name          | Type                | Params\n",
      "------------------------------------------------------\n",
      "0 | model         | SiameseArchitecture | 184 K \n",
      "1 | loss_function | BCELoss             | 0     \n",
      "------------------------------------------------------\n",
      "184 K     Trainable params\n",
      "0         Non-trainable params\n",
      "184 K     Total params\n",
      "0.740     Total estimated model params size (MB)\n"
     ]
    },
    {
     "name": "stdout",
     "output_type": "stream",
     "text": [
      "Accuracy:0.52, ROC_AUC:0.587, PR_AUC:0.551\n",
      "TN: 16, FP: 9, FN: 15, TP: 10\n",
      "precision = tp / (tp + fp); recall = tp / (tp + fn)\n"
     ]
    },
    {
     "data": {
      "application/json": {
       "ascii": false,
       "bar_format": null,
       "colour": null,
       "elapsed": 0.015369653701782227,
       "initial": 0,
       "n": 0,
       "ncols": 111,
       "nrows": 30,
       "postfix": null,
       "prefix": "Validation sanity check",
       "rate": null,
       "total": null,
       "unit": "it",
       "unit_divisor": 1000,
       "unit_scale": false
      },
      "application/vnd.jupyter.widget-view+json": {
       "model_id": "9e321e56ff914bffba7cd2f0277971bc",
       "version_major": 2,
       "version_minor": 0
      },
      "text/plain": [
       "Validation sanity check: 0it [00:00, ?it/s]"
      ]
     },
     "metadata": {},
     "output_type": "display_data"
    },
    {
     "data": {
      "application/json": {
       "ascii": false,
       "bar_format": null,
       "colour": null,
       "elapsed": 0.009565353393554688,
       "initial": 0,
       "n": 0,
       "ncols": 111,
       "nrows": 30,
       "postfix": null,
       "prefix": "Training",
       "rate": null,
       "total": null,
       "unit": "it",
       "unit_divisor": 1000,
       "unit_scale": false
      },
      "application/vnd.jupyter.widget-view+json": {
       "model_id": "6148019d55ce44be832c1e944ee9808c",
       "version_major": 2,
       "version_minor": 0
      },
      "text/plain": [
       "Training: 0it [00:00, ?it/s]"
      ]
     },
     "metadata": {},
     "output_type": "display_data"
    },
    {
     "data": {
      "application/json": {
       "ascii": false,
       "bar_format": null,
       "colour": null,
       "elapsed": 0.010715961456298828,
       "initial": 0,
       "n": 0,
       "ncols": 111,
       "nrows": 30,
       "postfix": null,
       "prefix": "Validating",
       "rate": null,
       "total": null,
       "unit": "it",
       "unit_divisor": 1000,
       "unit_scale": false
      },
      "application/vnd.jupyter.widget-view+json": {
       "model_id": "58cef479ba2e4a50a0d930e5a19915ef",
       "version_major": 2,
       "version_minor": 0
      },
      "text/plain": [
       "Validating: 0it [00:00, ?it/s]"
      ]
     },
     "metadata": {},
     "output_type": "display_data"
    },
    {
     "data": {
      "application/json": {
       "ascii": false,
       "bar_format": null,
       "colour": null,
       "elapsed": 0.009888410568237305,
       "initial": 0,
       "n": 0,
       "ncols": 111,
       "nrows": 30,
       "postfix": null,
       "prefix": "Validating",
       "rate": null,
       "total": null,
       "unit": "it",
       "unit_divisor": 1000,
       "unit_scale": false
      },
      "application/vnd.jupyter.widget-view+json": {
       "model_id": "c5a9f2ba663f480db12b3ef30d344bf4",
       "version_major": 2,
       "version_minor": 0
      },
      "text/plain": [
       "Validating: 0it [00:00, ?it/s]"
      ]
     },
     "metadata": {},
     "output_type": "display_data"
    },
    {
     "name": "stderr",
     "output_type": "stream",
     "text": [
      "\u001b[32m[I 2023-11-02 17:33:31,242]\u001b[0m A new study created in memory with name: no-name-4c06d8fd-aec7-464f-8a7f-22d911fcc11e\u001b[0m\n",
      "GPU available: False, used: False\n",
      "TPU available: False, using: 0 TPU cores\n",
      "\n",
      "  | Name          | Type                | Params\n",
      "------------------------------------------------------\n",
      "0 | model         | SiameseArchitecture | 911 K \n",
      "1 | loss_function | BCELoss             | 0     \n",
      "------------------------------------------------------\n",
      "911 K     Trainable params\n",
      "0         Non-trainable params\n",
      "911 K     Total params\n",
      "3.648     Total estimated model params size (MB)\n"
     ]
    },
    {
     "name": "stdout",
     "output_type": "stream",
     "text": [
      "Accuracy:0.64, ROC_AUC:0.749, PR_AUC:0.777\n",
      "TN: 23, FP: 2, FN: 16, TP: 9\n",
      "precision = tp / (tp + fp); recall = tp / (tp + fn)\n",
      "Accuracy: 0.580 ± 0.060\n",
      "Precision: 0.672 ± 0.146\n",
      "Recall: 0.380 ± 0.020\n",
      "ROC AUC: 0.668 ± 0.081\n",
      "PR AUC: 0.664 ± 0.113\n",
      "--------------------------------------------------\n",
      "Eucl_Accuracy: 1.000 ± 0.000\n",
      "Eucl_Precision: nan ± nan\n",
      "Eucl_Recall: 0.000 ± 0.000\n",
      "Eucl_ROC AUC: 0.500 ± 0.000\n",
      "Eucl_PR AUC: 1.000 ± 0.000\n",
      "--------------------------------------------------\n",
      "Cos_Accuracy: 1.000 ± 0.000\n",
      "Cos_Precision: 0.713 ± 0.213\n",
      "Cos_Recall: 1.000 ± 0.000\n",
      "Cos_ROC AUC: 0.730 ± 0.230\n",
      "Cos_PR AUC: 1.000 ± 0.000\n",
      "--------------------------------------------------\n",
      "\n",
      "all_results: ({'Accuracy': [0.52, 0.64], 'Precision': [0.5263157894736842, 0.8181818181818182], 'Recall': [0.4, 0.36], 'ROC AUC': [0.5871999999999999, 0.7488], 'PR AUC': [0.5505433662798318, 0.7770393434511802]}, {'Eucl_Accuracy': [1.0, 1.0], 'Eucl_Precision': [nan, nan], 'Eucl_Recall': [0.0, 0.0], 'Eucl_ROC AUC': [0.5, 0.5], 'Eucl_PR AUC': [1.0, 1.0]}, {'Cos_Accuracy': [1.0, 1.0], 'Cos_Precision': [0.5, 0.9259259259259259], 'Cos_Recall': [1.0, 1.0], 'Cos_ROC AUC': [0.5, 0.96], 'Cos_PR AUC': [1.0, 1.0]})\n",
      "****************************************************************************************************\n",
      "model_type: siamese_reguformer_randQ_randK\n"
     ]
    },
    {
     "data": {
      "application/json": {
       "ascii": false,
       "bar_format": null,
       "colour": null,
       "elapsed": 0.008582592010498047,
       "initial": 0,
       "n": 0,
       "ncols": 111,
       "nrows": 30,
       "postfix": null,
       "prefix": "Validation sanity check",
       "rate": null,
       "total": null,
       "unit": "it",
       "unit_divisor": 1000,
       "unit_scale": false
      },
      "application/vnd.jupyter.widget-view+json": {
       "model_id": "657821a722e44d7d952fe3b1edf2558a",
       "version_major": 2,
       "version_minor": 0
      },
      "text/plain": [
       "Validation sanity check: 0it [00:00, ?it/s]"
      ]
     },
     "metadata": {},
     "output_type": "display_data"
    },
    {
     "data": {
      "application/json": {
       "ascii": false,
       "bar_format": null,
       "colour": null,
       "elapsed": 0.009430408477783203,
       "initial": 0,
       "n": 0,
       "ncols": 111,
       "nrows": 30,
       "postfix": null,
       "prefix": "Training",
       "rate": null,
       "total": null,
       "unit": "it",
       "unit_divisor": 1000,
       "unit_scale": false
      },
      "application/vnd.jupyter.widget-view+json": {
       "model_id": "922c8447f5f1408cb21641000c7dded5",
       "version_major": 2,
       "version_minor": 0
      },
      "text/plain": [
       "Training: 0it [00:00, ?it/s]"
      ]
     },
     "metadata": {},
     "output_type": "display_data"
    },
    {
     "data": {
      "application/json": {
       "ascii": false,
       "bar_format": null,
       "colour": null,
       "elapsed": 0.009952783584594727,
       "initial": 0,
       "n": 0,
       "ncols": 111,
       "nrows": 30,
       "postfix": null,
       "prefix": "Validating",
       "rate": null,
       "total": null,
       "unit": "it",
       "unit_divisor": 1000,
       "unit_scale": false
      },
      "application/vnd.jupyter.widget-view+json": {
       "model_id": "2ae7bb7f01da4e40a5a27045c3474d1a",
       "version_major": 2,
       "version_minor": 0
      },
      "text/plain": [
       "Validating: 0it [00:00, ?it/s]"
      ]
     },
     "metadata": {},
     "output_type": "display_data"
    },
    {
     "data": {
      "application/json": {
       "ascii": false,
       "bar_format": null,
       "colour": null,
       "elapsed": 0.01419377326965332,
       "initial": 0,
       "n": 0,
       "ncols": 111,
       "nrows": 30,
       "postfix": null,
       "prefix": "Validating",
       "rate": null,
       "total": null,
       "unit": "it",
       "unit_divisor": 1000,
       "unit_scale": false
      },
      "application/vnd.jupyter.widget-view+json": {
       "model_id": "aea09f2f53bf43fc89769525b824157a",
       "version_major": 2,
       "version_minor": 0
      },
      "text/plain": [
       "Validating: 0it [00:00, ?it/s]"
      ]
     },
     "metadata": {},
     "output_type": "display_data"
    },
    {
     "name": "stderr",
     "output_type": "stream",
     "text": [
      "GPU available: False, used: False\n",
      "TPU available: False, using: 0 TPU cores\n",
      "\n",
      "  | Name          | Type                | Params\n",
      "------------------------------------------------------\n",
      "0 | model         | SiameseArchitecture | 911 K \n",
      "1 | loss_function | BCELoss             | 0     \n",
      "------------------------------------------------------\n",
      "911 K     Trainable params\n",
      "0         Non-trainable params\n",
      "911 K     Total params\n",
      "3.648     Total estimated model params size (MB)\n"
     ]
    },
    {
     "name": "stdout",
     "output_type": "stream",
     "text": [
      "Accuracy:0.53, ROC_AUC:0.553, PR_AUC:0.595\n"
     ]
    },
    {
     "data": {
      "application/json": {
       "ascii": false,
       "bar_format": null,
       "colour": null,
       "elapsed": 0.009280204772949219,
       "initial": 0,
       "n": 0,
       "ncols": 111,
       "nrows": 30,
       "postfix": null,
       "prefix": "Validation sanity check",
       "rate": null,
       "total": null,
       "unit": "it",
       "unit_divisor": 1000,
       "unit_scale": false
      },
      "application/vnd.jupyter.widget-view+json": {
       "model_id": "9b7987759ac74f75a79066ae621df93d",
       "version_major": 2,
       "version_minor": 0
      },
      "text/plain": [
       "Validation sanity check: 0it [00:00, ?it/s]"
      ]
     },
     "metadata": {},
     "output_type": "display_data"
    },
    {
     "data": {
      "application/json": {
       "ascii": false,
       "bar_format": null,
       "colour": null,
       "elapsed": 0.010009288787841797,
       "initial": 0,
       "n": 0,
       "ncols": 111,
       "nrows": 30,
       "postfix": null,
       "prefix": "Training",
       "rate": null,
       "total": null,
       "unit": "it",
       "unit_divisor": 1000,
       "unit_scale": false
      },
      "application/vnd.jupyter.widget-view+json": {
       "model_id": "d40d36ec494346b1940d92f0ac3815b4",
       "version_major": 2,
       "version_minor": 0
      },
      "text/plain": [
       "Training: 0it [00:00, ?it/s]"
      ]
     },
     "metadata": {},
     "output_type": "display_data"
    },
    {
     "data": {
      "application/json": {
       "ascii": false,
       "bar_format": null,
       "colour": null,
       "elapsed": 0.009688615798950195,
       "initial": 0,
       "n": 0,
       "ncols": 111,
       "nrows": 30,
       "postfix": null,
       "prefix": "Validating",
       "rate": null,
       "total": null,
       "unit": "it",
       "unit_divisor": 1000,
       "unit_scale": false
      },
      "application/vnd.jupyter.widget-view+json": {
       "model_id": "fdc055281635459db30fa5bf150ee394",
       "version_major": 2,
       "version_minor": 0
      },
      "text/plain": [
       "Validating: 0it [00:00, ?it/s]"
      ]
     },
     "metadata": {},
     "output_type": "display_data"
    },
    {
     "data": {
      "application/json": {
       "ascii": false,
       "bar_format": null,
       "colour": null,
       "elapsed": 0.012961626052856445,
       "initial": 0,
       "n": 0,
       "ncols": 111,
       "nrows": 30,
       "postfix": null,
       "prefix": "Validating",
       "rate": null,
       "total": null,
       "unit": "it",
       "unit_divisor": 1000,
       "unit_scale": false
      },
      "application/vnd.jupyter.widget-view+json": {
       "model_id": "a4c390400dc44bf3a9df29d42c49c6af",
       "version_major": 2,
       "version_minor": 0
      },
      "text/plain": [
       "Validating: 0it [00:00, ?it/s]"
      ]
     },
     "metadata": {},
     "output_type": "display_data"
    },
    {
     "name": "stderr",
     "output_type": "stream",
     "text": [
      "\u001b[32m[I 2023-11-02 17:33:46,504]\u001b[0m Trial 0 finished with value: 0.6581999999999999 and parameters: {'d_model': 64, 'factor': 7, 'n_heads': 2, 'dropout': 0.46929937706767944, 'd_ff': 1024, 'e_layers': 6, 'sparsification_type': 'randQ_randK'}. Best is trial 0 with value: 0.6581999999999999.\u001b[0m\n",
      "GPU available: False, used: False\n",
      "TPU available: False, using: 0 TPU cores\n",
      "\n",
      "  | Name          | Type                | Params\n",
      "------------------------------------------------------\n",
      "0 | model         | SiameseArchitecture | 160 K \n",
      "1 | loss_function | BCELoss             | 0     \n",
      "------------------------------------------------------\n",
      "160 K     Trainable params\n",
      "0         Non-trainable params\n",
      "160 K     Total params\n",
      "0.642     Total estimated model params size (MB)\n"
     ]
    },
    {
     "name": "stdout",
     "output_type": "stream",
     "text": [
      "Accuracy:0.69, ROC_AUC:0.764, PR_AUC:0.739\n"
     ]
    },
    {
     "data": {
      "application/json": {
       "ascii": false,
       "bar_format": null,
       "colour": null,
       "elapsed": 0.010472774505615234,
       "initial": 0,
       "n": 0,
       "ncols": 111,
       "nrows": 30,
       "postfix": null,
       "prefix": "Validation sanity check",
       "rate": null,
       "total": null,
       "unit": "it",
       "unit_divisor": 1000,
       "unit_scale": false
      },
      "application/vnd.jupyter.widget-view+json": {
       "model_id": "d1d54cde4a4441a392a721c8f19118f3",
       "version_major": 2,
       "version_minor": 0
      },
      "text/plain": [
       "Validation sanity check: 0it [00:00, ?it/s]"
      ]
     },
     "metadata": {},
     "output_type": "display_data"
    },
    {
     "data": {
      "application/json": {
       "ascii": false,
       "bar_format": null,
       "colour": null,
       "elapsed": 0.009772062301635742,
       "initial": 0,
       "n": 0,
       "ncols": 111,
       "nrows": 30,
       "postfix": null,
       "prefix": "Training",
       "rate": null,
       "total": null,
       "unit": "it",
       "unit_divisor": 1000,
       "unit_scale": false
      },
      "application/vnd.jupyter.widget-view+json": {
       "model_id": "3fc9f63e6f1f401c8f32188ad48af540",
       "version_major": 2,
       "version_minor": 0
      },
      "text/plain": [
       "Training: 0it [00:00, ?it/s]"
      ]
     },
     "metadata": {},
     "output_type": "display_data"
    },
    {
     "data": {
      "application/json": {
       "ascii": false,
       "bar_format": null,
       "colour": null,
       "elapsed": 0.009676218032836914,
       "initial": 0,
       "n": 0,
       "ncols": 111,
       "nrows": 30,
       "postfix": null,
       "prefix": "Validating",
       "rate": null,
       "total": null,
       "unit": "it",
       "unit_divisor": 1000,
       "unit_scale": false
      },
      "application/vnd.jupyter.widget-view+json": {
       "model_id": "a63201060a0e4004b4b902b949294f8b",
       "version_major": 2,
       "version_minor": 0
      },
      "text/plain": [
       "Validating: 0it [00:00, ?it/s]"
      ]
     },
     "metadata": {},
     "output_type": "display_data"
    },
    {
     "data": {
      "application/json": {
       "ascii": false,
       "bar_format": null,
       "colour": null,
       "elapsed": 0.014565467834472656,
       "initial": 0,
       "n": 0,
       "ncols": 111,
       "nrows": 30,
       "postfix": null,
       "prefix": "Validating",
       "rate": null,
       "total": null,
       "unit": "it",
       "unit_divisor": 1000,
       "unit_scale": false
      },
      "application/vnd.jupyter.widget-view+json": {
       "model_id": "2b268903000f48fda06f41dc877eba7f",
       "version_major": 2,
       "version_minor": 0
      },
      "text/plain": [
       "Validating: 0it [00:00, ?it/s]"
      ]
     },
     "metadata": {},
     "output_type": "display_data"
    },
    {
     "name": "stderr",
     "output_type": "stream",
     "text": [
      "GPU available: False, used: False\n",
      "TPU available: False, using: 0 TPU cores\n",
      "\n",
      "  | Name          | Type                | Params\n",
      "------------------------------------------------------\n",
      "0 | model         | SiameseArchitecture | 160 K \n",
      "1 | loss_function | BCELoss             | 0     \n",
      "------------------------------------------------------\n",
      "160 K     Trainable params\n",
      "0         Non-trainable params\n",
      "160 K     Total params\n",
      "0.642     Total estimated model params size (MB)\n"
     ]
    },
    {
     "name": "stdout",
     "output_type": "stream",
     "text": [
      "Accuracy:0.52, ROC_AUC:0.618, PR_AUC:0.598\n"
     ]
    },
    {
     "data": {
      "application/json": {
       "ascii": false,
       "bar_format": null,
       "colour": null,
       "elapsed": 0.010042667388916016,
       "initial": 0,
       "n": 0,
       "ncols": 111,
       "nrows": 30,
       "postfix": null,
       "prefix": "Validation sanity check",
       "rate": null,
       "total": null,
       "unit": "it",
       "unit_divisor": 1000,
       "unit_scale": false
      },
      "application/vnd.jupyter.widget-view+json": {
       "model_id": "1851bb2a30534eeb970de3afb38de2b8",
       "version_major": 2,
       "version_minor": 0
      },
      "text/plain": [
       "Validation sanity check: 0it [00:00, ?it/s]"
      ]
     },
     "metadata": {},
     "output_type": "display_data"
    },
    {
     "data": {
      "application/json": {
       "ascii": false,
       "bar_format": null,
       "colour": null,
       "elapsed": 0.00945591926574707,
       "initial": 0,
       "n": 0,
       "ncols": 111,
       "nrows": 30,
       "postfix": null,
       "prefix": "Training",
       "rate": null,
       "total": null,
       "unit": "it",
       "unit_divisor": 1000,
       "unit_scale": false
      },
      "application/vnd.jupyter.widget-view+json": {
       "model_id": "677bc844c43141fbbfe7e95390998a24",
       "version_major": 2,
       "version_minor": 0
      },
      "text/plain": [
       "Training: 0it [00:00, ?it/s]"
      ]
     },
     "metadata": {},
     "output_type": "display_data"
    },
    {
     "data": {
      "application/json": {
       "ascii": false,
       "bar_format": null,
       "colour": null,
       "elapsed": 0.009810924530029297,
       "initial": 0,
       "n": 0,
       "ncols": 111,
       "nrows": 30,
       "postfix": null,
       "prefix": "Validating",
       "rate": null,
       "total": null,
       "unit": "it",
       "unit_divisor": 1000,
       "unit_scale": false
      },
      "application/vnd.jupyter.widget-view+json": {
       "model_id": "522f1b26e8bb499791f6214c3323ab87",
       "version_major": 2,
       "version_minor": 0
      },
      "text/plain": [
       "Validating: 0it [00:00, ?it/s]"
      ]
     },
     "metadata": {},
     "output_type": "display_data"
    },
    {
     "data": {
      "application/json": {
       "ascii": false,
       "bar_format": null,
       "colour": null,
       "elapsed": 0.014422416687011719,
       "initial": 0,
       "n": 0,
       "ncols": 111,
       "nrows": 30,
       "postfix": null,
       "prefix": "Validating",
       "rate": null,
       "total": null,
       "unit": "it",
       "unit_divisor": 1000,
       "unit_scale": false
      },
      "application/vnd.jupyter.widget-view+json": {
       "model_id": "d195b3e5a8764642b993640304baade0",
       "version_major": 2,
       "version_minor": 0
      },
      "text/plain": [
       "Validating: 0it [00:00, ?it/s]"
      ]
     },
     "metadata": {},
     "output_type": "display_data"
    },
    {
     "name": "stderr",
     "output_type": "stream",
     "text": [
      "\u001b[32m[I 2023-11-02 17:33:54,475]\u001b[0m Trial 1 finished with value: 0.7386 and parameters: {'d_model': 32, 'factor': 3, 'n_heads': 2, 'dropout': 0.18997335543108662, 'd_ff': 512, 'e_layers': 4, 'sparsification_type': 'randQ_randK'}. Best is trial 1 with value: 0.7386.\u001b[0m\n",
      "GPU available: False, used: False\n",
      "TPU available: False, using: 0 TPU cores\n",
      "\n",
      "  | Name          | Type                | Params\n",
      "------------------------------------------------------\n",
      "0 | model         | SiameseArchitecture | 160 K \n",
      "1 | loss_function | BCELoss             | 0     \n",
      "------------------------------------------------------\n",
      "160 K     Trainable params\n",
      "0         Non-trainable params\n",
      "160 K     Total params\n",
      "0.642     Total estimated model params size (MB)\n"
     ]
    },
    {
     "name": "stdout",
     "output_type": "stream",
     "text": [
      "Accuracy:0.69, ROC_AUC:0.86, PR_AUC:0.87\n",
      "best_params: {'d_model': 32, 'factor': 3, 'n_heads': 2, 'dropout': 0.18997335543108662, 'd_ff': 512, 'e_layers': 4, 'sparsification_type': 'randQ_randK'}\n"
     ]
    },
    {
     "data": {
      "application/json": {
       "ascii": false,
       "bar_format": null,
       "colour": null,
       "elapsed": 0.009070873260498047,
       "initial": 0,
       "n": 0,
       "ncols": 111,
       "nrows": 30,
       "postfix": null,
       "prefix": "Validation sanity check",
       "rate": null,
       "total": null,
       "unit": "it",
       "unit_divisor": 1000,
       "unit_scale": false
      },
      "application/vnd.jupyter.widget-view+json": {
       "model_id": "bf376a90efdf4a0f98d6bdddeee55d8c",
       "version_major": 2,
       "version_minor": 0
      },
      "text/plain": [
       "Validation sanity check: 0it [00:00, ?it/s]"
      ]
     },
     "metadata": {},
     "output_type": "display_data"
    },
    {
     "data": {
      "application/json": {
       "ascii": false,
       "bar_format": null,
       "colour": null,
       "elapsed": 0.010750532150268555,
       "initial": 0,
       "n": 0,
       "ncols": 111,
       "nrows": 30,
       "postfix": null,
       "prefix": "Training",
       "rate": null,
       "total": null,
       "unit": "it",
       "unit_divisor": 1000,
       "unit_scale": false
      },
      "application/vnd.jupyter.widget-view+json": {
       "model_id": "ed97bde088f545879cdbce7f7a63a6df",
       "version_major": 2,
       "version_minor": 0
      },
      "text/plain": [
       "Training: 0it [00:00, ?it/s]"
      ]
     },
     "metadata": {},
     "output_type": "display_data"
    },
    {
     "data": {
      "application/json": {
       "ascii": false,
       "bar_format": null,
       "colour": null,
       "elapsed": 0.009594917297363281,
       "initial": 0,
       "n": 0,
       "ncols": 111,
       "nrows": 30,
       "postfix": null,
       "prefix": "Validating",
       "rate": null,
       "total": null,
       "unit": "it",
       "unit_divisor": 1000,
       "unit_scale": false
      },
      "application/vnd.jupyter.widget-view+json": {
       "model_id": "e7669def231f401189370ef3ae08edce",
       "version_major": 2,
       "version_minor": 0
      },
      "text/plain": [
       "Validating: 0it [00:00, ?it/s]"
      ]
     },
     "metadata": {},
     "output_type": "display_data"
    },
    {
     "data": {
      "application/json": {
       "ascii": false,
       "bar_format": null,
       "colour": null,
       "elapsed": 0.009118795394897461,
       "initial": 0,
       "n": 0,
       "ncols": 111,
       "nrows": 30,
       "postfix": null,
       "prefix": "Validating",
       "rate": null,
       "total": null,
       "unit": "it",
       "unit_divisor": 1000,
       "unit_scale": false
      },
      "application/vnd.jupyter.widget-view+json": {
       "model_id": "ea84c80002774ef2a0ad8e3960ffbfcf",
       "version_major": 2,
       "version_minor": 0
      },
      "text/plain": [
       "Validating: 0it [00:00, ?it/s]"
      ]
     },
     "metadata": {},
     "output_type": "display_data"
    },
    {
     "name": "stderr",
     "output_type": "stream",
     "text": [
      "GPU available: False, used: False\n",
      "TPU available: False, using: 0 TPU cores\n",
      "\n",
      "  | Name          | Type                | Params\n",
      "------------------------------------------------------\n",
      "0 | model         | SiameseArchitecture | 160 K \n",
      "1 | loss_function | BCELoss             | 0     \n",
      "------------------------------------------------------\n",
      "160 K     Trainable params\n",
      "0         Non-trainable params\n",
      "160 K     Total params\n",
      "0.642     Total estimated model params size (MB)\n"
     ]
    },
    {
     "name": "stdout",
     "output_type": "stream",
     "text": [
      "Accuracy:0.5, ROC_AUC:0.634, PR_AUC:0.637\n",
      "TN: 22, FP: 3, FN: 22, TP: 3\n",
      "precision = tp / (tp + fp); recall = tp / (tp + fn)\n"
     ]
    },
    {
     "data": {
      "application/json": {
       "ascii": false,
       "bar_format": null,
       "colour": null,
       "elapsed": 0.008916378021240234,
       "initial": 0,
       "n": 0,
       "ncols": 111,
       "nrows": 30,
       "postfix": null,
       "prefix": "Validation sanity check",
       "rate": null,
       "total": null,
       "unit": "it",
       "unit_divisor": 1000,
       "unit_scale": false
      },
      "application/vnd.jupyter.widget-view+json": {
       "model_id": "1c79a9db7f0a417385ce5e67db96ad49",
       "version_major": 2,
       "version_minor": 0
      },
      "text/plain": [
       "Validation sanity check: 0it [00:00, ?it/s]"
      ]
     },
     "metadata": {},
     "output_type": "display_data"
    },
    {
     "data": {
      "application/json": {
       "ascii": false,
       "bar_format": null,
       "colour": null,
       "elapsed": 0.01541900634765625,
       "initial": 0,
       "n": 0,
       "ncols": 111,
       "nrows": 30,
       "postfix": null,
       "prefix": "Training",
       "rate": null,
       "total": null,
       "unit": "it",
       "unit_divisor": 1000,
       "unit_scale": false
      },
      "application/vnd.jupyter.widget-view+json": {
       "model_id": "f1a2b83deb8041f2afed2b6d2298a9e5",
       "version_major": 2,
       "version_minor": 0
      },
      "text/plain": [
       "Training: 0it [00:00, ?it/s]"
      ]
     },
     "metadata": {},
     "output_type": "display_data"
    },
    {
     "data": {
      "application/json": {
       "ascii": false,
       "bar_format": null,
       "colour": null,
       "elapsed": 0.00925588607788086,
       "initial": 0,
       "n": 0,
       "ncols": 111,
       "nrows": 30,
       "postfix": null,
       "prefix": "Validating",
       "rate": null,
       "total": null,
       "unit": "it",
       "unit_divisor": 1000,
       "unit_scale": false
      },
      "application/vnd.jupyter.widget-view+json": {
       "model_id": "4cda3eff106c4882ad88d5e918b41d0a",
       "version_major": 2,
       "version_minor": 0
      },
      "text/plain": [
       "Validating: 0it [00:00, ?it/s]"
      ]
     },
     "metadata": {},
     "output_type": "display_data"
    },
    {
     "data": {
      "application/json": {
       "ascii": false,
       "bar_format": null,
       "colour": null,
       "elapsed": 0.01003885269165039,
       "initial": 0,
       "n": 0,
       "ncols": 111,
       "nrows": 30,
       "postfix": null,
       "prefix": "Validating",
       "rate": null,
       "total": null,
       "unit": "it",
       "unit_divisor": 1000,
       "unit_scale": false
      },
      "application/vnd.jupyter.widget-view+json": {
       "model_id": "a41064796ce741daa9338b56c3b45de7",
       "version_major": 2,
       "version_minor": 0
      },
      "text/plain": [
       "Validating: 0it [00:00, ?it/s]"
      ]
     },
     "metadata": {},
     "output_type": "display_data"
    },
    {
     "name": "stderr",
     "output_type": "stream",
     "text": [
      "\u001b[32m[I 2023-11-02 17:34:01,973]\u001b[0m A new study created in memory with name: no-name-471272e6-6ed8-4a64-9c30-5263baf1835e\u001b[0m\n",
      "GPU available: False, used: False\n",
      "TPU available: False, using: 0 TPU cores\n",
      "\n",
      "  | Name          | Type                | Params\n",
      "------------------------------------------------------\n",
      "0 | model         | TripletArchitecture | 420 K \n",
      "1 | loss_function | TripletMarginLoss   | 0     \n",
      "------------------------------------------------------\n",
      "420 K     Trainable params\n",
      "0         Non-trainable params\n",
      "420 K     Total params\n",
      "1.681     Total estimated model params size (MB)\n"
     ]
    },
    {
     "name": "stdout",
     "output_type": "stream",
     "text": [
      "Accuracy:0.56, ROC_AUC:0.786, PR_AUC:0.758\n",
      "TN: 23, FP: 2, FN: 20, TP: 5\n",
      "precision = tp / (tp + fp); recall = tp / (tp + fn)\n",
      "Accuracy: 0.530 ± 0.030\n",
      "Precision: 0.607 ± 0.107\n",
      "Recall: 0.160 ± 0.040\n",
      "ROC AUC: 0.710 ± 0.076\n",
      "PR AUC: 0.698 ± 0.061\n",
      "--------------------------------------------------\n",
      "Eucl_Accuracy: 1.000 ± 0.000\n",
      "Eucl_Precision: 1.000 ± 0.000\n",
      "Eucl_Recall: 0.340 ± 0.180\n",
      "Eucl_ROC AUC: 0.670 ± 0.090\n",
      "Eucl_PR AUC: 1.000 ± 0.000\n",
      "--------------------------------------------------\n",
      "Cos_Accuracy: 1.000 ± 0.000\n",
      "Cos_Precision: 0.713 ± 0.213\n",
      "Cos_Recall: 1.000 ± 0.000\n",
      "Cos_ROC AUC: 0.730 ± 0.230\n",
      "Cos_PR AUC: 1.000 ± 0.000\n",
      "--------------------------------------------------\n",
      "\n",
      "all_results: ({'Accuracy': [0.5, 0.56], 'Precision': [0.5, 0.7142857142857143], 'Recall': [0.12, 0.2], 'ROC AUC': [0.6335999999999999, 0.7856000000000001], 'PR AUC': [0.6371771505422403, 0.758414007888895]}, {'Eucl_Accuracy': [1.0, 1.0], 'Eucl_Precision': [1.0, 1.0], 'Eucl_Recall': [0.16, 0.52], 'Eucl_ROC AUC': [0.58, 0.76], 'Eucl_PR AUC': [1.0, 1.0]}, {'Cos_Accuracy': [1.0, 1.0], 'Cos_Precision': [0.5, 0.9259259259259259], 'Cos_Recall': [1.0, 1.0], 'Cos_ROC AUC': [0.5, 0.96], 'Cos_PR AUC': [1.0, 1.0]})\n",
      "****************************************************************************************************\n",
      "model_type: triplet_reguformer_topQ\n"
     ]
    },
    {
     "data": {
      "application/json": {
       "ascii": false,
       "bar_format": null,
       "colour": null,
       "elapsed": 0.008903741836547852,
       "initial": 0,
       "n": 0,
       "ncols": 111,
       "nrows": 30,
       "postfix": null,
       "prefix": "Validation sanity check",
       "rate": null,
       "total": null,
       "unit": "it",
       "unit_divisor": 1000,
       "unit_scale": false
      },
      "application/vnd.jupyter.widget-view+json": {
       "model_id": "bd69e4cd985a493296744267bee4ca82",
       "version_major": 2,
       "version_minor": 0
      },
      "text/plain": [
       "Validation sanity check: 0it [00:00, ?it/s]"
      ]
     },
     "metadata": {},
     "output_type": "display_data"
    },
    {
     "data": {
      "application/json": {
       "ascii": false,
       "bar_format": null,
       "colour": null,
       "elapsed": 0.009870529174804688,
       "initial": 0,
       "n": 0,
       "ncols": 111,
       "nrows": 30,
       "postfix": null,
       "prefix": "Training",
       "rate": null,
       "total": null,
       "unit": "it",
       "unit_divisor": 1000,
       "unit_scale": false
      },
      "application/vnd.jupyter.widget-view+json": {
       "model_id": "7ac6b30215184743ada1f9b24ddf1eb1",
       "version_major": 2,
       "version_minor": 0
      },
      "text/plain": [
       "Training: 0it [00:00, ?it/s]"
      ]
     },
     "metadata": {},
     "output_type": "display_data"
    },
    {
     "data": {
      "application/json": {
       "ascii": false,
       "bar_format": null,
       "colour": null,
       "elapsed": 0.009833335876464844,
       "initial": 0,
       "n": 0,
       "ncols": 111,
       "nrows": 30,
       "postfix": null,
       "prefix": "Validating",
       "rate": null,
       "total": null,
       "unit": "it",
       "unit_divisor": 1000,
       "unit_scale": false
      },
      "application/vnd.jupyter.widget-view+json": {
       "model_id": "b72a269d03314666abe86f5739a5d109",
       "version_major": 2,
       "version_minor": 0
      },
      "text/plain": [
       "Validating: 0it [00:00, ?it/s]"
      ]
     },
     "metadata": {},
     "output_type": "display_data"
    },
    {
     "data": {
      "application/json": {
       "ascii": false,
       "bar_format": null,
       "colour": null,
       "elapsed": 0.009439468383789062,
       "initial": 0,
       "n": 0,
       "ncols": 111,
       "nrows": 30,
       "postfix": null,
       "prefix": "Validating",
       "rate": null,
       "total": null,
       "unit": "it",
       "unit_divisor": 1000,
       "unit_scale": false
      },
      "application/vnd.jupyter.widget-view+json": {
       "model_id": "9cd9c385eaae48478fae008c4c812d02",
       "version_major": 2,
       "version_minor": 0
      },
      "text/plain": [
       "Validating: 0it [00:00, ?it/s]"
      ]
     },
     "metadata": {},
     "output_type": "display_data"
    },
    {
     "name": "stderr",
     "output_type": "stream",
     "text": [
      "GPU available: False, used: False\n",
      "TPU available: False, using: 0 TPU cores\n",
      "\n",
      "  | Name          | Type                | Params\n",
      "------------------------------------------------------\n",
      "0 | model         | TripletArchitecture | 420 K \n",
      "1 | loss_function | TripletMarginLoss   | 0     \n",
      "------------------------------------------------------\n",
      "420 K     Trainable params\n",
      "0         Non-trainable params\n",
      "420 K     Total params\n",
      "1.681     Total estimated model params size (MB)\n"
     ]
    },
    {
     "data": {
      "application/json": {
       "ascii": false,
       "bar_format": null,
       "colour": null,
       "elapsed": 0.011493921279907227,
       "initial": 0,
       "n": 0,
       "ncols": 111,
       "nrows": 30,
       "postfix": null,
       "prefix": "Validation sanity check",
       "rate": null,
       "total": null,
       "unit": "it",
       "unit_divisor": 1000,
       "unit_scale": false
      },
      "application/vnd.jupyter.widget-view+json": {
       "model_id": "7a59f83c73664fae8f057d2b34c5d82d",
       "version_major": 2,
       "version_minor": 0
      },
      "text/plain": [
       "Validation sanity check: 0it [00:00, ?it/s]"
      ]
     },
     "metadata": {},
     "output_type": "display_data"
    },
    {
     "data": {
      "application/json": {
       "ascii": false,
       "bar_format": null,
       "colour": null,
       "elapsed": 0.008921146392822266,
       "initial": 0,
       "n": 0,
       "ncols": 111,
       "nrows": 30,
       "postfix": null,
       "prefix": "Training",
       "rate": null,
       "total": null,
       "unit": "it",
       "unit_divisor": 1000,
       "unit_scale": false
      },
      "application/vnd.jupyter.widget-view+json": {
       "model_id": "7a799297e645410f8f6b1ec2520987c8",
       "version_major": 2,
       "version_minor": 0
      },
      "text/plain": [
       "Training: 0it [00:00, ?it/s]"
      ]
     },
     "metadata": {},
     "output_type": "display_data"
    },
    {
     "data": {
      "application/json": {
       "ascii": false,
       "bar_format": null,
       "colour": null,
       "elapsed": 0.008842945098876953,
       "initial": 0,
       "n": 0,
       "ncols": 111,
       "nrows": 30,
       "postfix": null,
       "prefix": "Validating",
       "rate": null,
       "total": null,
       "unit": "it",
       "unit_divisor": 1000,
       "unit_scale": false
      },
      "application/vnd.jupyter.widget-view+json": {
       "model_id": "5bc76ae47b3a4652827cabd3d27a121d",
       "version_major": 2,
       "version_minor": 0
      },
      "text/plain": [
       "Validating: 0it [00:00, ?it/s]"
      ]
     },
     "metadata": {},
     "output_type": "display_data"
    },
    {
     "data": {
      "application/json": {
       "ascii": false,
       "bar_format": null,
       "colour": null,
       "elapsed": 0.009501218795776367,
       "initial": 0,
       "n": 0,
       "ncols": 111,
       "nrows": 30,
       "postfix": null,
       "prefix": "Validating",
       "rate": null,
       "total": null,
       "unit": "it",
       "unit_divisor": 1000,
       "unit_scale": false
      },
      "application/vnd.jupyter.widget-view+json": {
       "model_id": "4ed5a7468bae4145b579a73646c541c4",
       "version_major": 2,
       "version_minor": 0
      },
      "text/plain": [
       "Validating: 0it [00:00, ?it/s]"
      ]
     },
     "metadata": {},
     "output_type": "display_data"
    },
    {
     "name": "stderr",
     "output_type": "stream",
     "text": [
      "\u001b[32m[I 2023-11-02 17:34:09,781]\u001b[0m Trial 0 finished with value: 0.5 and parameters: {'d_model': 64, 'factor': 7, 'n_heads': 2, 'dropout': 0.3780680730001579, 'd_ff': 512, 'e_layers': 5, 'sparsification_type': 'topQ'}. Best is trial 0 with value: 0.5.\u001b[0m\n",
      "GPU available: False, used: False\n",
      "TPU available: False, using: 0 TPU cores\n",
      "\n",
      "  | Name          | Type                | Params\n",
      "------------------------------------------------------\n",
      "0 | model         | TripletArchitecture | 102 K \n",
      "1 | loss_function | TripletMarginLoss   | 0     \n",
      "------------------------------------------------------\n",
      "102 K     Trainable params\n",
      "0         Non-trainable params\n",
      "102 K     Total params\n",
      "0.410     Total estimated model params size (MB)\n"
     ]
    },
    {
     "data": {
      "application/json": {
       "ascii": false,
       "bar_format": null,
       "colour": null,
       "elapsed": 0.01040506362915039,
       "initial": 0,
       "n": 0,
       "ncols": 111,
       "nrows": 30,
       "postfix": null,
       "prefix": "Validation sanity check",
       "rate": null,
       "total": null,
       "unit": "it",
       "unit_divisor": 1000,
       "unit_scale": false
      },
      "application/vnd.jupyter.widget-view+json": {
       "model_id": "bd06bca299184940b8d648f89f564891",
       "version_major": 2,
       "version_minor": 0
      },
      "text/plain": [
       "Validation sanity check: 0it [00:00, ?it/s]"
      ]
     },
     "metadata": {},
     "output_type": "display_data"
    },
    {
     "data": {
      "application/json": {
       "ascii": false,
       "bar_format": null,
       "colour": null,
       "elapsed": 0.01461172103881836,
       "initial": 0,
       "n": 0,
       "ncols": 111,
       "nrows": 30,
       "postfix": null,
       "prefix": "Training",
       "rate": null,
       "total": null,
       "unit": "it",
       "unit_divisor": 1000,
       "unit_scale": false
      },
      "application/vnd.jupyter.widget-view+json": {
       "model_id": "58afae6dfacd4ebeb31e15af31f53c0b",
       "version_major": 2,
       "version_minor": 0
      },
      "text/plain": [
       "Training: 0it [00:00, ?it/s]"
      ]
     },
     "metadata": {},
     "output_type": "display_data"
    },
    {
     "data": {
      "application/json": {
       "ascii": false,
       "bar_format": null,
       "colour": null,
       "elapsed": 0.009106636047363281,
       "initial": 0,
       "n": 0,
       "ncols": 111,
       "nrows": 30,
       "postfix": null,
       "prefix": "Validating",
       "rate": null,
       "total": null,
       "unit": "it",
       "unit_divisor": 1000,
       "unit_scale": false
      },
      "application/vnd.jupyter.widget-view+json": {
       "model_id": "0b04507ce73a4c2f9b715e4bb99cac24",
       "version_major": 2,
       "version_minor": 0
      },
      "text/plain": [
       "Validating: 0it [00:00, ?it/s]"
      ]
     },
     "metadata": {},
     "output_type": "display_data"
    },
    {
     "data": {
      "application/json": {
       "ascii": false,
       "bar_format": null,
       "colour": null,
       "elapsed": 0.009824514389038086,
       "initial": 0,
       "n": 0,
       "ncols": 111,
       "nrows": 30,
       "postfix": null,
       "prefix": "Validating",
       "rate": null,
       "total": null,
       "unit": "it",
       "unit_divisor": 1000,
       "unit_scale": false
      },
      "application/vnd.jupyter.widget-view+json": {
       "model_id": "a8d7faec791c4de3b1e53703d89c41a5",
       "version_major": 2,
       "version_minor": 0
      },
      "text/plain": [
       "Validating: 0it [00:00, ?it/s]"
      ]
     },
     "metadata": {},
     "output_type": "display_data"
    },
    {
     "name": "stderr",
     "output_type": "stream",
     "text": [
      "GPU available: False, used: False\n",
      "TPU available: False, using: 0 TPU cores\n",
      "\n",
      "  | Name          | Type                | Params\n",
      "------------------------------------------------------\n",
      "0 | model         | TripletArchitecture | 102 K \n",
      "1 | loss_function | TripletMarginLoss   | 0     \n",
      "------------------------------------------------------\n",
      "102 K     Trainable params\n",
      "0         Non-trainable params\n",
      "102 K     Total params\n",
      "0.410     Total estimated model params size (MB)\n"
     ]
    },
    {
     "data": {
      "application/json": {
       "ascii": false,
       "bar_format": null,
       "colour": null,
       "elapsed": 0.008368968963623047,
       "initial": 0,
       "n": 0,
       "ncols": 111,
       "nrows": 30,
       "postfix": null,
       "prefix": "Validation sanity check",
       "rate": null,
       "total": null,
       "unit": "it",
       "unit_divisor": 1000,
       "unit_scale": false
      },
      "application/vnd.jupyter.widget-view+json": {
       "model_id": "7267724ddd054e9a8ab1feeb39a1409c",
       "version_major": 2,
       "version_minor": 0
      },
      "text/plain": [
       "Validation sanity check: 0it [00:00, ?it/s]"
      ]
     },
     "metadata": {},
     "output_type": "display_data"
    },
    {
     "data": {
      "application/json": {
       "ascii": false,
       "bar_format": null,
       "colour": null,
       "elapsed": 0.008797168731689453,
       "initial": 0,
       "n": 0,
       "ncols": 111,
       "nrows": 30,
       "postfix": null,
       "prefix": "Training",
       "rate": null,
       "total": null,
       "unit": "it",
       "unit_divisor": 1000,
       "unit_scale": false
      },
      "application/vnd.jupyter.widget-view+json": {
       "model_id": "a6dca2b173c74ad5b3f6a99c3e9dacee",
       "version_major": 2,
       "version_minor": 0
      },
      "text/plain": [
       "Training: 0it [00:00, ?it/s]"
      ]
     },
     "metadata": {},
     "output_type": "display_data"
    },
    {
     "data": {
      "application/json": {
       "ascii": false,
       "bar_format": null,
       "colour": null,
       "elapsed": 0.010183572769165039,
       "initial": 0,
       "n": 0,
       "ncols": 111,
       "nrows": 30,
       "postfix": null,
       "prefix": "Validating",
       "rate": null,
       "total": null,
       "unit": "it",
       "unit_divisor": 1000,
       "unit_scale": false
      },
      "application/vnd.jupyter.widget-view+json": {
       "model_id": "031121637e8246c1968b075c6feade86",
       "version_major": 2,
       "version_minor": 0
      },
      "text/plain": [
       "Validating: 0it [00:00, ?it/s]"
      ]
     },
     "metadata": {},
     "output_type": "display_data"
    },
    {
     "data": {
      "application/json": {
       "ascii": false,
       "bar_format": null,
       "colour": null,
       "elapsed": 0.009635210037231445,
       "initial": 0,
       "n": 0,
       "ncols": 111,
       "nrows": 30,
       "postfix": null,
       "prefix": "Validating",
       "rate": null,
       "total": null,
       "unit": "it",
       "unit_divisor": 1000,
       "unit_scale": false
      },
      "application/vnd.jupyter.widget-view+json": {
       "model_id": "afe0bd61da2f44f4903f42b918d76d13",
       "version_major": 2,
       "version_minor": 0
      },
      "text/plain": [
       "Validating: 0it [00:00, ?it/s]"
      ]
     },
     "metadata": {},
     "output_type": "display_data"
    },
    {
     "name": "stderr",
     "output_type": "stream",
     "text": [
      "\u001b[32m[I 2023-11-02 17:34:16,166]\u001b[0m Trial 1 finished with value: 0.5 and parameters: {'d_model': 64, 'factor': 7, 'n_heads': 6, 'dropout': 0.4007290928121704, 'd_ff': 128, 'e_layers': 3, 'sparsification_type': 'topQ'}. Best is trial 0 with value: 0.5.\u001b[0m\n",
      "GPU available: False, used: False\n",
      "TPU available: False, using: 0 TPU cores\n",
      "\n",
      "  | Name          | Type                | Params\n",
      "------------------------------------------------------\n",
      "0 | model         | TripletArchitecture | 420 K \n",
      "1 | loss_function | TripletMarginLoss   | 0     \n",
      "------------------------------------------------------\n",
      "420 K     Trainable params\n",
      "0         Non-trainable params\n",
      "420 K     Total params\n",
      "1.681     Total estimated model params size (MB)\n"
     ]
    },
    {
     "name": "stdout",
     "output_type": "stream",
     "text": [
      "best_params: {'d_model': 64, 'factor': 7, 'n_heads': 2, 'dropout': 0.3780680730001579, 'd_ff': 512, 'e_layers': 5, 'sparsification_type': 'topQ'}\n"
     ]
    },
    {
     "data": {
      "application/json": {
       "ascii": false,
       "bar_format": null,
       "colour": null,
       "elapsed": 0.008874654769897461,
       "initial": 0,
       "n": 0,
       "ncols": 111,
       "nrows": 30,
       "postfix": null,
       "prefix": "Validation sanity check",
       "rate": null,
       "total": null,
       "unit": "it",
       "unit_divisor": 1000,
       "unit_scale": false
      },
      "application/vnd.jupyter.widget-view+json": {
       "model_id": "10e834091e134067bdcde611a3e3e0c7",
       "version_major": 2,
       "version_minor": 0
      },
      "text/plain": [
       "Validation sanity check: 0it [00:00, ?it/s]"
      ]
     },
     "metadata": {},
     "output_type": "display_data"
    },
    {
     "data": {
      "application/json": {
       "ascii": false,
       "bar_format": null,
       "colour": null,
       "elapsed": 0.009983301162719727,
       "initial": 0,
       "n": 0,
       "ncols": 111,
       "nrows": 30,
       "postfix": null,
       "prefix": "Training",
       "rate": null,
       "total": null,
       "unit": "it",
       "unit_divisor": 1000,
       "unit_scale": false
      },
      "application/vnd.jupyter.widget-view+json": {
       "model_id": "7157ea8483f349ab94be80f0cf8ef516",
       "version_major": 2,
       "version_minor": 0
      },
      "text/plain": [
       "Training: 0it [00:00, ?it/s]"
      ]
     },
     "metadata": {},
     "output_type": "display_data"
    },
    {
     "data": {
      "application/json": {
       "ascii": false,
       "bar_format": null,
       "colour": null,
       "elapsed": 0.009624242782592773,
       "initial": 0,
       "n": 0,
       "ncols": 111,
       "nrows": 30,
       "postfix": null,
       "prefix": "Validating",
       "rate": null,
       "total": null,
       "unit": "it",
       "unit_divisor": 1000,
       "unit_scale": false
      },
      "application/vnd.jupyter.widget-view+json": {
       "model_id": "c1b3704526084f9199c3b0168daf2fab",
       "version_major": 2,
       "version_minor": 0
      },
      "text/plain": [
       "Validating: 0it [00:00, ?it/s]"
      ]
     },
     "metadata": {},
     "output_type": "display_data"
    },
    {
     "data": {
      "application/json": {
       "ascii": false,
       "bar_format": null,
       "colour": null,
       "elapsed": 0.012001514434814453,
       "initial": 0,
       "n": 0,
       "ncols": 111,
       "nrows": 30,
       "postfix": null,
       "prefix": "Validating",
       "rate": null,
       "total": null,
       "unit": "it",
       "unit_divisor": 1000,
       "unit_scale": false
      },
      "application/vnd.jupyter.widget-view+json": {
       "model_id": "1edec8e3e5c04e76a4de56d0c565d15d",
       "version_major": 2,
       "version_minor": 0
      },
      "text/plain": [
       "Validating: 0it [00:00, ?it/s]"
      ]
     },
     "metadata": {},
     "output_type": "display_data"
    },
    {
     "name": "stderr",
     "output_type": "stream",
     "text": [
      "GPU available: False, used: False\n",
      "TPU available: False, using: 0 TPU cores\n",
      "\n",
      "  | Name          | Type                | Params\n",
      "------------------------------------------------------\n",
      "0 | model         | TripletArchitecture | 420 K \n",
      "1 | loss_function | TripletMarginLoss   | 0     \n",
      "------------------------------------------------------\n",
      "420 K     Trainable params\n",
      "0         Non-trainable params\n",
      "420 K     Total params\n",
      "1.681     Total estimated model params size (MB)\n"
     ]
    },
    {
     "data": {
      "application/json": {
       "ascii": false,
       "bar_format": null,
       "colour": null,
       "elapsed": 0.008891820907592773,
       "initial": 0,
       "n": 0,
       "ncols": 111,
       "nrows": 30,
       "postfix": null,
       "prefix": "Validation sanity check",
       "rate": null,
       "total": null,
       "unit": "it",
       "unit_divisor": 1000,
       "unit_scale": false
      },
      "application/vnd.jupyter.widget-view+json": {
       "model_id": "42de893dfb674cb18fe8e8332be60119",
       "version_major": 2,
       "version_minor": 0
      },
      "text/plain": [
       "Validation sanity check: 0it [00:00, ?it/s]"
      ]
     },
     "metadata": {},
     "output_type": "display_data"
    },
    {
     "data": {
      "application/json": {
       "ascii": false,
       "bar_format": null,
       "colour": null,
       "elapsed": 0.009921550750732422,
       "initial": 0,
       "n": 0,
       "ncols": 111,
       "nrows": 30,
       "postfix": null,
       "prefix": "Training",
       "rate": null,
       "total": null,
       "unit": "it",
       "unit_divisor": 1000,
       "unit_scale": false
      },
      "application/vnd.jupyter.widget-view+json": {
       "model_id": "39ea0b3c1ab54eecb05e368c4f1fe9ef",
       "version_major": 2,
       "version_minor": 0
      },
      "text/plain": [
       "Training: 0it [00:00, ?it/s]"
      ]
     },
     "metadata": {},
     "output_type": "display_data"
    },
    {
     "data": {
      "application/json": {
       "ascii": false,
       "bar_format": null,
       "colour": null,
       "elapsed": 0.00999140739440918,
       "initial": 0,
       "n": 0,
       "ncols": 111,
       "nrows": 30,
       "postfix": null,
       "prefix": "Validating",
       "rate": null,
       "total": null,
       "unit": "it",
       "unit_divisor": 1000,
       "unit_scale": false
      },
      "application/vnd.jupyter.widget-view+json": {
       "model_id": "a1786492668641cabc84c4095ed8c564",
       "version_major": 2,
       "version_minor": 0
      },
      "text/plain": [
       "Validating: 0it [00:00, ?it/s]"
      ]
     },
     "metadata": {},
     "output_type": "display_data"
    },
    {
     "data": {
      "application/json": {
       "ascii": false,
       "bar_format": null,
       "colour": null,
       "elapsed": 0.015925168991088867,
       "initial": 0,
       "n": 0,
       "ncols": 111,
       "nrows": 30,
       "postfix": null,
       "prefix": "Validating",
       "rate": null,
       "total": null,
       "unit": "it",
       "unit_divisor": 1000,
       "unit_scale": false
      },
      "application/vnd.jupyter.widget-view+json": {
       "model_id": "169a16688c0146259f6c4784ae655d62",
       "version_major": 2,
       "version_minor": 0
      },
      "text/plain": [
       "Validating: 0it [00:00, ?it/s]"
      ]
     },
     "metadata": {},
     "output_type": "display_data"
    },
    {
     "name": "stderr",
     "output_type": "stream",
     "text": [
      "\u001b[32m[I 2023-11-02 17:34:25,081]\u001b[0m A new study created in memory with name: no-name-b73c3902-19c3-4375-9b43-3f0deaa7e8b4\u001b[0m\n",
      "GPU available: False, used: False\n",
      "TPU available: False, using: 0 TPU cores\n",
      "\n",
      "  | Name          | Type                | Params\n",
      "------------------------------------------------------\n",
      "0 | model         | TripletArchitecture | 172 K \n",
      "1 | loss_function | TripletMarginLoss   | 0     \n",
      "------------------------------------------------------\n",
      "172 K     Trainable params\n",
      "0         Non-trainable params\n",
      "172 K     Total params\n",
      "0.690     Total estimated model params size (MB)\n"
     ]
    },
    {
     "name": "stdout",
     "output_type": "stream",
     "text": [
      "Accuracy: nan ± nan\n",
      "Precision: nan ± nan\n",
      "Recall: nan ± nan\n",
      "ROC AUC: nan ± nan\n",
      "PR AUC: nan ± nan\n",
      "--------------------------------------------------\n",
      "Eucl_Accuracy: 1.000 ± 0.000\n",
      "Eucl_Precision: nan ± nan\n",
      "Eucl_Recall: 0.000 ± 0.000\n",
      "Eucl_ROC AUC: 0.500 ± 0.000\n",
      "Eucl_PR AUC: 1.000 ± 0.000\n",
      "--------------------------------------------------\n",
      "Cos_Accuracy: 1.000 ± 0.000\n",
      "Cos_Precision: 0.500 ± 0.000\n",
      "Cos_Recall: 1.000 ± 0.000\n",
      "Cos_ROC AUC: 0.500 ± 0.000\n",
      "Cos_PR AUC: 1.000 ± 0.000\n",
      "--------------------------------------------------\n",
      "\n",
      "all_results: ({'Accuracy': [], 'Precision': [], 'Recall': [], 'ROC AUC': [], 'PR AUC': []}, {'Eucl_Accuracy': [1.0, 1.0], 'Eucl_Precision': [nan, nan], 'Eucl_Recall': [0.0, 0.0], 'Eucl_ROC AUC': [0.5, 0.5], 'Eucl_PR AUC': [1.0, 1.0]}, {'Cos_Accuracy': [1.0, 1.0], 'Cos_Precision': [0.5, 0.5], 'Cos_Recall': [1.0, 1.0], 'Cos_ROC AUC': [0.5, 0.5], 'Cos_PR AUC': [1.0, 1.0]})\n",
      "****************************************************************************************************\n",
      "model_type: triplet_reguformer_randQ\n"
     ]
    },
    {
     "data": {
      "application/json": {
       "ascii": false,
       "bar_format": null,
       "colour": null,
       "elapsed": 0.008713722229003906,
       "initial": 0,
       "n": 0,
       "ncols": 111,
       "nrows": 30,
       "postfix": null,
       "prefix": "Validation sanity check",
       "rate": null,
       "total": null,
       "unit": "it",
       "unit_divisor": 1000,
       "unit_scale": false
      },
      "application/vnd.jupyter.widget-view+json": {
       "model_id": "e65c82b1a4a8431d88dce9f2dd619a94",
       "version_major": 2,
       "version_minor": 0
      },
      "text/plain": [
       "Validation sanity check: 0it [00:00, ?it/s]"
      ]
     },
     "metadata": {},
     "output_type": "display_data"
    },
    {
     "data": {
      "application/json": {
       "ascii": false,
       "bar_format": null,
       "colour": null,
       "elapsed": 0.009468317031860352,
       "initial": 0,
       "n": 0,
       "ncols": 111,
       "nrows": 30,
       "postfix": null,
       "prefix": "Training",
       "rate": null,
       "total": null,
       "unit": "it",
       "unit_divisor": 1000,
       "unit_scale": false
      },
      "application/vnd.jupyter.widget-view+json": {
       "model_id": "b2ee40b4ac1145f5bce526a91bff5242",
       "version_major": 2,
       "version_minor": 0
      },
      "text/plain": [
       "Training: 0it [00:00, ?it/s]"
      ]
     },
     "metadata": {},
     "output_type": "display_data"
    },
    {
     "data": {
      "application/json": {
       "ascii": false,
       "bar_format": null,
       "colour": null,
       "elapsed": 0.009972572326660156,
       "initial": 0,
       "n": 0,
       "ncols": 111,
       "nrows": 30,
       "postfix": null,
       "prefix": "Validating",
       "rate": null,
       "total": null,
       "unit": "it",
       "unit_divisor": 1000,
       "unit_scale": false
      },
      "application/vnd.jupyter.widget-view+json": {
       "model_id": "95fb5da756b44882a7d7d69922f812c3",
       "version_major": 2,
       "version_minor": 0
      },
      "text/plain": [
       "Validating: 0it [00:00, ?it/s]"
      ]
     },
     "metadata": {},
     "output_type": "display_data"
    },
    {
     "data": {
      "application/json": {
       "ascii": false,
       "bar_format": null,
       "colour": null,
       "elapsed": 0.009905815124511719,
       "initial": 0,
       "n": 0,
       "ncols": 111,
       "nrows": 30,
       "postfix": null,
       "prefix": "Validating",
       "rate": null,
       "total": null,
       "unit": "it",
       "unit_divisor": 1000,
       "unit_scale": false
      },
      "application/vnd.jupyter.widget-view+json": {
       "model_id": "3431165bd655478aa12bc06f42a9ff17",
       "version_major": 2,
       "version_minor": 0
      },
      "text/plain": [
       "Validating: 0it [00:00, ?it/s]"
      ]
     },
     "metadata": {},
     "output_type": "display_data"
    },
    {
     "name": "stderr",
     "output_type": "stream",
     "text": [
      "GPU available: False, used: False\n",
      "TPU available: False, using: 0 TPU cores\n",
      "\n",
      "  | Name          | Type                | Params\n",
      "------------------------------------------------------\n",
      "0 | model         | TripletArchitecture | 172 K \n",
      "1 | loss_function | TripletMarginLoss   | 0     \n",
      "------------------------------------------------------\n",
      "172 K     Trainable params\n",
      "0         Non-trainable params\n",
      "172 K     Total params\n",
      "0.690     Total estimated model params size (MB)\n"
     ]
    },
    {
     "data": {
      "application/json": {
       "ascii": false,
       "bar_format": null,
       "colour": null,
       "elapsed": 0.00942850112915039,
       "initial": 0,
       "n": 0,
       "ncols": 111,
       "nrows": 30,
       "postfix": null,
       "prefix": "Validation sanity check",
       "rate": null,
       "total": null,
       "unit": "it",
       "unit_divisor": 1000,
       "unit_scale": false
      },
      "application/vnd.jupyter.widget-view+json": {
       "model_id": "c829e54693e94cc6b7b836075ec32349",
       "version_major": 2,
       "version_minor": 0
      },
      "text/plain": [
       "Validation sanity check: 0it [00:00, ?it/s]"
      ]
     },
     "metadata": {},
     "output_type": "display_data"
    },
    {
     "data": {
      "application/json": {
       "ascii": false,
       "bar_format": null,
       "colour": null,
       "elapsed": 0.010033369064331055,
       "initial": 0,
       "n": 0,
       "ncols": 111,
       "nrows": 30,
       "postfix": null,
       "prefix": "Training",
       "rate": null,
       "total": null,
       "unit": "it",
       "unit_divisor": 1000,
       "unit_scale": false
      },
      "application/vnd.jupyter.widget-view+json": {
       "model_id": "028fa3cc8a914a439be6dade41ce8ce3",
       "version_major": 2,
       "version_minor": 0
      },
      "text/plain": [
       "Training: 0it [00:00, ?it/s]"
      ]
     },
     "metadata": {},
     "output_type": "display_data"
    },
    {
     "data": {
      "application/json": {
       "ascii": false,
       "bar_format": null,
       "colour": null,
       "elapsed": 0.010264158248901367,
       "initial": 0,
       "n": 0,
       "ncols": 111,
       "nrows": 30,
       "postfix": null,
       "prefix": "Validating",
       "rate": null,
       "total": null,
       "unit": "it",
       "unit_divisor": 1000,
       "unit_scale": false
      },
      "application/vnd.jupyter.widget-view+json": {
       "model_id": "fcccddd461fa4582b12ed44966a4fd29",
       "version_major": 2,
       "version_minor": 0
      },
      "text/plain": [
       "Validating: 0it [00:00, ?it/s]"
      ]
     },
     "metadata": {},
     "output_type": "display_data"
    },
    {
     "data": {
      "application/json": {
       "ascii": false,
       "bar_format": null,
       "colour": null,
       "elapsed": 0.011681795120239258,
       "initial": 0,
       "n": 0,
       "ncols": 111,
       "nrows": 30,
       "postfix": null,
       "prefix": "Validating",
       "rate": null,
       "total": null,
       "unit": "it",
       "unit_divisor": 1000,
       "unit_scale": false
      },
      "application/vnd.jupyter.widget-view+json": {
       "model_id": "2b87308bdd5a4d61b4cdefe5a992e1d0",
       "version_major": 2,
       "version_minor": 0
      },
      "text/plain": [
       "Validating: 0it [00:00, ?it/s]"
      ]
     },
     "metadata": {},
     "output_type": "display_data"
    },
    {
     "name": "stderr",
     "output_type": "stream",
     "text": [
      "\u001b[32m[I 2023-11-02 17:34:30,873]\u001b[0m Trial 0 finished with value: 0.5 and parameters: {'d_model': 64, 'factor': 5, 'n_heads': 4, 'dropout': 0.11125302538953444, 'd_ff': 128, 'e_layers': 5, 'sparsification_type': 'randQ'}. Best is trial 0 with value: 0.5.\u001b[0m\n",
      "GPU available: False, used: False\n",
      "TPU available: False, using: 0 TPU cores\n",
      "\n",
      "  | Name          | Type                | Params\n",
      "------------------------------------------------------\n",
      "0 | model         | TripletArchitecture | 32.9 K\n",
      "1 | loss_function | TripletMarginLoss   | 0     \n",
      "------------------------------------------------------\n",
      "32.9 K    Trainable params\n",
      "0         Non-trainable params\n",
      "32.9 K    Total params\n",
      "0.131     Total estimated model params size (MB)\n"
     ]
    },
    {
     "data": {
      "application/json": {
       "ascii": false,
       "bar_format": null,
       "colour": null,
       "elapsed": 0.009994029998779297,
       "initial": 0,
       "n": 0,
       "ncols": 111,
       "nrows": 30,
       "postfix": null,
       "prefix": "Validation sanity check",
       "rate": null,
       "total": null,
       "unit": "it",
       "unit_divisor": 1000,
       "unit_scale": false
      },
      "application/vnd.jupyter.widget-view+json": {
       "model_id": "40d6153b057644afbe43e11867c0be87",
       "version_major": 2,
       "version_minor": 0
      },
      "text/plain": [
       "Validation sanity check: 0it [00:00, ?it/s]"
      ]
     },
     "metadata": {},
     "output_type": "display_data"
    },
    {
     "data": {
      "application/json": {
       "ascii": false,
       "bar_format": null,
       "colour": null,
       "elapsed": 0.009627103805541992,
       "initial": 0,
       "n": 0,
       "ncols": 111,
       "nrows": 30,
       "postfix": null,
       "prefix": "Training",
       "rate": null,
       "total": null,
       "unit": "it",
       "unit_divisor": 1000,
       "unit_scale": false
      },
      "application/vnd.jupyter.widget-view+json": {
       "model_id": "3cdd858b87684e809f33e0719ce3b2a3",
       "version_major": 2,
       "version_minor": 0
      },
      "text/plain": [
       "Training: 0it [00:00, ?it/s]"
      ]
     },
     "metadata": {},
     "output_type": "display_data"
    },
    {
     "data": {
      "application/json": {
       "ascii": false,
       "bar_format": null,
       "colour": null,
       "elapsed": 0.009739875793457031,
       "initial": 0,
       "n": 0,
       "ncols": 111,
       "nrows": 30,
       "postfix": null,
       "prefix": "Validating",
       "rate": null,
       "total": null,
       "unit": "it",
       "unit_divisor": 1000,
       "unit_scale": false
      },
      "application/vnd.jupyter.widget-view+json": {
       "model_id": "7d73b1d2ca794419b46015fc0f32c35d",
       "version_major": 2,
       "version_minor": 0
      },
      "text/plain": [
       "Validating: 0it [00:00, ?it/s]"
      ]
     },
     "metadata": {},
     "output_type": "display_data"
    },
    {
     "data": {
      "application/json": {
       "ascii": false,
       "bar_format": null,
       "colour": null,
       "elapsed": 0.009536504745483398,
       "initial": 0,
       "n": 0,
       "ncols": 111,
       "nrows": 30,
       "postfix": null,
       "prefix": "Validating",
       "rate": null,
       "total": null,
       "unit": "it",
       "unit_divisor": 1000,
       "unit_scale": false
      },
      "application/vnd.jupyter.widget-view+json": {
       "model_id": "227bcee5aeac443e9724792eda2f1146",
       "version_major": 2,
       "version_minor": 0
      },
      "text/plain": [
       "Validating: 0it [00:00, ?it/s]"
      ]
     },
     "metadata": {},
     "output_type": "display_data"
    },
    {
     "name": "stderr",
     "output_type": "stream",
     "text": [
      "GPU available: False, used: False\n",
      "TPU available: False, using: 0 TPU cores\n",
      "\n",
      "  | Name          | Type                | Params\n",
      "------------------------------------------------------\n",
      "0 | model         | TripletArchitecture | 32.9 K\n",
      "1 | loss_function | TripletMarginLoss   | 0     \n",
      "------------------------------------------------------\n",
      "32.9 K    Trainable params\n",
      "0         Non-trainable params\n",
      "32.9 K    Total params\n",
      "0.131     Total estimated model params size (MB)\n"
     ]
    },
    {
     "data": {
      "application/json": {
       "ascii": false,
       "bar_format": null,
       "colour": null,
       "elapsed": 0.010373115539550781,
       "initial": 0,
       "n": 0,
       "ncols": 111,
       "nrows": 30,
       "postfix": null,
       "prefix": "Validation sanity check",
       "rate": null,
       "total": null,
       "unit": "it",
       "unit_divisor": 1000,
       "unit_scale": false
      },
      "application/vnd.jupyter.widget-view+json": {
       "model_id": "075236eed169403188d98b8dde426f80",
       "version_major": 2,
       "version_minor": 0
      },
      "text/plain": [
       "Validation sanity check: 0it [00:00, ?it/s]"
      ]
     },
     "metadata": {},
     "output_type": "display_data"
    },
    {
     "data": {
      "application/json": {
       "ascii": false,
       "bar_format": null,
       "colour": null,
       "elapsed": 0.010195493698120117,
       "initial": 0,
       "n": 0,
       "ncols": 111,
       "nrows": 30,
       "postfix": null,
       "prefix": "Training",
       "rate": null,
       "total": null,
       "unit": "it",
       "unit_divisor": 1000,
       "unit_scale": false
      },
      "application/vnd.jupyter.widget-view+json": {
       "model_id": "53b2dffc43dc4da0a405f7113f99cfa0",
       "version_major": 2,
       "version_minor": 0
      },
      "text/plain": [
       "Training: 0it [00:00, ?it/s]"
      ]
     },
     "metadata": {},
     "output_type": "display_data"
    },
    {
     "data": {
      "application/json": {
       "ascii": false,
       "bar_format": null,
       "colour": null,
       "elapsed": 0.009188175201416016,
       "initial": 0,
       "n": 0,
       "ncols": 111,
       "nrows": 30,
       "postfix": null,
       "prefix": "Validating",
       "rate": null,
       "total": null,
       "unit": "it",
       "unit_divisor": 1000,
       "unit_scale": false
      },
      "application/vnd.jupyter.widget-view+json": {
       "model_id": "0d0e2d7b76a143569595924a609ce167",
       "version_major": 2,
       "version_minor": 0
      },
      "text/plain": [
       "Validating: 0it [00:00, ?it/s]"
      ]
     },
     "metadata": {},
     "output_type": "display_data"
    },
    {
     "data": {
      "application/json": {
       "ascii": false,
       "bar_format": null,
       "colour": null,
       "elapsed": 0.009998798370361328,
       "initial": 0,
       "n": 0,
       "ncols": 111,
       "nrows": 30,
       "postfix": null,
       "prefix": "Validating",
       "rate": null,
       "total": null,
       "unit": "it",
       "unit_divisor": 1000,
       "unit_scale": false
      },
      "application/vnd.jupyter.widget-view+json": {
       "model_id": "891892312703468b92a7c1080ef9b9d4",
       "version_major": 2,
       "version_minor": 0
      },
      "text/plain": [
       "Validating: 0it [00:00, ?it/s]"
      ]
     },
     "metadata": {},
     "output_type": "display_data"
    },
    {
     "name": "stderr",
     "output_type": "stream",
     "text": [
      "\u001b[32m[I 2023-11-02 17:34:36,620]\u001b[0m Trial 1 finished with value: 0.5 and parameters: {'d_model': 16, 'factor': 3, 'n_heads': 8, 'dropout': 0.2620892877950212, 'd_ff': 128, 'e_layers': 6, 'sparsification_type': 'randQ'}. Best is trial 0 with value: 0.5.\u001b[0m\n",
      "GPU available: False, used: False\n",
      "TPU available: False, using: 0 TPU cores\n",
      "\n",
      "  | Name          | Type                | Params\n",
      "------------------------------------------------------\n",
      "0 | model         | TripletArchitecture | 172 K \n",
      "1 | loss_function | TripletMarginLoss   | 0     \n",
      "------------------------------------------------------\n",
      "172 K     Trainable params\n",
      "0         Non-trainable params\n",
      "172 K     Total params\n",
      "0.690     Total estimated model params size (MB)\n"
     ]
    },
    {
     "name": "stdout",
     "output_type": "stream",
     "text": [
      "best_params: {'d_model': 64, 'factor': 5, 'n_heads': 4, 'dropout': 0.11125302538953444, 'd_ff': 128, 'e_layers': 5, 'sparsification_type': 'randQ'}\n"
     ]
    },
    {
     "data": {
      "application/json": {
       "ascii": false,
       "bar_format": null,
       "colour": null,
       "elapsed": 0.008753538131713867,
       "initial": 0,
       "n": 0,
       "ncols": 111,
       "nrows": 30,
       "postfix": null,
       "prefix": "Validation sanity check",
       "rate": null,
       "total": null,
       "unit": "it",
       "unit_divisor": 1000,
       "unit_scale": false
      },
      "application/vnd.jupyter.widget-view+json": {
       "model_id": "3ed7fa82751a46298c687b0da3564cce",
       "version_major": 2,
       "version_minor": 0
      },
      "text/plain": [
       "Validation sanity check: 0it [00:00, ?it/s]"
      ]
     },
     "metadata": {},
     "output_type": "display_data"
    },
    {
     "data": {
      "application/json": {
       "ascii": false,
       "bar_format": null,
       "colour": null,
       "elapsed": 0.009879827499389648,
       "initial": 0,
       "n": 0,
       "ncols": 111,
       "nrows": 30,
       "postfix": null,
       "prefix": "Training",
       "rate": null,
       "total": null,
       "unit": "it",
       "unit_divisor": 1000,
       "unit_scale": false
      },
      "application/vnd.jupyter.widget-view+json": {
       "model_id": "b5b04e73edf44cc1ae75ed711f9e7c8e",
       "version_major": 2,
       "version_minor": 0
      },
      "text/plain": [
       "Training: 0it [00:00, ?it/s]"
      ]
     },
     "metadata": {},
     "output_type": "display_data"
    },
    {
     "data": {
      "application/json": {
       "ascii": false,
       "bar_format": null,
       "colour": null,
       "elapsed": 0.009395122528076172,
       "initial": 0,
       "n": 0,
       "ncols": 111,
       "nrows": 30,
       "postfix": null,
       "prefix": "Validating",
       "rate": null,
       "total": null,
       "unit": "it",
       "unit_divisor": 1000,
       "unit_scale": false
      },
      "application/vnd.jupyter.widget-view+json": {
       "model_id": "615c4361123b4661906225a2d8932a37",
       "version_major": 2,
       "version_minor": 0
      },
      "text/plain": [
       "Validating: 0it [00:00, ?it/s]"
      ]
     },
     "metadata": {},
     "output_type": "display_data"
    },
    {
     "data": {
      "application/json": {
       "ascii": false,
       "bar_format": null,
       "colour": null,
       "elapsed": 0.008819103240966797,
       "initial": 0,
       "n": 0,
       "ncols": 111,
       "nrows": 30,
       "postfix": null,
       "prefix": "Validating",
       "rate": null,
       "total": null,
       "unit": "it",
       "unit_divisor": 1000,
       "unit_scale": false
      },
      "application/vnd.jupyter.widget-view+json": {
       "model_id": "e617a1e4b5f84cd589c75c8d82e1d041",
       "version_major": 2,
       "version_minor": 0
      },
      "text/plain": [
       "Validating: 0it [00:00, ?it/s]"
      ]
     },
     "metadata": {},
     "output_type": "display_data"
    },
    {
     "name": "stderr",
     "output_type": "stream",
     "text": [
      "GPU available: False, used: False\n",
      "TPU available: False, using: 0 TPU cores\n",
      "\n",
      "  | Name          | Type                | Params\n",
      "------------------------------------------------------\n",
      "0 | model         | TripletArchitecture | 172 K \n",
      "1 | loss_function | TripletMarginLoss   | 0     \n",
      "------------------------------------------------------\n",
      "172 K     Trainable params\n",
      "0         Non-trainable params\n",
      "172 K     Total params\n",
      "0.690     Total estimated model params size (MB)\n"
     ]
    },
    {
     "data": {
      "application/json": {
       "ascii": false,
       "bar_format": null,
       "colour": null,
       "elapsed": 0.009875297546386719,
       "initial": 0,
       "n": 0,
       "ncols": 111,
       "nrows": 30,
       "postfix": null,
       "prefix": "Validation sanity check",
       "rate": null,
       "total": null,
       "unit": "it",
       "unit_divisor": 1000,
       "unit_scale": false
      },
      "application/vnd.jupyter.widget-view+json": {
       "model_id": "5057b3dfcbd54bf1bae731f459aa2e80",
       "version_major": 2,
       "version_minor": 0
      },
      "text/plain": [
       "Validation sanity check: 0it [00:00, ?it/s]"
      ]
     },
     "metadata": {},
     "output_type": "display_data"
    },
    {
     "data": {
      "application/json": {
       "ascii": false,
       "bar_format": null,
       "colour": null,
       "elapsed": 0.011778831481933594,
       "initial": 0,
       "n": 0,
       "ncols": 111,
       "nrows": 30,
       "postfix": null,
       "prefix": "Training",
       "rate": null,
       "total": null,
       "unit": "it",
       "unit_divisor": 1000,
       "unit_scale": false
      },
      "application/vnd.jupyter.widget-view+json": {
       "model_id": "831510d55f0f4da494d74726dd831779",
       "version_major": 2,
       "version_minor": 0
      },
      "text/plain": [
       "Training: 0it [00:00, ?it/s]"
      ]
     },
     "metadata": {},
     "output_type": "display_data"
    },
    {
     "data": {
      "application/json": {
       "ascii": false,
       "bar_format": null,
       "colour": null,
       "elapsed": 0.009876489639282227,
       "initial": 0,
       "n": 0,
       "ncols": 111,
       "nrows": 30,
       "postfix": null,
       "prefix": "Validating",
       "rate": null,
       "total": null,
       "unit": "it",
       "unit_divisor": 1000,
       "unit_scale": false
      },
      "application/vnd.jupyter.widget-view+json": {
       "model_id": "06b4abc03ce54947a83ccab029fac261",
       "version_major": 2,
       "version_minor": 0
      },
      "text/plain": [
       "Validating: 0it [00:00, ?it/s]"
      ]
     },
     "metadata": {},
     "output_type": "display_data"
    },
    {
     "data": {
      "application/json": {
       "ascii": false,
       "bar_format": null,
       "colour": null,
       "elapsed": 0.010867118835449219,
       "initial": 0,
       "n": 0,
       "ncols": 111,
       "nrows": 30,
       "postfix": null,
       "prefix": "Validating",
       "rate": null,
       "total": null,
       "unit": "it",
       "unit_divisor": 1000,
       "unit_scale": false
      },
      "application/vnd.jupyter.widget-view+json": {
       "model_id": "021bbf8f49504307bc9dc0a20e760975",
       "version_major": 2,
       "version_minor": 0
      },
      "text/plain": [
       "Validating: 0it [00:00, ?it/s]"
      ]
     },
     "metadata": {},
     "output_type": "display_data"
    },
    {
     "name": "stderr",
     "output_type": "stream",
     "text": [
      "\u001b[32m[I 2023-11-02 17:34:43,244]\u001b[0m A new study created in memory with name: no-name-7121b4df-7736-4df4-8f85-e5268ac59f65\u001b[0m\n",
      "GPU available: False, used: False\n",
      "TPU available: False, using: 0 TPU cores\n",
      "\n",
      "  | Name          | Type                | Params\n",
      "------------------------------------------------------\n",
      "0 | model         | TripletArchitecture | 893 K \n",
      "1 | loss_function | TripletMarginLoss   | 0     \n",
      "------------------------------------------------------\n",
      "893 K     Trainable params\n",
      "0         Non-trainable params\n",
      "893 K     Total params\n",
      "3.573     Total estimated model params size (MB)\n"
     ]
    },
    {
     "name": "stdout",
     "output_type": "stream",
     "text": [
      "Accuracy: nan ± nan\n",
      "Precision: nan ± nan\n",
      "Recall: nan ± nan\n",
      "ROC AUC: nan ± nan\n",
      "PR AUC: nan ± nan\n",
      "--------------------------------------------------\n",
      "Eucl_Accuracy: 1.000 ± 0.000\n",
      "Eucl_Precision: nan ± nan\n",
      "Eucl_Recall: 0.020 ± 0.020\n",
      "Eucl_ROC AUC: 0.510 ± 0.010\n",
      "Eucl_PR AUC: 1.000 ± 0.000\n",
      "--------------------------------------------------\n",
      "Cos_Accuracy: 1.000 ± 0.000\n",
      "Cos_Precision: 0.500 ± 0.000\n",
      "Cos_Recall: 1.000 ± 0.000\n",
      "Cos_ROC AUC: 0.500 ± 0.000\n",
      "Cos_PR AUC: 1.000 ± 0.000\n",
      "--------------------------------------------------\n",
      "\n",
      "all_results: ({'Accuracy': [], 'Precision': [], 'Recall': [], 'ROC AUC': [], 'PR AUC': []}, {'Eucl_Accuracy': [1.0, 1.0], 'Eucl_Precision': [nan, 1.0], 'Eucl_Recall': [0.0, 0.04], 'Eucl_ROC AUC': [0.5, 0.52], 'Eucl_PR AUC': [1.0, 1.0]}, {'Cos_Accuracy': [1.0, 1.0], 'Cos_Precision': [0.5, 0.5], 'Cos_Recall': [1.0, 1.0], 'Cos_ROC AUC': [0.5, 0.5], 'Cos_PR AUC': [1.0, 1.0]})\n",
      "****************************************************************************************************\n",
      "model_type: triplet_reguformer_topK\n"
     ]
    },
    {
     "data": {
      "application/json": {
       "ascii": false,
       "bar_format": null,
       "colour": null,
       "elapsed": 0.008659839630126953,
       "initial": 0,
       "n": 0,
       "ncols": 111,
       "nrows": 30,
       "postfix": null,
       "prefix": "Validation sanity check",
       "rate": null,
       "total": null,
       "unit": "it",
       "unit_divisor": 1000,
       "unit_scale": false
      },
      "application/vnd.jupyter.widget-view+json": {
       "model_id": "f4dff6c53c8247e0ac467728aa7a0656",
       "version_major": 2,
       "version_minor": 0
      },
      "text/plain": [
       "Validation sanity check: 0it [00:00, ?it/s]"
      ]
     },
     "metadata": {},
     "output_type": "display_data"
    },
    {
     "data": {
      "application/json": {
       "ascii": false,
       "bar_format": null,
       "colour": null,
       "elapsed": 0.016861677169799805,
       "initial": 0,
       "n": 0,
       "ncols": 111,
       "nrows": 30,
       "postfix": null,
       "prefix": "Training",
       "rate": null,
       "total": null,
       "unit": "it",
       "unit_divisor": 1000,
       "unit_scale": false
      },
      "application/vnd.jupyter.widget-view+json": {
       "model_id": "63bf5335a2904d889d7e69c75206d567",
       "version_major": 2,
       "version_minor": 0
      },
      "text/plain": [
       "Training: 0it [00:00, ?it/s]"
      ]
     },
     "metadata": {},
     "output_type": "display_data"
    },
    {
     "data": {
      "application/json": {
       "ascii": false,
       "bar_format": null,
       "colour": null,
       "elapsed": 0.009284019470214844,
       "initial": 0,
       "n": 0,
       "ncols": 111,
       "nrows": 30,
       "postfix": null,
       "prefix": "Validating",
       "rate": null,
       "total": null,
       "unit": "it",
       "unit_divisor": 1000,
       "unit_scale": false
      },
      "application/vnd.jupyter.widget-view+json": {
       "model_id": "2aa0b50dbd9644b0bc31a460e86c7f38",
       "version_major": 2,
       "version_minor": 0
      },
      "text/plain": [
       "Validating: 0it [00:00, ?it/s]"
      ]
     },
     "metadata": {},
     "output_type": "display_data"
    },
    {
     "data": {
      "application/json": {
       "ascii": false,
       "bar_format": null,
       "colour": null,
       "elapsed": 0.009631872177124023,
       "initial": 0,
       "n": 0,
       "ncols": 111,
       "nrows": 30,
       "postfix": null,
       "prefix": "Validating",
       "rate": null,
       "total": null,
       "unit": "it",
       "unit_divisor": 1000,
       "unit_scale": false
      },
      "application/vnd.jupyter.widget-view+json": {
       "model_id": "e4f12500924d476c9515201dfc8d5926",
       "version_major": 2,
       "version_minor": 0
      },
      "text/plain": [
       "Validating: 0it [00:00, ?it/s]"
      ]
     },
     "metadata": {},
     "output_type": "display_data"
    },
    {
     "name": "stderr",
     "output_type": "stream",
     "text": [
      "GPU available: False, used: False\n",
      "TPU available: False, using: 0 TPU cores\n",
      "\n",
      "  | Name          | Type                | Params\n",
      "------------------------------------------------------\n",
      "0 | model         | TripletArchitecture | 893 K \n",
      "1 | loss_function | TripletMarginLoss   | 0     \n",
      "------------------------------------------------------\n",
      "893 K     Trainable params\n",
      "0         Non-trainable params\n",
      "893 K     Total params\n",
      "3.573     Total estimated model params size (MB)\n"
     ]
    },
    {
     "data": {
      "application/json": {
       "ascii": false,
       "bar_format": null,
       "colour": null,
       "elapsed": 0.009367227554321289,
       "initial": 0,
       "n": 0,
       "ncols": 111,
       "nrows": 30,
       "postfix": null,
       "prefix": "Validation sanity check",
       "rate": null,
       "total": null,
       "unit": "it",
       "unit_divisor": 1000,
       "unit_scale": false
      },
      "application/vnd.jupyter.widget-view+json": {
       "model_id": "58a97d4ebcad46dc9115089f7733d6cf",
       "version_major": 2,
       "version_minor": 0
      },
      "text/plain": [
       "Validation sanity check: 0it [00:00, ?it/s]"
      ]
     },
     "metadata": {},
     "output_type": "display_data"
    },
    {
     "data": {
      "application/json": {
       "ascii": false,
       "bar_format": null,
       "colour": null,
       "elapsed": 0.011799335479736328,
       "initial": 0,
       "n": 0,
       "ncols": 111,
       "nrows": 30,
       "postfix": null,
       "prefix": "Training",
       "rate": null,
       "total": null,
       "unit": "it",
       "unit_divisor": 1000,
       "unit_scale": false
      },
      "application/vnd.jupyter.widget-view+json": {
       "model_id": "f1cc2ee5128b43e58f1cf776d2ccfcc4",
       "version_major": 2,
       "version_minor": 0
      },
      "text/plain": [
       "Training: 0it [00:00, ?it/s]"
      ]
     },
     "metadata": {},
     "output_type": "display_data"
    },
    {
     "data": {
      "application/json": {
       "ascii": false,
       "bar_format": null,
       "colour": null,
       "elapsed": 0.010231494903564453,
       "initial": 0,
       "n": 0,
       "ncols": 111,
       "nrows": 30,
       "postfix": null,
       "prefix": "Validating",
       "rate": null,
       "total": null,
       "unit": "it",
       "unit_divisor": 1000,
       "unit_scale": false
      },
      "application/vnd.jupyter.widget-view+json": {
       "model_id": "7cffbd839390401e9eee217eb1e87828",
       "version_major": 2,
       "version_minor": 0
      },
      "text/plain": [
       "Validating: 0it [00:00, ?it/s]"
      ]
     },
     "metadata": {},
     "output_type": "display_data"
    },
    {
     "data": {
      "application/json": {
       "ascii": false,
       "bar_format": null,
       "colour": null,
       "elapsed": 0.015070915222167969,
       "initial": 0,
       "n": 0,
       "ncols": 111,
       "nrows": 30,
       "postfix": null,
       "prefix": "Validating",
       "rate": null,
       "total": null,
       "unit": "it",
       "unit_divisor": 1000,
       "unit_scale": false
      },
      "application/vnd.jupyter.widget-view+json": {
       "model_id": "5733416a317f4073915cd6ed3d67c214",
       "version_major": 2,
       "version_minor": 0
      },
      "text/plain": [
       "Validating: 0it [00:00, ?it/s]"
      ]
     },
     "metadata": {},
     "output_type": "display_data"
    },
    {
     "name": "stderr",
     "output_type": "stream",
     "text": [
      "\u001b[32m[I 2023-11-02 17:34:55,118]\u001b[0m Trial 0 finished with value: 0.5 and parameters: {'d_model': 64, 'factor': 5, 'n_heads': 6, 'dropout': 0.11518538670057438, 'd_ff': 1024, 'e_layers': 6, 'sparsification_type': 'topK'}. Best is trial 0 with value: 0.5.\u001b[0m\n",
      "GPU available: False, used: False\n",
      "TPU available: False, using: 0 TPU cores\n",
      "\n",
      "  | Name          | Type                | Params\n",
      "------------------------------------------------------\n",
      "0 | model         | TripletArchitecture | 152 K \n",
      "1 | loss_function | TripletMarginLoss   | 0     \n",
      "------------------------------------------------------\n",
      "152 K     Trainable params\n",
      "0         Non-trainable params\n",
      "152 K     Total params\n",
      "0.609     Total estimated model params size (MB)\n"
     ]
    },
    {
     "data": {
      "application/json": {
       "ascii": false,
       "bar_format": null,
       "colour": null,
       "elapsed": 0.00967097282409668,
       "initial": 0,
       "n": 0,
       "ncols": 111,
       "nrows": 30,
       "postfix": null,
       "prefix": "Validation sanity check",
       "rate": null,
       "total": null,
       "unit": "it",
       "unit_divisor": 1000,
       "unit_scale": false
      },
      "application/vnd.jupyter.widget-view+json": {
       "model_id": "df2fa08bf33447f596561f51911ede1a",
       "version_major": 2,
       "version_minor": 0
      },
      "text/plain": [
       "Validation sanity check: 0it [00:00, ?it/s]"
      ]
     },
     "metadata": {},
     "output_type": "display_data"
    },
    {
     "data": {
      "application/json": {
       "ascii": false,
       "bar_format": null,
       "colour": null,
       "elapsed": 0.010336637496948242,
       "initial": 0,
       "n": 0,
       "ncols": 111,
       "nrows": 30,
       "postfix": null,
       "prefix": "Training",
       "rate": null,
       "total": null,
       "unit": "it",
       "unit_divisor": 1000,
       "unit_scale": false
      },
      "application/vnd.jupyter.widget-view+json": {
       "model_id": "95fa1ebc636f4dfebcf259f167c0efb7",
       "version_major": 2,
       "version_minor": 0
      },
      "text/plain": [
       "Training: 0it [00:00, ?it/s]"
      ]
     },
     "metadata": {},
     "output_type": "display_data"
    },
    {
     "data": {
      "application/json": {
       "ascii": false,
       "bar_format": null,
       "colour": null,
       "elapsed": 0.01075291633605957,
       "initial": 0,
       "n": 0,
       "ncols": 111,
       "nrows": 30,
       "postfix": null,
       "prefix": "Validating",
       "rate": null,
       "total": null,
       "unit": "it",
       "unit_divisor": 1000,
       "unit_scale": false
      },
      "application/vnd.jupyter.widget-view+json": {
       "model_id": "ff4961fc9231471aa4b57fe66ce44f9f",
       "version_major": 2,
       "version_minor": 0
      },
      "text/plain": [
       "Validating: 0it [00:00, ?it/s]"
      ]
     },
     "metadata": {},
     "output_type": "display_data"
    },
    {
     "data": {
      "application/json": {
       "ascii": false,
       "bar_format": null,
       "colour": null,
       "elapsed": 0.008867502212524414,
       "initial": 0,
       "n": 0,
       "ncols": 111,
       "nrows": 30,
       "postfix": null,
       "prefix": "Validating",
       "rate": null,
       "total": null,
       "unit": "it",
       "unit_divisor": 1000,
       "unit_scale": false
      },
      "application/vnd.jupyter.widget-view+json": {
       "model_id": "ec8a765a58ca48e7a72fc4281b56a945",
       "version_major": 2,
       "version_minor": 0
      },
      "text/plain": [
       "Validating: 0it [00:00, ?it/s]"
      ]
     },
     "metadata": {},
     "output_type": "display_data"
    },
    {
     "name": "stderr",
     "output_type": "stream",
     "text": [
      "GPU available: False, used: False\n",
      "TPU available: False, using: 0 TPU cores\n",
      "\n",
      "  | Name          | Type                | Params\n",
      "------------------------------------------------------\n",
      "0 | model         | TripletArchitecture | 152 K \n",
      "1 | loss_function | TripletMarginLoss   | 0     \n",
      "------------------------------------------------------\n",
      "152 K     Trainable params\n",
      "0         Non-trainable params\n",
      "152 K     Total params\n",
      "0.609     Total estimated model params size (MB)\n"
     ]
    },
    {
     "data": {
      "application/json": {
       "ascii": false,
       "bar_format": null,
       "colour": null,
       "elapsed": 0.015660524368286133,
       "initial": 0,
       "n": 0,
       "ncols": 111,
       "nrows": 30,
       "postfix": null,
       "prefix": "Validation sanity check",
       "rate": null,
       "total": null,
       "unit": "it",
       "unit_divisor": 1000,
       "unit_scale": false
      },
      "application/vnd.jupyter.widget-view+json": {
       "model_id": "0706c770a2d94971860738182d610d4d",
       "version_major": 2,
       "version_minor": 0
      },
      "text/plain": [
       "Validation sanity check: 0it [00:00, ?it/s]"
      ]
     },
     "metadata": {},
     "output_type": "display_data"
    },
    {
     "data": {
      "application/json": {
       "ascii": false,
       "bar_format": null,
       "colour": null,
       "elapsed": 0.010060310363769531,
       "initial": 0,
       "n": 0,
       "ncols": 111,
       "nrows": 30,
       "postfix": null,
       "prefix": "Training",
       "rate": null,
       "total": null,
       "unit": "it",
       "unit_divisor": 1000,
       "unit_scale": false
      },
      "application/vnd.jupyter.widget-view+json": {
       "model_id": "13acd6d086df411eb7dcf46bf0fdaa91",
       "version_major": 2,
       "version_minor": 0
      },
      "text/plain": [
       "Training: 0it [00:00, ?it/s]"
      ]
     },
     "metadata": {},
     "output_type": "display_data"
    },
    {
     "data": {
      "application/json": {
       "ascii": false,
       "bar_format": null,
       "colour": null,
       "elapsed": 0.011244773864746094,
       "initial": 0,
       "n": 0,
       "ncols": 111,
       "nrows": 30,
       "postfix": null,
       "prefix": "Validating",
       "rate": null,
       "total": null,
       "unit": "it",
       "unit_divisor": 1000,
       "unit_scale": false
      },
      "application/vnd.jupyter.widget-view+json": {
       "model_id": "b53710e5c5af4cc0bacef3d15bb5c9a3",
       "version_major": 2,
       "version_minor": 0
      },
      "text/plain": [
       "Validating: 0it [00:00, ?it/s]"
      ]
     },
     "metadata": {},
     "output_type": "display_data"
    },
    {
     "data": {
      "application/json": {
       "ascii": false,
       "bar_format": null,
       "colour": null,
       "elapsed": 0.009137630462646484,
       "initial": 0,
       "n": 0,
       "ncols": 111,
       "nrows": 30,
       "postfix": null,
       "prefix": "Validating",
       "rate": null,
       "total": null,
       "unit": "it",
       "unit_divisor": 1000,
       "unit_scale": false
      },
      "application/vnd.jupyter.widget-view+json": {
       "model_id": "838c752ce01e4eccb6a0f462c981eb3c",
       "version_major": 2,
       "version_minor": 0
      },
      "text/plain": [
       "Validating: 0it [00:00, ?it/s]"
      ]
     },
     "metadata": {},
     "output_type": "display_data"
    },
    {
     "name": "stderr",
     "output_type": "stream",
     "text": [
      "\u001b[32m[I 2023-11-02 17:35:02,456]\u001b[0m Trial 1 finished with value: 0.5 and parameters: {'d_model': 32, 'factor': 9, 'n_heads': 4, 'dropout': 0.35493356729288295, 'd_ff': 512, 'e_layers': 4, 'sparsification_type': 'topK'}. Best is trial 0 with value: 0.5.\u001b[0m\n",
      "GPU available: False, used: False\n",
      "TPU available: False, using: 0 TPU cores\n",
      "\n",
      "  | Name          | Type                | Params\n",
      "------------------------------------------------------\n",
      "0 | model         | TripletArchitecture | 893 K \n",
      "1 | loss_function | TripletMarginLoss   | 0     \n",
      "------------------------------------------------------\n",
      "893 K     Trainable params\n",
      "0         Non-trainable params\n",
      "893 K     Total params\n",
      "3.573     Total estimated model params size (MB)\n"
     ]
    },
    {
     "name": "stdout",
     "output_type": "stream",
     "text": [
      "best_params: {'d_model': 64, 'factor': 5, 'n_heads': 6, 'dropout': 0.11518538670057438, 'd_ff': 1024, 'e_layers': 6, 'sparsification_type': 'topK'}\n"
     ]
    },
    {
     "data": {
      "application/json": {
       "ascii": false,
       "bar_format": null,
       "colour": null,
       "elapsed": 0.015757083892822266,
       "initial": 0,
       "n": 0,
       "ncols": 111,
       "nrows": 30,
       "postfix": null,
       "prefix": "Validation sanity check",
       "rate": null,
       "total": null,
       "unit": "it",
       "unit_divisor": 1000,
       "unit_scale": false
      },
      "application/vnd.jupyter.widget-view+json": {
       "model_id": "3ca3a37bac4549a0aef20117fc65c281",
       "version_major": 2,
       "version_minor": 0
      },
      "text/plain": [
       "Validation sanity check: 0it [00:00, ?it/s]"
      ]
     },
     "metadata": {},
     "output_type": "display_data"
    },
    {
     "data": {
      "application/json": {
       "ascii": false,
       "bar_format": null,
       "colour": null,
       "elapsed": 0.01341390609741211,
       "initial": 0,
       "n": 0,
       "ncols": 111,
       "nrows": 30,
       "postfix": null,
       "prefix": "Training",
       "rate": null,
       "total": null,
       "unit": "it",
       "unit_divisor": 1000,
       "unit_scale": false
      },
      "application/vnd.jupyter.widget-view+json": {
       "model_id": "1bebc8d57ddf437b813736c79eb515cd",
       "version_major": 2,
       "version_minor": 0
      },
      "text/plain": [
       "Training: 0it [00:00, ?it/s]"
      ]
     },
     "metadata": {},
     "output_type": "display_data"
    },
    {
     "data": {
      "application/json": {
       "ascii": false,
       "bar_format": null,
       "colour": null,
       "elapsed": 0.009682416915893555,
       "initial": 0,
       "n": 0,
       "ncols": 111,
       "nrows": 30,
       "postfix": null,
       "prefix": "Validating",
       "rate": null,
       "total": null,
       "unit": "it",
       "unit_divisor": 1000,
       "unit_scale": false
      },
      "application/vnd.jupyter.widget-view+json": {
       "model_id": "82a3f37935d94de49d71818740c43fd8",
       "version_major": 2,
       "version_minor": 0
      },
      "text/plain": [
       "Validating: 0it [00:00, ?it/s]"
      ]
     },
     "metadata": {},
     "output_type": "display_data"
    },
    {
     "data": {
      "application/json": {
       "ascii": false,
       "bar_format": null,
       "colour": null,
       "elapsed": 0.010709047317504883,
       "initial": 0,
       "n": 0,
       "ncols": 111,
       "nrows": 30,
       "postfix": null,
       "prefix": "Validating",
       "rate": null,
       "total": null,
       "unit": "it",
       "unit_divisor": 1000,
       "unit_scale": false
      },
      "application/vnd.jupyter.widget-view+json": {
       "model_id": "12441552c0e64cb5981640fa6acc64cb",
       "version_major": 2,
       "version_minor": 0
      },
      "text/plain": [
       "Validating: 0it [00:00, ?it/s]"
      ]
     },
     "metadata": {},
     "output_type": "display_data"
    },
    {
     "name": "stderr",
     "output_type": "stream",
     "text": [
      "GPU available: False, used: False\n",
      "TPU available: False, using: 0 TPU cores\n",
      "\n",
      "  | Name          | Type                | Params\n",
      "------------------------------------------------------\n",
      "0 | model         | TripletArchitecture | 893 K \n",
      "1 | loss_function | TripletMarginLoss   | 0     \n",
      "------------------------------------------------------\n",
      "893 K     Trainable params\n",
      "0         Non-trainable params\n",
      "893 K     Total params\n",
      "3.573     Total estimated model params size (MB)\n"
     ]
    },
    {
     "data": {
      "application/json": {
       "ascii": false,
       "bar_format": null,
       "colour": null,
       "elapsed": 0.008672237396240234,
       "initial": 0,
       "n": 0,
       "ncols": 111,
       "nrows": 30,
       "postfix": null,
       "prefix": "Validation sanity check",
       "rate": null,
       "total": null,
       "unit": "it",
       "unit_divisor": 1000,
       "unit_scale": false
      },
      "application/vnd.jupyter.widget-view+json": {
       "model_id": "42c28ed351014109b574b319c54378f5",
       "version_major": 2,
       "version_minor": 0
      },
      "text/plain": [
       "Validation sanity check: 0it [00:00, ?it/s]"
      ]
     },
     "metadata": {},
     "output_type": "display_data"
    },
    {
     "data": {
      "application/json": {
       "ascii": false,
       "bar_format": null,
       "colour": null,
       "elapsed": 0.010325193405151367,
       "initial": 0,
       "n": 0,
       "ncols": 111,
       "nrows": 30,
       "postfix": null,
       "prefix": "Training",
       "rate": null,
       "total": null,
       "unit": "it",
       "unit_divisor": 1000,
       "unit_scale": false
      },
      "application/vnd.jupyter.widget-view+json": {
       "model_id": "543226b12a9b4810b78a4ae26c5f9827",
       "version_major": 2,
       "version_minor": 0
      },
      "text/plain": [
       "Training: 0it [00:00, ?it/s]"
      ]
     },
     "metadata": {},
     "output_type": "display_data"
    },
    {
     "data": {
      "application/json": {
       "ascii": false,
       "bar_format": null,
       "colour": null,
       "elapsed": 0.010384082794189453,
       "initial": 0,
       "n": 0,
       "ncols": 111,
       "nrows": 30,
       "postfix": null,
       "prefix": "Validating",
       "rate": null,
       "total": null,
       "unit": "it",
       "unit_divisor": 1000,
       "unit_scale": false
      },
      "application/vnd.jupyter.widget-view+json": {
       "model_id": "0db208e6df11440e9d3a6c503e041617",
       "version_major": 2,
       "version_minor": 0
      },
      "text/plain": [
       "Validating: 0it [00:00, ?it/s]"
      ]
     },
     "metadata": {},
     "output_type": "display_data"
    },
    {
     "data": {
      "application/json": {
       "ascii": false,
       "bar_format": null,
       "colour": null,
       "elapsed": 0.008985757827758789,
       "initial": 0,
       "n": 0,
       "ncols": 111,
       "nrows": 30,
       "postfix": null,
       "prefix": "Validating",
       "rate": null,
       "total": null,
       "unit": "it",
       "unit_divisor": 1000,
       "unit_scale": false
      },
      "application/vnd.jupyter.widget-view+json": {
       "model_id": "74c383c1c4054d1e9e2711ba1219f99f",
       "version_major": 2,
       "version_minor": 0
      },
      "text/plain": [
       "Validating: 0it [00:00, ?it/s]"
      ]
     },
     "metadata": {},
     "output_type": "display_data"
    },
    {
     "name": "stderr",
     "output_type": "stream",
     "text": [
      "\u001b[32m[I 2023-11-02 17:35:15,678]\u001b[0m A new study created in memory with name: no-name-e9c185b5-8472-4ad7-942c-b2efe96de620\u001b[0m\n",
      "GPU available: False, used: False\n",
      "TPU available: False, using: 0 TPU cores\n",
      "\n",
      "  | Name          | Type                | Params\n",
      "------------------------------------------------------\n",
      "0 | model         | TripletArchitecture | 171 K \n",
      "1 | loss_function | TripletMarginLoss   | 0     \n",
      "------------------------------------------------------\n",
      "171 K     Trainable params\n",
      "0         Non-trainable params\n",
      "171 K     Total params\n",
      "0.685     Total estimated model params size (MB)\n"
     ]
    },
    {
     "name": "stdout",
     "output_type": "stream",
     "text": [
      "Accuracy: nan ± nan\n",
      "Precision: nan ± nan\n",
      "Recall: nan ± nan\n",
      "ROC AUC: nan ± nan\n",
      "PR AUC: nan ± nan\n",
      "--------------------------------------------------\n",
      "Eucl_Accuracy: 1.000 ± 0.000\n",
      "Eucl_Precision: nan ± nan\n",
      "Eucl_Recall: 0.000 ± 0.000\n",
      "Eucl_ROC AUC: 0.500 ± 0.000\n",
      "Eucl_PR AUC: 1.000 ± 0.000\n",
      "--------------------------------------------------\n",
      "Cos_Accuracy: 1.000 ± 0.000\n",
      "Cos_Precision: 0.500 ± 0.000\n",
      "Cos_Recall: 1.000 ± 0.000\n",
      "Cos_ROC AUC: 0.500 ± 0.000\n",
      "Cos_PR AUC: 1.000 ± 0.000\n",
      "--------------------------------------------------\n",
      "\n",
      "all_results: ({'Accuracy': [], 'Precision': [], 'Recall': [], 'ROC AUC': [], 'PR AUC': []}, {'Eucl_Accuracy': [1.0, 1.0], 'Eucl_Precision': [nan, nan], 'Eucl_Recall': [0.0, 0.0], 'Eucl_ROC AUC': [0.5, 0.5], 'Eucl_PR AUC': [1.0, 1.0]}, {'Cos_Accuracy': [1.0, 1.0], 'Cos_Precision': [0.5, 0.5], 'Cos_Recall': [1.0, 1.0], 'Cos_ROC AUC': [0.5, 0.5], 'Cos_PR AUC': [1.0, 1.0]})\n",
      "****************************************************************************************************\n",
      "model_type: triplet_reguformer_randK\n"
     ]
    },
    {
     "data": {
      "application/json": {
       "ascii": false,
       "bar_format": null,
       "colour": null,
       "elapsed": 0.008836746215820312,
       "initial": 0,
       "n": 0,
       "ncols": 111,
       "nrows": 30,
       "postfix": null,
       "prefix": "Validation sanity check",
       "rate": null,
       "total": null,
       "unit": "it",
       "unit_divisor": 1000,
       "unit_scale": false
      },
      "application/vnd.jupyter.widget-view+json": {
       "model_id": "c124d71c469b4d19a53da64c861c64eb",
       "version_major": 2,
       "version_minor": 0
      },
      "text/plain": [
       "Validation sanity check: 0it [00:00, ?it/s]"
      ]
     },
     "metadata": {},
     "output_type": "display_data"
    },
    {
     "data": {
      "application/json": {
       "ascii": false,
       "bar_format": null,
       "colour": null,
       "elapsed": 0.00945734977722168,
       "initial": 0,
       "n": 0,
       "ncols": 111,
       "nrows": 30,
       "postfix": null,
       "prefix": "Training",
       "rate": null,
       "total": null,
       "unit": "it",
       "unit_divisor": 1000,
       "unit_scale": false
      },
      "application/vnd.jupyter.widget-view+json": {
       "model_id": "ec9ea4970c6843338567e05e1d3c65b7",
       "version_major": 2,
       "version_minor": 0
      },
      "text/plain": [
       "Training: 0it [00:00, ?it/s]"
      ]
     },
     "metadata": {},
     "output_type": "display_data"
    },
    {
     "data": {
      "application/json": {
       "ascii": false,
       "bar_format": null,
       "colour": null,
       "elapsed": 0.011605978012084961,
       "initial": 0,
       "n": 0,
       "ncols": 111,
       "nrows": 30,
       "postfix": null,
       "prefix": "Validating",
       "rate": null,
       "total": null,
       "unit": "it",
       "unit_divisor": 1000,
       "unit_scale": false
      },
      "application/vnd.jupyter.widget-view+json": {
       "model_id": "778ca439d2b8416aa5d4796ba3f841c4",
       "version_major": 2,
       "version_minor": 0
      },
      "text/plain": [
       "Validating: 0it [00:00, ?it/s]"
      ]
     },
     "metadata": {},
     "output_type": "display_data"
    },
    {
     "data": {
      "application/json": {
       "ascii": false,
       "bar_format": null,
       "colour": null,
       "elapsed": 0.010499954223632812,
       "initial": 0,
       "n": 0,
       "ncols": 111,
       "nrows": 30,
       "postfix": null,
       "prefix": "Validating",
       "rate": null,
       "total": null,
       "unit": "it",
       "unit_divisor": 1000,
       "unit_scale": false
      },
      "application/vnd.jupyter.widget-view+json": {
       "model_id": "97bdc350b8c3475092df0b74180515ec",
       "version_major": 2,
       "version_minor": 0
      },
      "text/plain": [
       "Validating: 0it [00:00, ?it/s]"
      ]
     },
     "metadata": {},
     "output_type": "display_data"
    },
    {
     "name": "stderr",
     "output_type": "stream",
     "text": [
      "GPU available: False, used: False\n",
      "TPU available: False, using: 0 TPU cores\n",
      "\n",
      "  | Name          | Type                | Params\n",
      "------------------------------------------------------\n",
      "0 | model         | TripletArchitecture | 171 K \n",
      "1 | loss_function | TripletMarginLoss   | 0     \n",
      "------------------------------------------------------\n",
      "171 K     Trainable params\n",
      "0         Non-trainable params\n",
      "171 K     Total params\n",
      "0.685     Total estimated model params size (MB)\n"
     ]
    },
    {
     "data": {
      "application/json": {
       "ascii": false,
       "bar_format": null,
       "colour": null,
       "elapsed": 0.009165287017822266,
       "initial": 0,
       "n": 0,
       "ncols": 111,
       "nrows": 30,
       "postfix": null,
       "prefix": "Validation sanity check",
       "rate": null,
       "total": null,
       "unit": "it",
       "unit_divisor": 1000,
       "unit_scale": false
      },
      "application/vnd.jupyter.widget-view+json": {
       "model_id": "aef06b0131994f01b029e5500f370858",
       "version_major": 2,
       "version_minor": 0
      },
      "text/plain": [
       "Validation sanity check: 0it [00:00, ?it/s]"
      ]
     },
     "metadata": {},
     "output_type": "display_data"
    },
    {
     "data": {
      "application/json": {
       "ascii": false,
       "bar_format": null,
       "colour": null,
       "elapsed": 0.013077735900878906,
       "initial": 0,
       "n": 0,
       "ncols": 111,
       "nrows": 30,
       "postfix": null,
       "prefix": "Training",
       "rate": null,
       "total": null,
       "unit": "it",
       "unit_divisor": 1000,
       "unit_scale": false
      },
      "application/vnd.jupyter.widget-view+json": {
       "model_id": "92957ccc93de4ad5bedbb74ca6582a6b",
       "version_major": 2,
       "version_minor": 0
      },
      "text/plain": [
       "Training: 0it [00:00, ?it/s]"
      ]
     },
     "metadata": {},
     "output_type": "display_data"
    },
    {
     "data": {
      "application/json": {
       "ascii": false,
       "bar_format": null,
       "colour": null,
       "elapsed": 0.009347677230834961,
       "initial": 0,
       "n": 0,
       "ncols": 111,
       "nrows": 30,
       "postfix": null,
       "prefix": "Validating",
       "rate": null,
       "total": null,
       "unit": "it",
       "unit_divisor": 1000,
       "unit_scale": false
      },
      "application/vnd.jupyter.widget-view+json": {
       "model_id": "177a4d05bd0d4f77b3b76da6b1cae9a1",
       "version_major": 2,
       "version_minor": 0
      },
      "text/plain": [
       "Validating: 0it [00:00, ?it/s]"
      ]
     },
     "metadata": {},
     "output_type": "display_data"
    },
    {
     "data": {
      "application/json": {
       "ascii": false,
       "bar_format": null,
       "colour": null,
       "elapsed": 0.009459495544433594,
       "initial": 0,
       "n": 0,
       "ncols": 111,
       "nrows": 30,
       "postfix": null,
       "prefix": "Validating",
       "rate": null,
       "total": null,
       "unit": "it",
       "unit_divisor": 1000,
       "unit_scale": false
      },
      "application/vnd.jupyter.widget-view+json": {
       "model_id": "f0360fbafbf34674a7315f3113f04f1e",
       "version_major": 2,
       "version_minor": 0
      },
      "text/plain": [
       "Validating: 0it [00:00, ?it/s]"
      ]
     },
     "metadata": {},
     "output_type": "display_data"
    },
    {
     "name": "stderr",
     "output_type": "stream",
     "text": [
      "\u001b[32m[I 2023-11-02 17:35:21,478]\u001b[0m Trial 0 finished with value: 0.5 and parameters: {'d_model': 64, 'factor': 11, 'n_heads': 8, 'dropout': 0.3044207863978492, 'd_ff': 512, 'e_layers': 2, 'sparsification_type': 'randK'}. Best is trial 0 with value: 0.5.\u001b[0m\n",
      "GPU available: False, used: False\n",
      "TPU available: False, using: 0 TPU cores\n",
      "\n",
      "  | Name          | Type                | Params\n",
      "------------------------------------------------------\n",
      "0 | model         | TripletArchitecture | 199 K \n",
      "1 | loss_function | TripletMarginLoss   | 0     \n",
      "------------------------------------------------------\n",
      "199 K     Trainable params\n",
      "0         Non-trainable params\n",
      "199 K     Total params\n",
      "0.799     Total estimated model params size (MB)\n"
     ]
    },
    {
     "data": {
      "application/json": {
       "ascii": false,
       "bar_format": null,
       "colour": null,
       "elapsed": 0.013076066970825195,
       "initial": 0,
       "n": 0,
       "ncols": 111,
       "nrows": 30,
       "postfix": null,
       "prefix": "Validation sanity check",
       "rate": null,
       "total": null,
       "unit": "it",
       "unit_divisor": 1000,
       "unit_scale": false
      },
      "application/vnd.jupyter.widget-view+json": {
       "model_id": "af26c5f215f34410973fe8c231f7561d",
       "version_major": 2,
       "version_minor": 0
      },
      "text/plain": [
       "Validation sanity check: 0it [00:00, ?it/s]"
      ]
     },
     "metadata": {},
     "output_type": "display_data"
    },
    {
     "data": {
      "application/json": {
       "ascii": false,
       "bar_format": null,
       "colour": null,
       "elapsed": 0.012227535247802734,
       "initial": 0,
       "n": 0,
       "ncols": 111,
       "nrows": 30,
       "postfix": null,
       "prefix": "Training",
       "rate": null,
       "total": null,
       "unit": "it",
       "unit_divisor": 1000,
       "unit_scale": false
      },
      "application/vnd.jupyter.widget-view+json": {
       "model_id": "45c92418e55640f4b774a236b5d6c585",
       "version_major": 2,
       "version_minor": 0
      },
      "text/plain": [
       "Training: 0it [00:00, ?it/s]"
      ]
     },
     "metadata": {},
     "output_type": "display_data"
    },
    {
     "data": {
      "application/json": {
       "ascii": false,
       "bar_format": null,
       "colour": null,
       "elapsed": 0.008685588836669922,
       "initial": 0,
       "n": 0,
       "ncols": 111,
       "nrows": 30,
       "postfix": null,
       "prefix": "Validating",
       "rate": null,
       "total": null,
       "unit": "it",
       "unit_divisor": 1000,
       "unit_scale": false
      },
      "application/vnd.jupyter.widget-view+json": {
       "model_id": "f1c538f5dae643f3aa81eaf05db2eaba",
       "version_major": 2,
       "version_minor": 0
      },
      "text/plain": [
       "Validating: 0it [00:00, ?it/s]"
      ]
     },
     "metadata": {},
     "output_type": "display_data"
    },
    {
     "data": {
      "application/json": {
       "ascii": false,
       "bar_format": null,
       "colour": null,
       "elapsed": 0.011527776718139648,
       "initial": 0,
       "n": 0,
       "ncols": 111,
       "nrows": 30,
       "postfix": null,
       "prefix": "Validating",
       "rate": null,
       "total": null,
       "unit": "it",
       "unit_divisor": 1000,
       "unit_scale": false
      },
      "application/vnd.jupyter.widget-view+json": {
       "model_id": "3ac979b3b644410399b0221d809718fd",
       "version_major": 2,
       "version_minor": 0
      },
      "text/plain": [
       "Validating: 0it [00:00, ?it/s]"
      ]
     },
     "metadata": {},
     "output_type": "display_data"
    },
    {
     "name": "stderr",
     "output_type": "stream",
     "text": [
      "GPU available: False, used: False\n",
      "TPU available: False, using: 0 TPU cores\n",
      "\n",
      "  | Name          | Type                | Params\n",
      "------------------------------------------------------\n",
      "0 | model         | TripletArchitecture | 199 K \n",
      "1 | loss_function | TripletMarginLoss   | 0     \n",
      "------------------------------------------------------\n",
      "199 K     Trainable params\n",
      "0         Non-trainable params\n",
      "199 K     Total params\n",
      "0.799     Total estimated model params size (MB)\n"
     ]
    },
    {
     "data": {
      "application/json": {
       "ascii": false,
       "bar_format": null,
       "colour": null,
       "elapsed": 0.011319398880004883,
       "initial": 0,
       "n": 0,
       "ncols": 111,
       "nrows": 30,
       "postfix": null,
       "prefix": "Validation sanity check",
       "rate": null,
       "total": null,
       "unit": "it",
       "unit_divisor": 1000,
       "unit_scale": false
      },
      "application/vnd.jupyter.widget-view+json": {
       "model_id": "40dfee36bde741c3bb8e1a6c85948282",
       "version_major": 2,
       "version_minor": 0
      },
      "text/plain": [
       "Validation sanity check: 0it [00:00, ?it/s]"
      ]
     },
     "metadata": {},
     "output_type": "display_data"
    },
    {
     "data": {
      "application/json": {
       "ascii": false,
       "bar_format": null,
       "colour": null,
       "elapsed": 0.008843421936035156,
       "initial": 0,
       "n": 0,
       "ncols": 111,
       "nrows": 30,
       "postfix": null,
       "prefix": "Training",
       "rate": null,
       "total": null,
       "unit": "it",
       "unit_divisor": 1000,
       "unit_scale": false
      },
      "application/vnd.jupyter.widget-view+json": {
       "model_id": "a6b2aba003f94222878944f5868c9a10",
       "version_major": 2,
       "version_minor": 0
      },
      "text/plain": [
       "Training: 0it [00:00, ?it/s]"
      ]
     },
     "metadata": {},
     "output_type": "display_data"
    },
    {
     "data": {
      "application/json": {
       "ascii": false,
       "bar_format": null,
       "colour": null,
       "elapsed": 0.010283470153808594,
       "initial": 0,
       "n": 0,
       "ncols": 111,
       "nrows": 30,
       "postfix": null,
       "prefix": "Validating",
       "rate": null,
       "total": null,
       "unit": "it",
       "unit_divisor": 1000,
       "unit_scale": false
      },
      "application/vnd.jupyter.widget-view+json": {
       "model_id": "48740551d2b54edbab64feda77f88fe7",
       "version_major": 2,
       "version_minor": 0
      },
      "text/plain": [
       "Validating: 0it [00:00, ?it/s]"
      ]
     },
     "metadata": {},
     "output_type": "display_data"
    },
    {
     "data": {
      "application/json": {
       "ascii": false,
       "bar_format": null,
       "colour": null,
       "elapsed": 0.011687755584716797,
       "initial": 0,
       "n": 0,
       "ncols": 111,
       "nrows": 30,
       "postfix": null,
       "prefix": "Validating",
       "rate": null,
       "total": null,
       "unit": "it",
       "unit_divisor": 1000,
       "unit_scale": false
      },
      "application/vnd.jupyter.widget-view+json": {
       "model_id": "9914a7edeb3f4cafb14e49e55169e50f",
       "version_major": 2,
       "version_minor": 0
      },
      "text/plain": [
       "Validating: 0it [00:00, ?it/s]"
      ]
     },
     "metadata": {},
     "output_type": "display_data"
    },
    {
     "name": "stderr",
     "output_type": "stream",
     "text": [
      "\u001b[32m[I 2023-11-02 17:35:28,266]\u001b[0m Trial 1 finished with value: 0.5 and parameters: {'d_model': 64, 'factor': 11, 'n_heads': 6, 'dropout': 0.23218846886903496, 'd_ff': 128, 'e_layers': 6, 'sparsification_type': 'randK'}. Best is trial 0 with value: 0.5.\u001b[0m\n",
      "GPU available: False, used: False\n",
      "TPU available: False, using: 0 TPU cores\n",
      "\n",
      "  | Name          | Type                | Params\n",
      "------------------------------------------------------\n",
      "0 | model         | TripletArchitecture | 171 K \n",
      "1 | loss_function | TripletMarginLoss   | 0     \n",
      "------------------------------------------------------\n",
      "171 K     Trainable params\n",
      "0         Non-trainable params\n",
      "171 K     Total params\n",
      "0.685     Total estimated model params size (MB)\n"
     ]
    },
    {
     "name": "stdout",
     "output_type": "stream",
     "text": [
      "best_params: {'d_model': 64, 'factor': 11, 'n_heads': 8, 'dropout': 0.3044207863978492, 'd_ff': 512, 'e_layers': 2, 'sparsification_type': 'randK'}\n"
     ]
    },
    {
     "data": {
      "application/json": {
       "ascii": false,
       "bar_format": null,
       "colour": null,
       "elapsed": 0.010674476623535156,
       "initial": 0,
       "n": 0,
       "ncols": 111,
       "nrows": 30,
       "postfix": null,
       "prefix": "Validation sanity check",
       "rate": null,
       "total": null,
       "unit": "it",
       "unit_divisor": 1000,
       "unit_scale": false
      },
      "application/vnd.jupyter.widget-view+json": {
       "model_id": "3fb493a39ea74fdfad333810175f1c28",
       "version_major": 2,
       "version_minor": 0
      },
      "text/plain": [
       "Validation sanity check: 0it [00:00, ?it/s]"
      ]
     },
     "metadata": {},
     "output_type": "display_data"
    },
    {
     "data": {
      "application/json": {
       "ascii": false,
       "bar_format": null,
       "colour": null,
       "elapsed": 0.010486125946044922,
       "initial": 0,
       "n": 0,
       "ncols": 111,
       "nrows": 30,
       "postfix": null,
       "prefix": "Training",
       "rate": null,
       "total": null,
       "unit": "it",
       "unit_divisor": 1000,
       "unit_scale": false
      },
      "application/vnd.jupyter.widget-view+json": {
       "model_id": "5fa3b131f8f3422fa285bbf22c712cb7",
       "version_major": 2,
       "version_minor": 0
      },
      "text/plain": [
       "Training: 0it [00:00, ?it/s]"
      ]
     },
     "metadata": {},
     "output_type": "display_data"
    },
    {
     "data": {
      "application/json": {
       "ascii": false,
       "bar_format": null,
       "colour": null,
       "elapsed": 0.010394573211669922,
       "initial": 0,
       "n": 0,
       "ncols": 111,
       "nrows": 30,
       "postfix": null,
       "prefix": "Validating",
       "rate": null,
       "total": null,
       "unit": "it",
       "unit_divisor": 1000,
       "unit_scale": false
      },
      "application/vnd.jupyter.widget-view+json": {
       "model_id": "a0db8e8c309d44a09af6b4d9683dbe05",
       "version_major": 2,
       "version_minor": 0
      },
      "text/plain": [
       "Validating: 0it [00:00, ?it/s]"
      ]
     },
     "metadata": {},
     "output_type": "display_data"
    },
    {
     "data": {
      "application/json": {
       "ascii": false,
       "bar_format": null,
       "colour": null,
       "elapsed": 0.012888669967651367,
       "initial": 0,
       "n": 0,
       "ncols": 111,
       "nrows": 30,
       "postfix": null,
       "prefix": "Validating",
       "rate": null,
       "total": null,
       "unit": "it",
       "unit_divisor": 1000,
       "unit_scale": false
      },
      "application/vnd.jupyter.widget-view+json": {
       "model_id": "a5c361959dc24d9780c56a11fef0156a",
       "version_major": 2,
       "version_minor": 0
      },
      "text/plain": [
       "Validating: 0it [00:00, ?it/s]"
      ]
     },
     "metadata": {},
     "output_type": "display_data"
    },
    {
     "name": "stderr",
     "output_type": "stream",
     "text": [
      "GPU available: False, used: False\n",
      "TPU available: False, using: 0 TPU cores\n",
      "\n",
      "  | Name          | Type                | Params\n",
      "------------------------------------------------------\n",
      "0 | model         | TripletArchitecture | 171 K \n",
      "1 | loss_function | TripletMarginLoss   | 0     \n",
      "------------------------------------------------------\n",
      "171 K     Trainable params\n",
      "0         Non-trainable params\n",
      "171 K     Total params\n",
      "0.685     Total estimated model params size (MB)\n"
     ]
    },
    {
     "data": {
      "application/json": {
       "ascii": false,
       "bar_format": null,
       "colour": null,
       "elapsed": 0.009333372116088867,
       "initial": 0,
       "n": 0,
       "ncols": 111,
       "nrows": 30,
       "postfix": null,
       "prefix": "Validation sanity check",
       "rate": null,
       "total": null,
       "unit": "it",
       "unit_divisor": 1000,
       "unit_scale": false
      },
      "application/vnd.jupyter.widget-view+json": {
       "model_id": "cf80c3b90e7f444881f15613699a029a",
       "version_major": 2,
       "version_minor": 0
      },
      "text/plain": [
       "Validation sanity check: 0it [00:00, ?it/s]"
      ]
     },
     "metadata": {},
     "output_type": "display_data"
    },
    {
     "data": {
      "application/json": {
       "ascii": false,
       "bar_format": null,
       "colour": null,
       "elapsed": 0.010640621185302734,
       "initial": 0,
       "n": 0,
       "ncols": 111,
       "nrows": 30,
       "postfix": null,
       "prefix": "Training",
       "rate": null,
       "total": null,
       "unit": "it",
       "unit_divisor": 1000,
       "unit_scale": false
      },
      "application/vnd.jupyter.widget-view+json": {
       "model_id": "89b6e18c68374ecb84d45ad6106cf87a",
       "version_major": 2,
       "version_minor": 0
      },
      "text/plain": [
       "Training: 0it [00:00, ?it/s]"
      ]
     },
     "metadata": {},
     "output_type": "display_data"
    },
    {
     "data": {
      "application/json": {
       "ascii": false,
       "bar_format": null,
       "colour": null,
       "elapsed": 0.010251522064208984,
       "initial": 0,
       "n": 0,
       "ncols": 111,
       "nrows": 30,
       "postfix": null,
       "prefix": "Validating",
       "rate": null,
       "total": null,
       "unit": "it",
       "unit_divisor": 1000,
       "unit_scale": false
      },
      "application/vnd.jupyter.widget-view+json": {
       "model_id": "18edb0a840ea41299014ccdabf06799a",
       "version_major": 2,
       "version_minor": 0
      },
      "text/plain": [
       "Validating: 0it [00:00, ?it/s]"
      ]
     },
     "metadata": {},
     "output_type": "display_data"
    },
    {
     "data": {
      "application/json": {
       "ascii": false,
       "bar_format": null,
       "colour": null,
       "elapsed": 0.011480093002319336,
       "initial": 0,
       "n": 0,
       "ncols": 111,
       "nrows": 30,
       "postfix": null,
       "prefix": "Validating",
       "rate": null,
       "total": null,
       "unit": "it",
       "unit_divisor": 1000,
       "unit_scale": false
      },
      "application/vnd.jupyter.widget-view+json": {
       "model_id": "c3f7e0477b674d278877589d1a158317",
       "version_major": 2,
       "version_minor": 0
      },
      "text/plain": [
       "Validating: 0it [00:00, ?it/s]"
      ]
     },
     "metadata": {},
     "output_type": "display_data"
    },
    {
     "name": "stderr",
     "output_type": "stream",
     "text": [
      "\u001b[32m[I 2023-11-02 17:35:34,714]\u001b[0m A new study created in memory with name: no-name-19a7b970-2eb2-4c3c-b8f9-1ed901260eda\u001b[0m\n",
      "GPU available: False, used: False\n",
      "TPU available: False, using: 0 TPU cores\n",
      "\n",
      "  | Name          | Type                | Params\n",
      "------------------------------------------------------\n",
      "0 | model         | TripletArchitecture | 171 K \n",
      "1 | loss_function | TripletMarginLoss   | 0     \n",
      "------------------------------------------------------\n",
      "171 K     Trainable params\n",
      "0         Non-trainable params\n",
      "171 K     Total params\n",
      "0.685     Total estimated model params size (MB)\n"
     ]
    },
    {
     "name": "stdout",
     "output_type": "stream",
     "text": [
      "Accuracy: nan ± nan\n",
      "Precision: nan ± nan\n",
      "Recall: nan ± nan\n",
      "ROC AUC: nan ± nan\n",
      "PR AUC: nan ± nan\n",
      "--------------------------------------------------\n",
      "Eucl_Accuracy: 1.000 ± 0.000\n",
      "Eucl_Precision: nan ± nan\n",
      "Eucl_Recall: 0.000 ± 0.000\n",
      "Eucl_ROC AUC: 0.500 ± 0.000\n",
      "Eucl_PR AUC: 1.000 ± 0.000\n",
      "--------------------------------------------------\n",
      "Cos_Accuracy: 1.000 ± 0.000\n",
      "Cos_Precision: 0.500 ± 0.000\n",
      "Cos_Recall: 1.000 ± 0.000\n",
      "Cos_ROC AUC: 0.500 ± 0.000\n",
      "Cos_PR AUC: 1.000 ± 0.000\n",
      "--------------------------------------------------\n",
      "\n",
      "all_results: ({'Accuracy': [], 'Precision': [], 'Recall': [], 'ROC AUC': [], 'PR AUC': []}, {'Eucl_Accuracy': [1.0, 1.0], 'Eucl_Precision': [nan, nan], 'Eucl_Recall': [0.0, 0.0], 'Eucl_ROC AUC': [0.5, 0.5], 'Eucl_PR AUC': [1.0, 1.0]}, {'Cos_Accuracy': [1.0, 1.0], 'Cos_Precision': [0.5, 0.5], 'Cos_Recall': [1.0, 1.0], 'Cos_ROC AUC': [0.5, 0.5], 'Cos_PR AUC': [1.0, 1.0]})\n",
      "****************************************************************************************************\n",
      "model_type: triplet_reguformer_topQ_topK\n"
     ]
    },
    {
     "data": {
      "application/json": {
       "ascii": false,
       "bar_format": null,
       "colour": null,
       "elapsed": 0.011766672134399414,
       "initial": 0,
       "n": 0,
       "ncols": 111,
       "nrows": 30,
       "postfix": null,
       "prefix": "Validation sanity check",
       "rate": null,
       "total": null,
       "unit": "it",
       "unit_divisor": 1000,
       "unit_scale": false
      },
      "application/vnd.jupyter.widget-view+json": {
       "model_id": "8f1a693870674b0a9d9bf247c4c3fcbd",
       "version_major": 2,
       "version_minor": 0
      },
      "text/plain": [
       "Validation sanity check: 0it [00:00, ?it/s]"
      ]
     },
     "metadata": {},
     "output_type": "display_data"
    },
    {
     "data": {
      "application/json": {
       "ascii": false,
       "bar_format": null,
       "colour": null,
       "elapsed": 0.010348081588745117,
       "initial": 0,
       "n": 0,
       "ncols": 111,
       "nrows": 30,
       "postfix": null,
       "prefix": "Training",
       "rate": null,
       "total": null,
       "unit": "it",
       "unit_divisor": 1000,
       "unit_scale": false
      },
      "application/vnd.jupyter.widget-view+json": {
       "model_id": "b5398424aaed491c9c856f154b37cb26",
       "version_major": 2,
       "version_minor": 0
      },
      "text/plain": [
       "Training: 0it [00:00, ?it/s]"
      ]
     },
     "metadata": {},
     "output_type": "display_data"
    },
    {
     "data": {
      "application/json": {
       "ascii": false,
       "bar_format": null,
       "colour": null,
       "elapsed": 0.00884556770324707,
       "initial": 0,
       "n": 0,
       "ncols": 111,
       "nrows": 30,
       "postfix": null,
       "prefix": "Validating",
       "rate": null,
       "total": null,
       "unit": "it",
       "unit_divisor": 1000,
       "unit_scale": false
      },
      "application/vnd.jupyter.widget-view+json": {
       "model_id": "c20184c614444220a6856a47eb755a8e",
       "version_major": 2,
       "version_minor": 0
      },
      "text/plain": [
       "Validating: 0it [00:00, ?it/s]"
      ]
     },
     "metadata": {},
     "output_type": "display_data"
    },
    {
     "data": {
      "application/json": {
       "ascii": false,
       "bar_format": null,
       "colour": null,
       "elapsed": 0.010926246643066406,
       "initial": 0,
       "n": 0,
       "ncols": 111,
       "nrows": 30,
       "postfix": null,
       "prefix": "Validating",
       "rate": null,
       "total": null,
       "unit": "it",
       "unit_divisor": 1000,
       "unit_scale": false
      },
      "application/vnd.jupyter.widget-view+json": {
       "model_id": "d488dcd3dfd94c17a72d8e45a05b8a2a",
       "version_major": 2,
       "version_minor": 0
      },
      "text/plain": [
       "Validating: 0it [00:00, ?it/s]"
      ]
     },
     "metadata": {},
     "output_type": "display_data"
    },
    {
     "name": "stderr",
     "output_type": "stream",
     "text": [
      "GPU available: False, used: False\n",
      "TPU available: False, using: 0 TPU cores\n",
      "\n",
      "  | Name          | Type                | Params\n",
      "------------------------------------------------------\n",
      "0 | model         | TripletArchitecture | 171 K \n",
      "1 | loss_function | TripletMarginLoss   | 0     \n",
      "------------------------------------------------------\n",
      "171 K     Trainable params\n",
      "0         Non-trainable params\n",
      "171 K     Total params\n",
      "0.685     Total estimated model params size (MB)\n"
     ]
    },
    {
     "data": {
      "application/json": {
       "ascii": false,
       "bar_format": null,
       "colour": null,
       "elapsed": 0.011878252029418945,
       "initial": 0,
       "n": 0,
       "ncols": 111,
       "nrows": 30,
       "postfix": null,
       "prefix": "Validation sanity check",
       "rate": null,
       "total": null,
       "unit": "it",
       "unit_divisor": 1000,
       "unit_scale": false
      },
      "application/vnd.jupyter.widget-view+json": {
       "model_id": "9ae0ff5c70dc41e1bfecd840621645f5",
       "version_major": 2,
       "version_minor": 0
      },
      "text/plain": [
       "Validation sanity check: 0it [00:00, ?it/s]"
      ]
     },
     "metadata": {},
     "output_type": "display_data"
    },
    {
     "data": {
      "application/json": {
       "ascii": false,
       "bar_format": null,
       "colour": null,
       "elapsed": 0.015498161315917969,
       "initial": 0,
       "n": 0,
       "ncols": 111,
       "nrows": 30,
       "postfix": null,
       "prefix": "Training",
       "rate": null,
       "total": null,
       "unit": "it",
       "unit_divisor": 1000,
       "unit_scale": false
      },
      "application/vnd.jupyter.widget-view+json": {
       "model_id": "9591a235e3214a38a0c4667892d0f150",
       "version_major": 2,
       "version_minor": 0
      },
      "text/plain": [
       "Training: 0it [00:00, ?it/s]"
      ]
     },
     "metadata": {},
     "output_type": "display_data"
    },
    {
     "data": {
      "application/json": {
       "ascii": false,
       "bar_format": null,
       "colour": null,
       "elapsed": 0.009787559509277344,
       "initial": 0,
       "n": 0,
       "ncols": 111,
       "nrows": 30,
       "postfix": null,
       "prefix": "Validating",
       "rate": null,
       "total": null,
       "unit": "it",
       "unit_divisor": 1000,
       "unit_scale": false
      },
      "application/vnd.jupyter.widget-view+json": {
       "model_id": "db77f920fc9f48afaed4b618a54021fa",
       "version_major": 2,
       "version_minor": 0
      },
      "text/plain": [
       "Validating: 0it [00:00, ?it/s]"
      ]
     },
     "metadata": {},
     "output_type": "display_data"
    },
    {
     "data": {
      "application/json": {
       "ascii": false,
       "bar_format": null,
       "colour": null,
       "elapsed": 0.010998725891113281,
       "initial": 0,
       "n": 0,
       "ncols": 111,
       "nrows": 30,
       "postfix": null,
       "prefix": "Validating",
       "rate": null,
       "total": null,
       "unit": "it",
       "unit_divisor": 1000,
       "unit_scale": false
      },
      "application/vnd.jupyter.widget-view+json": {
       "model_id": "ac984b2c5e4843adbf4928285e044cee",
       "version_major": 2,
       "version_minor": 0
      },
      "text/plain": [
       "Validating: 0it [00:00, ?it/s]"
      ]
     },
     "metadata": {},
     "output_type": "display_data"
    },
    {
     "name": "stderr",
     "output_type": "stream",
     "text": [
      "\u001b[32m[I 2023-11-02 17:35:40,329]\u001b[0m Trial 0 finished with value: 0.5 and parameters: {'d_model': 64, 'factor': 3, 'n_heads': 2, 'dropout': 0.16274774518631846, 'd_ff': 512, 'e_layers': 2, 'sparsification_type': 'topQ_topK'}. Best is trial 0 with value: 0.5.\u001b[0m\n",
      "GPU available: False, used: False\n",
      "TPU available: False, using: 0 TPU cores\n",
      "\n",
      "  | Name          | Type                | Params\n",
      "------------------------------------------------------\n",
      "0 | model         | TripletArchitecture | 105 K \n",
      "1 | loss_function | TripletMarginLoss   | 0     \n",
      "------------------------------------------------------\n",
      "105 K     Trainable params\n",
      "0         Non-trainable params\n",
      "105 K     Total params\n",
      "0.422     Total estimated model params size (MB)\n"
     ]
    },
    {
     "data": {
      "application/json": {
       "ascii": false,
       "bar_format": null,
       "colour": null,
       "elapsed": 0.009393453598022461,
       "initial": 0,
       "n": 0,
       "ncols": 111,
       "nrows": 30,
       "postfix": null,
       "prefix": "Validation sanity check",
       "rate": null,
       "total": null,
       "unit": "it",
       "unit_divisor": 1000,
       "unit_scale": false
      },
      "application/vnd.jupyter.widget-view+json": {
       "model_id": "d077fb1d482f447ca3c118ae8210aab8",
       "version_major": 2,
       "version_minor": 0
      },
      "text/plain": [
       "Validation sanity check: 0it [00:00, ?it/s]"
      ]
     },
     "metadata": {},
     "output_type": "display_data"
    },
    {
     "data": {
      "application/json": {
       "ascii": false,
       "bar_format": null,
       "colour": null,
       "elapsed": 0.010460376739501953,
       "initial": 0,
       "n": 0,
       "ncols": 111,
       "nrows": 30,
       "postfix": null,
       "prefix": "Training",
       "rate": null,
       "total": null,
       "unit": "it",
       "unit_divisor": 1000,
       "unit_scale": false
      },
      "application/vnd.jupyter.widget-view+json": {
       "model_id": "8812b1fcea0f4fd4ba2a8ab5b0b6942d",
       "version_major": 2,
       "version_minor": 0
      },
      "text/plain": [
       "Training: 0it [00:00, ?it/s]"
      ]
     },
     "metadata": {},
     "output_type": "display_data"
    },
    {
     "data": {
      "application/json": {
       "ascii": false,
       "bar_format": null,
       "colour": null,
       "elapsed": 0.012008428573608398,
       "initial": 0,
       "n": 0,
       "ncols": 111,
       "nrows": 30,
       "postfix": null,
       "prefix": "Validating",
       "rate": null,
       "total": null,
       "unit": "it",
       "unit_divisor": 1000,
       "unit_scale": false
      },
      "application/vnd.jupyter.widget-view+json": {
       "model_id": "e94a96b87205481eb8cc269f9b452bc3",
       "version_major": 2,
       "version_minor": 0
      },
      "text/plain": [
       "Validating: 0it [00:00, ?it/s]"
      ]
     },
     "metadata": {},
     "output_type": "display_data"
    },
    {
     "data": {
      "application/json": {
       "ascii": false,
       "bar_format": null,
       "colour": null,
       "elapsed": 0.009057760238647461,
       "initial": 0,
       "n": 0,
       "ncols": 111,
       "nrows": 30,
       "postfix": null,
       "prefix": "Validating",
       "rate": null,
       "total": null,
       "unit": "it",
       "unit_divisor": 1000,
       "unit_scale": false
      },
      "application/vnd.jupyter.widget-view+json": {
       "model_id": "0c88a444212046549685145d5077034d",
       "version_major": 2,
       "version_minor": 0
      },
      "text/plain": [
       "Validating: 0it [00:00, ?it/s]"
      ]
     },
     "metadata": {},
     "output_type": "display_data"
    },
    {
     "name": "stderr",
     "output_type": "stream",
     "text": [
      "GPU available: False, used: False\n",
      "TPU available: False, using: 0 TPU cores\n",
      "\n",
      "  | Name          | Type                | Params\n",
      "------------------------------------------------------\n",
      "0 | model         | TripletArchitecture | 105 K \n",
      "1 | loss_function | TripletMarginLoss   | 0     \n",
      "------------------------------------------------------\n",
      "105 K     Trainable params\n",
      "0         Non-trainable params\n",
      "105 K     Total params\n",
      "0.422     Total estimated model params size (MB)\n"
     ]
    },
    {
     "data": {
      "application/json": {
       "ascii": false,
       "bar_format": null,
       "colour": null,
       "elapsed": 0.012762069702148438,
       "initial": 0,
       "n": 0,
       "ncols": 111,
       "nrows": 30,
       "postfix": null,
       "prefix": "Validation sanity check",
       "rate": null,
       "total": null,
       "unit": "it",
       "unit_divisor": 1000,
       "unit_scale": false
      },
      "application/vnd.jupyter.widget-view+json": {
       "model_id": "6d7f03b3b9cb40a884b038c89f7543c3",
       "version_major": 2,
       "version_minor": 0
      },
      "text/plain": [
       "Validation sanity check: 0it [00:00, ?it/s]"
      ]
     },
     "metadata": {},
     "output_type": "display_data"
    },
    {
     "data": {
      "application/json": {
       "ascii": false,
       "bar_format": null,
       "colour": null,
       "elapsed": 0.013432741165161133,
       "initial": 0,
       "n": 0,
       "ncols": 111,
       "nrows": 30,
       "postfix": null,
       "prefix": "Training",
       "rate": null,
       "total": null,
       "unit": "it",
       "unit_divisor": 1000,
       "unit_scale": false
      },
      "application/vnd.jupyter.widget-view+json": {
       "model_id": "59d4a7afde2e42c68d7d88ff32d07d32",
       "version_major": 2,
       "version_minor": 0
      },
      "text/plain": [
       "Training: 0it [00:00, ?it/s]"
      ]
     },
     "metadata": {},
     "output_type": "display_data"
    },
    {
     "data": {
      "application/json": {
       "ascii": false,
       "bar_format": null,
       "colour": null,
       "elapsed": 0.009909868240356445,
       "initial": 0,
       "n": 0,
       "ncols": 111,
       "nrows": 30,
       "postfix": null,
       "prefix": "Validating",
       "rate": null,
       "total": null,
       "unit": "it",
       "unit_divisor": 1000,
       "unit_scale": false
      },
      "application/vnd.jupyter.widget-view+json": {
       "model_id": "beed17259b884b8b88970c316394fc86",
       "version_major": 2,
       "version_minor": 0
      },
      "text/plain": [
       "Validating: 0it [00:00, ?it/s]"
      ]
     },
     "metadata": {},
     "output_type": "display_data"
    },
    {
     "data": {
      "application/json": {
       "ascii": false,
       "bar_format": null,
       "colour": null,
       "elapsed": 0.009515523910522461,
       "initial": 0,
       "n": 0,
       "ncols": 111,
       "nrows": 30,
       "postfix": null,
       "prefix": "Validating",
       "rate": null,
       "total": null,
       "unit": "it",
       "unit_divisor": 1000,
       "unit_scale": false
      },
      "application/vnd.jupyter.widget-view+json": {
       "model_id": "6c604385b2614bc2a940128b42458056",
       "version_major": 2,
       "version_minor": 0
      },
      "text/plain": [
       "Validating: 0it [00:00, ?it/s]"
      ]
     },
     "metadata": {},
     "output_type": "display_data"
    },
    {
     "name": "stderr",
     "output_type": "stream",
     "text": [
      "\u001b[32m[I 2023-11-02 17:35:47,107]\u001b[0m Trial 1 finished with value: 0.5 and parameters: {'d_model': 16, 'factor': 5, 'n_heads': 2, 'dropout': 0.3872929313935136, 'd_ff': 1024, 'e_layers': 3, 'sparsification_type': 'topQ_topK'}. Best is trial 0 with value: 0.5.\u001b[0m\n",
      "GPU available: False, used: False\n",
      "TPU available: False, using: 0 TPU cores\n",
      "\n",
      "  | Name          | Type                | Params\n",
      "------------------------------------------------------\n",
      "0 | model         | TripletArchitecture | 171 K \n",
      "1 | loss_function | TripletMarginLoss   | 0     \n",
      "------------------------------------------------------\n",
      "171 K     Trainable params\n",
      "0         Non-trainable params\n",
      "171 K     Total params\n",
      "0.685     Total estimated model params size (MB)\n"
     ]
    },
    {
     "name": "stdout",
     "output_type": "stream",
     "text": [
      "best_params: {'d_model': 64, 'factor': 3, 'n_heads': 2, 'dropout': 0.16274774518631846, 'd_ff': 512, 'e_layers': 2, 'sparsification_type': 'topQ_topK'}\n"
     ]
    },
    {
     "data": {
      "application/json": {
       "ascii": false,
       "bar_format": null,
       "colour": null,
       "elapsed": 0.013323307037353516,
       "initial": 0,
       "n": 0,
       "ncols": 111,
       "nrows": 30,
       "postfix": null,
       "prefix": "Validation sanity check",
       "rate": null,
       "total": null,
       "unit": "it",
       "unit_divisor": 1000,
       "unit_scale": false
      },
      "application/vnd.jupyter.widget-view+json": {
       "model_id": "376adc57c78e4559bb55da6368b34876",
       "version_major": 2,
       "version_minor": 0
      },
      "text/plain": [
       "Validation sanity check: 0it [00:00, ?it/s]"
      ]
     },
     "metadata": {},
     "output_type": "display_data"
    },
    {
     "data": {
      "application/json": {
       "ascii": false,
       "bar_format": null,
       "colour": null,
       "elapsed": 0.016492843627929688,
       "initial": 0,
       "n": 0,
       "ncols": 111,
       "nrows": 30,
       "postfix": null,
       "prefix": "Training",
       "rate": null,
       "total": null,
       "unit": "it",
       "unit_divisor": 1000,
       "unit_scale": false
      },
      "application/vnd.jupyter.widget-view+json": {
       "model_id": "bbd46e91d319466b94ed3df7c4e0a780",
       "version_major": 2,
       "version_minor": 0
      },
      "text/plain": [
       "Training: 0it [00:00, ?it/s]"
      ]
     },
     "metadata": {},
     "output_type": "display_data"
    },
    {
     "data": {
      "application/json": {
       "ascii": false,
       "bar_format": null,
       "colour": null,
       "elapsed": 0.011255502700805664,
       "initial": 0,
       "n": 0,
       "ncols": 111,
       "nrows": 30,
       "postfix": null,
       "prefix": "Validating",
       "rate": null,
       "total": null,
       "unit": "it",
       "unit_divisor": 1000,
       "unit_scale": false
      },
      "application/vnd.jupyter.widget-view+json": {
       "model_id": "3a15edafc90448a3b47531c6e01051c6",
       "version_major": 2,
       "version_minor": 0
      },
      "text/plain": [
       "Validating: 0it [00:00, ?it/s]"
      ]
     },
     "metadata": {},
     "output_type": "display_data"
    },
    {
     "data": {
      "application/json": {
       "ascii": false,
       "bar_format": null,
       "colour": null,
       "elapsed": 0.009568214416503906,
       "initial": 0,
       "n": 0,
       "ncols": 111,
       "nrows": 30,
       "postfix": null,
       "prefix": "Validating",
       "rate": null,
       "total": null,
       "unit": "it",
       "unit_divisor": 1000,
       "unit_scale": false
      },
      "application/vnd.jupyter.widget-view+json": {
       "model_id": "634cdd89d13f48f28d1d7e709cd264b3",
       "version_major": 2,
       "version_minor": 0
      },
      "text/plain": [
       "Validating: 0it [00:00, ?it/s]"
      ]
     },
     "metadata": {},
     "output_type": "display_data"
    },
    {
     "name": "stderr",
     "output_type": "stream",
     "text": [
      "GPU available: False, used: False\n",
      "TPU available: False, using: 0 TPU cores\n",
      "\n",
      "  | Name          | Type                | Params\n",
      "------------------------------------------------------\n",
      "0 | model         | TripletArchitecture | 171 K \n",
      "1 | loss_function | TripletMarginLoss   | 0     \n",
      "------------------------------------------------------\n",
      "171 K     Trainable params\n",
      "0         Non-trainable params\n",
      "171 K     Total params\n",
      "0.685     Total estimated model params size (MB)\n"
     ]
    },
    {
     "data": {
      "application/json": {
       "ascii": false,
       "bar_format": null,
       "colour": null,
       "elapsed": 0.012933015823364258,
       "initial": 0,
       "n": 0,
       "ncols": 111,
       "nrows": 30,
       "postfix": null,
       "prefix": "Validation sanity check",
       "rate": null,
       "total": null,
       "unit": "it",
       "unit_divisor": 1000,
       "unit_scale": false
      },
      "application/vnd.jupyter.widget-view+json": {
       "model_id": "8d037c12774c475f9cb271612c577a80",
       "version_major": 2,
       "version_minor": 0
      },
      "text/plain": [
       "Validation sanity check: 0it [00:00, ?it/s]"
      ]
     },
     "metadata": {},
     "output_type": "display_data"
    },
    {
     "data": {
      "application/json": {
       "ascii": false,
       "bar_format": null,
       "colour": null,
       "elapsed": 0.009144067764282227,
       "initial": 0,
       "n": 0,
       "ncols": 111,
       "nrows": 30,
       "postfix": null,
       "prefix": "Training",
       "rate": null,
       "total": null,
       "unit": "it",
       "unit_divisor": 1000,
       "unit_scale": false
      },
      "application/vnd.jupyter.widget-view+json": {
       "model_id": "0f8edd42c8814650bb4341a57fde89bb",
       "version_major": 2,
       "version_minor": 0
      },
      "text/plain": [
       "Training: 0it [00:00, ?it/s]"
      ]
     },
     "metadata": {},
     "output_type": "display_data"
    },
    {
     "data": {
      "application/json": {
       "ascii": false,
       "bar_format": null,
       "colour": null,
       "elapsed": 0.008993387222290039,
       "initial": 0,
       "n": 0,
       "ncols": 111,
       "nrows": 30,
       "postfix": null,
       "prefix": "Validating",
       "rate": null,
       "total": null,
       "unit": "it",
       "unit_divisor": 1000,
       "unit_scale": false
      },
      "application/vnd.jupyter.widget-view+json": {
       "model_id": "183a3139a4cd44a4b9d149cd37df8657",
       "version_major": 2,
       "version_minor": 0
      },
      "text/plain": [
       "Validating: 0it [00:00, ?it/s]"
      ]
     },
     "metadata": {},
     "output_type": "display_data"
    },
    {
     "data": {
      "application/json": {
       "ascii": false,
       "bar_format": null,
       "colour": null,
       "elapsed": 0.009327411651611328,
       "initial": 0,
       "n": 0,
       "ncols": 111,
       "nrows": 30,
       "postfix": null,
       "prefix": "Validating",
       "rate": null,
       "total": null,
       "unit": "it",
       "unit_divisor": 1000,
       "unit_scale": false
      },
      "application/vnd.jupyter.widget-view+json": {
       "model_id": "86eb8383fbe5406788852f1836d7e62e",
       "version_major": 2,
       "version_minor": 0
      },
      "text/plain": [
       "Validating: 0it [00:00, ?it/s]"
      ]
     },
     "metadata": {},
     "output_type": "display_data"
    },
    {
     "name": "stderr",
     "output_type": "stream",
     "text": [
      "\u001b[32m[I 2023-11-02 17:35:53,567]\u001b[0m A new study created in memory with name: no-name-29a0b9e2-a3d5-4521-a096-177fbfa8a260\u001b[0m\n",
      "GPU available: False, used: False\n",
      "TPU available: False, using: 0 TPU cores\n",
      "\n",
      "  | Name          | Type                | Params\n",
      "------------------------------------------------------\n",
      "0 | model         | TripletArchitecture | 171 K \n",
      "1 | loss_function | TripletMarginLoss   | 0     \n",
      "------------------------------------------------------\n",
      "171 K     Trainable params\n",
      "0         Non-trainable params\n",
      "171 K     Total params\n",
      "0.685     Total estimated model params size (MB)\n"
     ]
    },
    {
     "name": "stdout",
     "output_type": "stream",
     "text": [
      "Accuracy: nan ± nan\n",
      "Precision: nan ± nan\n",
      "Recall: nan ± nan\n",
      "ROC AUC: nan ± nan\n",
      "PR AUC: nan ± nan\n",
      "--------------------------------------------------\n",
      "Eucl_Accuracy: 1.000 ± 0.000\n",
      "Eucl_Precision: 1.000 ± 0.000\n",
      "Eucl_Recall: 0.060 ± 0.020\n",
      "Eucl_ROC AUC: 0.530 ± 0.010\n",
      "Eucl_PR AUC: 1.000 ± 0.000\n",
      "--------------------------------------------------\n",
      "Cos_Accuracy: 1.000 ± 0.000\n",
      "Cos_Precision: 0.500 ± 0.000\n",
      "Cos_Recall: 1.000 ± 0.000\n",
      "Cos_ROC AUC: 0.500 ± 0.000\n",
      "Cos_PR AUC: 1.000 ± 0.000\n",
      "--------------------------------------------------\n",
      "\n",
      "all_results: ({'Accuracy': [], 'Precision': [], 'Recall': [], 'ROC AUC': [], 'PR AUC': []}, {'Eucl_Accuracy': [1.0, 1.0], 'Eucl_Precision': [1.0, 1.0], 'Eucl_Recall': [0.04, 0.08], 'Eucl_ROC AUC': [0.52, 0.54], 'Eucl_PR AUC': [1.0, 1.0]}, {'Cos_Accuracy': [1.0, 1.0], 'Cos_Precision': [0.5, 0.5], 'Cos_Recall': [1.0, 1.0], 'Cos_ROC AUC': [0.5, 0.5], 'Cos_PR AUC': [1.0, 1.0]})\n",
      "****************************************************************************************************\n",
      "model_type: triplet_reguformer_topQ_randK\n"
     ]
    },
    {
     "data": {
      "application/json": {
       "ascii": false,
       "bar_format": null,
       "colour": null,
       "elapsed": 0.00942087173461914,
       "initial": 0,
       "n": 0,
       "ncols": 111,
       "nrows": 30,
       "postfix": null,
       "prefix": "Validation sanity check",
       "rate": null,
       "total": null,
       "unit": "it",
       "unit_divisor": 1000,
       "unit_scale": false
      },
      "application/vnd.jupyter.widget-view+json": {
       "model_id": "454a3986e6224f00817432a09d44a06e",
       "version_major": 2,
       "version_minor": 0
      },
      "text/plain": [
       "Validation sanity check: 0it [00:00, ?it/s]"
      ]
     },
     "metadata": {},
     "output_type": "display_data"
    },
    {
     "data": {
      "application/json": {
       "ascii": false,
       "bar_format": null,
       "colour": null,
       "elapsed": 0.011319160461425781,
       "initial": 0,
       "n": 0,
       "ncols": 111,
       "nrows": 30,
       "postfix": null,
       "prefix": "Training",
       "rate": null,
       "total": null,
       "unit": "it",
       "unit_divisor": 1000,
       "unit_scale": false
      },
      "application/vnd.jupyter.widget-view+json": {
       "model_id": "0df6600ce68f40c7bf3bc69438afb61f",
       "version_major": 2,
       "version_minor": 0
      },
      "text/plain": [
       "Training: 0it [00:00, ?it/s]"
      ]
     },
     "metadata": {},
     "output_type": "display_data"
    },
    {
     "data": {
      "application/json": {
       "ascii": false,
       "bar_format": null,
       "colour": null,
       "elapsed": 0.009926080703735352,
       "initial": 0,
       "n": 0,
       "ncols": 111,
       "nrows": 30,
       "postfix": null,
       "prefix": "Validating",
       "rate": null,
       "total": null,
       "unit": "it",
       "unit_divisor": 1000,
       "unit_scale": false
      },
      "application/vnd.jupyter.widget-view+json": {
       "model_id": "2e95b99e55b14a8f9b1307f5fc37a65c",
       "version_major": 2,
       "version_minor": 0
      },
      "text/plain": [
       "Validating: 0it [00:00, ?it/s]"
      ]
     },
     "metadata": {},
     "output_type": "display_data"
    },
    {
     "data": {
      "application/json": {
       "ascii": false,
       "bar_format": null,
       "colour": null,
       "elapsed": 0.009037017822265625,
       "initial": 0,
       "n": 0,
       "ncols": 111,
       "nrows": 30,
       "postfix": null,
       "prefix": "Validating",
       "rate": null,
       "total": null,
       "unit": "it",
       "unit_divisor": 1000,
       "unit_scale": false
      },
      "application/vnd.jupyter.widget-view+json": {
       "model_id": "5b78c23751d1401a958f8a0ba4c86eee",
       "version_major": 2,
       "version_minor": 0
      },
      "text/plain": [
       "Validating: 0it [00:00, ?it/s]"
      ]
     },
     "metadata": {},
     "output_type": "display_data"
    },
    {
     "name": "stderr",
     "output_type": "stream",
     "text": [
      "GPU available: False, used: False\n",
      "TPU available: False, using: 0 TPU cores\n",
      "\n",
      "  | Name          | Type                | Params\n",
      "------------------------------------------------------\n",
      "0 | model         | TripletArchitecture | 171 K \n",
      "1 | loss_function | TripletMarginLoss   | 0     \n",
      "------------------------------------------------------\n",
      "171 K     Trainable params\n",
      "0         Non-trainable params\n",
      "171 K     Total params\n",
      "0.685     Total estimated model params size (MB)\n"
     ]
    },
    {
     "data": {
      "application/json": {
       "ascii": false,
       "bar_format": null,
       "colour": null,
       "elapsed": 0.014266729354858398,
       "initial": 0,
       "n": 0,
       "ncols": 111,
       "nrows": 30,
       "postfix": null,
       "prefix": "Validation sanity check",
       "rate": null,
       "total": null,
       "unit": "it",
       "unit_divisor": 1000,
       "unit_scale": false
      },
      "application/vnd.jupyter.widget-view+json": {
       "model_id": "fc6493d7eda34234837d7819ae714c7c",
       "version_major": 2,
       "version_minor": 0
      },
      "text/plain": [
       "Validation sanity check: 0it [00:00, ?it/s]"
      ]
     },
     "metadata": {},
     "output_type": "display_data"
    },
    {
     "data": {
      "application/json": {
       "ascii": false,
       "bar_format": null,
       "colour": null,
       "elapsed": 0.0107879638671875,
       "initial": 0,
       "n": 0,
       "ncols": 111,
       "nrows": 30,
       "postfix": null,
       "prefix": "Training",
       "rate": null,
       "total": null,
       "unit": "it",
       "unit_divisor": 1000,
       "unit_scale": false
      },
      "application/vnd.jupyter.widget-view+json": {
       "model_id": "2635c5bcb1a2492a8c9c318a51f52fab",
       "version_major": 2,
       "version_minor": 0
      },
      "text/plain": [
       "Training: 0it [00:00, ?it/s]"
      ]
     },
     "metadata": {},
     "output_type": "display_data"
    },
    {
     "data": {
      "application/json": {
       "ascii": false,
       "bar_format": null,
       "colour": null,
       "elapsed": 0.010608673095703125,
       "initial": 0,
       "n": 0,
       "ncols": 111,
       "nrows": 30,
       "postfix": null,
       "prefix": "Validating",
       "rate": null,
       "total": null,
       "unit": "it",
       "unit_divisor": 1000,
       "unit_scale": false
      },
      "application/vnd.jupyter.widget-view+json": {
       "model_id": "9e8bc48fa9b441bbbee9842bae573625",
       "version_major": 2,
       "version_minor": 0
      },
      "text/plain": [
       "Validating: 0it [00:00, ?it/s]"
      ]
     },
     "metadata": {},
     "output_type": "display_data"
    },
    {
     "data": {
      "application/json": {
       "ascii": false,
       "bar_format": null,
       "colour": null,
       "elapsed": 0.010473012924194336,
       "initial": 0,
       "n": 0,
       "ncols": 111,
       "nrows": 30,
       "postfix": null,
       "prefix": "Validating",
       "rate": null,
       "total": null,
       "unit": "it",
       "unit_divisor": 1000,
       "unit_scale": false
      },
      "application/vnd.jupyter.widget-view+json": {
       "model_id": "4169d1af129c40a6bc00d716dd8b5db2",
       "version_major": 2,
       "version_minor": 0
      },
      "text/plain": [
       "Validating: 0it [00:00, ?it/s]"
      ]
     },
     "metadata": {},
     "output_type": "display_data"
    },
    {
     "name": "stderr",
     "output_type": "stream",
     "text": [
      "\u001b[32m[I 2023-11-02 17:35:59,380]\u001b[0m Trial 0 finished with value: 0.5 and parameters: {'d_model': 64, 'factor': 7, 'n_heads': 2, 'dropout': 0.4019194566535972, 'd_ff': 512, 'e_layers': 2, 'sparsification_type': 'topQ_randK'}. Best is trial 0 with value: 0.5.\u001b[0m\n",
      "GPU available: False, used: False\n",
      "TPU available: False, using: 0 TPU cores\n",
      "\n",
      "  | Name          | Type                | Params\n",
      "------------------------------------------------------\n",
      "0 | model         | TripletArchitecture | 54.7 K\n",
      "1 | loss_function | TripletMarginLoss   | 0     \n",
      "------------------------------------------------------\n",
      "54.7 K    Trainable params\n",
      "0         Non-trainable params\n",
      "54.7 K    Total params\n",
      "0.219     Total estimated model params size (MB)\n"
     ]
    },
    {
     "data": {
      "application/json": {
       "ascii": false,
       "bar_format": null,
       "colour": null,
       "elapsed": 0.009181737899780273,
       "initial": 0,
       "n": 0,
       "ncols": 111,
       "nrows": 30,
       "postfix": null,
       "prefix": "Validation sanity check",
       "rate": null,
       "total": null,
       "unit": "it",
       "unit_divisor": 1000,
       "unit_scale": false
      },
      "application/vnd.jupyter.widget-view+json": {
       "model_id": "b3026ed6dd5b4b52908764df775a644e",
       "version_major": 2,
       "version_minor": 0
      },
      "text/plain": [
       "Validation sanity check: 0it [00:00, ?it/s]"
      ]
     },
     "metadata": {},
     "output_type": "display_data"
    },
    {
     "data": {
      "application/json": {
       "ascii": false,
       "bar_format": null,
       "colour": null,
       "elapsed": 0.009931564331054688,
       "initial": 0,
       "n": 0,
       "ncols": 111,
       "nrows": 30,
       "postfix": null,
       "prefix": "Training",
       "rate": null,
       "total": null,
       "unit": "it",
       "unit_divisor": 1000,
       "unit_scale": false
      },
      "application/vnd.jupyter.widget-view+json": {
       "model_id": "006b2c7c67d44d32b33c298f6e65ba40",
       "version_major": 2,
       "version_minor": 0
      },
      "text/plain": [
       "Training: 0it [00:00, ?it/s]"
      ]
     },
     "metadata": {},
     "output_type": "display_data"
    },
    {
     "data": {
      "application/json": {
       "ascii": false,
       "bar_format": null,
       "colour": null,
       "elapsed": 0.010162353515625,
       "initial": 0,
       "n": 0,
       "ncols": 111,
       "nrows": 30,
       "postfix": null,
       "prefix": "Validating",
       "rate": null,
       "total": null,
       "unit": "it",
       "unit_divisor": 1000,
       "unit_scale": false
      },
      "application/vnd.jupyter.widget-view+json": {
       "model_id": "ef3df127bdff4ac397d5fbe5ae8c69a7",
       "version_major": 2,
       "version_minor": 0
      },
      "text/plain": [
       "Validating: 0it [00:00, ?it/s]"
      ]
     },
     "metadata": {},
     "output_type": "display_data"
    },
    {
     "data": {
      "application/json": {
       "ascii": false,
       "bar_format": null,
       "colour": null,
       "elapsed": 0.009660720825195312,
       "initial": 0,
       "n": 0,
       "ncols": 111,
       "nrows": 30,
       "postfix": null,
       "prefix": "Validating",
       "rate": null,
       "total": null,
       "unit": "it",
       "unit_divisor": 1000,
       "unit_scale": false
      },
      "application/vnd.jupyter.widget-view+json": {
       "model_id": "768aebe54913400fa975c1e70a0fc48a",
       "version_major": 2,
       "version_minor": 0
      },
      "text/plain": [
       "Validating: 0it [00:00, ?it/s]"
      ]
     },
     "metadata": {},
     "output_type": "display_data"
    },
    {
     "name": "stderr",
     "output_type": "stream",
     "text": [
      "GPU available: False, used: False\n",
      "TPU available: False, using: 0 TPU cores\n",
      "\n",
      "  | Name          | Type                | Params\n",
      "------------------------------------------------------\n",
      "0 | model         | TripletArchitecture | 54.7 K\n",
      "1 | loss_function | TripletMarginLoss   | 0     \n",
      "------------------------------------------------------\n",
      "54.7 K    Trainable params\n",
      "0         Non-trainable params\n",
      "54.7 K    Total params\n",
      "0.219     Total estimated model params size (MB)\n"
     ]
    },
    {
     "data": {
      "application/json": {
       "ascii": false,
       "bar_format": null,
       "colour": null,
       "elapsed": 0.009325265884399414,
       "initial": 0,
       "n": 0,
       "ncols": 111,
       "nrows": 30,
       "postfix": null,
       "prefix": "Validation sanity check",
       "rate": null,
       "total": null,
       "unit": "it",
       "unit_divisor": 1000,
       "unit_scale": false
      },
      "application/vnd.jupyter.widget-view+json": {
       "model_id": "4652d40e511b4e14b121e0f7a055b62c",
       "version_major": 2,
       "version_minor": 0
      },
      "text/plain": [
       "Validation sanity check: 0it [00:00, ?it/s]"
      ]
     },
     "metadata": {},
     "output_type": "display_data"
    },
    {
     "data": {
      "application/json": {
       "ascii": false,
       "bar_format": null,
       "colour": null,
       "elapsed": 0.012040853500366211,
       "initial": 0,
       "n": 0,
       "ncols": 111,
       "nrows": 30,
       "postfix": null,
       "prefix": "Training",
       "rate": null,
       "total": null,
       "unit": "it",
       "unit_divisor": 1000,
       "unit_scale": false
      },
      "application/vnd.jupyter.widget-view+json": {
       "model_id": "6f991c81ede34b3e9f6e4eefd965e96d",
       "version_major": 2,
       "version_minor": 0
      },
      "text/plain": [
       "Training: 0it [00:00, ?it/s]"
      ]
     },
     "metadata": {},
     "output_type": "display_data"
    },
    {
     "data": {
      "application/json": {
       "ascii": false,
       "bar_format": null,
       "colour": null,
       "elapsed": 0.010430335998535156,
       "initial": 0,
       "n": 0,
       "ncols": 111,
       "nrows": 30,
       "postfix": null,
       "prefix": "Validating",
       "rate": null,
       "total": null,
       "unit": "it",
       "unit_divisor": 1000,
       "unit_scale": false
      },
      "application/vnd.jupyter.widget-view+json": {
       "model_id": "f160638215f342c4b4625d8b5ebfec14",
       "version_major": 2,
       "version_minor": 0
      },
      "text/plain": [
       "Validating: 0it [00:00, ?it/s]"
      ]
     },
     "metadata": {},
     "output_type": "display_data"
    },
    {
     "data": {
      "application/json": {
       "ascii": false,
       "bar_format": null,
       "colour": null,
       "elapsed": 0.010759353637695312,
       "initial": 0,
       "n": 0,
       "ncols": 111,
       "nrows": 30,
       "postfix": null,
       "prefix": "Validating",
       "rate": null,
       "total": null,
       "unit": "it",
       "unit_divisor": 1000,
       "unit_scale": false
      },
      "application/vnd.jupyter.widget-view+json": {
       "model_id": "d6a5153c47b74eb6ad9af6175be3f77a",
       "version_major": 2,
       "version_minor": 0
      },
      "text/plain": [
       "Validating: 0it [00:00, ?it/s]"
      ]
     },
     "metadata": {},
     "output_type": "display_data"
    },
    {
     "name": "stderr",
     "output_type": "stream",
     "text": [
      "\u001b[32m[I 2023-11-02 17:36:05,374]\u001b[0m Trial 1 finished with value: 0.5 and parameters: {'d_model': 16, 'factor': 3, 'n_heads': 8, 'dropout': 0.3354191079916846, 'd_ff': 512, 'e_layers': 3, 'sparsification_type': 'topQ_randK'}. Best is trial 0 with value: 0.5.\u001b[0m\n",
      "GPU available: False, used: False\n",
      "TPU available: False, using: 0 TPU cores\n",
      "\n",
      "  | Name          | Type                | Params\n",
      "------------------------------------------------------\n",
      "0 | model         | TripletArchitecture | 171 K \n",
      "1 | loss_function | TripletMarginLoss   | 0     \n",
      "------------------------------------------------------\n",
      "171 K     Trainable params\n",
      "0         Non-trainable params\n",
      "171 K     Total params\n",
      "0.685     Total estimated model params size (MB)\n"
     ]
    },
    {
     "name": "stdout",
     "output_type": "stream",
     "text": [
      "best_params: {'d_model': 64, 'factor': 7, 'n_heads': 2, 'dropout': 0.4019194566535972, 'd_ff': 512, 'e_layers': 2, 'sparsification_type': 'topQ_randK'}\n"
     ]
    },
    {
     "data": {
      "application/json": {
       "ascii": false,
       "bar_format": null,
       "colour": null,
       "elapsed": 0.009219646453857422,
       "initial": 0,
       "n": 0,
       "ncols": 111,
       "nrows": 30,
       "postfix": null,
       "prefix": "Validation sanity check",
       "rate": null,
       "total": null,
       "unit": "it",
       "unit_divisor": 1000,
       "unit_scale": false
      },
      "application/vnd.jupyter.widget-view+json": {
       "model_id": "257d1b613f7749ad883fcd3c3cd5f4fe",
       "version_major": 2,
       "version_minor": 0
      },
      "text/plain": [
       "Validation sanity check: 0it [00:00, ?it/s]"
      ]
     },
     "metadata": {},
     "output_type": "display_data"
    },
    {
     "data": {
      "application/json": {
       "ascii": false,
       "bar_format": null,
       "colour": null,
       "elapsed": 0.009591102600097656,
       "initial": 0,
       "n": 0,
       "ncols": 111,
       "nrows": 30,
       "postfix": null,
       "prefix": "Training",
       "rate": null,
       "total": null,
       "unit": "it",
       "unit_divisor": 1000,
       "unit_scale": false
      },
      "application/vnd.jupyter.widget-view+json": {
       "model_id": "ed24ef015f52414f8d8ce7f50d92be29",
       "version_major": 2,
       "version_minor": 0
      },
      "text/plain": [
       "Training: 0it [00:00, ?it/s]"
      ]
     },
     "metadata": {},
     "output_type": "display_data"
    },
    {
     "data": {
      "application/json": {
       "ascii": false,
       "bar_format": null,
       "colour": null,
       "elapsed": 0.014346837997436523,
       "initial": 0,
       "n": 0,
       "ncols": 111,
       "nrows": 30,
       "postfix": null,
       "prefix": "Validating",
       "rate": null,
       "total": null,
       "unit": "it",
       "unit_divisor": 1000,
       "unit_scale": false
      },
      "application/vnd.jupyter.widget-view+json": {
       "model_id": "07fc8435dfef4b7782ed85381b819bc4",
       "version_major": 2,
       "version_minor": 0
      },
      "text/plain": [
       "Validating: 0it [00:00, ?it/s]"
      ]
     },
     "metadata": {},
     "output_type": "display_data"
    },
    {
     "data": {
      "application/json": {
       "ascii": false,
       "bar_format": null,
       "colour": null,
       "elapsed": 0.011179685592651367,
       "initial": 0,
       "n": 0,
       "ncols": 111,
       "nrows": 30,
       "postfix": null,
       "prefix": "Validating",
       "rate": null,
       "total": null,
       "unit": "it",
       "unit_divisor": 1000,
       "unit_scale": false
      },
      "application/vnd.jupyter.widget-view+json": {
       "model_id": "b17b46cdf86b4f469194d992894dbf41",
       "version_major": 2,
       "version_minor": 0
      },
      "text/plain": [
       "Validating: 0it [00:00, ?it/s]"
      ]
     },
     "metadata": {},
     "output_type": "display_data"
    },
    {
     "name": "stderr",
     "output_type": "stream",
     "text": [
      "GPU available: False, used: False\n",
      "TPU available: False, using: 0 TPU cores\n",
      "\n",
      "  | Name          | Type                | Params\n",
      "------------------------------------------------------\n",
      "0 | model         | TripletArchitecture | 171 K \n",
      "1 | loss_function | TripletMarginLoss   | 0     \n",
      "------------------------------------------------------\n",
      "171 K     Trainable params\n",
      "0         Non-trainable params\n",
      "171 K     Total params\n",
      "0.685     Total estimated model params size (MB)\n"
     ]
    },
    {
     "data": {
      "application/json": {
       "ascii": false,
       "bar_format": null,
       "colour": null,
       "elapsed": 0.010432004928588867,
       "initial": 0,
       "n": 0,
       "ncols": 111,
       "nrows": 30,
       "postfix": null,
       "prefix": "Validation sanity check",
       "rate": null,
       "total": null,
       "unit": "it",
       "unit_divisor": 1000,
       "unit_scale": false
      },
      "application/vnd.jupyter.widget-view+json": {
       "model_id": "2dca4ede158f4907b746b8461a02d5f9",
       "version_major": 2,
       "version_minor": 0
      },
      "text/plain": [
       "Validation sanity check: 0it [00:00, ?it/s]"
      ]
     },
     "metadata": {},
     "output_type": "display_data"
    },
    {
     "data": {
      "application/json": {
       "ascii": false,
       "bar_format": null,
       "colour": null,
       "elapsed": 0.014723777770996094,
       "initial": 0,
       "n": 0,
       "ncols": 111,
       "nrows": 30,
       "postfix": null,
       "prefix": "Training",
       "rate": null,
       "total": null,
       "unit": "it",
       "unit_divisor": 1000,
       "unit_scale": false
      },
      "application/vnd.jupyter.widget-view+json": {
       "model_id": "825ff465c4034568a8bbb4d2d25c8dc6",
       "version_major": 2,
       "version_minor": 0
      },
      "text/plain": [
       "Training: 0it [00:00, ?it/s]"
      ]
     },
     "metadata": {},
     "output_type": "display_data"
    },
    {
     "data": {
      "application/json": {
       "ascii": false,
       "bar_format": null,
       "colour": null,
       "elapsed": 0.009168386459350586,
       "initial": 0,
       "n": 0,
       "ncols": 111,
       "nrows": 30,
       "postfix": null,
       "prefix": "Validating",
       "rate": null,
       "total": null,
       "unit": "it",
       "unit_divisor": 1000,
       "unit_scale": false
      },
      "application/vnd.jupyter.widget-view+json": {
       "model_id": "c7af328b7c0c4541b1bb636ef825fd2e",
       "version_major": 2,
       "version_minor": 0
      },
      "text/plain": [
       "Validating: 0it [00:00, ?it/s]"
      ]
     },
     "metadata": {},
     "output_type": "display_data"
    },
    {
     "data": {
      "application/json": {
       "ascii": false,
       "bar_format": null,
       "colour": null,
       "elapsed": 0.009796857833862305,
       "initial": 0,
       "n": 0,
       "ncols": 111,
       "nrows": 30,
       "postfix": null,
       "prefix": "Validating",
       "rate": null,
       "total": null,
       "unit": "it",
       "unit_divisor": 1000,
       "unit_scale": false
      },
      "application/vnd.jupyter.widget-view+json": {
       "model_id": "daf6a659b22340358ac460dd6b29f372",
       "version_major": 2,
       "version_minor": 0
      },
      "text/plain": [
       "Validating: 0it [00:00, ?it/s]"
      ]
     },
     "metadata": {},
     "output_type": "display_data"
    },
    {
     "name": "stderr",
     "output_type": "stream",
     "text": [
      "\u001b[32m[I 2023-11-02 17:36:11,892]\u001b[0m A new study created in memory with name: no-name-5839a146-1390-4050-80ca-0134ebb2809c\u001b[0m\n",
      "GPU available: False, used: False\n",
      "TPU available: False, using: 0 TPU cores\n",
      "\n",
      "  | Name          | Type                | Params\n",
      "------------------------------------------------------\n",
      "0 | model         | TripletArchitecture | 105 K \n",
      "1 | loss_function | TripletMarginLoss   | 0     \n",
      "------------------------------------------------------\n",
      "105 K     Trainable params\n",
      "0         Non-trainable params\n",
      "105 K     Total params\n",
      "0.422     Total estimated model params size (MB)\n"
     ]
    },
    {
     "name": "stdout",
     "output_type": "stream",
     "text": [
      "Accuracy: nan ± nan\n",
      "Precision: nan ± nan\n",
      "Recall: nan ± nan\n",
      "ROC AUC: nan ± nan\n",
      "PR AUC: nan ± nan\n",
      "--------------------------------------------------\n",
      "Eucl_Accuracy: 1.000 ± 0.000\n",
      "Eucl_Precision: nan ± nan\n",
      "Eucl_Recall: 0.000 ± 0.000\n",
      "Eucl_ROC AUC: 0.500 ± 0.000\n",
      "Eucl_PR AUC: 1.000 ± 0.000\n",
      "--------------------------------------------------\n",
      "Cos_Accuracy: 1.000 ± 0.000\n",
      "Cos_Precision: 0.500 ± 0.000\n",
      "Cos_Recall: 1.000 ± 0.000\n",
      "Cos_ROC AUC: 0.500 ± 0.000\n",
      "Cos_PR AUC: 1.000 ± 0.000\n",
      "--------------------------------------------------\n",
      "\n",
      "all_results: ({'Accuracy': [], 'Precision': [], 'Recall': [], 'ROC AUC': [], 'PR AUC': []}, {'Eucl_Accuracy': [1.0, 1.0], 'Eucl_Precision': [nan, nan], 'Eucl_Recall': [0.0, 0.0], 'Eucl_ROC AUC': [0.5, 0.5], 'Eucl_PR AUC': [1.0, 1.0]}, {'Cos_Accuracy': [1.0, 1.0], 'Cos_Precision': [0.5, 0.5], 'Cos_Recall': [1.0, 1.0], 'Cos_ROC AUC': [0.5, 0.5], 'Cos_PR AUC': [1.0, 1.0]})\n",
      "****************************************************************************************************\n",
      "model_type: triplet_reguformer_randQ_topK\n"
     ]
    },
    {
     "data": {
      "application/json": {
       "ascii": false,
       "bar_format": null,
       "colour": null,
       "elapsed": 0.009451627731323242,
       "initial": 0,
       "n": 0,
       "ncols": 111,
       "nrows": 30,
       "postfix": null,
       "prefix": "Validation sanity check",
       "rate": null,
       "total": null,
       "unit": "it",
       "unit_divisor": 1000,
       "unit_scale": false
      },
      "application/vnd.jupyter.widget-view+json": {
       "model_id": "02e399ff1c9f42f88d6341d86f58a3f3",
       "version_major": 2,
       "version_minor": 0
      },
      "text/plain": [
       "Validation sanity check: 0it [00:00, ?it/s]"
      ]
     },
     "metadata": {},
     "output_type": "display_data"
    },
    {
     "data": {
      "application/json": {
       "ascii": false,
       "bar_format": null,
       "colour": null,
       "elapsed": 0.010976791381835938,
       "initial": 0,
       "n": 0,
       "ncols": 111,
       "nrows": 30,
       "postfix": null,
       "prefix": "Training",
       "rate": null,
       "total": null,
       "unit": "it",
       "unit_divisor": 1000,
       "unit_scale": false
      },
      "application/vnd.jupyter.widget-view+json": {
       "model_id": "17f98c6452bb4ee88464f61d5b6b47d7",
       "version_major": 2,
       "version_minor": 0
      },
      "text/plain": [
       "Training: 0it [00:00, ?it/s]"
      ]
     },
     "metadata": {},
     "output_type": "display_data"
    },
    {
     "data": {
      "application/json": {
       "ascii": false,
       "bar_format": null,
       "colour": null,
       "elapsed": 0.016216039657592773,
       "initial": 0,
       "n": 0,
       "ncols": 111,
       "nrows": 30,
       "postfix": null,
       "prefix": "Validating",
       "rate": null,
       "total": null,
       "unit": "it",
       "unit_divisor": 1000,
       "unit_scale": false
      },
      "application/vnd.jupyter.widget-view+json": {
       "model_id": "f81b3bb6ff724a04959643f5f4e809e9",
       "version_major": 2,
       "version_minor": 0
      },
      "text/plain": [
       "Validating: 0it [00:00, ?it/s]"
      ]
     },
     "metadata": {},
     "output_type": "display_data"
    },
    {
     "data": {
      "application/json": {
       "ascii": false,
       "bar_format": null,
       "colour": null,
       "elapsed": 0.010811090469360352,
       "initial": 0,
       "n": 0,
       "ncols": 111,
       "nrows": 30,
       "postfix": null,
       "prefix": "Validating",
       "rate": null,
       "total": null,
       "unit": "it",
       "unit_divisor": 1000,
       "unit_scale": false
      },
      "application/vnd.jupyter.widget-view+json": {
       "model_id": "c0f4fce3c75347da9ae3746fcd9a0863",
       "version_major": 2,
       "version_minor": 0
      },
      "text/plain": [
       "Validating: 0it [00:00, ?it/s]"
      ]
     },
     "metadata": {},
     "output_type": "display_data"
    },
    {
     "name": "stderr",
     "output_type": "stream",
     "text": [
      "GPU available: False, used: False\n",
      "TPU available: False, using: 0 TPU cores\n",
      "\n",
      "  | Name          | Type                | Params\n",
      "------------------------------------------------------\n",
      "0 | model         | TripletArchitecture | 105 K \n",
      "1 | loss_function | TripletMarginLoss   | 0     \n",
      "------------------------------------------------------\n",
      "105 K     Trainable params\n",
      "0         Non-trainable params\n",
      "105 K     Total params\n",
      "0.422     Total estimated model params size (MB)\n"
     ]
    },
    {
     "data": {
      "application/json": {
       "ascii": false,
       "bar_format": null,
       "colour": null,
       "elapsed": 0.010794639587402344,
       "initial": 0,
       "n": 0,
       "ncols": 111,
       "nrows": 30,
       "postfix": null,
       "prefix": "Validation sanity check",
       "rate": null,
       "total": null,
       "unit": "it",
       "unit_divisor": 1000,
       "unit_scale": false
      },
      "application/vnd.jupyter.widget-view+json": {
       "model_id": "7226ef36a9474a4995b4b4ae243c29ff",
       "version_major": 2,
       "version_minor": 0
      },
      "text/plain": [
       "Validation sanity check: 0it [00:00, ?it/s]"
      ]
     },
     "metadata": {},
     "output_type": "display_data"
    },
    {
     "data": {
      "application/json": {
       "ascii": false,
       "bar_format": null,
       "colour": null,
       "elapsed": 0.010166168212890625,
       "initial": 0,
       "n": 0,
       "ncols": 111,
       "nrows": 30,
       "postfix": null,
       "prefix": "Training",
       "rate": null,
       "total": null,
       "unit": "it",
       "unit_divisor": 1000,
       "unit_scale": false
      },
      "application/vnd.jupyter.widget-view+json": {
       "model_id": "7c1aa476d4284add8d63b3b3f29197b5",
       "version_major": 2,
       "version_minor": 0
      },
      "text/plain": [
       "Training: 0it [00:00, ?it/s]"
      ]
     },
     "metadata": {},
     "output_type": "display_data"
    },
    {
     "data": {
      "application/json": {
       "ascii": false,
       "bar_format": null,
       "colour": null,
       "elapsed": 0.009774208068847656,
       "initial": 0,
       "n": 0,
       "ncols": 111,
       "nrows": 30,
       "postfix": null,
       "prefix": "Validating",
       "rate": null,
       "total": null,
       "unit": "it",
       "unit_divisor": 1000,
       "unit_scale": false
      },
      "application/vnd.jupyter.widget-view+json": {
       "model_id": "a11c3439c9dd46eaad4661f10d5d2125",
       "version_major": 2,
       "version_minor": 0
      },
      "text/plain": [
       "Validating: 0it [00:00, ?it/s]"
      ]
     },
     "metadata": {},
     "output_type": "display_data"
    },
    {
     "data": {
      "application/json": {
       "ascii": false,
       "bar_format": null,
       "colour": null,
       "elapsed": 0.009103059768676758,
       "initial": 0,
       "n": 0,
       "ncols": 111,
       "nrows": 30,
       "postfix": null,
       "prefix": "Validating",
       "rate": null,
       "total": null,
       "unit": "it",
       "unit_divisor": 1000,
       "unit_scale": false
      },
      "application/vnd.jupyter.widget-view+json": {
       "model_id": "36c1561643cb4bfe84cd0b3c79499811",
       "version_major": 2,
       "version_minor": 0
      },
      "text/plain": [
       "Validating: 0it [00:00, ?it/s]"
      ]
     },
     "metadata": {},
     "output_type": "display_data"
    },
    {
     "name": "stderr",
     "output_type": "stream",
     "text": [
      "\u001b[32m[I 2023-11-02 17:36:17,281]\u001b[0m Trial 0 finished with value: 0.5 and parameters: {'d_model': 64, 'factor': 3, 'n_heads': 8, 'dropout': 0.14881952926673755, 'd_ff': 128, 'e_layers': 3, 'sparsification_type': 'randQ_topK'}. Best is trial 0 with value: 0.5.\u001b[0m\n",
      "GPU available: False, used: False\n",
      "TPU available: False, using: 0 TPU cores\n",
      "\n",
      "  | Name          | Type                | Params\n",
      "------------------------------------------------------\n",
      "0 | model         | TripletArchitecture | 414 K \n",
      "1 | loss_function | TripletMarginLoss   | 0     \n",
      "------------------------------------------------------\n",
      "414 K     Trainable params\n",
      "0         Non-trainable params\n",
      "414 K     Total params\n",
      "1.660     Total estimated model params size (MB)\n"
     ]
    },
    {
     "data": {
      "application/json": {
       "ascii": false,
       "bar_format": null,
       "colour": null,
       "elapsed": 0.012744903564453125,
       "initial": 0,
       "n": 0,
       "ncols": 111,
       "nrows": 30,
       "postfix": null,
       "prefix": "Validation sanity check",
       "rate": null,
       "total": null,
       "unit": "it",
       "unit_divisor": 1000,
       "unit_scale": false
      },
      "application/vnd.jupyter.widget-view+json": {
       "model_id": "162cee3e1d1f4052bc24c011ff5d705d",
       "version_major": 2,
       "version_minor": 0
      },
      "text/plain": [
       "Validation sanity check: 0it [00:00, ?it/s]"
      ]
     },
     "metadata": {},
     "output_type": "display_data"
    },
    {
     "data": {
      "application/json": {
       "ascii": false,
       "bar_format": null,
       "colour": null,
       "elapsed": 0.01031637191772461,
       "initial": 0,
       "n": 0,
       "ncols": 111,
       "nrows": 30,
       "postfix": null,
       "prefix": "Training",
       "rate": null,
       "total": null,
       "unit": "it",
       "unit_divisor": 1000,
       "unit_scale": false
      },
      "application/vnd.jupyter.widget-view+json": {
       "model_id": "fd8558c75fcf4a36a064308df2b2536c",
       "version_major": 2,
       "version_minor": 0
      },
      "text/plain": [
       "Training: 0it [00:00, ?it/s]"
      ]
     },
     "metadata": {},
     "output_type": "display_data"
    },
    {
     "data": {
      "application/json": {
       "ascii": false,
       "bar_format": null,
       "colour": null,
       "elapsed": 0.011975765228271484,
       "initial": 0,
       "n": 0,
       "ncols": 111,
       "nrows": 30,
       "postfix": null,
       "prefix": "Validating",
       "rate": null,
       "total": null,
       "unit": "it",
       "unit_divisor": 1000,
       "unit_scale": false
      },
      "application/vnd.jupyter.widget-view+json": {
       "model_id": "4c5507459a3f43539a42ed967c2e1b5c",
       "version_major": 2,
       "version_minor": 0
      },
      "text/plain": [
       "Validating: 0it [00:00, ?it/s]"
      ]
     },
     "metadata": {},
     "output_type": "display_data"
    },
    {
     "data": {
      "application/json": {
       "ascii": false,
       "bar_format": null,
       "colour": null,
       "elapsed": 0.009084463119506836,
       "initial": 0,
       "n": 0,
       "ncols": 111,
       "nrows": 30,
       "postfix": null,
       "prefix": "Validating",
       "rate": null,
       "total": null,
       "unit": "it",
       "unit_divisor": 1000,
       "unit_scale": false
      },
      "application/vnd.jupyter.widget-view+json": {
       "model_id": "1b4923b5cb3644689a7b97c3e70a10d4",
       "version_major": 2,
       "version_minor": 0
      },
      "text/plain": [
       "Validating: 0it [00:00, ?it/s]"
      ]
     },
     "metadata": {},
     "output_type": "display_data"
    },
    {
     "name": "stderr",
     "output_type": "stream",
     "text": [
      "GPU available: False, used: False\n",
      "TPU available: False, using: 0 TPU cores\n",
      "\n",
      "  | Name          | Type                | Params\n",
      "------------------------------------------------------\n",
      "0 | model         | TripletArchitecture | 414 K \n",
      "1 | loss_function | TripletMarginLoss   | 0     \n",
      "------------------------------------------------------\n",
      "414 K     Trainable params\n",
      "0         Non-trainable params\n",
      "414 K     Total params\n",
      "1.660     Total estimated model params size (MB)\n"
     ]
    },
    {
     "data": {
      "application/json": {
       "ascii": false,
       "bar_format": null,
       "colour": null,
       "elapsed": 0.009988546371459961,
       "initial": 0,
       "n": 0,
       "ncols": 111,
       "nrows": 30,
       "postfix": null,
       "prefix": "Validation sanity check",
       "rate": null,
       "total": null,
       "unit": "it",
       "unit_divisor": 1000,
       "unit_scale": false
      },
      "application/vnd.jupyter.widget-view+json": {
       "model_id": "02ff9ca5942047f7bd4a39baefaebf0a",
       "version_major": 2,
       "version_minor": 0
      },
      "text/plain": [
       "Validation sanity check: 0it [00:00, ?it/s]"
      ]
     },
     "metadata": {},
     "output_type": "display_data"
    },
    {
     "data": {
      "application/json": {
       "ascii": false,
       "bar_format": null,
       "colour": null,
       "elapsed": 0.010033607482910156,
       "initial": 0,
       "n": 0,
       "ncols": 111,
       "nrows": 30,
       "postfix": null,
       "prefix": "Training",
       "rate": null,
       "total": null,
       "unit": "it",
       "unit_divisor": 1000,
       "unit_scale": false
      },
      "application/vnd.jupyter.widget-view+json": {
       "model_id": "499fbba343b8499183c8c9f65c711a1b",
       "version_major": 2,
       "version_minor": 0
      },
      "text/plain": [
       "Training: 0it [00:00, ?it/s]"
      ]
     },
     "metadata": {},
     "output_type": "display_data"
    },
    {
     "data": {
      "application/json": {
       "ascii": false,
       "bar_format": null,
       "colour": null,
       "elapsed": 0.00960850715637207,
       "initial": 0,
       "n": 0,
       "ncols": 111,
       "nrows": 30,
       "postfix": null,
       "prefix": "Validating",
       "rate": null,
       "total": null,
       "unit": "it",
       "unit_divisor": 1000,
       "unit_scale": false
      },
      "application/vnd.jupyter.widget-view+json": {
       "model_id": "c272e6497192478f89815ce98564d87c",
       "version_major": 2,
       "version_minor": 0
      },
      "text/plain": [
       "Validating: 0it [00:00, ?it/s]"
      ]
     },
     "metadata": {},
     "output_type": "display_data"
    },
    {
     "data": {
      "application/json": {
       "ascii": false,
       "bar_format": null,
       "colour": null,
       "elapsed": 0.010038137435913086,
       "initial": 0,
       "n": 0,
       "ncols": 111,
       "nrows": 30,
       "postfix": null,
       "prefix": "Validating",
       "rate": null,
       "total": null,
       "unit": "it",
       "unit_divisor": 1000,
       "unit_scale": false
      },
      "application/vnd.jupyter.widget-view+json": {
       "model_id": "af0fc53a36364444a851f2e29bd63e75",
       "version_major": 2,
       "version_minor": 0
      },
      "text/plain": [
       "Validating: 0it [00:00, ?it/s]"
      ]
     },
     "metadata": {},
     "output_type": "display_data"
    },
    {
     "name": "stderr",
     "output_type": "stream",
     "text": [
      "\u001b[32m[I 2023-11-02 17:36:26,432]\u001b[0m Trial 1 finished with value: 0.5 and parameters: {'d_model': 64, 'factor': 9, 'n_heads': 6, 'dropout': 0.3419733149425469, 'd_ff': 512, 'e_layers': 5, 'sparsification_type': 'randQ_topK'}. Best is trial 0 with value: 0.5.\u001b[0m\n",
      "GPU available: False, used: False\n",
      "TPU available: False, using: 0 TPU cores\n",
      "\n",
      "  | Name          | Type                | Params\n",
      "------------------------------------------------------\n",
      "0 | model         | TripletArchitecture | 105 K \n",
      "1 | loss_function | TripletMarginLoss   | 0     \n",
      "------------------------------------------------------\n",
      "105 K     Trainable params\n",
      "0         Non-trainable params\n",
      "105 K     Total params\n",
      "0.422     Total estimated model params size (MB)\n"
     ]
    },
    {
     "name": "stdout",
     "output_type": "stream",
     "text": [
      "best_params: {'d_model': 64, 'factor': 3, 'n_heads': 8, 'dropout': 0.14881952926673755, 'd_ff': 128, 'e_layers': 3, 'sparsification_type': 'randQ_topK'}\n"
     ]
    },
    {
     "data": {
      "application/json": {
       "ascii": false,
       "bar_format": null,
       "colour": null,
       "elapsed": 0.009141683578491211,
       "initial": 0,
       "n": 0,
       "ncols": 111,
       "nrows": 30,
       "postfix": null,
       "prefix": "Validation sanity check",
       "rate": null,
       "total": null,
       "unit": "it",
       "unit_divisor": 1000,
       "unit_scale": false
      },
      "application/vnd.jupyter.widget-view+json": {
       "model_id": "31c1c375b93a44b3afe9fb5090fd45a6",
       "version_major": 2,
       "version_minor": 0
      },
      "text/plain": [
       "Validation sanity check: 0it [00:00, ?it/s]"
      ]
     },
     "metadata": {},
     "output_type": "display_data"
    },
    {
     "data": {
      "application/json": {
       "ascii": false,
       "bar_format": null,
       "colour": null,
       "elapsed": 0.010177850723266602,
       "initial": 0,
       "n": 0,
       "ncols": 111,
       "nrows": 30,
       "postfix": null,
       "prefix": "Training",
       "rate": null,
       "total": null,
       "unit": "it",
       "unit_divisor": 1000,
       "unit_scale": false
      },
      "application/vnd.jupyter.widget-view+json": {
       "model_id": "e3d4224068ee4ebf9765594934070f24",
       "version_major": 2,
       "version_minor": 0
      },
      "text/plain": [
       "Training: 0it [00:00, ?it/s]"
      ]
     },
     "metadata": {},
     "output_type": "display_data"
    },
    {
     "data": {
      "application/json": {
       "ascii": false,
       "bar_format": null,
       "colour": null,
       "elapsed": 0.009943008422851562,
       "initial": 0,
       "n": 0,
       "ncols": 111,
       "nrows": 30,
       "postfix": null,
       "prefix": "Validating",
       "rate": null,
       "total": null,
       "unit": "it",
       "unit_divisor": 1000,
       "unit_scale": false
      },
      "application/vnd.jupyter.widget-view+json": {
       "model_id": "e6c00fcc8c8449c7be059014575586f5",
       "version_major": 2,
       "version_minor": 0
      },
      "text/plain": [
       "Validating: 0it [00:00, ?it/s]"
      ]
     },
     "metadata": {},
     "output_type": "display_data"
    },
    {
     "data": {
      "application/json": {
       "ascii": false,
       "bar_format": null,
       "colour": null,
       "elapsed": 0.010120153427124023,
       "initial": 0,
       "n": 0,
       "ncols": 111,
       "nrows": 30,
       "postfix": null,
       "prefix": "Validating",
       "rate": null,
       "total": null,
       "unit": "it",
       "unit_divisor": 1000,
       "unit_scale": false
      },
      "application/vnd.jupyter.widget-view+json": {
       "model_id": "e575c0345677412489294bcb675b193d",
       "version_major": 2,
       "version_minor": 0
      },
      "text/plain": [
       "Validating: 0it [00:00, ?it/s]"
      ]
     },
     "metadata": {},
     "output_type": "display_data"
    },
    {
     "name": "stderr",
     "output_type": "stream",
     "text": [
      "GPU available: False, used: False\n",
      "TPU available: False, using: 0 TPU cores\n",
      "\n",
      "  | Name          | Type                | Params\n",
      "------------------------------------------------------\n",
      "0 | model         | TripletArchitecture | 105 K \n",
      "1 | loss_function | TripletMarginLoss   | 0     \n",
      "------------------------------------------------------\n",
      "105 K     Trainable params\n",
      "0         Non-trainable params\n",
      "105 K     Total params\n",
      "0.422     Total estimated model params size (MB)\n"
     ]
    },
    {
     "data": {
      "application/json": {
       "ascii": false,
       "bar_format": null,
       "colour": null,
       "elapsed": 0.008906841278076172,
       "initial": 0,
       "n": 0,
       "ncols": 111,
       "nrows": 30,
       "postfix": null,
       "prefix": "Validation sanity check",
       "rate": null,
       "total": null,
       "unit": "it",
       "unit_divisor": 1000,
       "unit_scale": false
      },
      "application/vnd.jupyter.widget-view+json": {
       "model_id": "20b49576a4f049bcb4622ca7470e3263",
       "version_major": 2,
       "version_minor": 0
      },
      "text/plain": [
       "Validation sanity check: 0it [00:00, ?it/s]"
      ]
     },
     "metadata": {},
     "output_type": "display_data"
    },
    {
     "data": {
      "application/json": {
       "ascii": false,
       "bar_format": null,
       "colour": null,
       "elapsed": 0.010689020156860352,
       "initial": 0,
       "n": 0,
       "ncols": 111,
       "nrows": 30,
       "postfix": null,
       "prefix": "Training",
       "rate": null,
       "total": null,
       "unit": "it",
       "unit_divisor": 1000,
       "unit_scale": false
      },
      "application/vnd.jupyter.widget-view+json": {
       "model_id": "1e9d745eacc84ab8ba7563aa9509a0a1",
       "version_major": 2,
       "version_minor": 0
      },
      "text/plain": [
       "Training: 0it [00:00, ?it/s]"
      ]
     },
     "metadata": {},
     "output_type": "display_data"
    },
    {
     "data": {
      "application/json": {
       "ascii": false,
       "bar_format": null,
       "colour": null,
       "elapsed": 0.009517669677734375,
       "initial": 0,
       "n": 0,
       "ncols": 111,
       "nrows": 30,
       "postfix": null,
       "prefix": "Validating",
       "rate": null,
       "total": null,
       "unit": "it",
       "unit_divisor": 1000,
       "unit_scale": false
      },
      "application/vnd.jupyter.widget-view+json": {
       "model_id": "cd5263083f2548f8a08baad64825ed66",
       "version_major": 2,
       "version_minor": 0
      },
      "text/plain": [
       "Validating: 0it [00:00, ?it/s]"
      ]
     },
     "metadata": {},
     "output_type": "display_data"
    },
    {
     "data": {
      "application/json": {
       "ascii": false,
       "bar_format": null,
       "colour": null,
       "elapsed": 0.011012554168701172,
       "initial": 0,
       "n": 0,
       "ncols": 111,
       "nrows": 30,
       "postfix": null,
       "prefix": "Validating",
       "rate": null,
       "total": null,
       "unit": "it",
       "unit_divisor": 1000,
       "unit_scale": false
      },
      "application/vnd.jupyter.widget-view+json": {
       "model_id": "aa69be06396642b8b7f0f4291720975b",
       "version_major": 2,
       "version_minor": 0
      },
      "text/plain": [
       "Validating: 0it [00:00, ?it/s]"
      ]
     },
     "metadata": {},
     "output_type": "display_data"
    },
    {
     "name": "stderr",
     "output_type": "stream",
     "text": [
      "\u001b[32m[I 2023-11-02 17:36:32,615]\u001b[0m A new study created in memory with name: no-name-2bb245cf-89a3-49bd-9eb6-117a43a9c0a4\u001b[0m\n",
      "GPU available: False, used: False\n",
      "TPU available: False, using: 0 TPU cores\n",
      "\n",
      "  | Name          | Type                | Params\n",
      "------------------------------------------------------\n",
      "0 | model         | TripletArchitecture | 899 K \n",
      "1 | loss_function | TripletMarginLoss   | 0     \n",
      "------------------------------------------------------\n",
      "899 K     Trainable params\n",
      "0         Non-trainable params\n",
      "899 K     Total params\n",
      "3.598     Total estimated model params size (MB)\n"
     ]
    },
    {
     "name": "stdout",
     "output_type": "stream",
     "text": [
      "Accuracy: nan ± nan\n",
      "Precision: nan ± nan\n",
      "Recall: nan ± nan\n",
      "ROC AUC: nan ± nan\n",
      "PR AUC: nan ± nan\n",
      "--------------------------------------------------\n",
      "Eucl_Accuracy: 1.000 ± 0.000\n",
      "Eucl_Precision: nan ± nan\n",
      "Eucl_Recall: 0.000 ± 0.000\n",
      "Eucl_ROC AUC: 0.500 ± 0.000\n",
      "Eucl_PR AUC: 1.000 ± 0.000\n",
      "--------------------------------------------------\n",
      "Cos_Accuracy: 1.000 ± 0.000\n",
      "Cos_Precision: 0.500 ± 0.000\n",
      "Cos_Recall: 1.000 ± 0.000\n",
      "Cos_ROC AUC: 0.500 ± 0.000\n",
      "Cos_PR AUC: 1.000 ± 0.000\n",
      "--------------------------------------------------\n",
      "\n",
      "all_results: ({'Accuracy': [], 'Precision': [], 'Recall': [], 'ROC AUC': [], 'PR AUC': []}, {'Eucl_Accuracy': [1.0, 1.0], 'Eucl_Precision': [nan, nan], 'Eucl_Recall': [0.0, 0.0], 'Eucl_ROC AUC': [0.5, 0.5], 'Eucl_PR AUC': [1.0, 1.0]}, {'Cos_Accuracy': [1.0, 1.0], 'Cos_Precision': [0.5, 0.5], 'Cos_Recall': [1.0, 1.0], 'Cos_ROC AUC': [0.5, 0.5], 'Cos_PR AUC': [1.0, 1.0]})\n",
      "****************************************************************************************************\n",
      "model_type: triplet_reguformer_randQ_randK\n"
     ]
    },
    {
     "data": {
      "application/json": {
       "ascii": false,
       "bar_format": null,
       "colour": null,
       "elapsed": 0.009041070938110352,
       "initial": 0,
       "n": 0,
       "ncols": 111,
       "nrows": 30,
       "postfix": null,
       "prefix": "Validation sanity check",
       "rate": null,
       "total": null,
       "unit": "it",
       "unit_divisor": 1000,
       "unit_scale": false
      },
      "application/vnd.jupyter.widget-view+json": {
       "model_id": "224a85594e0f4fe6b06519e6b6138a71",
       "version_major": 2,
       "version_minor": 0
      },
      "text/plain": [
       "Validation sanity check: 0it [00:00, ?it/s]"
      ]
     },
     "metadata": {},
     "output_type": "display_data"
    },
    {
     "data": {
      "application/json": {
       "ascii": false,
       "bar_format": null,
       "colour": null,
       "elapsed": 0.010117053985595703,
       "initial": 0,
       "n": 0,
       "ncols": 111,
       "nrows": 30,
       "postfix": null,
       "prefix": "Training",
       "rate": null,
       "total": null,
       "unit": "it",
       "unit_divisor": 1000,
       "unit_scale": false
      },
      "application/vnd.jupyter.widget-view+json": {
       "model_id": "e3842b07c0c14dbba1d1e4629dafd13c",
       "version_major": 2,
       "version_minor": 0
      },
      "text/plain": [
       "Training: 0it [00:00, ?it/s]"
      ]
     },
     "metadata": {},
     "output_type": "display_data"
    },
    {
     "data": {
      "application/json": {
       "ascii": false,
       "bar_format": null,
       "colour": null,
       "elapsed": 0.010044336318969727,
       "initial": 0,
       "n": 0,
       "ncols": 111,
       "nrows": 30,
       "postfix": null,
       "prefix": "Validating",
       "rate": null,
       "total": null,
       "unit": "it",
       "unit_divisor": 1000,
       "unit_scale": false
      },
      "application/vnd.jupyter.widget-view+json": {
       "model_id": "804916387baf451ea9c188f9d8628fca",
       "version_major": 2,
       "version_minor": 0
      },
      "text/plain": [
       "Validating: 0it [00:00, ?it/s]"
      ]
     },
     "metadata": {},
     "output_type": "display_data"
    },
    {
     "data": {
      "application/json": {
       "ascii": false,
       "bar_format": null,
       "colour": null,
       "elapsed": 0.010718584060668945,
       "initial": 0,
       "n": 0,
       "ncols": 111,
       "nrows": 30,
       "postfix": null,
       "prefix": "Validating",
       "rate": null,
       "total": null,
       "unit": "it",
       "unit_divisor": 1000,
       "unit_scale": false
      },
      "application/vnd.jupyter.widget-view+json": {
       "model_id": "5b1451c004794b79b4eaa93767c11fe5",
       "version_major": 2,
       "version_minor": 0
      },
      "text/plain": [
       "Validating: 0it [00:00, ?it/s]"
      ]
     },
     "metadata": {},
     "output_type": "display_data"
    },
    {
     "name": "stderr",
     "output_type": "stream",
     "text": [
      "GPU available: False, used: False\n",
      "TPU available: False, using: 0 TPU cores\n",
      "\n",
      "  | Name          | Type                | Params\n",
      "------------------------------------------------------\n",
      "0 | model         | TripletArchitecture | 899 K \n",
      "1 | loss_function | TripletMarginLoss   | 0     \n",
      "------------------------------------------------------\n",
      "899 K     Trainable params\n",
      "0         Non-trainable params\n",
      "899 K     Total params\n",
      "3.598     Total estimated model params size (MB)\n"
     ]
    },
    {
     "data": {
      "application/json": {
       "ascii": false,
       "bar_format": null,
       "colour": null,
       "elapsed": 0.008636951446533203,
       "initial": 0,
       "n": 0,
       "ncols": 111,
       "nrows": 30,
       "postfix": null,
       "prefix": "Validation sanity check",
       "rate": null,
       "total": null,
       "unit": "it",
       "unit_divisor": 1000,
       "unit_scale": false
      },
      "application/vnd.jupyter.widget-view+json": {
       "model_id": "844b838764ca43e5b3fe2df14aecec47",
       "version_major": 2,
       "version_minor": 0
      },
      "text/plain": [
       "Validation sanity check: 0it [00:00, ?it/s]"
      ]
     },
     "metadata": {},
     "output_type": "display_data"
    },
    {
     "data": {
      "application/json": {
       "ascii": false,
       "bar_format": null,
       "colour": null,
       "elapsed": 0.01252436637878418,
       "initial": 0,
       "n": 0,
       "ncols": 111,
       "nrows": 30,
       "postfix": null,
       "prefix": "Training",
       "rate": null,
       "total": null,
       "unit": "it",
       "unit_divisor": 1000,
       "unit_scale": false
      },
      "application/vnd.jupyter.widget-view+json": {
       "model_id": "7d8720d7c24644d2b603c380764f07aa",
       "version_major": 2,
       "version_minor": 0
      },
      "text/plain": [
       "Training: 0it [00:00, ?it/s]"
      ]
     },
     "metadata": {},
     "output_type": "display_data"
    },
    {
     "data": {
      "application/json": {
       "ascii": false,
       "bar_format": null,
       "colour": null,
       "elapsed": 0.009065628051757812,
       "initial": 0,
       "n": 0,
       "ncols": 111,
       "nrows": 30,
       "postfix": null,
       "prefix": "Validating",
       "rate": null,
       "total": null,
       "unit": "it",
       "unit_divisor": 1000,
       "unit_scale": false
      },
      "application/vnd.jupyter.widget-view+json": {
       "model_id": "0b1c1c6b19404c68acce6d8b22149503",
       "version_major": 2,
       "version_minor": 0
      },
      "text/plain": [
       "Validating: 0it [00:00, ?it/s]"
      ]
     },
     "metadata": {},
     "output_type": "display_data"
    },
    {
     "data": {
      "application/json": {
       "ascii": false,
       "bar_format": null,
       "colour": null,
       "elapsed": 0.010356903076171875,
       "initial": 0,
       "n": 0,
       "ncols": 111,
       "nrows": 30,
       "postfix": null,
       "prefix": "Validating",
       "rate": null,
       "total": null,
       "unit": "it",
       "unit_divisor": 1000,
       "unit_scale": false
      },
      "application/vnd.jupyter.widget-view+json": {
       "model_id": "317d805006a644aa9edba48695af311e",
       "version_major": 2,
       "version_minor": 0
      },
      "text/plain": [
       "Validating: 0it [00:00, ?it/s]"
      ]
     },
     "metadata": {},
     "output_type": "display_data"
    },
    {
     "name": "stderr",
     "output_type": "stream",
     "text": [
      "\u001b[32m[I 2023-11-02 17:36:42,734]\u001b[0m Trial 0 finished with value: 0.5 and parameters: {'d_model': 64, 'factor': 7, 'n_heads': 2, 'dropout': 0.20716743215903244, 'd_ff': 1024, 'e_layers': 6, 'sparsification_type': 'randQ_randK'}. Best is trial 0 with value: 0.5.\u001b[0m\n",
      "GPU available: False, used: False\n",
      "TPU available: False, using: 0 TPU cores\n",
      "\n",
      "  | Name          | Type                | Params\n",
      "------------------------------------------------------\n",
      "0 | model         | TripletArchitecture | 210 K \n",
      "1 | loss_function | TripletMarginLoss   | 0     \n",
      "------------------------------------------------------\n",
      "210 K     Trainable params\n",
      "0         Non-trainable params\n",
      "210 K     Total params\n",
      "0.841     Total estimated model params size (MB)\n"
     ]
    },
    {
     "data": {
      "application/json": {
       "ascii": false,
       "bar_format": null,
       "colour": null,
       "elapsed": 0.009816408157348633,
       "initial": 0,
       "n": 0,
       "ncols": 111,
       "nrows": 30,
       "postfix": null,
       "prefix": "Validation sanity check",
       "rate": null,
       "total": null,
       "unit": "it",
       "unit_divisor": 1000,
       "unit_scale": false
      },
      "application/vnd.jupyter.widget-view+json": {
       "model_id": "63e06f2db04c41468dc976bd0043c867",
       "version_major": 2,
       "version_minor": 0
      },
      "text/plain": [
       "Validation sanity check: 0it [00:00, ?it/s]"
      ]
     },
     "metadata": {},
     "output_type": "display_data"
    },
    {
     "data": {
      "application/json": {
       "ascii": false,
       "bar_format": null,
       "colour": null,
       "elapsed": 0.013894319534301758,
       "initial": 0,
       "n": 0,
       "ncols": 111,
       "nrows": 30,
       "postfix": null,
       "prefix": "Training",
       "rate": null,
       "total": null,
       "unit": "it",
       "unit_divisor": 1000,
       "unit_scale": false
      },
      "application/vnd.jupyter.widget-view+json": {
       "model_id": "e8e6eedbea0d4623af614ca7c48d9974",
       "version_major": 2,
       "version_minor": 0
      },
      "text/plain": [
       "Training: 0it [00:00, ?it/s]"
      ]
     },
     "metadata": {},
     "output_type": "display_data"
    },
    {
     "data": {
      "application/json": {
       "ascii": false,
       "bar_format": null,
       "colour": null,
       "elapsed": 0.008647918701171875,
       "initial": 0,
       "n": 0,
       "ncols": 111,
       "nrows": 30,
       "postfix": null,
       "prefix": "Validating",
       "rate": null,
       "total": null,
       "unit": "it",
       "unit_divisor": 1000,
       "unit_scale": false
      },
      "application/vnd.jupyter.widget-view+json": {
       "model_id": "728a9888b044466daf5f93662350aa60",
       "version_major": 2,
       "version_minor": 0
      },
      "text/plain": [
       "Validating: 0it [00:00, ?it/s]"
      ]
     },
     "metadata": {},
     "output_type": "display_data"
    },
    {
     "data": {
      "application/json": {
       "ascii": false,
       "bar_format": null,
       "colour": null,
       "elapsed": 0.00871729850769043,
       "initial": 0,
       "n": 0,
       "ncols": 111,
       "nrows": 30,
       "postfix": null,
       "prefix": "Validating",
       "rate": null,
       "total": null,
       "unit": "it",
       "unit_divisor": 1000,
       "unit_scale": false
      },
      "application/vnd.jupyter.widget-view+json": {
       "model_id": "ac6f8188a0ea4eeaaa407562a588f576",
       "version_major": 2,
       "version_minor": 0
      },
      "text/plain": [
       "Validating: 0it [00:00, ?it/s]"
      ]
     },
     "metadata": {},
     "output_type": "display_data"
    },
    {
     "name": "stderr",
     "output_type": "stream",
     "text": [
      "GPU available: False, used: False\n",
      "TPU available: False, using: 0 TPU cores\n",
      "\n",
      "  | Name          | Type                | Params\n",
      "------------------------------------------------------\n",
      "0 | model         | TripletArchitecture | 210 K \n",
      "1 | loss_function | TripletMarginLoss   | 0     \n",
      "------------------------------------------------------\n",
      "210 K     Trainable params\n",
      "0         Non-trainable params\n",
      "210 K     Total params\n",
      "0.841     Total estimated model params size (MB)\n"
     ]
    },
    {
     "data": {
      "application/json": {
       "ascii": false,
       "bar_format": null,
       "colour": null,
       "elapsed": 0.014916181564331055,
       "initial": 0,
       "n": 0,
       "ncols": 111,
       "nrows": 30,
       "postfix": null,
       "prefix": "Validation sanity check",
       "rate": null,
       "total": null,
       "unit": "it",
       "unit_divisor": 1000,
       "unit_scale": false
      },
      "application/vnd.jupyter.widget-view+json": {
       "model_id": "c15270e4f55f46c3a0c8a77f34729c6f",
       "version_major": 2,
       "version_minor": 0
      },
      "text/plain": [
       "Validation sanity check: 0it [00:00, ?it/s]"
      ]
     },
     "metadata": {},
     "output_type": "display_data"
    },
    {
     "data": {
      "application/json": {
       "ascii": false,
       "bar_format": null,
       "colour": null,
       "elapsed": 0.009143829345703125,
       "initial": 0,
       "n": 0,
       "ncols": 111,
       "nrows": 30,
       "postfix": null,
       "prefix": "Training",
       "rate": null,
       "total": null,
       "unit": "it",
       "unit_divisor": 1000,
       "unit_scale": false
      },
      "application/vnd.jupyter.widget-view+json": {
       "model_id": "48fcdf83ad0f49e0a5aa4176a2ca15e0",
       "version_major": 2,
       "version_minor": 0
      },
      "text/plain": [
       "Training: 0it [00:00, ?it/s]"
      ]
     },
     "metadata": {},
     "output_type": "display_data"
    },
    {
     "data": {
      "application/json": {
       "ascii": false,
       "bar_format": null,
       "colour": null,
       "elapsed": 0.010552167892456055,
       "initial": 0,
       "n": 0,
       "ncols": 111,
       "nrows": 30,
       "postfix": null,
       "prefix": "Validating",
       "rate": null,
       "total": null,
       "unit": "it",
       "unit_divisor": 1000,
       "unit_scale": false
      },
      "application/vnd.jupyter.widget-view+json": {
       "model_id": "5db06a3166d2430593a6a4902b3c3069",
       "version_major": 2,
       "version_minor": 0
      },
      "text/plain": [
       "Validating: 0it [00:00, ?it/s]"
      ]
     },
     "metadata": {},
     "output_type": "display_data"
    },
    {
     "data": {
      "application/json": {
       "ascii": false,
       "bar_format": null,
       "colour": null,
       "elapsed": 0.014105558395385742,
       "initial": 0,
       "n": 0,
       "ncols": 111,
       "nrows": 30,
       "postfix": null,
       "prefix": "Validating",
       "rate": null,
       "total": null,
       "unit": "it",
       "unit_divisor": 1000,
       "unit_scale": false
      },
      "application/vnd.jupyter.widget-view+json": {
       "model_id": "a597a9afed20440b9bc8551926922a8b",
       "version_major": 2,
       "version_minor": 0
      },
      "text/plain": [
       "Validating: 0it [00:00, ?it/s]"
      ]
     },
     "metadata": {},
     "output_type": "display_data"
    },
    {
     "name": "stderr",
     "output_type": "stream",
     "text": [
      "\u001b[32m[I 2023-11-02 17:36:51,481]\u001b[0m Trial 1 finished with value: 0.5 and parameters: {'d_model': 16, 'factor': 3, 'n_heads': 4, 'dropout': 0.24367861754959966, 'd_ff': 1024, 'e_layers': 6, 'sparsification_type': 'randQ_randK'}. Best is trial 0 with value: 0.5.\u001b[0m\n",
      "GPU available: False, used: False\n",
      "TPU available: False, using: 0 TPU cores\n",
      "\n",
      "  | Name          | Type                | Params\n",
      "------------------------------------------------------\n",
      "0 | model         | TripletArchitecture | 899 K \n",
      "1 | loss_function | TripletMarginLoss   | 0     \n",
      "------------------------------------------------------\n",
      "899 K     Trainable params\n",
      "0         Non-trainable params\n",
      "899 K     Total params\n",
      "3.598     Total estimated model params size (MB)\n"
     ]
    },
    {
     "name": "stdout",
     "output_type": "stream",
     "text": [
      "best_params: {'d_model': 64, 'factor': 7, 'n_heads': 2, 'dropout': 0.20716743215903244, 'd_ff': 1024, 'e_layers': 6, 'sparsification_type': 'randQ_randK'}\n"
     ]
    },
    {
     "data": {
      "application/json": {
       "ascii": false,
       "bar_format": null,
       "colour": null,
       "elapsed": 0.010143280029296875,
       "initial": 0,
       "n": 0,
       "ncols": 111,
       "nrows": 30,
       "postfix": null,
       "prefix": "Validation sanity check",
       "rate": null,
       "total": null,
       "unit": "it",
       "unit_divisor": 1000,
       "unit_scale": false
      },
      "application/vnd.jupyter.widget-view+json": {
       "model_id": "3f1fee2ef67642228cbd2a663ac5a8b8",
       "version_major": 2,
       "version_minor": 0
      },
      "text/plain": [
       "Validation sanity check: 0it [00:00, ?it/s]"
      ]
     },
     "metadata": {},
     "output_type": "display_data"
    },
    {
     "data": {
      "application/json": {
       "ascii": false,
       "bar_format": null,
       "colour": null,
       "elapsed": 0.01078033447265625,
       "initial": 0,
       "n": 0,
       "ncols": 111,
       "nrows": 30,
       "postfix": null,
       "prefix": "Training",
       "rate": null,
       "total": null,
       "unit": "it",
       "unit_divisor": 1000,
       "unit_scale": false
      },
      "application/vnd.jupyter.widget-view+json": {
       "model_id": "3affd8b0299c48f4a99731ab550dd6b6",
       "version_major": 2,
       "version_minor": 0
      },
      "text/plain": [
       "Training: 0it [00:00, ?it/s]"
      ]
     },
     "metadata": {},
     "output_type": "display_data"
    },
    {
     "data": {
      "application/json": {
       "ascii": false,
       "bar_format": null,
       "colour": null,
       "elapsed": 0.009945154190063477,
       "initial": 0,
       "n": 0,
       "ncols": 111,
       "nrows": 30,
       "postfix": null,
       "prefix": "Validating",
       "rate": null,
       "total": null,
       "unit": "it",
       "unit_divisor": 1000,
       "unit_scale": false
      },
      "application/vnd.jupyter.widget-view+json": {
       "model_id": "3c9909808cc14dd688761b8ff2ef21f9",
       "version_major": 2,
       "version_minor": 0
      },
      "text/plain": [
       "Validating: 0it [00:00, ?it/s]"
      ]
     },
     "metadata": {},
     "output_type": "display_data"
    },
    {
     "data": {
      "application/json": {
       "ascii": false,
       "bar_format": null,
       "colour": null,
       "elapsed": 0.009609460830688477,
       "initial": 0,
       "n": 0,
       "ncols": 111,
       "nrows": 30,
       "postfix": null,
       "prefix": "Validating",
       "rate": null,
       "total": null,
       "unit": "it",
       "unit_divisor": 1000,
       "unit_scale": false
      },
      "application/vnd.jupyter.widget-view+json": {
       "model_id": "93ec0d27dba6487481a153ff3b0c3e09",
       "version_major": 2,
       "version_minor": 0
      },
      "text/plain": [
       "Validating: 0it [00:00, ?it/s]"
      ]
     },
     "metadata": {},
     "output_type": "display_data"
    },
    {
     "name": "stderr",
     "output_type": "stream",
     "text": [
      "GPU available: False, used: False\n",
      "TPU available: False, using: 0 TPU cores\n",
      "\n",
      "  | Name          | Type                | Params\n",
      "------------------------------------------------------\n",
      "0 | model         | TripletArchitecture | 899 K \n",
      "1 | loss_function | TripletMarginLoss   | 0     \n",
      "------------------------------------------------------\n",
      "899 K     Trainable params\n",
      "0         Non-trainable params\n",
      "899 K     Total params\n",
      "3.598     Total estimated model params size (MB)\n"
     ]
    },
    {
     "data": {
      "application/json": {
       "ascii": false,
       "bar_format": null,
       "colour": null,
       "elapsed": 0.00956273078918457,
       "initial": 0,
       "n": 0,
       "ncols": 111,
       "nrows": 30,
       "postfix": null,
       "prefix": "Validation sanity check",
       "rate": null,
       "total": null,
       "unit": "it",
       "unit_divisor": 1000,
       "unit_scale": false
      },
      "application/vnd.jupyter.widget-view+json": {
       "model_id": "ae6de0520c96415484f32f34d8319d08",
       "version_major": 2,
       "version_minor": 0
      },
      "text/plain": [
       "Validation sanity check: 0it [00:00, ?it/s]"
      ]
     },
     "metadata": {},
     "output_type": "display_data"
    },
    {
     "data": {
      "application/json": {
       "ascii": false,
       "bar_format": null,
       "colour": null,
       "elapsed": 0.009218692779541016,
       "initial": 0,
       "n": 0,
       "ncols": 111,
       "nrows": 30,
       "postfix": null,
       "prefix": "Training",
       "rate": null,
       "total": null,
       "unit": "it",
       "unit_divisor": 1000,
       "unit_scale": false
      },
      "application/vnd.jupyter.widget-view+json": {
       "model_id": "614fbde855ee474c9b75d9ea20a204d2",
       "version_major": 2,
       "version_minor": 0
      },
      "text/plain": [
       "Training: 0it [00:00, ?it/s]"
      ]
     },
     "metadata": {},
     "output_type": "display_data"
    },
    {
     "data": {
      "application/json": {
       "ascii": false,
       "bar_format": null,
       "colour": null,
       "elapsed": 0.011044740676879883,
       "initial": 0,
       "n": 0,
       "ncols": 111,
       "nrows": 30,
       "postfix": null,
       "prefix": "Validating",
       "rate": null,
       "total": null,
       "unit": "it",
       "unit_divisor": 1000,
       "unit_scale": false
      },
      "application/vnd.jupyter.widget-view+json": {
       "model_id": "171d699d34e54a909c19241fd2042a57",
       "version_major": 2,
       "version_minor": 0
      },
      "text/plain": [
       "Validating: 0it [00:00, ?it/s]"
      ]
     },
     "metadata": {},
     "output_type": "display_data"
    },
    {
     "data": {
      "application/json": {
       "ascii": false,
       "bar_format": null,
       "colour": null,
       "elapsed": 0.00994729995727539,
       "initial": 0,
       "n": 0,
       "ncols": 111,
       "nrows": 30,
       "postfix": null,
       "prefix": "Validating",
       "rate": null,
       "total": null,
       "unit": "it",
       "unit_divisor": 1000,
       "unit_scale": false
      },
      "application/vnd.jupyter.widget-view+json": {
       "model_id": "37a748d8e1984221a485231654e704ed",
       "version_major": 2,
       "version_minor": 0
      },
      "text/plain": [
       "Validating: 0it [00:00, ?it/s]"
      ]
     },
     "metadata": {},
     "output_type": "display_data"
    },
    {
     "name": "stdout",
     "output_type": "stream",
     "text": [
      "Accuracy: nan ± nan\n",
      "Precision: nan ± nan\n",
      "Recall: nan ± nan\n",
      "ROC AUC: nan ± nan\n",
      "PR AUC: nan ± nan\n",
      "--------------------------------------------------\n",
      "Eucl_Accuracy: 1.000 ± 0.000\n",
      "Eucl_Precision: nan ± nan\n",
      "Eucl_Recall: 0.000 ± 0.000\n",
      "Eucl_ROC AUC: 0.500 ± 0.000\n",
      "Eucl_PR AUC: 1.000 ± 0.000\n",
      "--------------------------------------------------\n",
      "Cos_Accuracy: 1.000 ± 0.000\n",
      "Cos_Precision: 0.500 ± 0.000\n",
      "Cos_Recall: 1.000 ± 0.000\n",
      "Cos_ROC AUC: 0.500 ± 0.000\n",
      "Cos_PR AUC: 1.000 ± 0.000\n",
      "--------------------------------------------------\n",
      "\n",
      "all_results: ({'Accuracy': [], 'Precision': [], 'Recall': [], 'ROC AUC': [], 'PR AUC': []}, {'Eucl_Accuracy': [1.0, 1.0], 'Eucl_Precision': [nan, nan], 'Eucl_Recall': [0.0, 0.0], 'Eucl_ROC AUC': [0.5, 0.5], 'Eucl_PR AUC': [1.0, 1.0]}, {'Cos_Accuracy': [1.0, 1.0], 'Cos_Precision': [0.5, 0.5], 'Cos_Recall': [1.0, 1.0], 'Cos_ROC AUC': [0.5, 0.5], 'Cos_PR AUC': [1.0, 1.0]})\n",
      "****************************************************************************************************\n"
     ]
    }
   ],
   "source": [
    "ans_df = pd.DataFrame()\n",
    "fixed_params = deepcopy(shared_fixed_params)\n",
    "fixed_params.update(fixed_params_reguformer)\n",
    "\n",
    "for loss_type in [\"siamese\", \"triplet\"]: \n",
    "    for sparse_type in [\n",
    "        \"topQ\", \"randQ\", \n",
    "        \"topK\", \"randK\", \n",
    "        \"topQ_topK\", \"topQ_randK\", \n",
    "        \"randQ_topK\", \"randQ_randK\",\n",
    "    ]: \n",
    "        default_params_reguformer[\"sparsification_type\"] = sparse_type\n",
    "        specific_params_reguformer[\"sparsification_type\"] = (\"cat\", [sparse_type])\n",
    "\n",
    "        res_model, results, roc_auc_all_trials = utils_cv.optuna_hpo_and_best_model_evaluation(\n",
    "            model_type=\"{}_reguformer_{}\".format(loss_type, sparse_type),\n",
    "            device=device,\n",
    "            gpu=gpu,\n",
    "            n_trials=n_trials,\n",
    "            fixed_params=fixed_params,\n",
    "            default_params=default_params_reguformer,\n",
    "            specific_params=specific_params_reguformer,\n",
    "            data_kwargs=data_kwargs,\n",
    "        )\n",
    "        np.save(\n",
    "            os.path.join(data_kwargs[\"save_dir\"], \"roc_auc_{}_reguformer_{}.npy\".format(loss_type, sparse_type)),\n",
    "            roc_auc_all_trials,\n",
    "        )\n",
    "        torch.save(\n",
    "            res_model.state_dict(), \n",
    "            os.path.join(\n",
    "                data_kwargs[\"save_dir\"], 'res_{}_reguformer_{}.pth'.format(loss_type, sparse_type)\n",
    "            ),\n",
    "        )\n",
    "        ans_df = ans_df.append(get_dict(results, default_params_reguformer[\"sparsification_type\"]))\n",
    "        \n",
    "    ans_df.to_csv(\n",
    "        os.path.join(\n",
    "            data_kwargs[\"save_dir\"], \"res_df_{}_reguformers.csv\".format(loss_type)\n",
    "        )\n",
    "    )"
   ]
  },
  {
   "cell_type": "markdown",
   "metadata": {},
   "source": [
    "# Transformers"
   ]
  },
  {
   "cell_type": "code",
   "execution_count": 15,
   "metadata": {},
   "outputs": [],
   "source": [
    "fixed_params = deepcopy(shared_fixed_params)\n",
    "fixed_params.update(fixed_params_tr)"
   ]
  },
  {
   "cell_type": "code",
   "execution_count": 16,
   "metadata": {},
   "outputs": [
    {
     "name": "stderr",
     "output_type": "stream",
     "text": [
      "\u001b[32m[I 2023-11-02 17:37:03,063]\u001b[0m A new study created in memory with name: no-name-063cc259-0204-49ef-bdc2-c1161694ae12\u001b[0m\n"
     ]
    },
    {
     "name": "stderr",
     "output_type": "stream",
     "text": [
      "GPU available: False, used: False\n",
      "TPU available: False, using: 0 TPU cores\n",
      "\n",
      "  | Name          | Type                | Params\n",
      "------------------------------------------------------\n",
      "0 | model         | SiameseArchitecture | 911 K \n",
      "1 | loss_function | BCELoss             | 0     \n",
      "------------------------------------------------------\n",
      "911 K     Trainable params\n",
      "0         Non-trainable params\n",
      "911 K     Total params\n",
      "3.648     Total estimated model params size (MB)\n"
     ]
    },
    {
     "name": "stdout",
     "output_type": "stream",
     "text": [
      "model_type: siamese_reguformer_None\n"
     ]
    },
    {
     "data": {
      "application/json": {
       "ascii": false,
       "bar_format": null,
       "colour": null,
       "elapsed": 0.015266895294189453,
       "initial": 0,
       "n": 0,
       "ncols": 111,
       "nrows": 30,
       "postfix": null,
       "prefix": "Validation sanity check",
       "rate": null,
       "total": null,
       "unit": "it",
       "unit_divisor": 1000,
       "unit_scale": false
      },
      "application/vnd.jupyter.widget-view+json": {
       "model_id": "94890bd05708463881ed240c95dd19e8",
       "version_major": 2,
       "version_minor": 0
      },
      "text/plain": [
       "Validation sanity check: 0it [00:00, ?it/s]"
      ]
     },
     "metadata": {},
     "output_type": "display_data"
    },
    {
     "data": {
      "application/json": {
       "ascii": false,
       "bar_format": null,
       "colour": null,
       "elapsed": 0.011063575744628906,
       "initial": 0,
       "n": 0,
       "ncols": 111,
       "nrows": 30,
       "postfix": null,
       "prefix": "Training",
       "rate": null,
       "total": null,
       "unit": "it",
       "unit_divisor": 1000,
       "unit_scale": false
      },
      "application/vnd.jupyter.widget-view+json": {
       "model_id": "5206d6cd1ab346b8955403f1c315f91e",
       "version_major": 2,
       "version_minor": 0
      },
      "text/plain": [
       "Training: 0it [00:00, ?it/s]"
      ]
     },
     "metadata": {},
     "output_type": "display_data"
    },
    {
     "data": {
      "application/json": {
       "ascii": false,
       "bar_format": null,
       "colour": null,
       "elapsed": 0.009943485260009766,
       "initial": 0,
       "n": 0,
       "ncols": 111,
       "nrows": 30,
       "postfix": null,
       "prefix": "Validating",
       "rate": null,
       "total": null,
       "unit": "it",
       "unit_divisor": 1000,
       "unit_scale": false
      },
      "application/vnd.jupyter.widget-view+json": {
       "model_id": "59f9ce250306446e881fd6b16cf90855",
       "version_major": 2,
       "version_minor": 0
      },
      "text/plain": [
       "Validating: 0it [00:00, ?it/s]"
      ]
     },
     "metadata": {},
     "output_type": "display_data"
    },
    {
     "data": {
      "application/json": {
       "ascii": false,
       "bar_format": null,
       "colour": null,
       "elapsed": 0.010336160659790039,
       "initial": 0,
       "n": 0,
       "ncols": 111,
       "nrows": 30,
       "postfix": null,
       "prefix": "Validating",
       "rate": null,
       "total": null,
       "unit": "it",
       "unit_divisor": 1000,
       "unit_scale": false
      },
      "application/vnd.jupyter.widget-view+json": {
       "model_id": "6a7e104964224c3aa20b0d30fadedb94",
       "version_major": 2,
       "version_minor": 0
      },
      "text/plain": [
       "Validating: 0it [00:00, ?it/s]"
      ]
     },
     "metadata": {},
     "output_type": "display_data"
    },
    {
     "name": "stderr",
     "output_type": "stream",
     "text": [
      "GPU available: False, used: False\n",
      "TPU available: False, using: 0 TPU cores\n",
      "\n",
      "  | Name          | Type                | Params\n",
      "------------------------------------------------------\n",
      "0 | model         | SiameseArchitecture | 911 K \n",
      "1 | loss_function | BCELoss             | 0     \n",
      "------------------------------------------------------\n",
      "911 K     Trainable params\n",
      "0         Non-trainable params\n",
      "911 K     Total params\n",
      "3.648     Total estimated model params size (MB)\n"
     ]
    },
    {
     "name": "stdout",
     "output_type": "stream",
     "text": [
      "Accuracy:0.48, ROC_AUC:0.455, PR_AUC:0.485\n"
     ]
    },
    {
     "data": {
      "application/json": {
       "ascii": false,
       "bar_format": null,
       "colour": null,
       "elapsed": 0.008740901947021484,
       "initial": 0,
       "n": 0,
       "ncols": 111,
       "nrows": 30,
       "postfix": null,
       "prefix": "Validation sanity check",
       "rate": null,
       "total": null,
       "unit": "it",
       "unit_divisor": 1000,
       "unit_scale": false
      },
      "application/vnd.jupyter.widget-view+json": {
       "model_id": "911622fedb3d4b2abb5abfc09cb4898e",
       "version_major": 2,
       "version_minor": 0
      },
      "text/plain": [
       "Validation sanity check: 0it [00:00, ?it/s]"
      ]
     },
     "metadata": {},
     "output_type": "display_data"
    },
    {
     "data": {
      "application/json": {
       "ascii": false,
       "bar_format": null,
       "colour": null,
       "elapsed": 0.009412050247192383,
       "initial": 0,
       "n": 0,
       "ncols": 111,
       "nrows": 30,
       "postfix": null,
       "prefix": "Training",
       "rate": null,
       "total": null,
       "unit": "it",
       "unit_divisor": 1000,
       "unit_scale": false
      },
      "application/vnd.jupyter.widget-view+json": {
       "model_id": "833600b6a11748f597632328a46a1c7d",
       "version_major": 2,
       "version_minor": 0
      },
      "text/plain": [
       "Training: 0it [00:00, ?it/s]"
      ]
     },
     "metadata": {},
     "output_type": "display_data"
    },
    {
     "data": {
      "application/json": {
       "ascii": false,
       "bar_format": null,
       "colour": null,
       "elapsed": 0.009370088577270508,
       "initial": 0,
       "n": 0,
       "ncols": 111,
       "nrows": 30,
       "postfix": null,
       "prefix": "Validating",
       "rate": null,
       "total": null,
       "unit": "it",
       "unit_divisor": 1000,
       "unit_scale": false
      },
      "application/vnd.jupyter.widget-view+json": {
       "model_id": "b80464537f224d209717827318796f54",
       "version_major": 2,
       "version_minor": 0
      },
      "text/plain": [
       "Validating: 0it [00:00, ?it/s]"
      ]
     },
     "metadata": {},
     "output_type": "display_data"
    },
    {
     "data": {
      "application/json": {
       "ascii": false,
       "bar_format": null,
       "colour": null,
       "elapsed": 0.009923458099365234,
       "initial": 0,
       "n": 0,
       "ncols": 111,
       "nrows": 30,
       "postfix": null,
       "prefix": "Validating",
       "rate": null,
       "total": null,
       "unit": "it",
       "unit_divisor": 1000,
       "unit_scale": false
      },
      "application/vnd.jupyter.widget-view+json": {
       "model_id": "5f3d231a42d64e0cbb6d57d54eb08d8f",
       "version_major": 2,
       "version_minor": 0
      },
      "text/plain": [
       "Validating: 0it [00:00, ?it/s]"
      ]
     },
     "metadata": {},
     "output_type": "display_data"
    },
    {
     "name": "stderr",
     "output_type": "stream",
     "text": [
      "\u001b[32m[I 2023-11-02 17:37:18,908]\u001b[0m Trial 0 finished with value: 0.492 and parameters: {'d_model': 64, 'factor': 7, 'n_heads': 4, 'dropout': 0.4593263730927568, 'd_ff': 1024, 'e_layers': 6, 'sparsification_type': None}. Best is trial 0 with value: 0.492.\u001b[0m\n",
      "GPU available: False, used: False\n",
      "TPU available: False, using: 0 TPU cores\n",
      "\n",
      "  | Name          | Type                | Params\n",
      "------------------------------------------------------\n",
      "0 | model         | SiameseArchitecture | 43.0 K\n",
      "1 | loss_function | BCELoss             | 0     \n",
      "------------------------------------------------------\n",
      "43.0 K    Trainable params\n",
      "0         Non-trainable params\n",
      "43.0 K    Total params\n",
      "0.172     Total estimated model params size (MB)\n"
     ]
    },
    {
     "name": "stdout",
     "output_type": "stream",
     "text": [
      "Accuracy:0.51, ROC_AUC:0.529, PR_AUC:0.534\n"
     ]
    },
    {
     "data": {
      "application/json": {
       "ascii": false,
       "bar_format": null,
       "colour": null,
       "elapsed": 0.009723901748657227,
       "initial": 0,
       "n": 0,
       "ncols": 111,
       "nrows": 30,
       "postfix": null,
       "prefix": "Validation sanity check",
       "rate": null,
       "total": null,
       "unit": "it",
       "unit_divisor": 1000,
       "unit_scale": false
      },
      "application/vnd.jupyter.widget-view+json": {
       "model_id": "cee1f19fa6a44bba999a15fb44e991ad",
       "version_major": 2,
       "version_minor": 0
      },
      "text/plain": [
       "Validation sanity check: 0it [00:00, ?it/s]"
      ]
     },
     "metadata": {},
     "output_type": "display_data"
    },
    {
     "data": {
      "application/json": {
       "ascii": false,
       "bar_format": null,
       "colour": null,
       "elapsed": 0.009489774703979492,
       "initial": 0,
       "n": 0,
       "ncols": 111,
       "nrows": 30,
       "postfix": null,
       "prefix": "Training",
       "rate": null,
       "total": null,
       "unit": "it",
       "unit_divisor": 1000,
       "unit_scale": false
      },
      "application/vnd.jupyter.widget-view+json": {
       "model_id": "27b8087acfcd4629b2687c97edbcc410",
       "version_major": 2,
       "version_minor": 0
      },
      "text/plain": [
       "Training: 0it [00:00, ?it/s]"
      ]
     },
     "metadata": {},
     "output_type": "display_data"
    },
    {
     "data": {
      "application/json": {
       "ascii": false,
       "bar_format": null,
       "colour": null,
       "elapsed": 0.010503530502319336,
       "initial": 0,
       "n": 0,
       "ncols": 111,
       "nrows": 30,
       "postfix": null,
       "prefix": "Validating",
       "rate": null,
       "total": null,
       "unit": "it",
       "unit_divisor": 1000,
       "unit_scale": false
      },
      "application/vnd.jupyter.widget-view+json": {
       "model_id": "f5ee7ef757834883bdb0ab5cc994e3b8",
       "version_major": 2,
       "version_minor": 0
      },
      "text/plain": [
       "Validating: 0it [00:00, ?it/s]"
      ]
     },
     "metadata": {},
     "output_type": "display_data"
    },
    {
     "data": {
      "application/json": {
       "ascii": false,
       "bar_format": null,
       "colour": null,
       "elapsed": 0.015970706939697266,
       "initial": 0,
       "n": 0,
       "ncols": 111,
       "nrows": 30,
       "postfix": null,
       "prefix": "Validating",
       "rate": null,
       "total": null,
       "unit": "it",
       "unit_divisor": 1000,
       "unit_scale": false
      },
      "application/vnd.jupyter.widget-view+json": {
       "model_id": "4a75e8ab0069443caee389ffd91944d8",
       "version_major": 2,
       "version_minor": 0
      },
      "text/plain": [
       "Validating: 0it [00:00, ?it/s]"
      ]
     },
     "metadata": {},
     "output_type": "display_data"
    },
    {
     "name": "stderr",
     "output_type": "stream",
     "text": [
      "GPU available: False, used: False\n",
      "TPU available: False, using: 0 TPU cores\n",
      "\n",
      "  | Name          | Type                | Params\n",
      "------------------------------------------------------\n",
      "0 | model         | SiameseArchitecture | 43.0 K\n",
      "1 | loss_function | BCELoss             | 0     \n",
      "------------------------------------------------------\n",
      "43.0 K    Trainable params\n",
      "0         Non-trainable params\n",
      "43.0 K    Total params\n",
      "0.172     Total estimated model params size (MB)\n"
     ]
    },
    {
     "name": "stdout",
     "output_type": "stream",
     "text": [
      "Accuracy:0.52, ROC_AUC:0.607, PR_AUC:0.605\n"
     ]
    },
    {
     "data": {
      "application/json": {
       "ascii": false,
       "bar_format": null,
       "colour": null,
       "elapsed": 0.008907318115234375,
       "initial": 0,
       "n": 0,
       "ncols": 111,
       "nrows": 30,
       "postfix": null,
       "prefix": "Validation sanity check",
       "rate": null,
       "total": null,
       "unit": "it",
       "unit_divisor": 1000,
       "unit_scale": false
      },
      "application/vnd.jupyter.widget-view+json": {
       "model_id": "3ef5a78666db45a2a6c4be53011863f8",
       "version_major": 2,
       "version_minor": 0
      },
      "text/plain": [
       "Validation sanity check: 0it [00:00, ?it/s]"
      ]
     },
     "metadata": {},
     "output_type": "display_data"
    },
    {
     "data": {
      "application/json": {
       "ascii": false,
       "bar_format": null,
       "colour": null,
       "elapsed": 0.016374826431274414,
       "initial": 0,
       "n": 0,
       "ncols": 111,
       "nrows": 30,
       "postfix": null,
       "prefix": "Training",
       "rate": null,
       "total": null,
       "unit": "it",
       "unit_divisor": 1000,
       "unit_scale": false
      },
      "application/vnd.jupyter.widget-view+json": {
       "model_id": "84b64940d1a14d9a8d4d697b773370cf",
       "version_major": 2,
       "version_minor": 0
      },
      "text/plain": [
       "Training: 0it [00:00, ?it/s]"
      ]
     },
     "metadata": {},
     "output_type": "display_data"
    },
    {
     "data": {
      "application/json": {
       "ascii": false,
       "bar_format": null,
       "colour": null,
       "elapsed": 0.009393453598022461,
       "initial": 0,
       "n": 0,
       "ncols": 111,
       "nrows": 30,
       "postfix": null,
       "prefix": "Validating",
       "rate": null,
       "total": null,
       "unit": "it",
       "unit_divisor": 1000,
       "unit_scale": false
      },
      "application/vnd.jupyter.widget-view+json": {
       "model_id": "3e9ebdb5855b467a91ccf7b417a94733",
       "version_major": 2,
       "version_minor": 0
      },
      "text/plain": [
       "Validating: 0it [00:00, ?it/s]"
      ]
     },
     "metadata": {},
     "output_type": "display_data"
    },
    {
     "data": {
      "application/json": {
       "ascii": false,
       "bar_format": null,
       "colour": null,
       "elapsed": 0.01012730598449707,
       "initial": 0,
       "n": 0,
       "ncols": 111,
       "nrows": 30,
       "postfix": null,
       "prefix": "Validating",
       "rate": null,
       "total": null,
       "unit": "it",
       "unit_divisor": 1000,
       "unit_scale": false
      },
      "application/vnd.jupyter.widget-view+json": {
       "model_id": "e71bf00693db447d954217f1d1fb4cfa",
       "version_major": 2,
       "version_minor": 0
      },
      "text/plain": [
       "Validating: 0it [00:00, ?it/s]"
      ]
     },
     "metadata": {},
     "output_type": "display_data"
    },
    {
     "name": "stderr",
     "output_type": "stream",
     "text": [
      "\u001b[32m[I 2023-11-02 17:37:26,113]\u001b[0m Trial 1 finished with value: 0.655 and parameters: {'d_model': 16, 'factor': 5, 'n_heads': 8, 'dropout': 0.26008608343073153, 'd_ff': 512, 'e_layers': 2, 'sparsification_type': None}. Best is trial 1 with value: 0.655.\u001b[0m\n",
      "GPU available: False, used: False\n",
      "TPU available: False, using: 0 TPU cores\n",
      "\n",
      "  | Name          | Type                | Params\n",
      "------------------------------------------------------\n",
      "0 | model         | SiameseArchitecture | 43.0 K\n",
      "1 | loss_function | BCELoss             | 0     \n",
      "------------------------------------------------------\n",
      "43.0 K    Trainable params\n",
      "0         Non-trainable params\n",
      "43.0 K    Total params\n",
      "0.172     Total estimated model params size (MB)\n"
     ]
    },
    {
     "name": "stdout",
     "output_type": "stream",
     "text": [
      "Accuracy:0.61, ROC_AUC:0.703, PR_AUC:0.711\n",
      "best_params: {'d_model': 16, 'factor': 5, 'n_heads': 8, 'dropout': 0.26008608343073153, 'd_ff': 512, 'e_layers': 2, 'sparsification_type': None}\n"
     ]
    },
    {
     "data": {
      "application/json": {
       "ascii": false,
       "bar_format": null,
       "colour": null,
       "elapsed": 0.00987863540649414,
       "initial": 0,
       "n": 0,
       "ncols": 111,
       "nrows": 30,
       "postfix": null,
       "prefix": "Validation sanity check",
       "rate": null,
       "total": null,
       "unit": "it",
       "unit_divisor": 1000,
       "unit_scale": false
      },
      "application/vnd.jupyter.widget-view+json": {
       "model_id": "f1311eb2a591432c8e1b1e07580aec45",
       "version_major": 2,
       "version_minor": 0
      },
      "text/plain": [
       "Validation sanity check: 0it [00:00, ?it/s]"
      ]
     },
     "metadata": {},
     "output_type": "display_data"
    },
    {
     "data": {
      "application/json": {
       "ascii": false,
       "bar_format": null,
       "colour": null,
       "elapsed": 0.009319305419921875,
       "initial": 0,
       "n": 0,
       "ncols": 111,
       "nrows": 30,
       "postfix": null,
       "prefix": "Training",
       "rate": null,
       "total": null,
       "unit": "it",
       "unit_divisor": 1000,
       "unit_scale": false
      },
      "application/vnd.jupyter.widget-view+json": {
       "model_id": "d9c71e5711aa4f3bbbc46777324e99b1",
       "version_major": 2,
       "version_minor": 0
      },
      "text/plain": [
       "Training: 0it [00:00, ?it/s]"
      ]
     },
     "metadata": {},
     "output_type": "display_data"
    },
    {
     "data": {
      "application/json": {
       "ascii": false,
       "bar_format": null,
       "colour": null,
       "elapsed": 0.010699033737182617,
       "initial": 0,
       "n": 0,
       "ncols": 111,
       "nrows": 30,
       "postfix": null,
       "prefix": "Validating",
       "rate": null,
       "total": null,
       "unit": "it",
       "unit_divisor": 1000,
       "unit_scale": false
      },
      "application/vnd.jupyter.widget-view+json": {
       "model_id": "73c73f5f3e004c4fa9b2bc4ecae106b5",
       "version_major": 2,
       "version_minor": 0
      },
      "text/plain": [
       "Validating: 0it [00:00, ?it/s]"
      ]
     },
     "metadata": {},
     "output_type": "display_data"
    },
    {
     "data": {
      "application/json": {
       "ascii": false,
       "bar_format": null,
       "colour": null,
       "elapsed": 0.009186983108520508,
       "initial": 0,
       "n": 0,
       "ncols": 111,
       "nrows": 30,
       "postfix": null,
       "prefix": "Validating",
       "rate": null,
       "total": null,
       "unit": "it",
       "unit_divisor": 1000,
       "unit_scale": false
      },
      "application/vnd.jupyter.widget-view+json": {
       "model_id": "2b54d47ca7074383b872b83f4c12b83f",
       "version_major": 2,
       "version_minor": 0
      },
      "text/plain": [
       "Validating: 0it [00:00, ?it/s]"
      ]
     },
     "metadata": {},
     "output_type": "display_data"
    },
    {
     "name": "stderr",
     "output_type": "stream",
     "text": [
      "GPU available: False, used: False\n",
      "TPU available: False, using: 0 TPU cores\n",
      "\n",
      "  | Name          | Type                | Params\n",
      "------------------------------------------------------\n",
      "0 | model         | SiameseArchitecture | 43.0 K\n",
      "1 | loss_function | BCELoss             | 0     \n",
      "------------------------------------------------------\n",
      "43.0 K    Trainable params\n",
      "0         Non-trainable params\n",
      "43.0 K    Total params\n",
      "0.172     Total estimated model params size (MB)\n"
     ]
    },
    {
     "name": "stdout",
     "output_type": "stream",
     "text": [
      "Accuracy:0.56, ROC_AUC:0.611, PR_AUC:0.629\n",
      "TN: 13, FP: 12, FN: 10, TP: 15\n",
      "precision = tp / (tp + fp); recall = tp / (tp + fn)\n"
     ]
    },
    {
     "data": {
      "application/json": {
       "ascii": false,
       "bar_format": null,
       "colour": null,
       "elapsed": 0.011150121688842773,
       "initial": 0,
       "n": 0,
       "ncols": 111,
       "nrows": 30,
       "postfix": null,
       "prefix": "Validation sanity check",
       "rate": null,
       "total": null,
       "unit": "it",
       "unit_divisor": 1000,
       "unit_scale": false
      },
      "application/vnd.jupyter.widget-view+json": {
       "model_id": "d2ccab7f99304b7b8249885d5d022965",
       "version_major": 2,
       "version_minor": 0
      },
      "text/plain": [
       "Validation sanity check: 0it [00:00, ?it/s]"
      ]
     },
     "metadata": {},
     "output_type": "display_data"
    },
    {
     "data": {
      "application/json": {
       "ascii": false,
       "bar_format": null,
       "colour": null,
       "elapsed": 0.00970005989074707,
       "initial": 0,
       "n": 0,
       "ncols": 111,
       "nrows": 30,
       "postfix": null,
       "prefix": "Training",
       "rate": null,
       "total": null,
       "unit": "it",
       "unit_divisor": 1000,
       "unit_scale": false
      },
      "application/vnd.jupyter.widget-view+json": {
       "model_id": "04de4edb895044548f089e3a60cf90b4",
       "version_major": 2,
       "version_minor": 0
      },
      "text/plain": [
       "Training: 0it [00:00, ?it/s]"
      ]
     },
     "metadata": {},
     "output_type": "display_data"
    },
    {
     "data": {
      "application/json": {
       "ascii": false,
       "bar_format": null,
       "colour": null,
       "elapsed": 0.009175539016723633,
       "initial": 0,
       "n": 0,
       "ncols": 111,
       "nrows": 30,
       "postfix": null,
       "prefix": "Validating",
       "rate": null,
       "total": null,
       "unit": "it",
       "unit_divisor": 1000,
       "unit_scale": false
      },
      "application/vnd.jupyter.widget-view+json": {
       "model_id": "0a755e4d0b76410aa7dc8262808a72ec",
       "version_major": 2,
       "version_minor": 0
      },
      "text/plain": [
       "Validating: 0it [00:00, ?it/s]"
      ]
     },
     "metadata": {},
     "output_type": "display_data"
    },
    {
     "data": {
      "application/json": {
       "ascii": false,
       "bar_format": null,
       "colour": null,
       "elapsed": 0.01015019416809082,
       "initial": 0,
       "n": 0,
       "ncols": 111,
       "nrows": 30,
       "postfix": null,
       "prefix": "Validating",
       "rate": null,
       "total": null,
       "unit": "it",
       "unit_divisor": 1000,
       "unit_scale": false
      },
      "application/vnd.jupyter.widget-view+json": {
       "model_id": "cf32dc192f4f4fac97f444c4e964616f",
       "version_major": 2,
       "version_minor": 0
      },
      "text/plain": [
       "Validating: 0it [00:00, ?it/s]"
      ]
     },
     "metadata": {},
     "output_type": "display_data"
    },
    {
     "name": "stderr",
     "output_type": "stream",
     "text": [
      "\u001b[32m[I 2023-11-02 17:37:33,250]\u001b[0m A new study created in memory with name: no-name-439190a7-58d5-4f21-87d1-3b21c090e295\u001b[0m\n",
      "GPU available: False, used: False\n",
      "TPU available: False, using: 0 TPU cores\n",
      "\n",
      "  | Name          | Type                | Params\n",
      "------------------------------------------------------\n",
      "0 | model         | TripletArchitecture | 452 K \n",
      "1 | loss_function | TripletMarginLoss   | 0     \n",
      "------------------------------------------------------\n",
      "452 K     Trainable params\n",
      "0         Non-trainable params\n",
      "452 K     Total params\n",
      "1.809     Total estimated model params size (MB)\n"
     ]
    },
    {
     "name": "stdout",
     "output_type": "stream",
     "text": [
      "Accuracy:0.58, ROC_AUC:0.568, PR_AUC:0.524\n",
      "TN: 12, FP: 13, FN: 8, TP: 17\n",
      "precision = tp / (tp + fp); recall = tp / (tp + fn)\n",
      "Accuracy: 0.570 ± 0.010\n",
      "Precision: 0.561 ± 0.006\n",
      "Recall: 0.640 ± 0.040\n",
      "ROC AUC: 0.590 ± 0.022\n",
      "PR AUC: 0.576 ± 0.052\n",
      "--------------------------------------------------\n",
      "Eucl_Accuracy: 0.996 ± 0.001\n",
      "Eucl_Precision: 1.000 ± 0.000\n",
      "Eucl_Recall: 0.720 ± 0.040\n",
      "Eucl_ROC AUC: 0.860 ± 0.020\n",
      "Eucl_PR AUC: 0.996 ± 0.001\n",
      "--------------------------------------------------\n",
      "Cos_Accuracy: 0.994 ± 0.006\n",
      "Cos_Precision: 0.500 ± 0.000\n",
      "Cos_Recall: 1.000 ± 0.000\n",
      "Cos_ROC AUC: 0.500 ± 0.000\n",
      "Cos_PR AUC: 0.994 ± 0.006\n",
      "--------------------------------------------------\n",
      "\n",
      "all_results: ({'Accuracy': [0.56, 0.58], 'Precision': [0.5555555555555556, 0.5666666666666667], 'Recall': [0.6, 0.68], 'ROC AUC': [0.6112, 0.5680000000000001], 'PR AUC': [0.6287003934555453, 0.523888092120367]}, {'Eucl_Accuracy': [0.9957142857142859, 0.9970370370370372], 'Eucl_Precision': [1.0, 1.0], 'Eucl_Recall': [0.76, 0.68], 'Eucl_ROC AUC': [0.88, 0.84], 'Eucl_PR AUC': [0.9952, 0.9968]}, {'Cos_Accuracy': [1.0, 0.9883082962126442], 'Cos_Precision': [0.5, 0.5], 'Cos_Recall': [1.0, 1.0], 'Cos_ROC AUC': [0.5, 0.5], 'Cos_PR AUC': [1.0, 0.9888]})\n",
      "****************************************************************************************************\n",
      "model_type: triplet_reguformer_None\n"
     ]
    },
    {
     "data": {
      "application/json": {
       "ascii": false,
       "bar_format": null,
       "colour": null,
       "elapsed": 0.008553743362426758,
       "initial": 0,
       "n": 0,
       "ncols": 111,
       "nrows": 30,
       "postfix": null,
       "prefix": "Validation sanity check",
       "rate": null,
       "total": null,
       "unit": "it",
       "unit_divisor": 1000,
       "unit_scale": false
      },
      "application/vnd.jupyter.widget-view+json": {
       "model_id": "9cff3cd6b64549afad31983b2c347292",
       "version_major": 2,
       "version_minor": 0
      },
      "text/plain": [
       "Validation sanity check: 0it [00:00, ?it/s]"
      ]
     },
     "metadata": {},
     "output_type": "display_data"
    },
    {
     "data": {
      "application/json": {
       "ascii": false,
       "bar_format": null,
       "colour": null,
       "elapsed": 0.010088920593261719,
       "initial": 0,
       "n": 0,
       "ncols": 111,
       "nrows": 30,
       "postfix": null,
       "prefix": "Training",
       "rate": null,
       "total": null,
       "unit": "it",
       "unit_divisor": 1000,
       "unit_scale": false
      },
      "application/vnd.jupyter.widget-view+json": {
       "model_id": "d2552ae93cbc40ee93d90120a0fce33f",
       "version_major": 2,
       "version_minor": 0
      },
      "text/plain": [
       "Training: 0it [00:00, ?it/s]"
      ]
     },
     "metadata": {},
     "output_type": "display_data"
    },
    {
     "data": {
      "application/json": {
       "ascii": false,
       "bar_format": null,
       "colour": null,
       "elapsed": 0.010430574417114258,
       "initial": 0,
       "n": 0,
       "ncols": 111,
       "nrows": 30,
       "postfix": null,
       "prefix": "Validating",
       "rate": null,
       "total": null,
       "unit": "it",
       "unit_divisor": 1000,
       "unit_scale": false
      },
      "application/vnd.jupyter.widget-view+json": {
       "model_id": "a37d5a394a574b9e95a7159e3802fdbb",
       "version_major": 2,
       "version_minor": 0
      },
      "text/plain": [
       "Validating: 0it [00:00, ?it/s]"
      ]
     },
     "metadata": {},
     "output_type": "display_data"
    },
    {
     "data": {
      "application/json": {
       "ascii": false,
       "bar_format": null,
       "colour": null,
       "elapsed": 0.01104736328125,
       "initial": 0,
       "n": 0,
       "ncols": 111,
       "nrows": 30,
       "postfix": null,
       "prefix": "Validating",
       "rate": null,
       "total": null,
       "unit": "it",
       "unit_divisor": 1000,
       "unit_scale": false
      },
      "application/vnd.jupyter.widget-view+json": {
       "model_id": "c6ff05193869475fb5432d3d6a9a7b34",
       "version_major": 2,
       "version_minor": 0
      },
      "text/plain": [
       "Validating: 0it [00:00, ?it/s]"
      ]
     },
     "metadata": {},
     "output_type": "display_data"
    },
    {
     "name": "stderr",
     "output_type": "stream",
     "text": [
      "GPU available: False, used: False\n",
      "TPU available: False, using: 0 TPU cores\n",
      "\n",
      "  | Name          | Type                | Params\n",
      "------------------------------------------------------\n",
      "0 | model         | TripletArchitecture | 452 K \n",
      "1 | loss_function | TripletMarginLoss   | 0     \n",
      "------------------------------------------------------\n",
      "452 K     Trainable params\n",
      "0         Non-trainable params\n",
      "452 K     Total params\n",
      "1.809     Total estimated model params size (MB)\n"
     ]
    },
    {
     "data": {
      "application/json": {
       "ascii": false,
       "bar_format": null,
       "colour": null,
       "elapsed": 0.009606122970581055,
       "initial": 0,
       "n": 0,
       "ncols": 111,
       "nrows": 30,
       "postfix": null,
       "prefix": "Validation sanity check",
       "rate": null,
       "total": null,
       "unit": "it",
       "unit_divisor": 1000,
       "unit_scale": false
      },
      "application/vnd.jupyter.widget-view+json": {
       "model_id": "e483f30ca892410797d2ff49473818e9",
       "version_major": 2,
       "version_minor": 0
      },
      "text/plain": [
       "Validation sanity check: 0it [00:00, ?it/s]"
      ]
     },
     "metadata": {},
     "output_type": "display_data"
    },
    {
     "data": {
      "application/json": {
       "ascii": false,
       "bar_format": null,
       "colour": null,
       "elapsed": 0.010773181915283203,
       "initial": 0,
       "n": 0,
       "ncols": 111,
       "nrows": 30,
       "postfix": null,
       "prefix": "Training",
       "rate": null,
       "total": null,
       "unit": "it",
       "unit_divisor": 1000,
       "unit_scale": false
      },
      "application/vnd.jupyter.widget-view+json": {
       "model_id": "7012fa21c3d640d98cc1ee68af2cd43d",
       "version_major": 2,
       "version_minor": 0
      },
      "text/plain": [
       "Training: 0it [00:00, ?it/s]"
      ]
     },
     "metadata": {},
     "output_type": "display_data"
    },
    {
     "data": {
      "application/json": {
       "ascii": false,
       "bar_format": null,
       "colour": null,
       "elapsed": 0.009856939315795898,
       "initial": 0,
       "n": 0,
       "ncols": 111,
       "nrows": 30,
       "postfix": null,
       "prefix": "Validating",
       "rate": null,
       "total": null,
       "unit": "it",
       "unit_divisor": 1000,
       "unit_scale": false
      },
      "application/vnd.jupyter.widget-view+json": {
       "model_id": "c7f92dd95ef44307aac01cda40d408fe",
       "version_major": 2,
       "version_minor": 0
      },
      "text/plain": [
       "Validating: 0it [00:00, ?it/s]"
      ]
     },
     "metadata": {},
     "output_type": "display_data"
    },
    {
     "data": {
      "application/json": {
       "ascii": false,
       "bar_format": null,
       "colour": null,
       "elapsed": 0.010192394256591797,
       "initial": 0,
       "n": 0,
       "ncols": 111,
       "nrows": 30,
       "postfix": null,
       "prefix": "Validating",
       "rate": null,
       "total": null,
       "unit": "it",
       "unit_divisor": 1000,
       "unit_scale": false
      },
      "application/vnd.jupyter.widget-view+json": {
       "model_id": "6156142371bf48ab84fd529a7e29e8d0",
       "version_major": 2,
       "version_minor": 0
      },
      "text/plain": [
       "Validating: 0it [00:00, ?it/s]"
      ]
     },
     "metadata": {},
     "output_type": "display_data"
    },
    {
     "name": "stderr",
     "output_type": "stream",
     "text": [
      "\u001b[32m[I 2023-11-02 17:37:40,609]\u001b[0m Trial 0 finished with value: 0.5 and parameters: {'d_model': 64, 'factor': 3, 'n_heads': 2, 'dropout': 0.4669987903955556, 'd_ff': 1024, 'e_layers': 3, 'sparsification_type': None}. Best is trial 0 with value: 0.5.\u001b[0m\n",
      "GPU available: False, used: False\n",
      "TPU available: False, using: 0 TPU cores\n",
      "\n",
      "  | Name          | Type                | Params\n",
      "------------------------------------------------------\n",
      "0 | model         | TripletArchitecture | 496 K \n",
      "1 | loss_function | TripletMarginLoss   | 0     \n",
      "------------------------------------------------------\n",
      "496 K     Trainable params\n",
      "0         Non-trainable params\n",
      "496 K     Total params\n",
      "1.988     Total estimated model params size (MB)\n"
     ]
    },
    {
     "data": {
      "application/json": {
       "ascii": false,
       "bar_format": null,
       "colour": null,
       "elapsed": 0.008377552032470703,
       "initial": 0,
       "n": 0,
       "ncols": 111,
       "nrows": 30,
       "postfix": null,
       "prefix": "Validation sanity check",
       "rate": null,
       "total": null,
       "unit": "it",
       "unit_divisor": 1000,
       "unit_scale": false
      },
      "application/vnd.jupyter.widget-view+json": {
       "model_id": "14218fd654e8457d9c6a9e2d49929b62",
       "version_major": 2,
       "version_minor": 0
      },
      "text/plain": [
       "Validation sanity check: 0it [00:00, ?it/s]"
      ]
     },
     "metadata": {},
     "output_type": "display_data"
    },
    {
     "data": {
      "application/json": {
       "ascii": false,
       "bar_format": null,
       "colour": null,
       "elapsed": 0.012580156326293945,
       "initial": 0,
       "n": 0,
       "ncols": 111,
       "nrows": 30,
       "postfix": null,
       "prefix": "Training",
       "rate": null,
       "total": null,
       "unit": "it",
       "unit_divisor": 1000,
       "unit_scale": false
      },
      "application/vnd.jupyter.widget-view+json": {
       "model_id": "76ba813576d84162bda23506329da691",
       "version_major": 2,
       "version_minor": 0
      },
      "text/plain": [
       "Training: 0it [00:00, ?it/s]"
      ]
     },
     "metadata": {},
     "output_type": "display_data"
    },
    {
     "data": {
      "application/json": {
       "ascii": false,
       "bar_format": null,
       "colour": null,
       "elapsed": 0.009823322296142578,
       "initial": 0,
       "n": 0,
       "ncols": 111,
       "nrows": 30,
       "postfix": null,
       "prefix": "Validating",
       "rate": null,
       "total": null,
       "unit": "it",
       "unit_divisor": 1000,
       "unit_scale": false
      },
      "application/vnd.jupyter.widget-view+json": {
       "model_id": "d880957ae8f043ffbdf5125f8cb50dfc",
       "version_major": 2,
       "version_minor": 0
      },
      "text/plain": [
       "Validating: 0it [00:00, ?it/s]"
      ]
     },
     "metadata": {},
     "output_type": "display_data"
    },
    {
     "data": {
      "application/json": {
       "ascii": false,
       "bar_format": null,
       "colour": null,
       "elapsed": 0.014431238174438477,
       "initial": 0,
       "n": 0,
       "ncols": 111,
       "nrows": 30,
       "postfix": null,
       "prefix": "Validating",
       "rate": null,
       "total": null,
       "unit": "it",
       "unit_divisor": 1000,
       "unit_scale": false
      },
      "application/vnd.jupyter.widget-view+json": {
       "model_id": "a6fd011aec6b456abfc7ef4f19d8a79a",
       "version_major": 2,
       "version_minor": 0
      },
      "text/plain": [
       "Validating: 0it [00:00, ?it/s]"
      ]
     },
     "metadata": {},
     "output_type": "display_data"
    },
    {
     "name": "stderr",
     "output_type": "stream",
     "text": [
      "GPU available: False, used: False\n",
      "TPU available: False, using: 0 TPU cores\n",
      "\n",
      "  | Name          | Type                | Params\n",
      "------------------------------------------------------\n",
      "0 | model         | TripletArchitecture | 496 K \n",
      "1 | loss_function | TripletMarginLoss   | 0     \n",
      "------------------------------------------------------\n",
      "496 K     Trainable params\n",
      "0         Non-trainable params\n",
      "496 K     Total params\n",
      "1.988     Total estimated model params size (MB)\n"
     ]
    },
    {
     "data": {
      "application/json": {
       "ascii": false,
       "bar_format": null,
       "colour": null,
       "elapsed": 0.008757591247558594,
       "initial": 0,
       "n": 0,
       "ncols": 111,
       "nrows": 30,
       "postfix": null,
       "prefix": "Validation sanity check",
       "rate": null,
       "total": null,
       "unit": "it",
       "unit_divisor": 1000,
       "unit_scale": false
      },
      "application/vnd.jupyter.widget-view+json": {
       "model_id": "e3429d97bdc14a77b64c8521f08048e0",
       "version_major": 2,
       "version_minor": 0
      },
      "text/plain": [
       "Validation sanity check: 0it [00:00, ?it/s]"
      ]
     },
     "metadata": {},
     "output_type": "display_data"
    },
    {
     "data": {
      "application/json": {
       "ascii": false,
       "bar_format": null,
       "colour": null,
       "elapsed": 0.014204978942871094,
       "initial": 0,
       "n": 0,
       "ncols": 111,
       "nrows": 30,
       "postfix": null,
       "prefix": "Training",
       "rate": null,
       "total": null,
       "unit": "it",
       "unit_divisor": 1000,
       "unit_scale": false
      },
      "application/vnd.jupyter.widget-view+json": {
       "model_id": "13b4dda5ebf544e89ef07b18029937ce",
       "version_major": 2,
       "version_minor": 0
      },
      "text/plain": [
       "Training: 0it [00:00, ?it/s]"
      ]
     },
     "metadata": {},
     "output_type": "display_data"
    },
    {
     "data": {
      "application/json": {
       "ascii": false,
       "bar_format": null,
       "colour": null,
       "elapsed": 0.008777856826782227,
       "initial": 0,
       "n": 0,
       "ncols": 111,
       "nrows": 30,
       "postfix": null,
       "prefix": "Validating",
       "rate": null,
       "total": null,
       "unit": "it",
       "unit_divisor": 1000,
       "unit_scale": false
      },
      "application/vnd.jupyter.widget-view+json": {
       "model_id": "b0dcb2093555497896d8c2c65c6536c8",
       "version_major": 2,
       "version_minor": 0
      },
      "text/plain": [
       "Validating: 0it [00:00, ?it/s]"
      ]
     },
     "metadata": {},
     "output_type": "display_data"
    },
    {
     "data": {
      "application/json": {
       "ascii": false,
       "bar_format": null,
       "colour": null,
       "elapsed": 0.009816408157348633,
       "initial": 0,
       "n": 0,
       "ncols": 111,
       "nrows": 30,
       "postfix": null,
       "prefix": "Validating",
       "rate": null,
       "total": null,
       "unit": "it",
       "unit_divisor": 1000,
       "unit_scale": false
      },
      "application/vnd.jupyter.widget-view+json": {
       "model_id": "bb5f3790a8f945a0ac653ead7b73bb36",
       "version_major": 2,
       "version_minor": 0
      },
      "text/plain": [
       "Validating: 0it [00:00, ?it/s]"
      ]
     },
     "metadata": {},
     "output_type": "display_data"
    },
    {
     "name": "stderr",
     "output_type": "stream",
     "text": [
      "\u001b[32m[I 2023-11-02 17:37:49,323]\u001b[0m Trial 1 finished with value: 0.5 and parameters: {'d_model': 64, 'factor': 5, 'n_heads': 6, 'dropout': 0.45084989666357744, 'd_ff': 512, 'e_layers': 6, 'sparsification_type': None}. Best is trial 0 with value: 0.5.\u001b[0m\n",
      "GPU available: False, used: False\n",
      "TPU available: False, using: 0 TPU cores\n",
      "\n",
      "  | Name          | Type                | Params\n",
      "------------------------------------------------------\n",
      "0 | model         | TripletArchitecture | 452 K \n",
      "1 | loss_function | TripletMarginLoss   | 0     \n",
      "------------------------------------------------------\n",
      "452 K     Trainable params\n",
      "0         Non-trainable params\n",
      "452 K     Total params\n",
      "1.809     Total estimated model params size (MB)\n"
     ]
    },
    {
     "name": "stdout",
     "output_type": "stream",
     "text": [
      "best_params: {'d_model': 64, 'factor': 3, 'n_heads': 2, 'dropout': 0.4669987903955556, 'd_ff': 1024, 'e_layers': 3, 'sparsification_type': None}\n"
     ]
    },
    {
     "data": {
      "application/json": {
       "ascii": false,
       "bar_format": null,
       "colour": null,
       "elapsed": 0.009381771087646484,
       "initial": 0,
       "n": 0,
       "ncols": 111,
       "nrows": 30,
       "postfix": null,
       "prefix": "Validation sanity check",
       "rate": null,
       "total": null,
       "unit": "it",
       "unit_divisor": 1000,
       "unit_scale": false
      },
      "application/vnd.jupyter.widget-view+json": {
       "model_id": "4418c6f9981142969a27c050e7c62edd",
       "version_major": 2,
       "version_minor": 0
      },
      "text/plain": [
       "Validation sanity check: 0it [00:00, ?it/s]"
      ]
     },
     "metadata": {},
     "output_type": "display_data"
    },
    {
     "data": {
      "application/json": {
       "ascii": false,
       "bar_format": null,
       "colour": null,
       "elapsed": 0.009114742279052734,
       "initial": 0,
       "n": 0,
       "ncols": 111,
       "nrows": 30,
       "postfix": null,
       "prefix": "Training",
       "rate": null,
       "total": null,
       "unit": "it",
       "unit_divisor": 1000,
       "unit_scale": false
      },
      "application/vnd.jupyter.widget-view+json": {
       "model_id": "64a9c60b93d145028c4f4148825de645",
       "version_major": 2,
       "version_minor": 0
      },
      "text/plain": [
       "Training: 0it [00:00, ?it/s]"
      ]
     },
     "metadata": {},
     "output_type": "display_data"
    },
    {
     "data": {
      "application/json": {
       "ascii": false,
       "bar_format": null,
       "colour": null,
       "elapsed": 0.016544818878173828,
       "initial": 0,
       "n": 0,
       "ncols": 111,
       "nrows": 30,
       "postfix": null,
       "prefix": "Validating",
       "rate": null,
       "total": null,
       "unit": "it",
       "unit_divisor": 1000,
       "unit_scale": false
      },
      "application/vnd.jupyter.widget-view+json": {
       "model_id": "a046182d13ee45f09973cfbd0f33c65e",
       "version_major": 2,
       "version_minor": 0
      },
      "text/plain": [
       "Validating: 0it [00:00, ?it/s]"
      ]
     },
     "metadata": {},
     "output_type": "display_data"
    },
    {
     "data": {
      "application/json": {
       "ascii": false,
       "bar_format": null,
       "colour": null,
       "elapsed": 0.015414953231811523,
       "initial": 0,
       "n": 0,
       "ncols": 111,
       "nrows": 30,
       "postfix": null,
       "prefix": "Validating",
       "rate": null,
       "total": null,
       "unit": "it",
       "unit_divisor": 1000,
       "unit_scale": false
      },
      "application/vnd.jupyter.widget-view+json": {
       "model_id": "52669872a8a94ae78bc06dbc7d7b0cda",
       "version_major": 2,
       "version_minor": 0
      },
      "text/plain": [
       "Validating: 0it [00:00, ?it/s]"
      ]
     },
     "metadata": {},
     "output_type": "display_data"
    },
    {
     "name": "stderr",
     "output_type": "stream",
     "text": [
      "GPU available: False, used: False\n",
      "TPU available: False, using: 0 TPU cores\n",
      "\n",
      "  | Name          | Type                | Params\n",
      "------------------------------------------------------\n",
      "0 | model         | TripletArchitecture | 452 K \n",
      "1 | loss_function | TripletMarginLoss   | 0     \n",
      "------------------------------------------------------\n",
      "452 K     Trainable params\n",
      "0         Non-trainable params\n",
      "452 K     Total params\n",
      "1.809     Total estimated model params size (MB)\n"
     ]
    },
    {
     "data": {
      "application/json": {
       "ascii": false,
       "bar_format": null,
       "colour": null,
       "elapsed": 0.009225606918334961,
       "initial": 0,
       "n": 0,
       "ncols": 111,
       "nrows": 30,
       "postfix": null,
       "prefix": "Validation sanity check",
       "rate": null,
       "total": null,
       "unit": "it",
       "unit_divisor": 1000,
       "unit_scale": false
      },
      "application/vnd.jupyter.widget-view+json": {
       "model_id": "8dddb078286e45339cbf4e9d6a9bb4d0",
       "version_major": 2,
       "version_minor": 0
      },
      "text/plain": [
       "Validation sanity check: 0it [00:00, ?it/s]"
      ]
     },
     "metadata": {},
     "output_type": "display_data"
    },
    {
     "data": {
      "application/json": {
       "ascii": false,
       "bar_format": null,
       "colour": null,
       "elapsed": 0.011825799942016602,
       "initial": 0,
       "n": 0,
       "ncols": 111,
       "nrows": 30,
       "postfix": null,
       "prefix": "Training",
       "rate": null,
       "total": null,
       "unit": "it",
       "unit_divisor": 1000,
       "unit_scale": false
      },
      "application/vnd.jupyter.widget-view+json": {
       "model_id": "a03ae3a4a1d344f6a6c52115a88b251b",
       "version_major": 2,
       "version_minor": 0
      },
      "text/plain": [
       "Training: 0it [00:00, ?it/s]"
      ]
     },
     "metadata": {},
     "output_type": "display_data"
    },
    {
     "data": {
      "application/json": {
       "ascii": false,
       "bar_format": null,
       "colour": null,
       "elapsed": 0.0093231201171875,
       "initial": 0,
       "n": 0,
       "ncols": 111,
       "nrows": 30,
       "postfix": null,
       "prefix": "Validating",
       "rate": null,
       "total": null,
       "unit": "it",
       "unit_divisor": 1000,
       "unit_scale": false
      },
      "application/vnd.jupyter.widget-view+json": {
       "model_id": "58359b4923eb4dad87bfee5982364f2b",
       "version_major": 2,
       "version_minor": 0
      },
      "text/plain": [
       "Validating: 0it [00:00, ?it/s]"
      ]
     },
     "metadata": {},
     "output_type": "display_data"
    },
    {
     "data": {
      "application/json": {
       "ascii": false,
       "bar_format": null,
       "colour": null,
       "elapsed": 0.009953022003173828,
       "initial": 0,
       "n": 0,
       "ncols": 111,
       "nrows": 30,
       "postfix": null,
       "prefix": "Validating",
       "rate": null,
       "total": null,
       "unit": "it",
       "unit_divisor": 1000,
       "unit_scale": false
      },
      "application/vnd.jupyter.widget-view+json": {
       "model_id": "e4b80f97462140e6b8441458476b1ef2",
       "version_major": 2,
       "version_minor": 0
      },
      "text/plain": [
       "Validating: 0it [00:00, ?it/s]"
      ]
     },
     "metadata": {},
     "output_type": "display_data"
    },
    {
     "name": "stdout",
     "output_type": "stream",
     "text": [
      "Accuracy: nan ± nan\n",
      "Precision: nan ± nan\n",
      "Recall: nan ± nan\n",
      "ROC AUC: nan ± nan\n",
      "PR AUC: nan ± nan\n",
      "--------------------------------------------------\n",
      "Eucl_Accuracy: 1.000 ± 0.000\n",
      "Eucl_Precision: nan ± nan\n",
      "Eucl_Recall: 0.000 ± 0.000\n",
      "Eucl_ROC AUC: 0.500 ± 0.000\n",
      "Eucl_PR AUC: 1.000 ± 0.000\n",
      "--------------------------------------------------\n",
      "Cos_Accuracy: 1.000 ± 0.000\n",
      "Cos_Precision: 0.500 ± 0.000\n",
      "Cos_Recall: 1.000 ± 0.000\n",
      "Cos_ROC AUC: 0.500 ± 0.000\n",
      "Cos_PR AUC: 1.000 ± 0.000\n",
      "--------------------------------------------------\n",
      "\n",
      "all_results: ({'Accuracy': [], 'Precision': [], 'Recall': [], 'ROC AUC': [], 'PR AUC': []}, {'Eucl_Accuracy': [1.0, 1.0], 'Eucl_Precision': [nan, nan], 'Eucl_Recall': [0.0, 0.0], 'Eucl_ROC AUC': [0.5, 0.5], 'Eucl_PR AUC': [1.0, 1.0]}, {'Cos_Accuracy': [1.0, 1.0], 'Cos_Precision': [0.5, 0.5], 'Cos_Recall': [1.0, 1.0], 'Cos_ROC AUC': [0.5, 0.5], 'Cos_PR AUC': [1.0, 1.0]})\n",
      "****************************************************************************************************\n"
     ]
    }
   ],
   "source": [
    "ans_df = pd.DataFrame()\n",
    "\n",
    "for loss_type in [\"siamese\", \"triplet\"]: \n",
    "    default_params_reguformer[\"sparsification_type\"] = None\n",
    "    specific_params_reguformer[\"sparsification_type\"] = (\"cat\", [None])\n",
    "\n",
    "    res_model, results, roc_auc_all_trials = utils_cv.optuna_hpo_and_best_model_evaluation(\n",
    "        model_type=\"{}_reguformer_None\".format(loss_type),\n",
    "        device=device,\n",
    "        gpu=gpu,\n",
    "        n_trials=n_trials,\n",
    "        fixed_params=fixed_params,\n",
    "        default_params=default_params_reguformer,\n",
    "        specific_params=specific_params_reguformer,\n",
    "        data_kwargs=data_kwargs,\n",
    "    )\n",
    "    np.save(\n",
    "        os.path.join(data_kwargs[\"save_dir\"], \"roc_auc_{}_transformer.npy\".format(loss_type)),\n",
    "        roc_auc_all_trials,\n",
    "    )\n",
    "    torch.save(\n",
    "        res_model.state_dict(), \n",
    "        os.path.join(\n",
    "            data_kwargs[\"save_dir\"], 'res_{}_transformer.pth'.format(loss_type)\n",
    "        ),\n",
    "    )\n",
    "    ans_df = ans_df.append(get_dict(results, \"Transformer\"))\n",
    "    \n",
    "ans_df.to_csv(\n",
    "    os.path.join(\n",
    "        data_kwargs[\"save_dir\"], \"res_df_{}_transformers.csv\".format(loss_type)\n",
    "    )\n",
    ")"
   ]
  },
  {
   "cell_type": "markdown",
   "metadata": {},
   "source": [
    "# Performer"
   ]
  },
  {
   "cell_type": "code",
   "execution_count": 14,
   "metadata": {},
   "outputs": [],
   "source": [
    "fixed_params_per = {\n",
    "    \"dim\": 4,\n",
    "    \"device\": device,\n",
    "    \"use_relu_kernel\": False,\n",
    "    \"n_seq\": 100\n",
    "}\n",
    "\n",
    "default_params_per = {} \n",
    "\n",
    "specific_params_per = {\n",
    "    \"head_num\": (\"cat\", [2, 4]),\n",
    "    \"dropout\": (\"float\", [0.1, 0.9]),\n",
    "    \"nb_random_features\": (\"int\", [1, 4])\n",
    "}"
   ]
  },
  {
   "cell_type": "code",
   "execution_count": 15,
   "metadata": {},
   "outputs": [
    {
     "name": "stderr",
     "output_type": "stream",
     "text": [
      "\u001b[32m[I 2023-11-02 17:46:16,828]\u001b[0m A new study created in memory with name: no-name-35bd682d-ff73-46ec-92e9-2d56636c1ee0\u001b[0m\n",
      "GPU available: False, used: False\n",
      "TPU available: False, using: 0 TPU cores\n",
      "\n",
      "  | Name          | Type                | Params\n",
      "------------------------------------------------------\n",
      "0 | model         | SiameseArchitecture | 697   \n",
      "1 | loss_function | BCELoss             | 0     \n",
      "------------------------------------------------------\n",
      "697       Trainable params\n",
      "0         Non-trainable params\n",
      "697       Total params\n",
      "0.003     Total estimated model params size (MB)\n"
     ]
    },
    {
     "name": "stdout",
     "output_type": "stream",
     "text": [
      "model_type: siamese_performer\n"
     ]
    },
    {
     "data": {
      "application/json": {
       "ascii": false,
       "bar_format": null,
       "colour": null,
       "elapsed": 0.016243457794189453,
       "initial": 0,
       "n": 0,
       "ncols": 111,
       "nrows": 30,
       "postfix": null,
       "prefix": "Validation sanity check",
       "rate": null,
       "total": null,
       "unit": "it",
       "unit_divisor": 1000,
       "unit_scale": false
      },
      "application/vnd.jupyter.widget-view+json": {
       "model_id": "cbeb400043f041fbb4b1781c8bef55ca",
       "version_major": 2,
       "version_minor": 0
      },
      "text/plain": [
       "Validation sanity check: 0it [00:00, ?it/s]"
      ]
     },
     "metadata": {},
     "output_type": "display_data"
    },
    {
     "data": {
      "application/json": {
       "ascii": false,
       "bar_format": null,
       "colour": null,
       "elapsed": 0.009752750396728516,
       "initial": 0,
       "n": 0,
       "ncols": 111,
       "nrows": 30,
       "postfix": null,
       "prefix": "Training",
       "rate": null,
       "total": null,
       "unit": "it",
       "unit_divisor": 1000,
       "unit_scale": false
      },
      "application/vnd.jupyter.widget-view+json": {
       "model_id": "0aeb507ca7f44ae69a90d9a1dd8ceb2a",
       "version_major": 2,
       "version_minor": 0
      },
      "text/plain": [
       "Training: 0it [00:00, ?it/s]"
      ]
     },
     "metadata": {},
     "output_type": "display_data"
    },
    {
     "data": {
      "application/json": {
       "ascii": false,
       "bar_format": null,
       "colour": null,
       "elapsed": 0.010406732559204102,
       "initial": 0,
       "n": 0,
       "ncols": 111,
       "nrows": 30,
       "postfix": null,
       "prefix": "Validating",
       "rate": null,
       "total": null,
       "unit": "it",
       "unit_divisor": 1000,
       "unit_scale": false
      },
      "application/vnd.jupyter.widget-view+json": {
       "model_id": "ed78f2b10b9740a9ab03823f0af82ed8",
       "version_major": 2,
       "version_minor": 0
      },
      "text/plain": [
       "Validating: 0it [00:00, ?it/s]"
      ]
     },
     "metadata": {},
     "output_type": "display_data"
    },
    {
     "data": {
      "application/json": {
       "ascii": false,
       "bar_format": null,
       "colour": null,
       "elapsed": 0.010042667388916016,
       "initial": 0,
       "n": 0,
       "ncols": 111,
       "nrows": 30,
       "postfix": null,
       "prefix": "Validating",
       "rate": null,
       "total": null,
       "unit": "it",
       "unit_divisor": 1000,
       "unit_scale": false
      },
      "application/vnd.jupyter.widget-view+json": {
       "model_id": "d36ca80d8a5549cdb7c0c165f0065a82",
       "version_major": 2,
       "version_minor": 0
      },
      "text/plain": [
       "Validating: 0it [00:00, ?it/s]"
      ]
     },
     "metadata": {},
     "output_type": "display_data"
    },
    {
     "name": "stderr",
     "output_type": "stream",
     "text": [
      "GPU available: False, used: False\n",
      "TPU available: False, using: 0 TPU cores\n",
      "\n",
      "  | Name          | Type                | Params\n",
      "------------------------------------------------------\n",
      "0 | model         | SiameseArchitecture | 697   \n",
      "1 | loss_function | BCELoss             | 0     \n",
      "------------------------------------------------------\n",
      "697       Trainable params\n",
      "0         Non-trainable params\n",
      "697       Total params\n",
      "0.003     Total estimated model params size (MB)\n"
     ]
    },
    {
     "name": "stdout",
     "output_type": "stream",
     "text": [
      "Accuracy:0.43, ROC_AUC:0.428, PR_AUC:0.445\n"
     ]
    },
    {
     "data": {
      "application/json": {
       "ascii": false,
       "bar_format": null,
       "colour": null,
       "elapsed": 0.009464502334594727,
       "initial": 0,
       "n": 0,
       "ncols": 111,
       "nrows": 30,
       "postfix": null,
       "prefix": "Validation sanity check",
       "rate": null,
       "total": null,
       "unit": "it",
       "unit_divisor": 1000,
       "unit_scale": false
      },
      "application/vnd.jupyter.widget-view+json": {
       "model_id": "c02877bae28d45d182114ae78ffeccf1",
       "version_major": 2,
       "version_minor": 0
      },
      "text/plain": [
       "Validation sanity check: 0it [00:00, ?it/s]"
      ]
     },
     "metadata": {},
     "output_type": "display_data"
    },
    {
     "data": {
      "application/json": {
       "ascii": false,
       "bar_format": null,
       "colour": null,
       "elapsed": 0.009589195251464844,
       "initial": 0,
       "n": 0,
       "ncols": 111,
       "nrows": 30,
       "postfix": null,
       "prefix": "Training",
       "rate": null,
       "total": null,
       "unit": "it",
       "unit_divisor": 1000,
       "unit_scale": false
      },
      "application/vnd.jupyter.widget-view+json": {
       "model_id": "14c985ef0cf44e0ca3b7f8704fe64242",
       "version_major": 2,
       "version_minor": 0
      },
      "text/plain": [
       "Training: 0it [00:00, ?it/s]"
      ]
     },
     "metadata": {},
     "output_type": "display_data"
    },
    {
     "data": {
      "application/json": {
       "ascii": false,
       "bar_format": null,
       "colour": null,
       "elapsed": 0.00975489616394043,
       "initial": 0,
       "n": 0,
       "ncols": 111,
       "nrows": 30,
       "postfix": null,
       "prefix": "Validating",
       "rate": null,
       "total": null,
       "unit": "it",
       "unit_divisor": 1000,
       "unit_scale": false
      },
      "application/vnd.jupyter.widget-view+json": {
       "model_id": "90218d23b5b24af393fe1c7160692ba8",
       "version_major": 2,
       "version_minor": 0
      },
      "text/plain": [
       "Validating: 0it [00:00, ?it/s]"
      ]
     },
     "metadata": {},
     "output_type": "display_data"
    },
    {
     "data": {
      "application/json": {
       "ascii": false,
       "bar_format": null,
       "colour": null,
       "elapsed": 0.009377002716064453,
       "initial": 0,
       "n": 0,
       "ncols": 111,
       "nrows": 30,
       "postfix": null,
       "prefix": "Validating",
       "rate": null,
       "total": null,
       "unit": "it",
       "unit_divisor": 1000,
       "unit_scale": false
      },
      "application/vnd.jupyter.widget-view+json": {
       "model_id": "31f6eb9e6b40463abeb90d69f48a64bc",
       "version_major": 2,
       "version_minor": 0
      },
      "text/plain": [
       "Validating: 0it [00:00, ?it/s]"
      ]
     },
     "metadata": {},
     "output_type": "display_data"
    },
    {
     "name": "stderr",
     "output_type": "stream",
     "text": [
      "\u001b[32m[I 2023-11-02 17:46:19,707]\u001b[0m Trial 0 finished with value: 0.4589 and parameters: {'head_num': 4, 'dropout': 0.40360448879517197, 'nb_random_features': 3}. Best is trial 0 with value: 0.4589.\u001b[0m\n",
      "GPU available: False, used: False\n",
      "TPU available: False, using: 0 TPU cores\n",
      "\n",
      "  | Name          | Type                | Params\n",
      "------------------------------------------------------\n",
      "0 | model         | SiameseArchitecture | 697   \n",
      "1 | loss_function | BCELoss             | 0     \n",
      "------------------------------------------------------\n",
      "697       Trainable params\n",
      "0         Non-trainable params\n",
      "697       Total params\n",
      "0.003     Total estimated model params size (MB)\n"
     ]
    },
    {
     "name": "stdout",
     "output_type": "stream",
     "text": [
      "Accuracy:0.5, ROC_AUC:0.49, PR_AUC:0.501\n"
     ]
    },
    {
     "data": {
      "application/json": {
       "ascii": false,
       "bar_format": null,
       "colour": null,
       "elapsed": 0.014734506607055664,
       "initial": 0,
       "n": 0,
       "ncols": 111,
       "nrows": 30,
       "postfix": null,
       "prefix": "Validation sanity check",
       "rate": null,
       "total": null,
       "unit": "it",
       "unit_divisor": 1000,
       "unit_scale": false
      },
      "application/vnd.jupyter.widget-view+json": {
       "model_id": "b039d915e1be44cb99c680c163d24889",
       "version_major": 2,
       "version_minor": 0
      },
      "text/plain": [
       "Validation sanity check: 0it [00:00, ?it/s]"
      ]
     },
     "metadata": {},
     "output_type": "display_data"
    },
    {
     "data": {
      "application/json": {
       "ascii": false,
       "bar_format": null,
       "colour": null,
       "elapsed": 0.010549306869506836,
       "initial": 0,
       "n": 0,
       "ncols": 111,
       "nrows": 30,
       "postfix": null,
       "prefix": "Training",
       "rate": null,
       "total": null,
       "unit": "it",
       "unit_divisor": 1000,
       "unit_scale": false
      },
      "application/vnd.jupyter.widget-view+json": {
       "model_id": "218659ec977348a49a61c6df777d8ffd",
       "version_major": 2,
       "version_minor": 0
      },
      "text/plain": [
       "Training: 0it [00:00, ?it/s]"
      ]
     },
     "metadata": {},
     "output_type": "display_data"
    },
    {
     "data": {
      "application/json": {
       "ascii": false,
       "bar_format": null,
       "colour": null,
       "elapsed": 0.010432958602905273,
       "initial": 0,
       "n": 0,
       "ncols": 111,
       "nrows": 30,
       "postfix": null,
       "prefix": "Validating",
       "rate": null,
       "total": null,
       "unit": "it",
       "unit_divisor": 1000,
       "unit_scale": false
      },
      "application/vnd.jupyter.widget-view+json": {
       "model_id": "511130b0ac454124b882c80da21bcca8",
       "version_major": 2,
       "version_minor": 0
      },
      "text/plain": [
       "Validating: 0it [00:00, ?it/s]"
      ]
     },
     "metadata": {},
     "output_type": "display_data"
    },
    {
     "data": {
      "application/json": {
       "ascii": false,
       "bar_format": null,
       "colour": null,
       "elapsed": 0.010666370391845703,
       "initial": 0,
       "n": 0,
       "ncols": 111,
       "nrows": 30,
       "postfix": null,
       "prefix": "Validating",
       "rate": null,
       "total": null,
       "unit": "it",
       "unit_divisor": 1000,
       "unit_scale": false
      },
      "application/vnd.jupyter.widget-view+json": {
       "model_id": "f06424b0afac44529218f32d34ff0d4d",
       "version_major": 2,
       "version_minor": 0
      },
      "text/plain": [
       "Validating: 0it [00:00, ?it/s]"
      ]
     },
     "metadata": {},
     "output_type": "display_data"
    },
    {
     "name": "stderr",
     "output_type": "stream",
     "text": [
      "GPU available: False, used: False\n",
      "TPU available: False, using: 0 TPU cores\n",
      "\n",
      "  | Name          | Type                | Params\n",
      "------------------------------------------------------\n",
      "0 | model         | SiameseArchitecture | 697   \n",
      "1 | loss_function | BCELoss             | 0     \n",
      "------------------------------------------------------\n",
      "697       Trainable params\n",
      "0         Non-trainable params\n",
      "697       Total params\n",
      "0.003     Total estimated model params size (MB)\n"
     ]
    },
    {
     "name": "stdout",
     "output_type": "stream",
     "text": [
      "Accuracy:0.5, ROC_AUC:0.471, PR_AUC:0.48\n"
     ]
    },
    {
     "data": {
      "application/json": {
       "ascii": false,
       "bar_format": null,
       "colour": null,
       "elapsed": 0.009504079818725586,
       "initial": 0,
       "n": 0,
       "ncols": 111,
       "nrows": 30,
       "postfix": null,
       "prefix": "Validation sanity check",
       "rate": null,
       "total": null,
       "unit": "it",
       "unit_divisor": 1000,
       "unit_scale": false
      },
      "application/vnd.jupyter.widget-view+json": {
       "model_id": "b95163b00b124674b7db0ed06161e140",
       "version_major": 2,
       "version_minor": 0
      },
      "text/plain": [
       "Validation sanity check: 0it [00:00, ?it/s]"
      ]
     },
     "metadata": {},
     "output_type": "display_data"
    },
    {
     "data": {
      "application/json": {
       "ascii": false,
       "bar_format": null,
       "colour": null,
       "elapsed": 0.010480403900146484,
       "initial": 0,
       "n": 0,
       "ncols": 111,
       "nrows": 30,
       "postfix": null,
       "prefix": "Training",
       "rate": null,
       "total": null,
       "unit": "it",
       "unit_divisor": 1000,
       "unit_scale": false
      },
      "application/vnd.jupyter.widget-view+json": {
       "model_id": "17ba8405f76d447d976b847cf842a514",
       "version_major": 2,
       "version_minor": 0
      },
      "text/plain": [
       "Training: 0it [00:00, ?it/s]"
      ]
     },
     "metadata": {},
     "output_type": "display_data"
    },
    {
     "data": {
      "application/json": {
       "ascii": false,
       "bar_format": null,
       "colour": null,
       "elapsed": 0.009441137313842773,
       "initial": 0,
       "n": 0,
       "ncols": 111,
       "nrows": 30,
       "postfix": null,
       "prefix": "Validating",
       "rate": null,
       "total": null,
       "unit": "it",
       "unit_divisor": 1000,
       "unit_scale": false
      },
      "application/vnd.jupyter.widget-view+json": {
       "model_id": "7b85dcc155a7468c998cc3c0c1588f93",
       "version_major": 2,
       "version_minor": 0
      },
      "text/plain": [
       "Validating: 0it [00:00, ?it/s]"
      ]
     },
     "metadata": {},
     "output_type": "display_data"
    },
    {
     "data": {
      "application/json": {
       "ascii": false,
       "bar_format": null,
       "colour": null,
       "elapsed": 0.009487152099609375,
       "initial": 0,
       "n": 0,
       "ncols": 111,
       "nrows": 30,
       "postfix": null,
       "prefix": "Validating",
       "rate": null,
       "total": null,
       "unit": "it",
       "unit_divisor": 1000,
       "unit_scale": false
      },
      "application/vnd.jupyter.widget-view+json": {
       "model_id": "421bc2a14ed84e83b161dd33e1e26ea7",
       "version_major": 2,
       "version_minor": 0
      },
      "text/plain": [
       "Validating: 0it [00:00, ?it/s]"
      ]
     },
     "metadata": {},
     "output_type": "display_data"
    },
    {
     "name": "stderr",
     "output_type": "stream",
     "text": [
      "\u001b[32m[I 2023-11-02 17:46:22,508]\u001b[0m Trial 1 finished with value: 0.4952000000000001 and parameters: {'head_num': 2, 'dropout': 0.19334168964375148, 'nb_random_features': 2}. Best is trial 1 with value: 0.4952000000000001.\u001b[0m\n",
      "GPU available: False, used: False\n",
      "TPU available: False, using: 0 TPU cores\n",
      "\n",
      "  | Name          | Type                | Params\n",
      "------------------------------------------------------\n",
      "0 | model         | SiameseArchitecture | 697   \n",
      "1 | loss_function | BCELoss             | 0     \n",
      "------------------------------------------------------\n",
      "697       Trainable params\n",
      "0         Non-trainable params\n",
      "697       Total params\n",
      "0.003     Total estimated model params size (MB)\n"
     ]
    },
    {
     "name": "stdout",
     "output_type": "stream",
     "text": [
      "Accuracy:0.52, ROC_AUC:0.52, PR_AUC:0.51\n",
      "best_params: {'head_num': 2, 'dropout': 0.19334168964375148, 'nb_random_features': 2}\n"
     ]
    },
    {
     "data": {
      "application/json": {
       "ascii": false,
       "bar_format": null,
       "colour": null,
       "elapsed": 0.010084867477416992,
       "initial": 0,
       "n": 0,
       "ncols": 111,
       "nrows": 30,
       "postfix": null,
       "prefix": "Validation sanity check",
       "rate": null,
       "total": null,
       "unit": "it",
       "unit_divisor": 1000,
       "unit_scale": false
      },
      "application/vnd.jupyter.widget-view+json": {
       "model_id": "d3b973600a934b59826dbc2c47c797f1",
       "version_major": 2,
       "version_minor": 0
      },
      "text/plain": [
       "Validation sanity check: 0it [00:00, ?it/s]"
      ]
     },
     "metadata": {},
     "output_type": "display_data"
    },
    {
     "data": {
      "application/json": {
       "ascii": false,
       "bar_format": null,
       "colour": null,
       "elapsed": 0.009924173355102539,
       "initial": 0,
       "n": 0,
       "ncols": 111,
       "nrows": 30,
       "postfix": null,
       "prefix": "Training",
       "rate": null,
       "total": null,
       "unit": "it",
       "unit_divisor": 1000,
       "unit_scale": false
      },
      "application/vnd.jupyter.widget-view+json": {
       "model_id": "e91e95eb3fd14dcf916bf785fd4922eb",
       "version_major": 2,
       "version_minor": 0
      },
      "text/plain": [
       "Training: 0it [00:00, ?it/s]"
      ]
     },
     "metadata": {},
     "output_type": "display_data"
    },
    {
     "data": {
      "application/json": {
       "ascii": false,
       "bar_format": null,
       "colour": null,
       "elapsed": 0.011388063430786133,
       "initial": 0,
       "n": 0,
       "ncols": 111,
       "nrows": 30,
       "postfix": null,
       "prefix": "Validating",
       "rate": null,
       "total": null,
       "unit": "it",
       "unit_divisor": 1000,
       "unit_scale": false
      },
      "application/vnd.jupyter.widget-view+json": {
       "model_id": "eaa6b955891d49c294006c0e774ed8cd",
       "version_major": 2,
       "version_minor": 0
      },
      "text/plain": [
       "Validating: 0it [00:00, ?it/s]"
      ]
     },
     "metadata": {},
     "output_type": "display_data"
    },
    {
     "data": {
      "application/json": {
       "ascii": false,
       "bar_format": null,
       "colour": null,
       "elapsed": 0.01248931884765625,
       "initial": 0,
       "n": 0,
       "ncols": 111,
       "nrows": 30,
       "postfix": null,
       "prefix": "Validating",
       "rate": null,
       "total": null,
       "unit": "it",
       "unit_divisor": 1000,
       "unit_scale": false
      },
      "application/vnd.jupyter.widget-view+json": {
       "model_id": "204409279c744ccfacce6648f9912f14",
       "version_major": 2,
       "version_minor": 0
      },
      "text/plain": [
       "Validating: 0it [00:00, ?it/s]"
      ]
     },
     "metadata": {},
     "output_type": "display_data"
    },
    {
     "name": "stderr",
     "output_type": "stream",
     "text": [
      "GPU available: False, used: False\n",
      "TPU available: False, using: 0 TPU cores\n",
      "\n",
      "  | Name          | Type                | Params\n",
      "------------------------------------------------------\n",
      "0 | model         | SiameseArchitecture | 697   \n",
      "1 | loss_function | BCELoss             | 0     \n",
      "------------------------------------------------------\n",
      "697       Trainable params\n",
      "0         Non-trainable params\n",
      "697       Total params\n",
      "0.003     Total estimated model params size (MB)\n"
     ]
    },
    {
     "name": "stdout",
     "output_type": "stream",
     "text": [
      "Accuracy:0.5, ROC_AUC:0.613, PR_AUC:0.607\n",
      "TN: 0, FP: 25, FN: 0, TP: 25\n",
      "precision = tp / (tp + fp); recall = tp / (tp + fn)\n"
     ]
    },
    {
     "data": {
      "application/json": {
       "ascii": false,
       "bar_format": null,
       "colour": null,
       "elapsed": 0.010383129119873047,
       "initial": 0,
       "n": 0,
       "ncols": 111,
       "nrows": 30,
       "postfix": null,
       "prefix": "Validation sanity check",
       "rate": null,
       "total": null,
       "unit": "it",
       "unit_divisor": 1000,
       "unit_scale": false
      },
      "application/vnd.jupyter.widget-view+json": {
       "model_id": "e8f17ee102304d0a8d95fc968fd87c8d",
       "version_major": 2,
       "version_minor": 0
      },
      "text/plain": [
       "Validation sanity check: 0it [00:00, ?it/s]"
      ]
     },
     "metadata": {},
     "output_type": "display_data"
    },
    {
     "data": {
      "application/json": {
       "ascii": false,
       "bar_format": null,
       "colour": null,
       "elapsed": 0.009072303771972656,
       "initial": 0,
       "n": 0,
       "ncols": 111,
       "nrows": 30,
       "postfix": null,
       "prefix": "Training",
       "rate": null,
       "total": null,
       "unit": "it",
       "unit_divisor": 1000,
       "unit_scale": false
      },
      "application/vnd.jupyter.widget-view+json": {
       "model_id": "f4cf42dd18f14d63b3fe7bc64803be4d",
       "version_major": 2,
       "version_minor": 0
      },
      "text/plain": [
       "Training: 0it [00:00, ?it/s]"
      ]
     },
     "metadata": {},
     "output_type": "display_data"
    },
    {
     "data": {
      "application/json": {
       "ascii": false,
       "bar_format": null,
       "colour": null,
       "elapsed": 0.009903907775878906,
       "initial": 0,
       "n": 0,
       "ncols": 111,
       "nrows": 30,
       "postfix": null,
       "prefix": "Validating",
       "rate": null,
       "total": null,
       "unit": "it",
       "unit_divisor": 1000,
       "unit_scale": false
      },
      "application/vnd.jupyter.widget-view+json": {
       "model_id": "0e5c3d047cf442118bce093317e29893",
       "version_major": 2,
       "version_minor": 0
      },
      "text/plain": [
       "Validating: 0it [00:00, ?it/s]"
      ]
     },
     "metadata": {},
     "output_type": "display_data"
    },
    {
     "data": {
      "application/json": {
       "ascii": false,
       "bar_format": null,
       "colour": null,
       "elapsed": 0.009774208068847656,
       "initial": 0,
       "n": 0,
       "ncols": 111,
       "nrows": 30,
       "postfix": null,
       "prefix": "Validating",
       "rate": null,
       "total": null,
       "unit": "it",
       "unit_divisor": 1000,
       "unit_scale": false
      },
      "application/vnd.jupyter.widget-view+json": {
       "model_id": "6cc8f8444f0a4e3bb1f5c0e017b31acb",
       "version_major": 2,
       "version_minor": 0
      },
      "text/plain": [
       "Validating: 0it [00:00, ?it/s]"
      ]
     },
     "metadata": {},
     "output_type": "display_data"
    },
    {
     "name": "stderr",
     "output_type": "stream",
     "text": [
      "\u001b[32m[I 2023-11-02 17:46:24,967]\u001b[0m A new study created in memory with name: no-name-af6a946c-10a5-4c4f-8b75-f7f01c9c1a01\u001b[0m\n",
      "GPU available: False, used: False\n",
      "TPU available: False, using: 0 TPU cores\n",
      "\n",
      "  | Name          | Type                | Params\n",
      "------------------------------------------------------\n",
      "0 | model         | TripletArchitecture | 264   \n",
      "1 | loss_function | TripletMarginLoss   | 0     \n",
      "------------------------------------------------------\n",
      "264       Trainable params\n",
      "0         Non-trainable params\n",
      "264       Total params\n",
      "0.001     Total estimated model params size (MB)\n"
     ]
    },
    {
     "name": "stdout",
     "output_type": "stream",
     "text": [
      "Accuracy:0.5, ROC_AUC:0.584, PR_AUC:0.601\n",
      "TN: 0, FP: 25, FN: 0, TP: 25\n",
      "precision = tp / (tp + fp); recall = tp / (tp + fn)\n",
      "Accuracy: 0.500 ± 0.000\n",
      "Precision: 0.500 ± 0.000\n",
      "Recall: 1.000 ± 0.000\n",
      "ROC AUC: 0.598 ± 0.014\n",
      "PR AUC: 0.604 ± 0.003\n",
      "--------------------------------------------------\n",
      "Eucl_Accuracy: 0.932 ± 0.068\n",
      "Eucl_Precision: 0.971 ± 0.029\n",
      "Eucl_Recall: 0.820 ± 0.180\n",
      "Eucl_ROC AUC: 0.900 ± 0.100\n",
      "Eucl_PR AUC: 0.907 ± 0.093\n",
      "--------------------------------------------------\n",
      "Cos_Accuracy: 0.934 ± 0.066\n",
      "Cos_Precision: 0.500 ± 0.000\n",
      "Cos_Recall: 1.000 ± 0.000\n",
      "Cos_ROC AUC: 0.500 ± 0.000\n",
      "Cos_PR AUC: 0.913 ± 0.087\n",
      "--------------------------------------------------\n",
      "\n",
      "all_results: ({'Accuracy': [0.5, 0.5], 'Precision': [0.5, 0.5], 'Recall': [1.0, 1.0], 'ROC AUC': [0.6128, 0.584], 'PR AUC': [0.6065949460268732, 0.6012105909776795]}, {'Eucl_Accuracy': [0.8631059894239885, 1.0], 'Eucl_Precision': [0.9411764705882353, 1.0], 'Eucl_Recall': [0.64, 1.0], 'Eucl_ROC AUC': [0.8, 1.0], 'Eucl_PR AUC': [0.8144, 1.0]}, {'Cos_Accuracy': [0.8679905935655461, 1.0], 'Cos_Precision': [0.5, 0.5], 'Cos_Recall': [1.0, 1.0], 'Cos_ROC AUC': [0.5, 0.5], 'Cos_PR AUC': [0.8256, 1.0]})\n",
      "****************************************************************************************************\n",
      "model_type: triplet_performer\n"
     ]
    },
    {
     "data": {
      "application/json": {
       "ascii": false,
       "bar_format": null,
       "colour": null,
       "elapsed": 0.009761571884155273,
       "initial": 0,
       "n": 0,
       "ncols": 111,
       "nrows": 30,
       "postfix": null,
       "prefix": "Validation sanity check",
       "rate": null,
       "total": null,
       "unit": "it",
       "unit_divisor": 1000,
       "unit_scale": false
      },
      "application/vnd.jupyter.widget-view+json": {
       "model_id": "e17b0777a3444c81a48b935e06cbed70",
       "version_major": 2,
       "version_minor": 0
      },
      "text/plain": [
       "Validation sanity check: 0it [00:00, ?it/s]"
      ]
     },
     "metadata": {},
     "output_type": "display_data"
    },
    {
     "data": {
      "application/json": {
       "ascii": false,
       "bar_format": null,
       "colour": null,
       "elapsed": 0.01048898696899414,
       "initial": 0,
       "n": 0,
       "ncols": 111,
       "nrows": 30,
       "postfix": null,
       "prefix": "Training",
       "rate": null,
       "total": null,
       "unit": "it",
       "unit_divisor": 1000,
       "unit_scale": false
      },
      "application/vnd.jupyter.widget-view+json": {
       "model_id": "fe5f1e3dad5245a6a961ec678052c246",
       "version_major": 2,
       "version_minor": 0
      },
      "text/plain": [
       "Training: 0it [00:00, ?it/s]"
      ]
     },
     "metadata": {},
     "output_type": "display_data"
    },
    {
     "data": {
      "application/json": {
       "ascii": false,
       "bar_format": null,
       "colour": null,
       "elapsed": 0.013414859771728516,
       "initial": 0,
       "n": 0,
       "ncols": 111,
       "nrows": 30,
       "postfix": null,
       "prefix": "Validating",
       "rate": null,
       "total": null,
       "unit": "it",
       "unit_divisor": 1000,
       "unit_scale": false
      },
      "application/vnd.jupyter.widget-view+json": {
       "model_id": "7012f4add7614fce8092b874dc4096d9",
       "version_major": 2,
       "version_minor": 0
      },
      "text/plain": [
       "Validating: 0it [00:00, ?it/s]"
      ]
     },
     "metadata": {},
     "output_type": "display_data"
    },
    {
     "data": {
      "application/json": {
       "ascii": false,
       "bar_format": null,
       "colour": null,
       "elapsed": 0.01692676544189453,
       "initial": 0,
       "n": 0,
       "ncols": 111,
       "nrows": 30,
       "postfix": null,
       "prefix": "Validating",
       "rate": null,
       "total": null,
       "unit": "it",
       "unit_divisor": 1000,
       "unit_scale": false
      },
      "application/vnd.jupyter.widget-view+json": {
       "model_id": "4c4fe5ccdb6f40759c1bc4b9939641eb",
       "version_major": 2,
       "version_minor": 0
      },
      "text/plain": [
       "Validating: 0it [00:00, ?it/s]"
      ]
     },
     "metadata": {},
     "output_type": "display_data"
    },
    {
     "name": "stderr",
     "output_type": "stream",
     "text": [
      "GPU available: False, used: False\n",
      "TPU available: False, using: 0 TPU cores\n",
      "\n",
      "  | Name          | Type                | Params\n",
      "------------------------------------------------------\n",
      "0 | model         | TripletArchitecture | 264   \n",
      "1 | loss_function | TripletMarginLoss   | 0     \n",
      "------------------------------------------------------\n",
      "264       Trainable params\n",
      "0         Non-trainable params\n",
      "264       Total params\n",
      "0.001     Total estimated model params size (MB)\n"
     ]
    },
    {
     "data": {
      "application/json": {
       "ascii": false,
       "bar_format": null,
       "colour": null,
       "elapsed": 0.009700536727905273,
       "initial": 0,
       "n": 0,
       "ncols": 111,
       "nrows": 30,
       "postfix": null,
       "prefix": "Validation sanity check",
       "rate": null,
       "total": null,
       "unit": "it",
       "unit_divisor": 1000,
       "unit_scale": false
      },
      "application/vnd.jupyter.widget-view+json": {
       "model_id": "9fcbd952976d4caa8d1cb8635c68e41b",
       "version_major": 2,
       "version_minor": 0
      },
      "text/plain": [
       "Validation sanity check: 0it [00:00, ?it/s]"
      ]
     },
     "metadata": {},
     "output_type": "display_data"
    },
    {
     "data": {
      "application/json": {
       "ascii": false,
       "bar_format": null,
       "colour": null,
       "elapsed": 0.012519598007202148,
       "initial": 0,
       "n": 0,
       "ncols": 111,
       "nrows": 30,
       "postfix": null,
       "prefix": "Training",
       "rate": null,
       "total": null,
       "unit": "it",
       "unit_divisor": 1000,
       "unit_scale": false
      },
      "application/vnd.jupyter.widget-view+json": {
       "model_id": "96e3adf1a9cd431280dba20b7416a40e",
       "version_major": 2,
       "version_minor": 0
      },
      "text/plain": [
       "Training: 0it [00:00, ?it/s]"
      ]
     },
     "metadata": {},
     "output_type": "display_data"
    },
    {
     "data": {
      "application/json": {
       "ascii": false,
       "bar_format": null,
       "colour": null,
       "elapsed": 0.01170802116394043,
       "initial": 0,
       "n": 0,
       "ncols": 111,
       "nrows": 30,
       "postfix": null,
       "prefix": "Validating",
       "rate": null,
       "total": null,
       "unit": "it",
       "unit_divisor": 1000,
       "unit_scale": false
      },
      "application/vnd.jupyter.widget-view+json": {
       "model_id": "6e1e90763110447796f041a3c9258856",
       "version_major": 2,
       "version_minor": 0
      },
      "text/plain": [
       "Validating: 0it [00:00, ?it/s]"
      ]
     },
     "metadata": {},
     "output_type": "display_data"
    },
    {
     "data": {
      "application/json": {
       "ascii": false,
       "bar_format": null,
       "colour": null,
       "elapsed": 0.0101318359375,
       "initial": 0,
       "n": 0,
       "ncols": 111,
       "nrows": 30,
       "postfix": null,
       "prefix": "Validating",
       "rate": null,
       "total": null,
       "unit": "it",
       "unit_divisor": 1000,
       "unit_scale": false
      },
      "application/vnd.jupyter.widget-view+json": {
       "model_id": "7426d4c8d39c4706b249359b3fe35749",
       "version_major": 2,
       "version_minor": 0
      },
      "text/plain": [
       "Validating: 0it [00:00, ?it/s]"
      ]
     },
     "metadata": {},
     "output_type": "display_data"
    },
    {
     "name": "stderr",
     "output_type": "stream",
     "text": [
      "\u001b[32m[I 2023-11-02 17:46:27,070]\u001b[0m Trial 0 finished with value: 0.65 and parameters: {'head_num': 4, 'dropout': 0.1249661767747984, 'nb_random_features': 2}. Best is trial 0 with value: 0.65.\u001b[0m\n",
      "GPU available: False, used: False\n",
      "TPU available: False, using: 0 TPU cores\n",
      "\n",
      "  | Name          | Type                | Params\n",
      "------------------------------------------------------\n",
      "0 | model         | TripletArchitecture | 264   \n",
      "1 | loss_function | TripletMarginLoss   | 0     \n",
      "------------------------------------------------------\n",
      "264       Trainable params\n",
      "0         Non-trainable params\n",
      "264       Total params\n",
      "0.001     Total estimated model params size (MB)\n"
     ]
    },
    {
     "data": {
      "application/json": {
       "ascii": false,
       "bar_format": null,
       "colour": null,
       "elapsed": 0.009265899658203125,
       "initial": 0,
       "n": 0,
       "ncols": 111,
       "nrows": 30,
       "postfix": null,
       "prefix": "Validation sanity check",
       "rate": null,
       "total": null,
       "unit": "it",
       "unit_divisor": 1000,
       "unit_scale": false
      },
      "application/vnd.jupyter.widget-view+json": {
       "model_id": "03ac0723184c4cd48e7fffd2726cb390",
       "version_major": 2,
       "version_minor": 0
      },
      "text/plain": [
       "Validation sanity check: 0it [00:00, ?it/s]"
      ]
     },
     "metadata": {},
     "output_type": "display_data"
    },
    {
     "data": {
      "application/json": {
       "ascii": false,
       "bar_format": null,
       "colour": null,
       "elapsed": 0.010384798049926758,
       "initial": 0,
       "n": 0,
       "ncols": 111,
       "nrows": 30,
       "postfix": null,
       "prefix": "Training",
       "rate": null,
       "total": null,
       "unit": "it",
       "unit_divisor": 1000,
       "unit_scale": false
      },
      "application/vnd.jupyter.widget-view+json": {
       "model_id": "353795160b8b45e993b29ca916d9a513",
       "version_major": 2,
       "version_minor": 0
      },
      "text/plain": [
       "Training: 0it [00:00, ?it/s]"
      ]
     },
     "metadata": {},
     "output_type": "display_data"
    },
    {
     "data": {
      "application/json": {
       "ascii": false,
       "bar_format": null,
       "colour": null,
       "elapsed": 0.017308473587036133,
       "initial": 0,
       "n": 0,
       "ncols": 111,
       "nrows": 30,
       "postfix": null,
       "prefix": "Validating",
       "rate": null,
       "total": null,
       "unit": "it",
       "unit_divisor": 1000,
       "unit_scale": false
      },
      "application/vnd.jupyter.widget-view+json": {
       "model_id": "b2fa65580f1c458994c60c2ce591ce1a",
       "version_major": 2,
       "version_minor": 0
      },
      "text/plain": [
       "Validating: 0it [00:00, ?it/s]"
      ]
     },
     "metadata": {},
     "output_type": "display_data"
    },
    {
     "data": {
      "application/json": {
       "ascii": false,
       "bar_format": null,
       "colour": null,
       "elapsed": 0.012170076370239258,
       "initial": 0,
       "n": 0,
       "ncols": 111,
       "nrows": 30,
       "postfix": null,
       "prefix": "Validating",
       "rate": null,
       "total": null,
       "unit": "it",
       "unit_divisor": 1000,
       "unit_scale": false
      },
      "application/vnd.jupyter.widget-view+json": {
       "model_id": "6a968d7ba5f8427daa81e20305701269",
       "version_major": 2,
       "version_minor": 0
      },
      "text/plain": [
       "Validating: 0it [00:00, ?it/s]"
      ]
     },
     "metadata": {},
     "output_type": "display_data"
    },
    {
     "name": "stderr",
     "output_type": "stream",
     "text": [
      "GPU available: False, used: False\n",
      "TPU available: False, using: 0 TPU cores\n",
      "\n",
      "  | Name          | Type                | Params\n",
      "------------------------------------------------------\n",
      "0 | model         | TripletArchitecture | 264   \n",
      "1 | loss_function | TripletMarginLoss   | 0     \n",
      "------------------------------------------------------\n",
      "264       Trainable params\n",
      "0         Non-trainable params\n",
      "264       Total params\n",
      "0.001     Total estimated model params size (MB)\n"
     ]
    },
    {
     "data": {
      "application/json": {
       "ascii": false,
       "bar_format": null,
       "colour": null,
       "elapsed": 0.016333341598510742,
       "initial": 0,
       "n": 0,
       "ncols": 111,
       "nrows": 30,
       "postfix": null,
       "prefix": "Validation sanity check",
       "rate": null,
       "total": null,
       "unit": "it",
       "unit_divisor": 1000,
       "unit_scale": false
      },
      "application/vnd.jupyter.widget-view+json": {
       "model_id": "24ad8354a68047cd96bc4e0e205f44d5",
       "version_major": 2,
       "version_minor": 0
      },
      "text/plain": [
       "Validation sanity check: 0it [00:00, ?it/s]"
      ]
     },
     "metadata": {},
     "output_type": "display_data"
    },
    {
     "data": {
      "application/json": {
       "ascii": false,
       "bar_format": null,
       "colour": null,
       "elapsed": 0.009882211685180664,
       "initial": 0,
       "n": 0,
       "ncols": 111,
       "nrows": 30,
       "postfix": null,
       "prefix": "Training",
       "rate": null,
       "total": null,
       "unit": "it",
       "unit_divisor": 1000,
       "unit_scale": false
      },
      "application/vnd.jupyter.widget-view+json": {
       "model_id": "f1bf371fe6eb4bfdb539216ac2c671e6",
       "version_major": 2,
       "version_minor": 0
      },
      "text/plain": [
       "Training: 0it [00:00, ?it/s]"
      ]
     },
     "metadata": {},
     "output_type": "display_data"
    },
    {
     "data": {
      "application/json": {
       "ascii": false,
       "bar_format": null,
       "colour": null,
       "elapsed": 0.01625967025756836,
       "initial": 0,
       "n": 0,
       "ncols": 111,
       "nrows": 30,
       "postfix": null,
       "prefix": "Validating",
       "rate": null,
       "total": null,
       "unit": "it",
       "unit_divisor": 1000,
       "unit_scale": false
      },
      "application/vnd.jupyter.widget-view+json": {
       "model_id": "30c55b11182346488e4d0ee114032836",
       "version_major": 2,
       "version_minor": 0
      },
      "text/plain": [
       "Validating: 0it [00:00, ?it/s]"
      ]
     },
     "metadata": {},
     "output_type": "display_data"
    },
    {
     "data": {
      "application/json": {
       "ascii": false,
       "bar_format": null,
       "colour": null,
       "elapsed": 0.010499954223632812,
       "initial": 0,
       "n": 0,
       "ncols": 111,
       "nrows": 30,
       "postfix": null,
       "prefix": "Validating",
       "rate": null,
       "total": null,
       "unit": "it",
       "unit_divisor": 1000,
       "unit_scale": false
      },
      "application/vnd.jupyter.widget-view+json": {
       "model_id": "e1354f75b2a94cdfbee8397bc9460d77",
       "version_major": 2,
       "version_minor": 0
      },
      "text/plain": [
       "Validating: 0it [00:00, ?it/s]"
      ]
     },
     "metadata": {},
     "output_type": "display_data"
    },
    {
     "name": "stderr",
     "output_type": "stream",
     "text": [
      "\u001b[32m[I 2023-11-02 17:46:29,365]\u001b[0m Trial 1 finished with value: 0.6699999999999999 and parameters: {'head_num': 4, 'dropout': 0.15511897971877364, 'nb_random_features': 4}. Best is trial 1 with value: 0.6699999999999999.\u001b[0m\n",
      "GPU available: False, used: False\n",
      "TPU available: False, using: 0 TPU cores\n",
      "\n",
      "  | Name          | Type                | Params\n",
      "------------------------------------------------------\n",
      "0 | model         | TripletArchitecture | 264   \n",
      "1 | loss_function | TripletMarginLoss   | 0     \n",
      "------------------------------------------------------\n",
      "264       Trainable params\n",
      "0         Non-trainable params\n",
      "264       Total params\n",
      "0.001     Total estimated model params size (MB)\n"
     ]
    },
    {
     "name": "stdout",
     "output_type": "stream",
     "text": [
      "best_params: {'head_num': 4, 'dropout': 0.15511897971877364, 'nb_random_features': 4}\n"
     ]
    },
    {
     "data": {
      "application/json": {
       "ascii": false,
       "bar_format": null,
       "colour": null,
       "elapsed": 0.009379386901855469,
       "initial": 0,
       "n": 0,
       "ncols": 111,
       "nrows": 30,
       "postfix": null,
       "prefix": "Validation sanity check",
       "rate": null,
       "total": null,
       "unit": "it",
       "unit_divisor": 1000,
       "unit_scale": false
      },
      "application/vnd.jupyter.widget-view+json": {
       "model_id": "d2a1a54f33ed4f14a9ff199ff4e9e315",
       "version_major": 2,
       "version_minor": 0
      },
      "text/plain": [
       "Validation sanity check: 0it [00:00, ?it/s]"
      ]
     },
     "metadata": {},
     "output_type": "display_data"
    },
    {
     "data": {
      "application/json": {
       "ascii": false,
       "bar_format": null,
       "colour": null,
       "elapsed": 0.010494709014892578,
       "initial": 0,
       "n": 0,
       "ncols": 111,
       "nrows": 30,
       "postfix": null,
       "prefix": "Training",
       "rate": null,
       "total": null,
       "unit": "it",
       "unit_divisor": 1000,
       "unit_scale": false
      },
      "application/vnd.jupyter.widget-view+json": {
       "model_id": "f8e4778f6ef844ce868a90ddc75f5a9a",
       "version_major": 2,
       "version_minor": 0
      },
      "text/plain": [
       "Training: 0it [00:00, ?it/s]"
      ]
     },
     "metadata": {},
     "output_type": "display_data"
    },
    {
     "data": {
      "application/json": {
       "ascii": false,
       "bar_format": null,
       "colour": null,
       "elapsed": 0.012925863265991211,
       "initial": 0,
       "n": 0,
       "ncols": 111,
       "nrows": 30,
       "postfix": null,
       "prefix": "Validating",
       "rate": null,
       "total": null,
       "unit": "it",
       "unit_divisor": 1000,
       "unit_scale": false
      },
      "application/vnd.jupyter.widget-view+json": {
       "model_id": "4c2050718a6146a898985eb0682387fa",
       "version_major": 2,
       "version_minor": 0
      },
      "text/plain": [
       "Validating: 0it [00:00, ?it/s]"
      ]
     },
     "metadata": {},
     "output_type": "display_data"
    },
    {
     "data": {
      "application/json": {
       "ascii": false,
       "bar_format": null,
       "colour": null,
       "elapsed": 0.015108108520507812,
       "initial": 0,
       "n": 0,
       "ncols": 111,
       "nrows": 30,
       "postfix": null,
       "prefix": "Validating",
       "rate": null,
       "total": null,
       "unit": "it",
       "unit_divisor": 1000,
       "unit_scale": false
      },
      "application/vnd.jupyter.widget-view+json": {
       "model_id": "f5b6d5d94e6c42a3842ad28ad8712710",
       "version_major": 2,
       "version_minor": 0
      },
      "text/plain": [
       "Validating: 0it [00:00, ?it/s]"
      ]
     },
     "metadata": {},
     "output_type": "display_data"
    },
    {
     "name": "stderr",
     "output_type": "stream",
     "text": [
      "GPU available: False, used: False\n",
      "TPU available: False, using: 0 TPU cores\n",
      "\n",
      "  | Name          | Type                | Params\n",
      "------------------------------------------------------\n",
      "0 | model         | TripletArchitecture | 264   \n",
      "1 | loss_function | TripletMarginLoss   | 0     \n",
      "------------------------------------------------------\n",
      "264       Trainable params\n",
      "0         Non-trainable params\n",
      "264       Total params\n",
      "0.001     Total estimated model params size (MB)\n"
     ]
    },
    {
     "data": {
      "application/json": {
       "ascii": false,
       "bar_format": null,
       "colour": null,
       "elapsed": 0.010210514068603516,
       "initial": 0,
       "n": 0,
       "ncols": 111,
       "nrows": 30,
       "postfix": null,
       "prefix": "Validation sanity check",
       "rate": null,
       "total": null,
       "unit": "it",
       "unit_divisor": 1000,
       "unit_scale": false
      },
      "application/vnd.jupyter.widget-view+json": {
       "model_id": "82badacdd3b3493aa0cb23013a242fa5",
       "version_major": 2,
       "version_minor": 0
      },
      "text/plain": [
       "Validation sanity check: 0it [00:00, ?it/s]"
      ]
     },
     "metadata": {},
     "output_type": "display_data"
    },
    {
     "data": {
      "application/json": {
       "ascii": false,
       "bar_format": null,
       "colour": null,
       "elapsed": 0.009983062744140625,
       "initial": 0,
       "n": 0,
       "ncols": 111,
       "nrows": 30,
       "postfix": null,
       "prefix": "Training",
       "rate": null,
       "total": null,
       "unit": "it",
       "unit_divisor": 1000,
       "unit_scale": false
      },
      "application/vnd.jupyter.widget-view+json": {
       "model_id": "e07c4a1df76e40dd93959d8533497930",
       "version_major": 2,
       "version_minor": 0
      },
      "text/plain": [
       "Training: 0it [00:00, ?it/s]"
      ]
     },
     "metadata": {},
     "output_type": "display_data"
    },
    {
     "data": {
      "application/json": {
       "ascii": false,
       "bar_format": null,
       "colour": null,
       "elapsed": 0.01324772834777832,
       "initial": 0,
       "n": 0,
       "ncols": 111,
       "nrows": 30,
       "postfix": null,
       "prefix": "Validating",
       "rate": null,
       "total": null,
       "unit": "it",
       "unit_divisor": 1000,
       "unit_scale": false
      },
      "application/vnd.jupyter.widget-view+json": {
       "model_id": "a194b131b3d6416aa5820f86544e089c",
       "version_major": 2,
       "version_minor": 0
      },
      "text/plain": [
       "Validating: 0it [00:00, ?it/s]"
      ]
     },
     "metadata": {},
     "output_type": "display_data"
    },
    {
     "data": {
      "application/json": {
       "ascii": false,
       "bar_format": null,
       "colour": null,
       "elapsed": 0.011198997497558594,
       "initial": 0,
       "n": 0,
       "ncols": 111,
       "nrows": 30,
       "postfix": null,
       "prefix": "Validating",
       "rate": null,
       "total": null,
       "unit": "it",
       "unit_divisor": 1000,
       "unit_scale": false
      },
      "application/vnd.jupyter.widget-view+json": {
       "model_id": "4ded0fada20044ad9fbd5274579436a8",
       "version_major": 2,
       "version_minor": 0
      },
      "text/plain": [
       "Validating: 0it [00:00, ?it/s]"
      ]
     },
     "metadata": {},
     "output_type": "display_data"
    },
    {
     "name": "stdout",
     "output_type": "stream",
     "text": [
      "Accuracy: nan ± nan\n",
      "Precision: nan ± nan\n",
      "Recall: nan ± nan\n",
      "ROC AUC: nan ± nan\n",
      "PR AUC: nan ± nan\n",
      "--------------------------------------------------\n",
      "Eucl_Accuracy: 0.921 ± 0.056\n",
      "Eucl_Precision: 0.899 ± 0.042\n",
      "Eucl_Recall: 0.800 ± 0.160\n",
      "Eucl_ROC AUC: 0.850 ± 0.050\n",
      "Eucl_PR AUC: 0.896 ± 0.077\n",
      "--------------------------------------------------\n",
      "Cos_Accuracy: 0.868 ± 0.076\n",
      "Cos_Precision: 0.594 ± 0.001\n",
      "Cos_Recall: 0.880 ± 0.120\n",
      "Cos_ROC AUC: 0.640 ± 0.020\n",
      "Cos_PR AUC: 0.822 ± 0.109\n",
      "--------------------------------------------------\n",
      "\n",
      "all_results: ({'Accuracy': [], 'Precision': [], 'Recall': [], 'ROC AUC': [], 'PR AUC': []}, {'Eucl_Accuracy': [0.8650632080519538, 0.9769236882280362], 'Eucl_Precision': [0.9411764705882353, 0.8571428571428571], 'Eucl_Recall': [0.64, 0.96], 'Eucl_ROC AUC': [0.8, 0.9], 'Eucl_PR AUC': [0.8191999999999999, 0.9727999999999999]}, {'Cos_Accuracy': [0.7920949684602872, 0.9431397739441968], 'Cos_Precision': [0.59375, 0.5952380952380952], 'Cos_Recall': [0.76, 1.0], 'Cos_ROC AUC': [0.62, 0.66], 'Cos_PR AUC': [0.7136, 0.9312]})\n",
      "****************************************************************************************************\n"
     ]
    }
   ],
   "source": [
    "ans_df = pd.DataFrame()\n",
    "\n",
    "for loss_type in [\"siamese\", \"triplet\"]:\n",
    "    res_model, results, roc_auc_all_trials = utils_cv.optuna_hpo_and_best_model_evaluation(\n",
    "        model_type=\"{}_performer\".format(loss_type),\n",
    "        device=device,\n",
    "        gpu=gpu,\n",
    "        n_trials=n_trials,\n",
    "        fixed_params=fixed_params_per,\n",
    "        default_params=default_params_per,\n",
    "        specific_params=specific_params_per,\n",
    "        data_kwargs=data_kwargs,\n",
    "    )\n",
    "    np.save(\n",
    "        os.path.join(data_kwargs[\"save_dir\"], \"roc_auc_{}_performer.npy\".format(loss_type)),\n",
    "        roc_auc_all_trials,\n",
    "    )\n",
    "    torch.save(\n",
    "        res_model.state_dict(), \n",
    "        os.path.join(\n",
    "            data_kwargs[\"save_dir\"], 'res_{}_performer.pth'.format(loss_type)\n",
    "        ),\n",
    "    )\n",
    "    ans_df = ans_df.append(get_dict(results, \"Performer\"))\n",
    "    \n",
    "ans_df.to_csv(\n",
    "    os.path.join(\n",
    "        data_kwargs[\"save_dir\"], \"res_df_{}_performers.csv\".format(loss_type)\n",
    "    )\n",
    ")"
   ]
  },
  {
   "cell_type": "markdown",
   "metadata": {},
   "source": [
    "# Results aggregation"
   ]
  },
  {
   "cell_type": "code",
   "execution_count": 16,
   "metadata": {},
   "outputs": [],
   "source": [
    "agg_data = []\n",
    "for loss_type in [\"siamese\", \"triplet\"]:\n",
    "    for model_type in [\n",
    "        \"topQ\", \"randQ\", \n",
    "        \"topK\", \"randK\", \n",
    "        \"topQ_topK\", \"topQ_randK\", \n",
    "        \"randQ_topK\", \"randQ_randK\",\n",
    "    ]:\n",
    "        a = np.load(os.path.join(data_kwargs[\"save_dir\"], \"roc_auc_{}_reguformer_{}.npy\".format(loss_type, model_type)))\n",
    "        for i, el in enumerate(a):\n",
    "            agg_data.append(\n",
    "                {\n",
    "                    \"model_type\": loss_type[0].upper() + loss_type[1:],\n",
    "                    \"model_encoder\": model_type, \n",
    "                    \"scores\": el,\n",
    "                }\n",
    "            )\n",
    "    \n",
    "    for model_type in [\"transformer\", \"performer\"]:\n",
    "        a = np.load(os.path.join(data_kwargs[\"save_dir\"], \"roc_auc_{}_{}.npy\".format(loss_type, model_type)))\n",
    "        for i, el in enumerate(a):\n",
    "            agg_data.append(\n",
    "                {\n",
    "                    \"model_type\": loss_type[0].upper() + loss_type[1:],\n",
    "                    \"model_encoder\": model_type[0].upper() + model_type[1:],\n",
    "                    \"scores\": el,\n",
    "                }\n",
    "            )"
   ]
  },
  {
   "cell_type": "code",
   "execution_count": 17,
   "metadata": {},
   "outputs": [
    {
     "data": {
      "text/html": [
       "<div>\n",
       "<style scoped>\n",
       "    .dataframe tbody tr th:only-of-type {\n",
       "        vertical-align: middle;\n",
       "    }\n",
       "\n",
       "    .dataframe tbody tr th {\n",
       "        vertical-align: top;\n",
       "    }\n",
       "\n",
       "    .dataframe thead th {\n",
       "        text-align: right;\n",
       "    }\n",
       "</style>\n",
       "<table border=\"1\" class=\"dataframe\">\n",
       "  <thead>\n",
       "    <tr style=\"text-align: right;\">\n",
       "      <th></th>\n",
       "      <th>model_type</th>\n",
       "      <th>model_encoder</th>\n",
       "      <th>scores</th>\n",
       "    </tr>\n",
       "  </thead>\n",
       "  <tbody>\n",
       "    <tr>\n",
       "      <th>0</th>\n",
       "      <td>Siamese</td>\n",
       "      <td>topQ</td>\n",
       "      <td>0.7494</td>\n",
       "    </tr>\n",
       "    <tr>\n",
       "      <th>1</th>\n",
       "      <td>Siamese</td>\n",
       "      <td>topQ</td>\n",
       "      <td>0.7664</td>\n",
       "    </tr>\n",
       "    <tr>\n",
       "      <th>2</th>\n",
       "      <td>Siamese</td>\n",
       "      <td>randQ</td>\n",
       "      <td>0.8360</td>\n",
       "    </tr>\n",
       "    <tr>\n",
       "      <th>3</th>\n",
       "      <td>Siamese</td>\n",
       "      <td>randQ</td>\n",
       "      <td>0.6126</td>\n",
       "    </tr>\n",
       "    <tr>\n",
       "      <th>4</th>\n",
       "      <td>Siamese</td>\n",
       "      <td>topK</td>\n",
       "      <td>0.8558</td>\n",
       "    </tr>\n",
       "    <tr>\n",
       "      <th>5</th>\n",
       "      <td>Siamese</td>\n",
       "      <td>topK</td>\n",
       "      <td>0.8216</td>\n",
       "    </tr>\n",
       "    <tr>\n",
       "      <th>6</th>\n",
       "      <td>Siamese</td>\n",
       "      <td>randK</td>\n",
       "      <td>0.7720</td>\n",
       "    </tr>\n",
       "    <tr>\n",
       "      <th>7</th>\n",
       "      <td>Siamese</td>\n",
       "      <td>randK</td>\n",
       "      <td>0.9254</td>\n",
       "    </tr>\n",
       "    <tr>\n",
       "      <th>8</th>\n",
       "      <td>Siamese</td>\n",
       "      <td>topQ_topK</td>\n",
       "      <td>0.7544</td>\n",
       "    </tr>\n",
       "    <tr>\n",
       "      <th>9</th>\n",
       "      <td>Siamese</td>\n",
       "      <td>topQ_topK</td>\n",
       "      <td>0.5000</td>\n",
       "    </tr>\n",
       "    <tr>\n",
       "      <th>10</th>\n",
       "      <td>Siamese</td>\n",
       "      <td>topQ_randK</td>\n",
       "      <td>0.6892</td>\n",
       "    </tr>\n",
       "    <tr>\n",
       "      <th>11</th>\n",
       "      <td>Siamese</td>\n",
       "      <td>topQ_randK</td>\n",
       "      <td>0.5926</td>\n",
       "    </tr>\n",
       "    <tr>\n",
       "      <th>12</th>\n",
       "      <td>Siamese</td>\n",
       "      <td>randQ_topK</td>\n",
       "      <td>0.5510</td>\n",
       "    </tr>\n",
       "    <tr>\n",
       "      <th>13</th>\n",
       "      <td>Siamese</td>\n",
       "      <td>randQ_topK</td>\n",
       "      <td>0.6910</td>\n",
       "    </tr>\n",
       "    <tr>\n",
       "      <th>14</th>\n",
       "      <td>Siamese</td>\n",
       "      <td>randQ_randK</td>\n",
       "      <td>0.6582</td>\n",
       "    </tr>\n",
       "    <tr>\n",
       "      <th>15</th>\n",
       "      <td>Siamese</td>\n",
       "      <td>randQ_randK</td>\n",
       "      <td>0.7386</td>\n",
       "    </tr>\n",
       "    <tr>\n",
       "      <th>16</th>\n",
       "      <td>Siamese</td>\n",
       "      <td>Transformer</td>\n",
       "      <td>0.4920</td>\n",
       "    </tr>\n",
       "    <tr>\n",
       "      <th>17</th>\n",
       "      <td>Siamese</td>\n",
       "      <td>Transformer</td>\n",
       "      <td>0.6550</td>\n",
       "    </tr>\n",
       "    <tr>\n",
       "      <th>18</th>\n",
       "      <td>Siamese</td>\n",
       "      <td>Performer</td>\n",
       "      <td>0.4589</td>\n",
       "    </tr>\n",
       "    <tr>\n",
       "      <th>19</th>\n",
       "      <td>Siamese</td>\n",
       "      <td>Performer</td>\n",
       "      <td>0.4952</td>\n",
       "    </tr>\n",
       "    <tr>\n",
       "      <th>20</th>\n",
       "      <td>Triplet</td>\n",
       "      <td>topQ</td>\n",
       "      <td>0.5000</td>\n",
       "    </tr>\n",
       "    <tr>\n",
       "      <th>21</th>\n",
       "      <td>Triplet</td>\n",
       "      <td>topQ</td>\n",
       "      <td>0.5000</td>\n",
       "    </tr>\n",
       "    <tr>\n",
       "      <th>22</th>\n",
       "      <td>Triplet</td>\n",
       "      <td>randQ</td>\n",
       "      <td>0.5000</td>\n",
       "    </tr>\n",
       "    <tr>\n",
       "      <th>23</th>\n",
       "      <td>Triplet</td>\n",
       "      <td>randQ</td>\n",
       "      <td>0.5000</td>\n",
       "    </tr>\n",
       "    <tr>\n",
       "      <th>24</th>\n",
       "      <td>Triplet</td>\n",
       "      <td>topK</td>\n",
       "      <td>0.5000</td>\n",
       "    </tr>\n",
       "    <tr>\n",
       "      <th>25</th>\n",
       "      <td>Triplet</td>\n",
       "      <td>topK</td>\n",
       "      <td>0.5000</td>\n",
       "    </tr>\n",
       "    <tr>\n",
       "      <th>26</th>\n",
       "      <td>Triplet</td>\n",
       "      <td>randK</td>\n",
       "      <td>0.5000</td>\n",
       "    </tr>\n",
       "    <tr>\n",
       "      <th>27</th>\n",
       "      <td>Triplet</td>\n",
       "      <td>randK</td>\n",
       "      <td>0.5000</td>\n",
       "    </tr>\n",
       "    <tr>\n",
       "      <th>28</th>\n",
       "      <td>Triplet</td>\n",
       "      <td>topQ_topK</td>\n",
       "      <td>0.5000</td>\n",
       "    </tr>\n",
       "    <tr>\n",
       "      <th>29</th>\n",
       "      <td>Triplet</td>\n",
       "      <td>topQ_topK</td>\n",
       "      <td>0.5000</td>\n",
       "    </tr>\n",
       "    <tr>\n",
       "      <th>30</th>\n",
       "      <td>Triplet</td>\n",
       "      <td>topQ_randK</td>\n",
       "      <td>0.5000</td>\n",
       "    </tr>\n",
       "    <tr>\n",
       "      <th>31</th>\n",
       "      <td>Triplet</td>\n",
       "      <td>topQ_randK</td>\n",
       "      <td>0.5000</td>\n",
       "    </tr>\n",
       "    <tr>\n",
       "      <th>32</th>\n",
       "      <td>Triplet</td>\n",
       "      <td>randQ_topK</td>\n",
       "      <td>0.5000</td>\n",
       "    </tr>\n",
       "    <tr>\n",
       "      <th>33</th>\n",
       "      <td>Triplet</td>\n",
       "      <td>randQ_topK</td>\n",
       "      <td>0.5000</td>\n",
       "    </tr>\n",
       "    <tr>\n",
       "      <th>34</th>\n",
       "      <td>Triplet</td>\n",
       "      <td>randQ_randK</td>\n",
       "      <td>0.5000</td>\n",
       "    </tr>\n",
       "    <tr>\n",
       "      <th>35</th>\n",
       "      <td>Triplet</td>\n",
       "      <td>randQ_randK</td>\n",
       "      <td>0.5000</td>\n",
       "    </tr>\n",
       "    <tr>\n",
       "      <th>36</th>\n",
       "      <td>Triplet</td>\n",
       "      <td>Transformer</td>\n",
       "      <td>0.5000</td>\n",
       "    </tr>\n",
       "    <tr>\n",
       "      <th>37</th>\n",
       "      <td>Triplet</td>\n",
       "      <td>Transformer</td>\n",
       "      <td>0.5000</td>\n",
       "    </tr>\n",
       "    <tr>\n",
       "      <th>38</th>\n",
       "      <td>Triplet</td>\n",
       "      <td>Performer</td>\n",
       "      <td>0.6500</td>\n",
       "    </tr>\n",
       "    <tr>\n",
       "      <th>39</th>\n",
       "      <td>Triplet</td>\n",
       "      <td>Performer</td>\n",
       "      <td>0.6700</td>\n",
       "    </tr>\n",
       "  </tbody>\n",
       "</table>\n",
       "</div>"
      ],
      "text/plain": [
       "   model_type   model_encoder  scores\n",
       "0     Siamese            topQ  0.7494\n",
       "1     Siamese            topQ  0.7664\n",
       "2     Siamese           randQ  0.8360\n",
       "3     Siamese           randQ  0.6126\n",
       "4     Siamese            topK  0.8558\n",
       "5     Siamese            topK  0.8216\n",
       "6     Siamese           randK  0.7720\n",
       "7     Siamese           randK  0.9254\n",
       "8     Siamese       topQ_topK  0.7544\n",
       "9     Siamese       topQ_topK  0.5000\n",
       "10    Siamese      topQ_randK  0.6892\n",
       "11    Siamese      topQ_randK  0.5926\n",
       "12    Siamese      randQ_topK  0.5510\n",
       "13    Siamese      randQ_topK  0.6910\n",
       "14    Siamese     randQ_randK  0.6582\n",
       "15    Siamese     randQ_randK  0.7386\n",
       "16    Siamese     Transformer  0.4920\n",
       "17    Siamese     Transformer  0.6550\n",
       "18    Siamese  Performer       0.4589\n",
       "19    Siamese  Performer       0.4952\n",
       "20    Triplet            topQ  0.5000\n",
       "21    Triplet            topQ  0.5000\n",
       "22    Triplet           randQ  0.5000\n",
       "23    Triplet           randQ  0.5000\n",
       "24    Triplet            topK  0.5000\n",
       "25    Triplet            topK  0.5000\n",
       "26    Triplet           randK  0.5000\n",
       "27    Triplet           randK  0.5000\n",
       "28    Triplet       topQ_topK  0.5000\n",
       "29    Triplet       topQ_topK  0.5000\n",
       "30    Triplet      topQ_randK  0.5000\n",
       "31    Triplet      topQ_randK  0.5000\n",
       "32    Triplet      randQ_topK  0.5000\n",
       "33    Triplet      randQ_topK  0.5000\n",
       "34    Triplet     randQ_randK  0.5000\n",
       "35    Triplet     randQ_randK  0.5000\n",
       "36    Triplet     Transformer  0.5000\n",
       "37    Triplet     Transformer  0.5000\n",
       "38    Triplet  Performer       0.6500\n",
       "39    Triplet  Performer       0.6700"
      ]
     },
     "execution_count": 17,
     "metadata": {},
     "output_type": "execute_result"
    }
   ],
   "source": [
    "agg_data_df = pd.DataFrame(agg_data)\n",
    "agg_data_df[\"model_encoder\"][agg_data_df[\"model_encoder\"] == \"Performer\"] = \"Performer     \"\n",
    "\n",
    "agg_data_df.to_excel(\n",
    "    os.path.join(data_kwargs[\"save_dir\"], \"all_hpo_roc_aucs.xlsx\"),\n",
    "    index=False,\n",
    ")\n",
    "agg_data_df"
   ]
  },
  {
   "cell_type": "code",
   "execution_count": 18,
   "metadata": {},
   "outputs": [
    {
     "data": {
      "image/png": "[encoded data removed]",
      "text/plain": [
       "<Figure size 1600x1600 with 1 Axes>"
      ]
     },
     "metadata": {},
     "output_type": "display_data"
    }
   ],
   "source": [
    "fig, ax = plt.subplots(1, 1, figsize=(16, 16));\n",
    "\n",
    "swarmplot = sns.swarmplot(\n",
    "    x=\"model_type\", \n",
    "    y=\"scores\", \n",
    "    data=agg_data_df, \n",
    "    hue=\"model_encoder\", \n",
    "    dodge=True, \n",
    "    ax=ax,\n",
    ");\n",
    "boxplot = sns.boxplot(\n",
    "    x=\"model_type\", \n",
    "    y=\"scores\", \n",
    "    data=agg_data_df, \n",
    "    hue=\"model_encoder\", \n",
    "    ax=swarmplot, \n",
    "    boxprops={\"alpha\": 0.5}, \n",
    "    showfliers=False,\n",
    ");\n",
    "\n",
    "h, l = ax.get_legend_handles_labels()\n",
    "\n",
    "h,l = ax.get_legend_handles_labels() ##Get the legend handles and lables\n",
    "l1 = ax.legend(h[10:18], l[10:18], loc=\"lower left\", bbox_to_anchor=(0, 0.1), title=\"Reguformers\", frameon=True) \n",
    "l2 = ax.legend(h[18:20], l[18:20], loc=\"lower left\", bbox_to_anchor=(0, 0), title=\"Baselines\", frameon=True)\n",
    "\n",
    "ax.add_artist(l1)\n",
    "ax.set_xlabel(\"\");\n",
    "ax.set_ylabel(\"ROC AUC\");\n",
    "\n",
    "plt.savefig(\n",
    "    os.path.join(data_kwargs[\"save_dir\"], 'boxplots_well_linking_all_models.pdf'),\n",
    "    dpi=500, \n",
    "    bbox_inches='tight',\n",
    ")"
   ]
  },
  {
   "cell_type": "code",
   "execution_count": null,
   "metadata": {},
   "outputs": [],
   "source": []
  },
  {
   "cell_type": "code",
   "execution_count": null,
   "metadata": {},
   "outputs": [],
   "source": []
  }
 ],
 "metadata": {
  "kernelspec": {
   "display_name": "Python 3 (ipykernel)",
   "language": "python",
   "name": "python3"
  },
  "language_info": {
   "codemirror_mode": {
    "name": "ipython",
    "version": 3
   },
   "file_extension": ".py",
   "mimetype": "text/x-python",
   "name": "python",
   "nbconvert_exporter": "python",
   "pygments_lexer": "ipython3",
   "version": "3.7.10"
  }
 },
 "nbformat": 4,
 "nbformat_minor": 2
}
